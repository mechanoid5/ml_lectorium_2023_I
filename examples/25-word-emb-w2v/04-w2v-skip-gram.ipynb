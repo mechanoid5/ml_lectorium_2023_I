{
 "cells": [
  {
   "cell_type": "markdown",
   "metadata": {},
   "source": [
    "**извлечение признаков из текста на естественном языке**\n",
    "\n",
    "word2vec : skip-gram\n",
    "\n",
    "\n",
    "Евгений Борисов <esborisov@sevsu.ru>"
   ]
  },
  {
   "cell_type": "markdown",
   "metadata": {},
   "source": [
    "---"
   ]
  },
  {
   "cell_type": "code",
   "execution_count": 1,
   "metadata": {},
   "outputs": [],
   "source": [
    "import re\n",
    "import gzip\n",
    "import numpy as np\n",
    "from numpy import random as rng"
   ]
  },
  {
   "cell_type": "markdown",
   "metadata": {},
   "source": [
    "## загружаем текст "
   ]
  },
  {
   "cell_type": "code",
   "execution_count": 2,
   "metadata": {},
   "outputs": [
    {
     "name": "stdout",
     "output_type": "stream",
     "text": [
      "символов:601090\n",
      "\n",
      "Вы прилетели в Нью-Йорк и остановились в одном из отелей, глядящих окнами на Центральный парк. Наутро по приезде вы вышли из отеля, вдохнули полной грудью очищенный зеленью парка воздух и, взглянув на часы, - пора было начинать хлопотливый день, - направились к первому из таксомоторов, выстроившихся вереницей у подъезда.\n"
     ]
    }
   ],
   "source": [
    "with gzip.open('../data/lobas-taxisty.txt.gz','rt') as f: \n",
    "    text = f.read()[654:]  # ...и выкидываем заголовок\n",
    "print('символов:%i\\n'%(len(text)))\n",
    "print(text[:327].strip())"
   ]
  },
  {
   "cell_type": "markdown",
   "metadata": {},
   "source": [
    "## выполняем токенизацию"
   ]
  },
  {
   "cell_type": "code",
   "execution_count": 3,
   "metadata": {},
   "outputs": [
    {
     "name": "stdout",
     "output_type": "stream",
     "text": [
      "nltk version: 3.7\n"
     ]
    }
   ],
   "source": [
    "from nltk import __version__ as nltk_version\n",
    "print('nltk version:',nltk_version)"
   ]
  },
  {
   "cell_type": "code",
   "execution_count": 4,
   "metadata": {},
   "outputs": [
    {
     "name": "stdout",
     "output_type": "stream",
     "text": [
      "предложений: 7350\n",
      "\n"
     ]
    },
    {
     "data": {
      "text/plain": [
       "[['я',\n",
       "  'кружил',\n",
       "  'и',\n",
       "  'кружил',\n",
       "  'по',\n",
       "  'пустому',\n",
       "  'аэропорту',\n",
       "  ',',\n",
       "  'а',\n",
       "  'руки',\n",
       "  '-',\n",
       "  'тряслись',\n",
       "  ';',\n",
       "  'я',\n",
       "  'не',\n",
       "  'мог',\n",
       "  'прийти',\n",
       "  'в',\n",
       "  'себя',\n",
       "  '.'],\n",
       " ['как-то',\n",
       "  'поздним',\n",
       "  'вечером',\n",
       "  'на',\n",
       "  'злополучном',\n",
       "  'углу',\n",
       "  'парк-авеню',\n",
       "  'и',\n",
       "  'сорок',\n",
       "  'второй',\n",
       "  'улицы',\n",
       "  ',',\n",
       "  'где',\n",
       "  'получил',\n",
       "  'я',\n",
       "  'повестку',\n",
       "  'в',\n",
       "  'уголовный',\n",
       "  'суд',\n",
       "  '(',\n",
       "  'автобусы',\n",
       "  'не',\n",
       "  'только',\n",
       "  'увозят',\n",
       "  'оттуда',\n",
       "  'пассажиров',\n",
       "  'в',\n",
       "  'аэропорты',\n",
       "  ',',\n",
       "  'но',\n",
       "  'и',\n",
       "  'привозят',\n",
       "  'их',\n",
       "  'туда',\n",
       "  'же',\n",
       "  '-',\n",
       "  'из',\n",
       "  'аэропортов',\n",
       "  ')',\n",
       "  ',',\n",
       "  'сел',\n",
       "  'в',\n",
       "  'мой',\n",
       "  'кэб',\n",
       "  'седой',\n",
       "  'человек',\n",
       "  'с',\n",
       "  'потертым',\n",
       "  'чемоданчиком',\n",
       "  ',',\n",
       "  'с',\n",
       "  'которого',\n",
       "  'свисала',\n",
       "  'бирка',\n",
       "  '\"',\n",
       "  'британские',\n",
       "  'авиалинии',\n",
       "  '\"',\n",
       "  ',',\n",
       "  'и',\n",
       "  'назвал',\n",
       "  'адрес',\n",
       "  '-',\n",
       "  'где-то',\n",
       "  'рядом',\n",
       "  'с',\n",
       "  'карнеги-холл',\n",
       "  '.'],\n",
       " ['-', 'видите', 'ли', ',', 'я', 'в', 'такси', 'недавно', '.'],\n",
       " ['\"',\n",
       "  'хилтона',\n",
       "  '\"',\n",
       "  ',',\n",
       "  'таксисту',\n",
       "  'не',\n",
       "  'позволено',\n",
       "  'заявлять',\n",
       "  ':',\n",
       "  '\"',\n",
       "  'я',\n",
       "  'не',\n",
       "  'возьму',\n",
       "  'пенсильванский',\n",
       "  'вокзал',\n",
       "  '\"',\n",
       "  ',',\n",
       "  '\"',\n",
       "  'я',\n",
       "  'не',\n",
       "  'поеду',\n",
       "  'в',\n",
       "  'универмаг',\n",
       "  '\"',\n",
       "  'мэйси',\n",
       "  '\"',\n",
       "  '.'],\n",
       " ['хотя',\n",
       "  'клиент',\n",
       "  'оказался',\n",
       "  'прав',\n",
       "  ',',\n",
       "  'и',\n",
       "  'все',\n",
       "  'коробки',\n",
       "  'удалось',\n",
       "  'втиснуть',\n",
       "  ',',\n",
       "  'мой',\n",
       "  'чекер',\n",
       "  'загружен',\n",
       "  'от',\n",
       "  'пола',\n",
       "  'до',\n",
       "  'потолка',\n",
       "  ',',\n",
       "  'я',\n",
       "  'лишен',\n",
       "  'заднего',\n",
       "  'обзора',\n",
       "  'и',\n",
       "  'вынужден',\n",
       "  'вести',\n",
       "  'машину',\n",
       "  'очень',\n",
       "  'медленно',\n",
       "  ',',\n",
       "  'включив',\n",
       "  'аварийные',\n",
       "  'огни',\n",
       "  '.']]"
      ]
     },
     "metadata": {},
     "output_type": "display_data"
    }
   ],
   "source": [
    "from random import sample\n",
    "\n",
    "from razdel import sentenize\n",
    "from razdel import tokenize\n",
    "\n",
    "text = [ [ t.text.lower() for t in tokenize(s.text) ] for s in sentenize(text) ]\n",
    "\n",
    "print('предложений: %i\\n'%(len(text)))\n",
    "display( sample(text,5) )"
   ]
  },
  {
   "cell_type": "code",
   "execution_count": 5,
   "metadata": {},
   "outputs": [],
   "source": [
    "# from random import sample\n",
    "# from nltk.tokenize import sent_tokenize as nltk_sentence_split\n",
    "# from nltk.tokenize import word_tokenize as nltk_tokenize_word\n",
    "# from nltk.corpus import stopwords as nltk_stopwords\n",
    "\n",
    "# stopwords = set() # set(nltk_stopwords.words('russian')) \n",
    "\n",
    "# text = [ \n",
    "#     [ \n",
    "#      t.lower() \n",
    "#      for t in nltk_tokenize_word(s) \n",
    "#      if re.match(r'[а-я -]+',t.lower()) and len(t)>1 \n",
    "# #      if not( (t.lower() in stopwords) or (len(t)<3) ) \n",
    "#     ] # разбиваем предложения на слова\n",
    "#     for s in nltk_sentence_split(text) # режем текст на отдельные предложения\n",
    "# ]\n",
    "\n",
    "# print('предложений: %i\\n'%(len(text)))\n",
    "# sample(text,5)"
   ]
  },
  {
   "cell_type": "code",
   "execution_count": 6,
   "metadata": {},
   "outputs": [
    {
     "name": "stdout",
     "output_type": "stream",
     "text": [
      "размер словаря: 22477 слов\n"
     ]
    },
    {
     "data": {
      "text/plain": [
       "['авиалиний',\n",
       " 'спине',\n",
       " 'окриков',\n",
       " 'снимали',\n",
       " 'мини-парк',\n",
       " 'декларацию',\n",
       " 'безупречности',\n",
       " 'коровий',\n",
       " 'ожидании']"
      ]
     },
     "execution_count": 6,
     "metadata": {},
     "output_type": "execute_result"
    }
   ],
   "source": [
    "# собираем словарь\n",
    "words = set.union( *[ set(s) for s in text ] )\n",
    "vocab =  { w:i for i,w in enumerate(sorted(words)) }\n",
    "n_words = len(vocab) # количество слов в словаре\n",
    "print( \"размер словаря: %i слов\" % n_words )\n",
    "sample(sorted(words),9)"
   ]
  },
  {
   "cell_type": "markdown",
   "metadata": {},
   "source": [
    "## собираем контексты"
   ]
  },
  {
   "cell_type": "code",
   "execution_count": 7,
   "metadata": {},
   "outputs": [
    {
     "name": "stdout",
     "output_type": "stream",
     "text": [
      "количество n-gram: 87526\n"
     ]
    },
    {
     "data": {
      "text/plain": [
       "[('i', 'love', 'money', '!', '13'),\n",
       " ('ангел', 'стал', 'давать', 'аэропорты', '!'),\n",
       " ('никак', 'не', 'находила', 'себе', 'места'),\n",
       " (',', 'чтоб', 'не', 'лопасть', 'впросак'),\n",
       " ('точно', 'так', 'же', ':', 'остановился')]"
      ]
     },
     "execution_count": 7,
     "metadata": {},
     "output_type": "execute_result"
    }
   ],
   "source": [
    "# from nltk.util import bigrams\n",
    "from nltk.util import ngrams as nltk_ngrams\n",
    "\n",
    "# вынимаем все n-gram из текста\n",
    "ngram_len = 5\n",
    "\n",
    "text_ngrams = [ \n",
    "    ngram \n",
    "    for s in text if len(s)>ngram_len\n",
    "    for ngram in nltk_ngrams(s,ngram_len) \n",
    "]\n",
    "print('количество n-gram: %i'%(len(set(text_ngrams))))\n",
    "sample(text_ngrams,5)"
   ]
  },
  {
   "cell_type": "code",
   "execution_count": 8,
   "metadata": {},
   "outputs": [],
   "source": [
    "# text_ngrams = sample(text_ngrams,1_000) # сокращаем учебный набор для ускорения процесса\n",
    "text_ngrams = sample(text_ngrams,10) # сокращаем учебный набор для ускорения процесса"
   ]
  },
  {
   "cell_type": "markdown",
   "metadata": {},
   "source": [
    "### кодируем слова"
   ]
  },
  {
   "cell_type": "code",
   "execution_count": 9,
   "metadata": {},
   "outputs": [
    {
     "data": {
      "text/plain": [
       "((10, 4), (10,))"
      ]
     },
     "execution_count": 9,
     "metadata": {},
     "output_type": "execute_result"
    }
   ],
   "source": [
    "T = np.array([ [ vocab[w] for w in ngrams ] for ngrams in text_ngrams ]) # кодируем слова\n",
    "wn = ngram_len//2\n",
    "W = T[:,wn] # коды слов\n",
    "C = np.delete(T,wn,axis=1) # коды слов контекста\n",
    "\n",
    "assert len(C) == len(W)\n",
    "\n",
    "C.shape, W.shape"
   ]
  },
  {
   "cell_type": "code",
   "execution_count": 10,
   "metadata": {},
   "outputs": [],
   "source": [
    "del text_ngrams\n",
    "del text\n",
    "del T"
   ]
  },
  {
   "cell_type": "code",
   "execution_count": 11,
   "metadata": {},
   "outputs": [
    {
     "data": {
      "text/plain": [
       "((10, 4, 22477), (10, 22477))"
      ]
     },
     "execution_count": 11,
     "metadata": {},
     "output_type": "execute_result"
    }
   ],
   "source": [
    "# # унитарное кодирование слов (one-hot-encoding)\n",
    "E = np.eye(n_words,dtype=np.int8)\n",
    "Wbin = np.vstack([ E[c] for c in W ])\n",
    "Cbin = np.vstack([ np.vstack([ E[c] for c in Ci ])[np.newaxis,:] for Ci in C ]) \n",
    "\n",
    "Cbin.shape, Wbin.shape"
   ]
  },
  {
   "cell_type": "code",
   "execution_count": 12,
   "metadata": {},
   "outputs": [],
   "source": [
    "del W\n",
    "del C"
   ]
  },
  {
   "cell_type": "markdown",
   "metadata": {},
   "source": [
    "## строим модель Skip-Gram"
   ]
  },
  {
   "cell_type": "code",
   "execution_count": 13,
   "metadata": {},
   "outputs": [],
   "source": [
    "# будем по контексту предсказывать слово"
   ]
  },
  {
   "cell_type": "code",
   "execution_count": 14,
   "metadata": {},
   "outputs": [],
   "source": [
    "# ф-ция активации скрытого слоя - линейная\n",
    "# def act(s): return s\n",
    "\n",
    "# ф-ция активации выходного слоя\n",
    "def softmax(s): \n",
    "    e = np.exp(s)\n",
    "    return e/e.sum(axis=1).reshape(s.shape[0],1)"
   ]
  },
  {
   "cell_type": "code",
   "execution_count": 15,
   "metadata": {},
   "outputs": [],
   "source": [
    "def w2v_step(W,Vi,Vo):\n",
    "    H = W.dot(Vi) # значения скрытого слоя\n",
    "    U = H.dot(Vo) # состояния выходного слоя\n",
    "    O = softmax(U) # выход сети\n",
    "    return H,U,O"
   ]
  },
  {
   "cell_type": "markdown",
   "metadata": {},
   "source": [
    "Функция потери\n",
    "\n",
    "$$E = \\left| \\sum\\limits_i\\log\\left( \\sum\\limits_k \\exp(U_{ik}) \\right) - \\sum\\limits_i\\sum\\limits_k\\sum\\limits_j (U_{ik} * Q_{ijk}) \\right| $$\n",
    "\n",
    "\n",
    "$U_{ik}$ состояние k-того нейрона выходного слоя для слова $i$     \n",
    "$Q_{ij}$ слово $j$ контекста слова $i$   \n",
    "где ∗ - операция поэлементного умножения векторов"
   ]
  },
  {
   "cell_type": "code",
   "execution_count": 16,
   "metadata": {},
   "outputs": [],
   "source": [
    "def w2v_loss(U,C):\n",
    "    n,cws,v = C.shape \n",
    "    # количество примеров\n",
    "    # размер окна контекста   \n",
    "    # количество слов в словаре\n",
    "\n",
    "    Us = np.log( np.exp(U).sum(axis=1) ).sum()\n",
    "\n",
    "    Uo = 0.0\n",
    "    for i in range(cws): # для всех слов контекста\n",
    "        Ci = C[:,i,:].reshape([n,v]) # набор слов контекста i\n",
    "        Uo += (U*Ci).sum() # значения выходного слоя для слов x контекста i\n",
    "\n",
    "    return np.abs(Us-Uo)/n"
   ]
  },
  {
   "cell_type": "code",
   "execution_count": 17,
   "metadata": {},
   "outputs": [],
   "source": [
    "def w2v_grad(C,W,H,O,Vo):\n",
    "    n,cws,v = C.shape\n",
    "        # количество примеров\n",
    "        # размер окна контекста   \n",
    "        # количество слов в словаре\n",
    "\n",
    "    gVi = gVo = 0.0 \n",
    "\n",
    "    for i in range(cws):\n",
    "        Ci = C[:,i,:].reshape([n,v]) # слово i контекста\n",
    "        D = O - Ci # ошибка на слове контекста i\n",
    "        gVo += D.T.dot(H).T\n",
    "        gVi += W.T.dot(D).dot(Vo.T)\n",
    "\n",
    "    return gVi,gVo"
   ]
  },
  {
   "cell_type": "code",
   "execution_count": 18,
   "metadata": {},
   "outputs": [],
   "source": [
    "def w2v_weigth_norm(v,w):\n",
    "    nn = np.linalg.norm( np.hstack([ v.flatten(), w.flatten() ]) )\n",
    "    #nn = np.abs( np.hstack([ v.flatten(), w.flatten() ]) ).max()\n",
    "    return (v/nn,w/nn) if nn!=0.0 else (v,w)"
   ]
  },
  {
   "cell_type": "markdown",
   "metadata": {},
   "source": [
    "### обучаем модель"
   ]
  },
  {
   "cell_type": "code",
   "execution_count": 19,
   "metadata": {},
   "outputs": [],
   "source": [
    "n = Wbin.shape[1] # количество слов в словаре\n",
    "k = 30 # размер скрытого слоя H\n",
    "Vi = rng.normal(scale=.01,size=(n,k))\n",
    "Vo = rng.normal(scale=.01,size=(k,n))"
   ]
  },
  {
   "cell_type": "code",
   "execution_count": 20,
   "metadata": {},
   "outputs": [
    {
     "data": {
      "application/vnd.jupyter.widget-view+json": {
       "model_id": "3cf56f4c993147e29978dde2aff98d44",
       "version_major": 2,
       "version_minor": 0
      },
      "text/plain": [
       "  0%|          | 0/10 [00:00<?, ?it/s]"
      ]
     },
     "metadata": {},
     "output_type": "display_data"
    },
    {
     "name": "stdout",
     "output_type": "stream",
     "text": [
      "CPU times: user 4min 3s, sys: 2min 40s, total: 6min 43s\n",
      "Wall time: 3min 29s\n"
     ]
    }
   ],
   "source": [
    "%%time\n",
    "\n",
    "from tqdm.notebook import tqdm\n",
    "\n",
    "a = .91 # скорость обучения\n",
    "er = [1e10]\n",
    "n_epoch = 10\n",
    "\n",
    "for _ in (pbar:=tqdm(range(n_epoch))):\n",
    "    H,U,O = w2v_step(Wbin,Vi,Vo) # вычисляем состояния слоёв и выход\n",
    "    er.append(w2v_loss(U,Cbin)) # вычисляем ошибку\n",
    "    pbar.set_postfix({'error':er[-1]})\n",
    "    if er[-1]>er[-2]: \n",
    "        Vi, Vo = Vi_old, Vo_old\n",
    "        break\n",
    "        \n",
    "    gVi, gVo = w2v_grad(Cbin,Wbin,H,O,Vo) # вычисляем градиент ф-ции потери\n",
    "    gVi,gVo = w2v_weigth_norm(gVi,gVo) # нормируем значения градиента\n",
    "    Vi_old, Vo_old =  Vi, Vo # сохраняем старые веса\n",
    "    Vi,Vo = Vi-a*gVi, Vo-a*gVo # корректируем веса"
   ]
  },
  {
   "cell_type": "code",
   "execution_count": 21,
   "metadata": {},
   "outputs": [
    {
     "data": {
      "image/png": "[encoded data removed]",
      "text/plain": [
       "<Figure size 640x480 with 1 Axes>"
      ]
     },
     "metadata": {},
     "output_type": "display_data"
    }
   ],
   "source": [
    "from matplotlib import pyplot as plt\n",
    "\n",
    "er=er[1:]\n",
    "plt.plot(er)\n",
    "plt.grid()\n",
    "plt.show()"
   ]
  },
  {
   "cell_type": "markdown",
   "metadata": {},
   "source": [
    "## оцениваем результат"
   ]
  },
  {
   "cell_type": "code",
   "execution_count": 22,
   "metadata": {},
   "outputs": [],
   "source": [
    "from sklearn.metrics.pairwise import pairwise_distances"
   ]
  },
  {
   "cell_type": "code",
   "execution_count": 23,
   "metadata": {},
   "outputs": [],
   "source": [
    "D = pairwise_distances(Vi) # матрица расстояний\n",
    "R = np.argsort(D) # номера слов в порядке увеличения расстояния"
   ]
  },
  {
   "cell_type": "code",
   "execution_count": 24,
   "metadata": {},
   "outputs": [],
   "source": [
    "from numpy import random as rng"
   ]
  },
  {
   "cell_type": "code",
   "execution_count": 25,
   "metadata": {},
   "outputs": [
    {
     "data": {
      "text/plain": [
       "{'болезненным': ['пачка', 'доподлинно', 'закатилась', 'рубаху'],\n",
       " 'фуражку': ['сириец', 'подчеркнуто', 'погладить', 'взлетах'],\n",
       " 'еженедельного': ['ощущение', 'ранит', 'автомобилистами', 'понедельника'],\n",
       " 'нюанс': ['раненную', 'подавил', 'пассажирский', 'хозяйки'],\n",
       " 'уговор': ['повышенные', 'мерзости', 'установку', 'ляпни'],\n",
       " 'последить': ['повторяя', 'девочек', 'крутя', 'часок'],\n",
       " 'удостоверении': ['термоса', 'пачка', 'бесповоротно', 'ми'],\n",
       " 'сантехнику': ['сдерживая', 'тупостью', 'постарше', 'детский'],\n",
       " 'миллионером': ['сожженный', 'плексиглас', 'приближением', 'пронзающей'],\n",
       " 'определенно': ['солнца', 'стажем', 'встречались', 'экспериментальный'],\n",
       " 'яркие': ['светофоре', 'напечатано', 'шевроле', 'дубровник'],\n",
       " 'росы': ['вдвоем', 'стерва', 'визитную', 'ящиках'],\n",
       " 'поговорили': ['истории', 'плитами', 'допрос', 'задето'],\n",
       " 'ресторанчики': ['министры', 'кушат', 'скромную', 'запас'],\n",
       " 'прочитаешь': ['тягостная', 'регулировщицы', 'коробке', 'руками'],\n",
       " 'устно': ['по-американски', 'ручонки', 'замкнутым', 'прямого'],\n",
       " 'бесстыдством': ['реставрирует', 'изжеванный', 'загоготал', 'советскими'],\n",
       " 'неблизко': ['офисы', 'переродились', 'ценное', 'понервничали'],\n",
       " 'последовало': ['рассудком', 'разного', 'зеленые', 'нотка'],\n",
       " 'корчился': ['село', 'алабамы', 'завладев', 'влюбленность']}"
      ]
     },
     "execution_count": 25,
     "metadata": {},
     "output_type": "execute_result"
    }
   ],
   "source": [
    "vocab_ = { v:k for k,v in vocab.items() } # нумеруем слов в словаре\n",
    "\n",
    "nn = rng.permutation(len(vocab))[:20] # выбираем случайно N слов\n",
    "\n",
    "# для выбранных слов печатаем близкие по w2v\n",
    "{ vocab_[i] : [ vocab_[j] for j in  R[i,1:5]  ] for i in nn }"
   ]
  },
  {
   "cell_type": "code",
   "execution_count": null,
   "metadata": {},
   "outputs": [],
   "source": []
  }
 ],
 "metadata": {
  "kernelspec": {
   "display_name": "Python 3 (ipykernel)",
   "language": "python",
   "name": "python3"
  },
  "language_info": {
   "codemirror_mode": {
    "name": "ipython",
    "version": 3
   },
   "file_extension": ".py",
   "mimetype": "text/x-python",
   "name": "python",
   "nbconvert_exporter": "python",
   "pygments_lexer": "ipython3",
   "version": "3.10.8"
  },
  "toc": {
   "base_numbering": 1,
   "nav_menu": {},
   "number_sections": true,
   "sideBar": true,
   "skip_h1_title": false,
   "title_cell": "Table of Contents",
   "title_sidebar": "Contents",
   "toc_cell": false,
   "toc_position": {},
   "toc_section_display": true,
   "toc_window_display": false
  }
 },
 "nbformat": 4,
 "nbformat_minor": 2
}
