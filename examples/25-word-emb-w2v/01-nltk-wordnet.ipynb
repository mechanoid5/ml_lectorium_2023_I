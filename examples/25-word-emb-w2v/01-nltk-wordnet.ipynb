{
 "cells": [
  {
   "cell_type": "markdown",
   "id": "7d83a4fb",
   "metadata": {},
   "source": [
    "**использование тезауруса wordnet**\n",
    "\n",
    "Евгений Борисов <esborisov@sevsu.ru>"
   ]
  },
  {
   "cell_type": "markdown",
   "id": "8895e703",
   "metadata": {},
   "source": [
    "https://www.nltk.org/howto/wordnet.html"
   ]
  },
  {
   "cell_type": "code",
   "execution_count": 1,
   "id": "5a9af220",
   "metadata": {},
   "outputs": [],
   "source": [
    "import nltk\n",
    "from nltk.corpus import wordnet"
   ]
  },
  {
   "cell_type": "code",
   "execution_count": 2,
   "id": "98c2da47",
   "metadata": {},
   "outputs": [],
   "source": [
    "# nltk.download('omw-1.4')\n",
    "# nltk.download('wordnet')"
   ]
  },
  {
   "cell_type": "code",
   "execution_count": 3,
   "id": "88ad026f",
   "metadata": {},
   "outputs": [
    {
     "name": "stdout",
     "output_type": "stream",
     "text": [
      "['als', 'arb', 'bul', 'cat', 'cmn', 'dan', 'ell', 'eng', 'eus', 'fin', 'fra', 'glg', 'heb', 'hrv', 'ind', 'isl', 'ita', 'ita_iwn', 'jpn', 'lit', 'nld', 'nno', 'nob', 'pol', 'por', 'ron', 'slk', 'slv', 'spa', 'swe', 'tha', 'zsm']\n"
     ]
    }
   ],
   "source": [
    "print(sorted(wordnet.langs())) # список языков тезауруса"
   ]
  },
  {
   "cell_type": "code",
   "execution_count": 4,
   "id": "3e67c19b",
   "metadata": {
    "scrolled": true
   },
   "outputs": [
    {
     "name": "stdout",
     "output_type": "stream",
     "text": [
      "cat.n.01 - feline mammal usually having thick soft fur and no ability to roar: domestic cats; wildcats\n",
      "guy.n.01 - an informal term for a youth or man\n",
      "cat.n.03 - a spiteful woman gossip\n",
      "kat.n.01 - the leaves of the shrub Catha edulis which are chewed like tobacco or used to make tea; has the effect of a euphoric stimulant\n",
      "cat-o'-nine-tails.n.01 - a whip with nine knotted cords\n",
      "caterpillar.n.02 - a large tracked vehicle that is propelled by two endless metal belts; frequently used for moving earth in construction and farm work\n",
      "big_cat.n.01 - any of several large cats typically able to roar and living in the wild\n",
      "computerized_tomography.n.01 - a method of examining body organs by scanning them with X rays and using a computer to construct a series of cross-sectional scans along a single axis\n",
      "cat.v.01 - beat with a cat-o'-nine-tails\n",
      "vomit.v.01 - eject the contents of the stomach through the mouth\n"
     ]
    }
   ],
   "source": [
    "# все возможные смыслы слова cat \n",
    "for d in wordnet.synsets('cat',lang='eng'):  \n",
    "    print( d.name(),'-',d.definition() )"
   ]
  },
  {
   "cell_type": "code",
   "execution_count": 5,
   "id": "7cabb739",
   "metadata": {},
   "outputs": [
    {
     "name": "stdout",
     "output_type": "stream",
     "text": [
      "a member of the genus Canis (probably descended from the common wolf) that has been domesticated by man since prehistoric times; occurs in many breeds\n"
     ]
    }
   ],
   "source": [
    "# собака\n",
    "dog = wordnet.synset('dog.n.01')\n",
    "print(dog.definition())"
   ]
  },
  {
   "cell_type": "code",
   "execution_count": 6,
   "id": "e6c325a0",
   "metadata": {},
   "outputs": [
    {
     "name": "stdout",
     "output_type": "stream",
     "text": [
      "feline mammal usually having thick soft fur and no ability to roar: domestic cats; wildcats\n"
     ]
    }
   ],
   "source": [
    "# кот\n",
    "cat = wordnet.synset('cat.n.01')\n",
    "print(cat.definition())"
   ]
  },
  {
   "cell_type": "code",
   "execution_count": 7,
   "id": "d600f2e5",
   "metadata": {},
   "outputs": [
    {
     "data": {
      "text/plain": [
       "0.2"
      ]
     },
     "execution_count": 7,
     "metadata": {},
     "output_type": "execute_result"
    }
   ],
   "source": [
    "# мера схожести между понятиями собака и кот по тезаурусу\n",
    "dog.path_similarity(cat)"
   ]
  },
  {
   "cell_type": "code",
   "execution_count": 8,
   "id": "539b10ee",
   "metadata": {},
   "outputs": [
    {
     "name": "stdout",
     "output_type": "stream",
     "text": [
      "short-tailed wildcats with usually tufted ears; valued for their fur\n"
     ]
    }
   ],
   "source": [
    "# рысь\n",
    "lynx = wordnet.synset('lynx.n.02')\n",
    "print(lynx.definition())"
   ]
  },
  {
   "cell_type": "code",
   "execution_count": 9,
   "id": "e5fe33d5",
   "metadata": {},
   "outputs": [
    {
     "data": {
      "text/plain": [
       "0.3333333333333333"
      ]
     },
     "execution_count": 9,
     "metadata": {},
     "output_type": "execute_result"
    }
   ],
   "source": [
    "# мера схожести между понятиями рысь и кот по тезаурусу\n",
    "lynx.path_similarity(cat) "
   ]
  },
  {
   "cell_type": "markdown",
   "id": "2c9ec08e",
   "metadata": {},
   "source": [
    "---"
   ]
  },
  {
   "cell_type": "code",
   "execution_count": 10,
   "id": "05947fa0",
   "metadata": {},
   "outputs": [],
   "source": [
    "# baseball = wordnet.synset('baseball.n.01')\n",
    "# sport = wordnet.synset('sport.n.01')\n",
    "# print( sport.path_similarity(baseball) )\n",
    "\n",
    "# picture = wordnet.synset('picture.n.01')\n",
    "# print( sport.path_similarity(picture) )"
   ]
  }
 ],
 "metadata": {
  "kernelspec": {
   "display_name": "Python 3 (ipykernel)",
   "language": "python",
   "name": "python3"
  },
  "language_info": {
   "codemirror_mode": {
    "name": "ipython",
    "version": 3
   },
   "file_extension": ".py",
   "mimetype": "text/x-python",
   "name": "python",
   "nbconvert_exporter": "python",
   "pygments_lexer": "ipython3",
   "version": "3.10.8"
  },
  "toc": {
   "base_numbering": 1,
   "nav_menu": {},
   "number_sections": true,
   "sideBar": true,
   "skip_h1_title": false,
   "title_cell": "Table of Contents",
   "title_sidebar": "Contents",
   "toc_cell": false,
   "toc_position": {},
   "toc_section_display": true,
   "toc_window_display": false
  }
 },
 "nbformat": 4,
 "nbformat_minor": 5
}
