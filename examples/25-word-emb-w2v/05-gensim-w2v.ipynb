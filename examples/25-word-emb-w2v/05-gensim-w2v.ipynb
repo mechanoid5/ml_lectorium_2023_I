{
 "cells": [
  {
   "cell_type": "markdown",
   "id": "d1cad6b4",
   "metadata": {},
   "source": [
    "__Использование Word2Vec__\n",
    "\n",
    "Евгений Борисов <esborisov@sevsu.ru>"
   ]
  },
  {
   "cell_type": "markdown",
   "id": "7a34cfe4",
   "metadata": {},
   "source": [
    "---"
   ]
  },
  {
   "cell_type": "markdown",
   "id": "c08242e0",
   "metadata": {},
   "source": [
    "https://nlpub.ru/Russian_Distributional_Thesaurus\n",
    "\n",
    "http://www.serelex.org"
   ]
  },
  {
   "cell_type": "code",
   "execution_count": 2,
   "id": "85cf57dc",
   "metadata": {},
   "outputs": [],
   "source": [
    "# !pip install gensim"
   ]
  },
  {
   "cell_type": "code",
   "execution_count": 3,
   "id": "c94eea17",
   "metadata": {},
   "outputs": [],
   "source": [
    "# 496MB\n",
    "# !wget -c http://panchenko.me/data/dsl-backup/w2v-ru/all.norm-sz100-w10-cb0-it1-min100.w2v"
   ]
  },
  {
   "cell_type": "code",
   "execution_count": 4,
   "id": "6cb358fd",
   "metadata": {},
   "outputs": [],
   "source": [
    "import numpy as np\n",
    "from gensim.models.word2vec import KeyedVectors"
   ]
  },
  {
   "cell_type": "code",
   "execution_count": 5,
   "id": "c12f8e17",
   "metadata": {},
   "outputs": [],
   "source": [
    "w2v_fpath = 'w2v/all.norm-sz100-w10-cb0-it1-min100.w2v'\n",
    "w2v = KeyedVectors.load_word2vec_format(w2v_fpath,binary=True,limit=100000)"
   ]
  },
  {
   "cell_type": "markdown",
   "id": "fbf6632c",
   "metadata": {},
   "source": [
    "---"
   ]
  },
  {
   "cell_type": "code",
   "execution_count": 6,
   "id": "a64b2b1e",
   "metadata": {},
   "outputs": [],
   "source": [
    "word = u\"дерево\""
   ]
  },
  {
   "cell_type": "code",
   "execution_count": 7,
   "id": "a48e720d",
   "metadata": {},
   "outputs": [
    {
     "data": {
      "text/plain": [
       "array([-0.22463728,  0.19349779, -0.04706636,  0.10628126, -0.15055035,\n",
       "        0.16627243, -0.04609815,  0.12261495,  0.10102549,  0.05754292,\n",
       "        0.30670774, -0.2168801 , -0.24247283,  0.11405526, -0.05224404,\n",
       "       -0.16005169,  0.12927294, -0.06159532, -0.03366745, -0.21416241,\n",
       "       -0.27862707,  0.15101013,  0.35221568, -0.24847834, -0.15394995,\n",
       "        0.54413635, -0.10189039,  0.30302775, -0.01792451,  0.24240233,\n",
       "       -0.76168525, -0.347514  ,  0.09200002,  0.04182635, -0.22412914,\n",
       "        0.04406411,  0.20848222,  0.31611624, -0.30990618, -0.20273924,\n",
       "        0.7232094 ,  0.24238911, -0.23824029,  0.03288474, -0.17126325,\n",
       "        0.31279838,  0.03552097, -0.56581527, -0.35072896, -0.06475618,\n",
       "        0.04143021, -0.05603983, -0.2525997 ,  0.2213401 ,  0.08859343,\n",
       "        0.04765023,  0.16280289,  0.0699888 , -0.1491346 , -0.70663816,\n",
       "       -0.1239922 ,  0.24046047,  0.30418178,  0.13356164,  0.29634994,\n",
       "        0.6784539 , -0.00314437,  0.17065413,  0.07682237,  0.3399032 ,\n",
       "       -0.37600416,  0.3342714 , -0.4475799 ,  0.21305586,  0.17920697,\n",
       "        0.3324126 ,  0.32479525, -0.2861143 ,  0.15256533,  0.2576068 ,\n",
       "        0.15277235,  0.2997975 ,  0.27156714, -0.08012103, -0.36694643,\n",
       "        0.57998574,  0.4537219 ,  0.12366864, -0.24302262,  0.5797939 ,\n",
       "       -0.22260816,  0.22628452, -0.42700166,  0.2924134 , -0.03080085,\n",
       "        0.01381154,  0.01221863, -0.05748485, -0.01795531,  0.15353197],\n",
       "      dtype=float32)"
      ]
     },
     "execution_count": 7,
     "metadata": {},
     "output_type": "execute_result"
    }
   ],
   "source": [
    "w2v.get_vector(word)"
   ]
  },
  {
   "cell_type": "code",
   "execution_count": 8,
   "id": "2bc9d292",
   "metadata": {},
   "outputs": [
    {
     "data": {
      "text/plain": [
       "{'деревце': 0.8677246570587158,\n",
       " 'дуб': 0.8126394748687744,\n",
       " 'упавшее': 0.7912172675132751,\n",
       " 'дерева': 0.790268063545227,\n",
       " 'ель': 0.7772583365440369,\n",
       " 'сосну': 0.773128092288971,\n",
       " 'сосна': 0.7627122402191162,\n",
       " 'березу': 0.7585119605064392,\n",
       " 'кроной': 0.7559252381324768,\n",
       " 'ветки': 0.7544024586677551}"
      ]
     },
     "execution_count": 8,
     "metadata": {},
     "output_type": "execute_result"
    }
   ],
   "source": [
    "{ w:s for w,s in w2v.most_similar(word) }"
   ]
  },
  {
   "cell_type": "markdown",
   "id": "3c87ab69",
   "metadata": {},
   "source": [
    "---"
   ]
  },
  {
   "cell_type": "code",
   "execution_count": 9,
   "id": "f7da475b",
   "metadata": {},
   "outputs": [],
   "source": [
    "cat = w2v.get_vector(u'кот')\n",
    "dog = w2v.get_vector(u'собака')\n",
    "lynx = w2v.get_vector(u'рысь')"
   ]
  },
  {
   "cell_type": "code",
   "execution_count": 10,
   "id": "875b7708",
   "metadata": {},
   "outputs": [
    {
     "data": {
      "text/plain": [
       "array([0.69359714, 0.58385116], dtype=float32)"
      ]
     },
     "execution_count": 10,
     "metadata": {},
     "output_type": "execute_result"
    }
   ],
   "source": [
    "w2v.cosine_similarities( cat,  np.vstack([dog,lynx]) )"
   ]
  },
  {
   "cell_type": "markdown",
   "id": "94698e1e",
   "metadata": {},
   "source": [
    "----"
   ]
  },
  {
   "cell_type": "code",
   "execution_count": 11,
   "id": "e40fcc21",
   "metadata": {},
   "outputs": [],
   "source": [
    "# 'король' - 'мужчина' + 'женщина' = 'королева'"
   ]
  },
  {
   "cell_type": "code",
   "execution_count": 12,
   "id": "aef25a08",
   "metadata": {},
   "outputs": [
    {
     "data": {
      "text/plain": [
       "[('королева', 0.8560205101966858),\n",
       " ('короля', 0.7981557846069336),\n",
       " ('королевская', 0.7862949371337891),\n",
       " ('герцогиня', 0.7635185718536377),\n",
       " ('королю', 0.7629655003547668)]"
      ]
     },
     "execution_count": 12,
     "metadata": {},
     "output_type": "execute_result"
    }
   ],
   "source": [
    "w2v.most_similar(positive=['женщина', 'король'], negative=['мужчина'], topn=5)"
   ]
  },
  {
   "cell_type": "code",
   "execution_count": null,
   "id": "172c1c81",
   "metadata": {},
   "outputs": [],
   "source": []
  }
 ],
 "metadata": {
  "kernelspec": {
   "display_name": "Python 3 (ipykernel)",
   "language": "python",
   "name": "python3"
  },
  "language_info": {
   "codemirror_mode": {
    "name": "ipython",
    "version": 3
   },
   "file_extension": ".py",
   "mimetype": "text/x-python",
   "name": "python",
   "nbconvert_exporter": "python",
   "pygments_lexer": "ipython3",
   "version": "3.10.8"
  },
  "toc": {
   "base_numbering": 1,
   "nav_menu": {},
   "number_sections": true,
   "sideBar": true,
   "skip_h1_title": false,
   "title_cell": "Table of Contents",
   "title_sidebar": "Contents",
   "toc_cell": false,
   "toc_position": {},
   "toc_section_display": true,
   "toc_window_display": false
  }
 },
 "nbformat": 4,
 "nbformat_minor": 5
}
