{
 "cells": [
  {
   "cell_type": "markdown",
   "id": "d1cad6b4",
   "metadata": {},
   "source": [
    "__Использование русского тезауруса wordnet__\n",
    "\n",
    "Евгений Борисов <esborisov@sevsu.ru>"
   ]
  },
  {
   "cell_type": "markdown",
   "id": "7a34cfe4",
   "metadata": {},
   "source": [
    "---"
   ]
  },
  {
   "cell_type": "markdown",
   "id": "c08242e0",
   "metadata": {},
   "source": [
    "https://nlpub.ru/Russian_Distributional_Thesaurus\n",
    "\n",
    "http://www.serelex.org\n",
    "\n",
    "https://github.com/avidale/python-ruwordnet"
   ]
  },
  {
   "cell_type": "markdown",
   "id": "9148662d",
   "metadata": {},
   "source": [
    "---"
   ]
  },
  {
   "cell_type": "code",
   "execution_count": 9,
   "id": "daaebe6c",
   "metadata": {},
   "outputs": [],
   "source": [
    "# !pip install ruwordnet\n",
    "# !ruwordnet download"
   ]
  },
  {
   "cell_type": "code",
   "execution_count": 4,
   "id": "32fbcf7b",
   "metadata": {},
   "outputs": [],
   "source": [
    "from ruwordnet import RuWordNet\n",
    "wn = RuWordNet()\n",
    "# wn = RuWordNet(filename_or_session='ruwordnet/static/ruwordnet.db')"
   ]
  },
  {
   "cell_type": "code",
   "execution_count": 5,
   "id": "8399e1ff",
   "metadata": {},
   "outputs": [
    {
     "name": "stdout",
     "output_type": "stream",
     "text": [
      "Synset(id=\"126228-N\", title=\"СРЕДНЕВЕКОВЫЙ ЗАМОК\")\n",
      "Synset(id=\"114707-N\", title=\"ЗАМОК ДЛЯ ЗАПИРАНИЯ\")\n"
     ]
    }
   ],
   "source": [
    "for sense in wn.get_senses('замок'):\n",
    "    print(sense.synset)"
   ]
  },
  {
   "cell_type": "code",
   "execution_count": 6,
   "id": "cb394270",
   "metadata": {},
   "outputs": [
    {
     "data": {
      "text/plain": [
       "[Synset(id=\"348-N\", title=\"ОВОЩИ\"),\n",
       " Synset(id=\"4789-N\", title=\"ТРАВЯНИСТОЕ РАСТЕНИЕ\"),\n",
       " Synset(id=\"6878-N\", title=\"ОВОЩНАЯ КУЛЬТУРА\")]"
      ]
     },
     "execution_count": 6,
     "metadata": {},
     "output_type": "execute_result"
    }
   ],
   "source": [
    "wn.get_senses('спаржа')[0].synset.hypernyms"
   ]
  },
  {
   "cell_type": "code",
   "execution_count": 7,
   "id": "67f8539c",
   "metadata": {},
   "outputs": [
    {
     "data": {
      "text/plain": [
       "[Synset(id=\"144194-N\", title=\"ТЫКВА (ПЛОД)\"),\n",
       " Synset(id=\"153883-N\", title=\"ЗЕЛЕНЬ (ОВОЩИ)\"),\n",
       " Synset(id=\"144191-N\", title=\"ПОМИДОР (ПЛОД)\"),\n",
       " Synset(id=\"144205-N\", title=\"ПАТИССОН (ПЛОД)\"),\n",
       " Synset(id=\"118660-N\", title=\"ЗЕЛЕНЫЙ ГОРОШЕК\"),\n",
       " Synset(id=\"144182-N\", title=\"ЛУК (РАСТЕНИЕ)\"),\n",
       " Synset(id=\"144207-N\", title=\"СТРУЧКОВЫЙ ПЕРЕЦ (ПЛОД)\"),\n",
       " Synset(id=\"144181-N\", title=\"БАКЛАЖАН (ПЛОД)\"),\n",
       " Synset(id=\"107993-N\", title=\"АРТИШОК\"),\n",
       " Synset(id=\"144216-N\", title=\"КАБАЧОК (ПЛОД)\"),\n",
       " Synset(id=\"144183-N\", title=\"ЧЕСНОК\"),\n",
       " Synset(id=\"108482-N\", title=\"СПАРЖА\"),\n",
       " Synset(id=\"144232-N\", title=\"КОЧАН КАПУСТЫ\"),\n",
       " Synset(id=\"148896-N\", title=\"КОРНЕПЛОДНЫЕ ОВОЩИ\"),\n",
       " Synset(id=\"144184-N\", title=\"ОГУРЕЦ (ПЛОД)\")]"
      ]
     },
     "execution_count": 7,
     "metadata": {},
     "output_type": "execute_result"
    }
   ],
   "source": [
    "vegetables = wn.get_senses('спаржа')[0].synset.hypernyms[0]\n",
    "vegetables.hyponyms"
   ]
  },
  {
   "cell_type": "code",
   "execution_count": null,
   "id": "849c336e",
   "metadata": {},
   "outputs": [],
   "source": []
  }
 ],
 "metadata": {
  "kernelspec": {
   "display_name": "Python 3 (ipykernel)",
   "language": "python",
   "name": "python3"
  },
  "language_info": {
   "codemirror_mode": {
    "name": "ipython",
    "version": 3
   },
   "file_extension": ".py",
   "mimetype": "text/x-python",
   "name": "python",
   "nbconvert_exporter": "python",
   "pygments_lexer": "ipython3",
   "version": "3.10.8"
  },
  "toc": {
   "base_numbering": 1,
   "nav_menu": {},
   "number_sections": true,
   "sideBar": true,
   "skip_h1_title": false,
   "title_cell": "Table of Contents",
   "title_sidebar": "Contents",
   "toc_cell": false,
   "toc_position": {},
   "toc_section_display": true,
   "toc_window_display": false
  }
 },
 "nbformat": 4,
 "nbformat_minor": 5
}
