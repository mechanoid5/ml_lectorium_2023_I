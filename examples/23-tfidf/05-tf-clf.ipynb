{
 "cells": [
  {
   "cell_type": "markdown",
   "metadata": {},
   "source": [
    "**классификатор текстов**\n",
    "\n",
    "SnowballStemmer+TfidfVectorizer\n",
    "\n",
    "_Евгений Борисов <esborisov@sevsu.ru>_"
   ]
  },
  {
   "cell_type": "markdown",
   "metadata": {},
   "source": [
    "## тексты"
   ]
  },
  {
   "cell_type": "code",
   "execution_count": 1,
   "metadata": {},
   "outputs": [],
   "source": [
    "import pandas as pd\n",
    "pd.options.display.precision = 2 \n",
    "pd.options.display.max_colwidth = 200 \n",
    "\n",
    "from tqdm.notebook import tqdm\n",
    "tqdm.pandas()"
   ]
  },
  {
   "cell_type": "code",
   "execution_count": 2,
   "metadata": {},
   "outputs": [
    {
     "name": "stdout",
     "output_type": "stream",
     "text": [
      "записей: 3196\n"
     ]
    },
    {
     "data": {
      "text/html": [
       "<div>\n",
       "<style scoped>\n",
       "    .dataframe tbody tr th:only-of-type {\n",
       "        vertical-align: middle;\n",
       "    }\n",
       "\n",
       "    .dataframe tbody tr th {\n",
       "        vertical-align: top;\n",
       "    }\n",
       "\n",
       "    .dataframe thead th {\n",
       "        text-align: right;\n",
       "    }\n",
       "</style>\n",
       "<table border=\"1\" class=\"dataframe\">\n",
       "  <thead>\n",
       "    <tr style=\"text-align: right;\">\n",
       "      <th></th>\n",
       "      <th>text</th>\n",
       "      <th>tag</th>\n",
       "    </tr>\n",
       "  </thead>\n",
       "  <tbody>\n",
       "    <tr>\n",
       "      <th>1040</th>\n",
       "      <td>Курс валют на завтра в вашем смартфоне уже сегодня\\n\\n4 декабря 2016 в 9:00\\n\\nPR-служба TUT.BY\\n\\nПриложение «Финансы TUT.BY» радует белорусских пользователей усовершенствованными функциями. В сч...</td>\n",
       "      <td>economics</td>\n",
       "    </tr>\n",
       "    <tr>\n",
       "      <th>218</th>\n",
       "      <td>Ростропович разорвал контракт с Большим театром Премьера\\nоперы Прокофьева \"Война и мир\" на новой сцене Большого театра, назначенная\\nна 6 декабря, под угрозой срыва...</td>\n",
       "      <td>culture</td>\n",
       "    </tr>\n",
       "  </tbody>\n",
       "</table>\n",
       "</div>"
      ],
      "text/plain": [
       "                                                                                                                                                                                                         text  \\\n",
       "1040  Курс валют на завтра в вашем смартфоне уже сегодня\\n\\n4 декабря 2016 в 9:00\\n\\nPR-служба TUT.BY\\n\\nПриложение «Финансы TUT.BY» радует белорусских пользователей усовершенствованными функциями. В сч...   \n",
       "218                                  Ростропович разорвал контракт с Большим театром Премьера\\nоперы Прокофьева \"Война и мир\" на новой сцене Большого театра, назначенная\\nна 6 декабря, под угрозой срыва...   \n",
       "\n",
       "            tag  \n",
       "1040  economics  \n",
       "218     culture  "
      ]
     },
     "execution_count": 2,
     "metadata": {},
     "output_type": "execute_result"
    }
   ],
   "source": [
    "# загружаем тексты\n",
    "data = pd.read_pickle('../data/news.pkl.gz')\n",
    "print('записей:',len(data))\n",
    "data.sample(2)"
   ]
  },
  {
   "cell_type": "markdown",
   "metadata": {},
   "source": [
    "## токенайзер со стемингом и очисткой"
   ]
  },
  {
   "cell_type": "code",
   "execution_count": 5,
   "metadata": {},
   "outputs": [],
   "source": [
    "# !pip install natasha "
   ]
  },
  {
   "cell_type": "code",
   "execution_count": 9,
   "metadata": {},
   "outputs": [],
   "source": [
    "# import nltk\n",
    "# nltk.download('stopwords')"
   ]
  },
  {
   "cell_type": "code",
   "execution_count": 10,
   "metadata": {},
   "outputs": [],
   "source": [
    "# простой токенайзер\n",
    "\n",
    "import re\n",
    "from razdel import tokenize\n",
    "from nltk.corpus import stopwords as nltk_stopwords\n",
    "stopwords = set(nltk_stopwords.words('russian'))\n",
    "\n",
    "def tokenizer(text,stopwords=stopwords):\n",
    "    return [\n",
    "            t.text for t in tokenize( # разбиваем текст на слова\n",
    "                re.sub(r'</?[a-z]+>',' ',text), # удаляем xml tag \n",
    "            ) \n",
    "            if not (\n",
    "               False\n",
    "               or (t.text in stopwords) # выкидываем предлоги, союзы и т.п.    \n",
    "               or re.match(r'^[^a-zA-ZЁёА-я]+$', t.text) # выкидываем токены не содержащие букв\n",
    "               or re.match(r'^(\\w)\\1+$', t.text)  # выкидываем токены из одного повторяющегося символа\n",
    "               or re.match(r'^[^a-zA-ZЁёА-я].*$', t.text)  # выкидываем токены начинающиеся не с буквы\n",
    "            )\n",
    "        ] "
   ]
  },
  {
   "cell_type": "code",
   "execution_count": 11,
   "metadata": {},
   "outputs": [],
   "source": [
    "# токенайзер cо стеммером\n",
    "#\n",
    "# from nltk.tokenize import word_tokenize as nltk_tokenize_word\n",
    "# from nltk.stem.snowball import SnowballStemmer\n",
    "# from nltk.corpus import stopwords as nltk_stopwords\n",
    "# import re\n",
    "\n",
    "# stemmer = SnowballStemmer('russian')\n",
    "# stopwords = set(nltk_stopwords.words('russian'))\n",
    "\n",
    "# def tokenizer(text,stemmer=stemmer,stopwords=stopwords):\n",
    "#     return [\n",
    "#             stemmer.stem(t) # выполняем стеминг\n",
    "#             for t in nltk_tokenize_word( # разбиваем текст на слова\n",
    "#                 re.sub(r'</?[a-z]+>',' ',text), # удаляем xml tag \n",
    "#                 language='russian'\n",
    "#             ) \n",
    "#             if not (\n",
    "#                (len(t)<3) # выкидываем очень короткие слова\n",
    "#                or re.match(r'^[^a-zA-ZЁёА-я]+$', t) # выкидываем токены не содержащие букв\n",
    "#                or re.match(r'^(\\w)\\1+$', t)  # выкидываем токены из одного повторяющегося символа\n",
    "#                or re.match(r'^[^a-zA-ZЁёА-я].*$', t)  # выкидываем токены начинающиеся не с буквы\n",
    "#                or (t in stopwords) # выкидываем предлоги, союзы и т.п.    \n",
    "#             )\n",
    "#         ] \n",
    "    \n",
    "# # data['text'].progress_apply(tokenizer)"
   ]
  },
  {
   "cell_type": "code",
   "execution_count": 12,
   "metadata": {},
   "outputs": [],
   "source": [
    "# # токенайзер с лемматизацией\n",
    "\n",
    "# from natasha import Doc\n",
    "# from natasha import Segmenter\n",
    "# from natasha import MorphVocab\n",
    "# from natasha import NewsEmbedding\n",
    "# from natasha import NewsMorphTagger\n",
    "\n",
    "# from nltk.corpus import stopwords as nltk_stopwords\n",
    "# stopwords = set(nltk_stopwords.words('russian'))\n",
    "\n",
    "# seg = Segmenter() # базовый токенизатор\n",
    "# # морфологический анализ\n",
    "# tagger = NewsMorphTagger( NewsEmbedding() )\n",
    "# lvoc = MorphVocab() # лемматизатор\n",
    "\n",
    "# def tokenizer(text,seg=seg, tagger=tagger, lvoc=lvoc, stopwords=stopwords):\n",
    "#     doc = Doc(text)\n",
    "#     doc.segment(seg)\n",
    "#     doc.tag_morph(tagger)\n",
    "#     for t in doc.tokens: t.lemmatize(lvoc)\n",
    "        \n",
    "#     return [\n",
    "#         t.lemma for t in doc.tokens\n",
    "#         if not (\n",
    "#              False\n",
    "#             or (t.lemma in stopwords) # выкидываем предлоги, союзы и т.п.  \n",
    "#             or re.match(r'^[^a-zA-ZЁёА-я]+$', t.lemma) # выкидываем токены не содержащие букв\n",
    "#             or re.match(r'^(\\w)\\1+$', t.lemma)  # выкидываем токены из одного повторяющегося символа\n",
    "#             or re.match(r'^[^a-zA-ZЁёА-я].*$', t.lemma)  # выкидываем токены начинающиеся не с буквы\n",
    "#         )\n",
    "#     ]"
   ]
  },
  {
   "cell_type": "markdown",
   "metadata": {},
   "source": [
    "## выполняем частотный анализ"
   ]
  },
  {
   "cell_type": "code",
   "execution_count": 13,
   "metadata": {},
   "outputs": [
    {
     "name": "stdout",
     "output_type": "stream",
     "text": [
      "CPU times: user 28.5 s, sys: 26.7 ms, total: 28.6 s\n",
      "Wall time: 29 s\n"
     ]
    }
   ],
   "source": [
    "%%time\n",
    "\n",
    "from sklearn.feature_extraction.text import TfidfVectorizer\n",
    "\n",
    "# использования токенайзера вместе с векторайзером\n",
    "tf_model = TfidfVectorizer(\n",
    "        min_df=.001, # выкидываем очень редкие слова\n",
    "        max_df=.10, # выкидываем очень частые слова\n",
    "        use_idf=False, # не используем обратную частоту\n",
    "        norm='l2', # нормируем TF\n",
    "        tokenizer=tokenizer, # ф-ция токенайзер\n",
    "        token_pattern=None, # отключаем дефолтный токенайзер\n",
    "    )\n",
    "\n",
    "data_tf = tf_model.fit_transform( data['text'] )"
   ]
  },
  {
   "cell_type": "code",
   "execution_count": 14,
   "metadata": {},
   "outputs": [
    {
     "data": {
      "text/plain": [
       "(3196, 19991)"
      ]
     },
     "execution_count": 14,
     "metadata": {},
     "output_type": "execute_result"
    }
   ],
   "source": [
    "data_tf.shape"
   ]
  },
  {
   "cell_type": "code",
   "execution_count": 15,
   "metadata": {},
   "outputs": [
    {
     "name": "stdout",
     "output_type": "stream",
     "text": [
      "19991\n"
     ]
    },
    {
     "data": {
      "text/plain": [
       "7168               кросби\n",
       "12517      поспособствует\n",
       "12345           пополнили\n",
       "16600               спада\n",
       "7219           кто-нибудь\n",
       "16108              снимут\n",
       "5533            зрителями\n",
       "12021           покрытием\n",
       "6344              картину\n",
       "15945              службе\n",
       "3436              готовым\n",
       "3110         генерального\n",
       "3217                  гмк\n",
       "16162           собранные\n",
       "4064               длится\n",
       "1586             броснану\n",
       "12721             поэтому\n",
       "8577              награды\n",
       "338               peugeot\n",
       "13673    продемонстрирует\n",
       "14280     разбирательства\n",
       "7784                маска\n",
       "12951         предприятие\n",
       "15205                ряду\n",
       "17836             тренеры\n",
       "6875          конфискацию\n",
       "8503               мюзикл\n",
       "1678           бюрократия\n",
       "1924                 весу\n",
       "19832           ювелирные\n",
       "dtype: object"
      ]
     },
     "execution_count": 15,
     "metadata": {},
     "output_type": "execute_result"
    }
   ],
   "source": [
    "vcb1 = sorted(tf_model.vocabulary_)\n",
    "print(len(vcb1))\n",
    "pd.Series(vcb1).sample(30)"
   ]
  },
  {
   "cell_type": "markdown",
   "metadata": {},
   "source": [
    "## формируем датасеты"
   ]
  },
  {
   "cell_type": "code",
   "execution_count": 16,
   "metadata": {},
   "outputs": [
    {
     "data": {
      "text/plain": [
       "{'auto': 0,\n",
       " 'culture': 1,\n",
       " 'economics': 2,\n",
       " 'health': 3,\n",
       " 'incident': 4,\n",
       " 'politics': 5,\n",
       " 'realty': 6,\n",
       " 'reclama': 7,\n",
       " 'science': 8,\n",
       " 'social': 9,\n",
       " 'sport': 10,\n",
       " 'tech': 11,\n",
       " 'woman': 12}"
      ]
     },
     "execution_count": 16,
     "metadata": {},
     "output_type": "execute_result"
    }
   ],
   "source": [
    "labels = { t:i for i,t in enumerate(sorted(set(data['tag']))) }\n",
    "labels"
   ]
  },
  {
   "cell_type": "code",
   "execution_count": 17,
   "metadata": {},
   "outputs": [
    {
     "data": {
      "text/plain": [
       "array([5, 1, 1, ..., 8, 5, 9])"
      ]
     },
     "execution_count": 17,
     "metadata": {},
     "output_type": "execute_result"
    }
   ],
   "source": [
    "y = data['tag'].map(labels).values\n",
    "y"
   ]
  },
  {
   "cell_type": "code",
   "execution_count": 18,
   "metadata": {},
   "outputs": [
    {
     "data": {
      "text/plain": [
       "((2237, 19991), (2237,), (959, 19991), (959,))"
      ]
     },
     "execution_count": 18,
     "metadata": {},
     "output_type": "execute_result"
    }
   ],
   "source": [
    "from sklearn.model_selection import train_test_split\n",
    "\n",
    "X_train, X_test, y_train, y_test = train_test_split( data_tf, y, test_size=0.3, random_state=326 )\n",
    "X_train.shape, y_train.shape, X_test.shape, y_test.shape"
   ]
  },
  {
   "cell_type": "markdown",
   "metadata": {},
   "source": [
    "## обучаем классификатор"
   ]
  },
  {
   "cell_type": "code",
   "execution_count": 19,
   "metadata": {},
   "outputs": [],
   "source": [
    "from sklearn.linear_model import SGDClassifier\n",
    "\n",
    "clf = SGDClassifier(loss='hinge',max_iter=1000, tol=0.19).fit(X_train,y_train)"
   ]
  },
  {
   "cell_type": "markdown",
   "metadata": {},
   "source": [
    "## тестируем"
   ]
  },
  {
   "cell_type": "code",
   "execution_count": 20,
   "metadata": {},
   "outputs": [],
   "source": [
    "from sklearn.metrics import confusion_matrix\n",
    "from sklearn.metrics import classification_report\n",
    "from sklearn.metrics import accuracy_score"
   ]
  },
  {
   "cell_type": "code",
   "execution_count": 21,
   "metadata": {},
   "outputs": [
    {
     "data": {
      "text/plain": [
       "0.9991059454626732"
      ]
     },
     "execution_count": 21,
     "metadata": {},
     "output_type": "execute_result"
    }
   ],
   "source": [
    "# доля правильных ответов на учебном наборе\n",
    "o = clf.predict(X_train)\n",
    "accuracy_score(y_train,o)"
   ]
  },
  {
   "cell_type": "code",
   "execution_count": 22,
   "metadata": {},
   "outputs": [
    {
     "data": {
      "text/plain": [
       "0.8696558915537018"
      ]
     },
     "execution_count": 22,
     "metadata": {},
     "output_type": "execute_result"
    }
   ],
   "source": [
    "# доля правильных ответов на тестовом наборе\n",
    "o = clf.predict(X_test)\n",
    "\n",
    "accuracy_score(y_test,o)"
   ]
  },
  {
   "cell_type": "code",
   "execution_count": 23,
   "metadata": {},
   "outputs": [
    {
     "name": "stdout",
     "output_type": "stream",
     "text": [
      "              precision    recall  f1-score   support\n",
      "\n",
      "        auto       0.97      0.90      0.93        87\n",
      "     culture       0.76      0.93      0.84       101\n",
      "   economics       0.82      0.83      0.82        76\n",
      "      health       0.83      0.65      0.73        31\n",
      "    incident       0.90      0.93      0.92       123\n",
      "    politics       0.87      0.94      0.90       177\n",
      "      realty       0.93      0.67      0.78        21\n",
      "     reclama       1.00      0.71      0.83        17\n",
      "     science       0.88      1.00      0.94        68\n",
      "      social       0.62      0.36      0.46        44\n",
      "       sport       0.99      0.98      0.99       118\n",
      "        tech       0.81      0.74      0.78        89\n",
      "       woman       0.86      0.86      0.86         7\n",
      "\n",
      "    accuracy                           0.87       959\n",
      "   macro avg       0.87      0.81      0.83       959\n",
      "weighted avg       0.87      0.87      0.86       959\n",
      "\n"
     ]
    }
   ],
   "source": [
    "print( classification_report( y_test, o, target_names=sorted(labels.keys()) ) )"
   ]
  },
  {
   "cell_type": "markdown",
   "metadata": {},
   "source": [
    "| точность (precision) | полнота (recall) |\n",
    "| :---: | :---: |\n",
    "| $\\frac{TP}{TP + FP}$ |  $\\frac{TP}{TP + FN}$ |\n",
    "| найдено позитивных / всего найдено |  найдено позитивных / всего позитивных |"
   ]
  },
  {
   "cell_type": "code",
   "execution_count": 26,
   "metadata": {},
   "outputs": [
    {
     "data": {
      "image/png": "[encoded data removed]",
      "text/plain": [
       "<Figure size 576x576 with 1 Axes>"
      ]
     },
     "metadata": {
      "needs_background": "light"
     },
     "output_type": "display_data"
    }
   ],
   "source": [
    "from sklearn.metrics import confusion_matrix\n",
    "from sklearn.metrics import ConfusionMatrixDisplay\n",
    "from matplotlib import pyplot as plt\n",
    "\n",
    "fig,ax = plt.subplots(figsize=(8,8))\n",
    "disp = ConfusionMatrixDisplay(\n",
    "    confusion_matrix=confusion_matrix(y_test,o), \n",
    "    display_labels=sorted(labels.keys()),\n",
    ")\n",
    "disp.plot(ax=ax, xticks_rotation='vertical', include_values=True, cmap='viridis',  colorbar=False,)\n",
    "plt.show()"
   ]
  },
  {
   "cell_type": "markdown",
   "metadata": {},
   "source": [
    "---"
   ]
  },
  {
   "cell_type": "code",
   "execution_count": 27,
   "metadata": {},
   "outputs": [],
   "source": [
    "data['predict'] = pd.Series( clf.predict(data_tf) ).map( { labels[k]:k for k in labels } )"
   ]
  },
  {
   "cell_type": "code",
   "execution_count": 28,
   "metadata": {},
   "outputs": [
    {
     "data": {
      "text/html": [
       "<div>\n",
       "<style scoped>\n",
       "    .dataframe tbody tr th:only-of-type {\n",
       "        vertical-align: middle;\n",
       "    }\n",
       "\n",
       "    .dataframe tbody tr th {\n",
       "        vertical-align: top;\n",
       "    }\n",
       "\n",
       "    .dataframe thead th {\n",
       "        text-align: right;\n",
       "    }\n",
       "</style>\n",
       "<table border=\"1\" class=\"dataframe\">\n",
       "  <thead>\n",
       "    <tr style=\"text-align: right;\">\n",
       "      <th></th>\n",
       "      <th>text</th>\n",
       "      <th>tag</th>\n",
       "      <th>predict</th>\n",
       "    </tr>\n",
       "  </thead>\n",
       "  <tbody>\n",
       "    <tr>\n",
       "      <th>0</th>\n",
       "      <td>В Саудовской Аравии сняли первый антитеррористический мультфильм -\\nтрехминутную ленту \"Внимание!\". \"Внимание!\" отражает точку зрения мирового\\nсообщества на войну, развязанную терроризмом, и поэт...</td>\n",
       "      <td>politics</td>\n",
       "      <td>culture</td>\n",
       "    </tr>\n",
       "    <tr>\n",
       "      <th>1</th>\n",
       "      <td>Вчера вечером в Японии состоялась премьера голливудского фильма о гейшах,\\nвызвавшая негодование в связи с тем, что эти девушки представлены\\nпроститутками, а играющие их актрисы - китаянки. Мало ...</td>\n",
       "      <td>culture</td>\n",
       "      <td>culture</td>\n",
       "    </tr>\n",
       "    <tr>\n",
       "      <th>2</th>\n",
       "      <td>Российский кинорежиссер и генеральный директор киноконцерна \"Мосфильм\"\\nКарен Шахназаров награжден \"Золотой пирамидой\" на XXIX Каирском кинофестивале\\nза выдающийся вклад в мировое киноискусство. ...</td>\n",
       "      <td>culture</td>\n",
       "      <td>culture</td>\n",
       "    </tr>\n",
       "    <tr>\n",
       "      <th>3</th>\n",
       "      <td>30 ноября выдающейся российской балерине Майе Плисецкой будет вручена\\nмедаль имени княгини Барборы Радвилайте. Церемония награждения состоится\\nв Вильнюсе в Литовском национальном театре оперы и ...</td>\n",
       "      <td>culture</td>\n",
       "      <td>culture</td>\n",
       "    </tr>\n",
       "    <tr>\n",
       "      <th>4</th>\n",
       "      <td>Гарольд Пинтер не приедет за Нобелевской премией из-за болезниАнглийский\\nдраматург Гарольд Пинтер, получивший Нобелевскую премию по литературе в\\n2005 году, отправит в Стокгольм видеозапись своей...</td>\n",
       "      <td>culture</td>\n",
       "      <td>culture</td>\n",
       "    </tr>\n",
       "    <tr>\n",
       "      <th>...</th>\n",
       "      <td>...</td>\n",
       "      <td>...</td>\n",
       "      <td>...</td>\n",
       "    </tr>\n",
       "    <tr>\n",
       "      <th>3191</th>\n",
       "      <td>Православие.Ру В сентябре 2010 года Святейший Патриарх Кирилл посетит Камчатку\\nВопросы подготовки к поездке Предстоятеля Русской Православной Церкви на\\nКамчатку обсуждались на встрече Святейшего...</td>\n",
       "      <td>social</td>\n",
       "      <td>social</td>\n",
       "    </tr>\n",
       "    <tr>\n",
       "      <th>3192</th>\n",
       "      <td>Интерфакс Религия (interfax-religion.ru) В Минрегионразвития призывают\\nроссиян не бояться своего духовного наследия подобно Европе В министерстве\\nрегионального развития РФ считают крайне важным ...</td>\n",
       "      <td>social</td>\n",
       "      <td>culture</td>\n",
       "    </tr>\n",
       "    <tr>\n",
       "      <th>3193</th>\n",
       "      <td>Окно возможностей В Эвенкинском муниципальном районе приступили к\\nисследованию традиционного уклада жизни. В Эвенкию прибыла экспедиция под\\nруководством профессора, заведующего кафедрой менеджме...</td>\n",
       "      <td>science</td>\n",
       "      <td>science</td>\n",
       "    </tr>\n",
       "    <tr>\n",
       "      <th>3194</th>\n",
       "      <td>ИТАР-ТАСС. Новости из властных структур.  Совет Федерации предлагает определить\\nособенности традиционной охоты коренных народов Севера, Сибири и Дальнего\\nВостока Совет Федерации внес на рассмотр...</td>\n",
       "      <td>politics</td>\n",
       "      <td>politics</td>\n",
       "    </tr>\n",
       "    <tr>\n",
       "      <th>3195</th>\n",
       "      <td>Вечерний Магадан (Магадан) Охотское территориальное управление по адресу город\\nМагадан, улица Марчеканская, 1, производит выдачу решений о предоставлении\\nводных биологических ресурсов для гражда...</td>\n",
       "      <td>social</td>\n",
       "      <td>social</td>\n",
       "    </tr>\n",
       "  </tbody>\n",
       "</table>\n",
       "<p>3196 rows × 3 columns</p>\n",
       "</div>"
      ],
      "text/plain": [
       "                                                                                                                                                                                                         text  \\\n",
       "0     В Саудовской Аравии сняли первый антитеррористический мультфильм -\\nтрехминутную ленту \"Внимание!\". \"Внимание!\" отражает точку зрения мирового\\nсообщества на войну, развязанную терроризмом, и поэт...   \n",
       "1     Вчера вечером в Японии состоялась премьера голливудского фильма о гейшах,\\nвызвавшая негодование в связи с тем, что эти девушки представлены\\nпроститутками, а играющие их актрисы - китаянки. Мало ...   \n",
       "2     Российский кинорежиссер и генеральный директор киноконцерна \"Мосфильм\"\\nКарен Шахназаров награжден \"Золотой пирамидой\" на XXIX Каирском кинофестивале\\nза выдающийся вклад в мировое киноискусство. ...   \n",
       "3     30 ноября выдающейся российской балерине Майе Плисецкой будет вручена\\nмедаль имени княгини Барборы Радвилайте. Церемония награждения состоится\\nв Вильнюсе в Литовском национальном театре оперы и ...   \n",
       "4     Гарольд Пинтер не приедет за Нобелевской премией из-за болезниАнглийский\\nдраматург Гарольд Пинтер, получивший Нобелевскую премию по литературе в\\n2005 году, отправит в Стокгольм видеозапись своей...   \n",
       "...                                                                                                                                                                                                       ...   \n",
       "3191  Православие.Ру В сентябре 2010 года Святейший Патриарх Кирилл посетит Камчатку\\nВопросы подготовки к поездке Предстоятеля Русской Православной Церкви на\\nКамчатку обсуждались на встрече Святейшего...   \n",
       "3192  Интерфакс Религия (interfax-religion.ru) В Минрегионразвития призывают\\nроссиян не бояться своего духовного наследия подобно Европе В министерстве\\nрегионального развития РФ считают крайне важным ...   \n",
       "3193  Окно возможностей В Эвенкинском муниципальном районе приступили к\\nисследованию традиционного уклада жизни. В Эвенкию прибыла экспедиция под\\nруководством профессора, заведующего кафедрой менеджме...   \n",
       "3194  ИТАР-ТАСС. Новости из властных структур.  Совет Федерации предлагает определить\\nособенности традиционной охоты коренных народов Севера, Сибири и Дальнего\\nВостока Совет Федерации внес на рассмотр...   \n",
       "3195  Вечерний Магадан (Магадан) Охотское территориальное управление по адресу город\\nМагадан, улица Марчеканская, 1, производит выдачу решений о предоставлении\\nводных биологических ресурсов для гражда...   \n",
       "\n",
       "           tag   predict  \n",
       "0     politics   culture  \n",
       "1      culture   culture  \n",
       "2      culture   culture  \n",
       "3      culture   culture  \n",
       "4      culture   culture  \n",
       "...        ...       ...  \n",
       "3191    social    social  \n",
       "3192    social   culture  \n",
       "3193   science   science  \n",
       "3194  politics  politics  \n",
       "3195    social    social  \n",
       "\n",
       "[3196 rows x 3 columns]"
      ]
     },
     "execution_count": 28,
     "metadata": {},
     "output_type": "execute_result"
    }
   ],
   "source": [
    "data"
   ]
  },
  {
   "cell_type": "code",
   "execution_count": null,
   "metadata": {},
   "outputs": [],
   "source": [
    "# Введение в анализ текстовой информации с помощью Python и методов машинного обучения\n",
    "# https://habr.com/ru/post/205360/"
   ]
  }
 ],
 "metadata": {
  "kernelspec": {
   "display_name": "Python 3 (ipykernel)",
   "language": "python",
   "name": "python3"
  },
  "language_info": {
   "codemirror_mode": {
    "name": "ipython",
    "version": 3
   },
   "file_extension": ".py",
   "mimetype": "text/x-python",
   "name": "python",
   "nbconvert_exporter": "python",
   "pygments_lexer": "ipython3",
   "version": "3.9.16"
  },
  "toc": {
   "base_numbering": 1,
   "nav_menu": {},
   "number_sections": true,
   "sideBar": true,
   "skip_h1_title": false,
   "title_cell": "Table of Contents",
   "title_sidebar": "Contents",
   "toc_cell": false,
   "toc_position": {},
   "toc_section_display": true,
   "toc_window_display": false
  }
 },
 "nbformat": 4,
 "nbformat_minor": 2
}
