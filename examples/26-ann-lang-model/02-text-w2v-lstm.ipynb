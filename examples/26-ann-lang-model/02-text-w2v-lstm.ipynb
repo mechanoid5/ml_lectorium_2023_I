{
 "cells": [
  {
   "cell_type": "markdown",
   "metadata": {},
   "source": [
    "**классификатор текстов LSTM + W2V**\n",
    "\n",
    "Евгений Борисов <esborisov@sevsu.ru>"
   ]
  },
  {
   "cell_type": "markdown",
   "metadata": {},
   "source": [
    "## Данные"
   ]
  },
  {
   "cell_type": "raw",
   "metadata": {},
   "source": [
    "Ю. В. Рубцова. Построение корпуса текстов для настройки тонового классификатора // Программные продукты и системы, 2015, №1(109), –С.72-78\n",
    "\n",
    "http://study.mokoron.com\n",
    "\n",
    "– id: уникальный номер сообщения в системе twitter;\n",
    "– tdate: дата публикации сообщения (твита);\n",
    "– tmane: имя пользователя, опубликовавшего сообщение;\n",
    "– ttext:  текст сообщения (твита);\n",
    "– ttype: поле в котором в дальнейшем будет указано к кому классу относится твит (положительный, отрицательный, нейтральный);\n",
    "– trep: количество реплаев к данному сообщению. В настоящий момент API твиттера не отдает эту информацию;\n",
    "– tfav: число сколько раз данное сообщение было добавлено в избранное другими пользователями;\n",
    "– tstcount: число всех сообщений пользователя в сети twitter;\n",
    "– tfol: количество фоловеров пользователя (тех людей, которые читают пользователя);\n",
    "– tfrien: количество друзей пользователя (те люди, которых читает пользователь);\n",
    "– listcount: количество листов-подписок в которые добавлен твиттер-пользователь."
   ]
  },
  {
   "cell_type": "code",
   "execution_count": 1,
   "metadata": {},
   "outputs": [],
   "source": [
    "import pandas as pd\n",
    "from tqdm.notebook import tqdm\n",
    "tqdm.pandas()        \n",
    "pd.options.display.max_colwidth = 200 "
   ]
  },
  {
   "cell_type": "code",
   "execution_count": 2,
   "metadata": {},
   "outputs": [
    {
     "name": "stdout",
     "output_type": "stream",
     "text": [
      "negative: 111923 \n",
      "positive: 114911\n"
     ]
    },
    {
     "data": {
      "text/html": [
       "<div>\n",
       "<style scoped>\n",
       "    .dataframe tbody tr th:only-of-type {\n",
       "        vertical-align: middle;\n",
       "    }\n",
       "\n",
       "    .dataframe tbody tr th {\n",
       "        vertical-align: top;\n",
       "    }\n",
       "\n",
       "    .dataframe thead th {\n",
       "        text-align: right;\n",
       "    }\n",
       "</style>\n",
       "<table border=\"1\" class=\"dataframe\">\n",
       "  <thead>\n",
       "    <tr style=\"text-align: right;\">\n",
       "      <th></th>\n",
       "      <th>id</th>\n",
       "      <th>ttext</th>\n",
       "      <th>ttype</th>\n",
       "    </tr>\n",
       "  </thead>\n",
       "  <tbody>\n",
       "    <tr>\n",
       "      <th>26557</th>\n",
       "      <td>412292846537175040</td>\n",
       "      <td>@CKAHAX че такое твитдэк только не ори на меня(</td>\n",
       "      <td>-1</td>\n",
       "    </tr>\n",
       "    <tr>\n",
       "      <th>33642</th>\n",
       "      <td>413269711968043008</td>\n",
       "      <td>@zen_pc многие остается неизменным:(. У самого iMac.</td>\n",
       "      <td>-1</td>\n",
       "    </tr>\n",
       "    <tr>\n",
       "      <th>102</th>\n",
       "      <td>408907829001465856</td>\n",
       "      <td>Базарнов сегодня спрашивал - чем лучше сушиться :D Парень весит всего 60 кг где-то, ахаха. Но он сказал, что ему уже пора, лол</td>\n",
       "      <td>1</td>\n",
       "    </tr>\n",
       "    <tr>\n",
       "      <th>51920</th>\n",
       "      <td>415365097112862720</td>\n",
       "      <td>@MLIK_RU опоил и не \"танцевал\" чтоли? (((</td>\n",
       "      <td>-1</td>\n",
       "    </tr>\n",
       "    <tr>\n",
       "      <th>79069</th>\n",
       "      <td>419431255076130816</td>\n",
       "      <td>@DatBalto, :((((((((((((((999999999999999999999\\nЯ буду ждать.(</td>\n",
       "      <td>-1</td>\n",
       "    </tr>\n",
       "    <tr>\n",
       "      <th>51000</th>\n",
       "      <td>410042700994707456</td>\n",
       "      <td>@The_first_life бытовая техника тоже хочет быть красивой)</td>\n",
       "      <td>1</td>\n",
       "    </tr>\n",
       "    <tr>\n",
       "      <th>10250</th>\n",
       "      <td>410402136464187392</td>\n",
       "      <td>@irairairka Все не по книге. В серии увидишь(</td>\n",
       "      <td>-1</td>\n",
       "    </tr>\n",
       "    <tr>\n",
       "      <th>12928</th>\n",
       "      <td>410791532837752832</td>\n",
       "      <td>RT @Fuckin_King_: @bald_unicorn7 я сильно,ооочень сильно скучаю((( го на днях в ск!*</td>\n",
       "      <td>-1</td>\n",
       "    </tr>\n",
       "    <tr>\n",
       "      <th>83717</th>\n",
       "      <td>419918478863523841</td>\n",
       "      <td>@Dilyara_Furduy @Lutick14 @Kamisama_dono я сегодня недайду до новых(</td>\n",
       "      <td>-1</td>\n",
       "    </tr>\n",
       "    <tr>\n",
       "      <th>86542</th>\n",
       "      <td>421143196299571200</td>\n",
       "      <td>@zveryuga_ru не хватает зловещего смеха. А вообще у них с детьми других проблем хватает - посерьезнее(</td>\n",
       "      <td>-1</td>\n",
       "    </tr>\n",
       "  </tbody>\n",
       "</table>\n",
       "</div>"
      ],
      "text/plain": [
       "                       id  \\\n",
       "26557  412292846537175040   \n",
       "33642  413269711968043008   \n",
       "102    408907829001465856   \n",
       "51920  415365097112862720   \n",
       "79069  419431255076130816   \n",
       "51000  410042700994707456   \n",
       "10250  410402136464187392   \n",
       "12928  410791532837752832   \n",
       "83717  419918478863523841   \n",
       "86542  421143196299571200   \n",
       "\n",
       "                                                                                                                                ttext  \\\n",
       "26557                                                                                 @CKAHAX че такое твитдэк только не ори на меня(   \n",
       "33642                                                                            @zen_pc многие остается неизменным:(. У самого iMac.   \n",
       "102    Базарнов сегодня спрашивал - чем лучше сушиться :D Парень весит всего 60 кг где-то, ахаха. Но он сказал, что ему уже пора, лол   \n",
       "51920                                                                                       @MLIK_RU опоил и не \"танцевал\" чтоли? (((   \n",
       "79069                                                                 @DatBalto, :((((((((((((((999999999999999999999\\nЯ буду ждать.(   \n",
       "51000                                                                       @The_first_life бытовая техника тоже хочет быть красивой)   \n",
       "10250                                                                                   @irairairka Все не по книге. В серии увидишь(   \n",
       "12928                                            RT @Fuckin_King_: @bald_unicorn7 я сильно,ооочень сильно скучаю((( го на днях в ск!*   \n",
       "83717                                                            @Dilyara_Furduy @Lutick14 @Kamisama_dono я сегодня недайду до новых(   \n",
       "86542                          @zveryuga_ru не хватает зловещего смеха. А вообще у них с детьми других проблем хватает - посерьезнее(   \n",
       "\n",
       "       ttype  \n",
       "26557     -1  \n",
       "33642     -1  \n",
       "102        1  \n",
       "51920     -1  \n",
       "79069     -1  \n",
       "51000      1  \n",
       "10250     -1  \n",
       "12928     -1  \n",
       "83717     -1  \n",
       "86542     -1  "
      ]
     },
     "execution_count": 2,
     "metadata": {},
     "output_type": "execute_result"
    }
   ],
   "source": [
    "ff = ['id', 'tdate', 'tmane', 'ttext', 'ttype', 'trep', 'tfav', 'tstcount', 'tfol', 'tfrien', 'listcount','unk']\n",
    "\n",
    "data = pd.concat([\n",
    "    pd.read_csv('data/positive.csv.gz',sep=';',header=None),\n",
    "    pd.read_csv('data/negative.csv.gz',sep=';',header=None),\n",
    "])\n",
    "\n",
    "data.columns = ff\n",
    "\n",
    "data = data[['id','ttext', 'ttype']]\n",
    "\n",
    "print( 'negative:', len(data.query('ttype==-1')), '\\npositive:',len(data.query('ttype==1')) )\n",
    "\n",
    "data.sample(10)"
   ]
  },
  {
   "cell_type": "markdown",
   "metadata": {},
   "source": [
    "### очистка данных"
   ]
  },
  {
   "cell_type": "code",
   "execution_count": 3,
   "metadata": {},
   "outputs": [],
   "source": [
    "import re"
   ]
  },
  {
   "cell_type": "code",
   "execution_count": 4,
   "metadata": {},
   "outputs": [],
   "source": [
    "# применяет список замен pat к строке s\n",
    "def replace_patterns(s,pat):\n",
    "    if len(pat)<1: return s\n",
    "    return  replace_patterns( re.sub(pat[0][0],pat[0][1],s), pat[1:] )\n",
    "\n",
    "# нормализация текста\n",
    "def string_normalizer(s):\n",
    "    pat = [\n",
    "      #[r'ё','е'] # замена ё для унификации\n",
    "      #,[r'</?[a-z]+>',' '] # удаляем xml\n",
    "      [r'[:;]-*[)D]',' радость ']\n",
    "      ,[r'\\)\\)\\)*',' радость ']\n",
    "      ,[r'[:;]\\*',' поцелуй ']\n",
    "      ,[r':\\(',' печаль ']\n",
    "      ,[r'\\(\\(\\(*',' печаль ']\n",
    "    ]\n",
    "    return replace_patterns(s,pat).strip()"
   ]
  },
  {
   "cell_type": "code",
   "execution_count": 5,
   "metadata": {},
   "outputs": [
    {
     "data": {
      "application/vnd.jupyter.widget-view+json": {
       "model_id": "6f6c983d3b434b00bae64eaa54ed75c2",
       "version_major": 2,
       "version_minor": 0
      },
      "text/plain": [
       "  0%|          | 0/226834 [00:00<?, ?it/s]"
      ]
     },
     "metadata": {},
     "output_type": "display_data"
    }
   ],
   "source": [
    "data['ttext_'] = data['ttext'].progress_apply(string_normalizer)"
   ]
  },
  {
   "cell_type": "code",
   "execution_count": 8,
   "metadata": {},
   "outputs": [],
   "source": [
    "from nltk.tokenize import word_tokenize as nltk_tokenize_word\n",
    "\n",
    "def tokenize(line): # разбиваем предложения на слова\n",
    "    return    [ \n",
    "        t.lower() \n",
    "        for t in nltk_tokenize_word(line) \n",
    "        if re.match(r'[а-я]+',t.lower()) and len(t)>1 \n",
    "    ] "
   ]
  },
  {
   "cell_type": "code",
   "execution_count": 9,
   "metadata": {},
   "outputs": [
    {
     "data": {
      "application/vnd.jupyter.widget-view+json": {
       "model_id": "38f3f804a30747c68e26bdcf199b4c8a",
       "version_major": 2,
       "version_minor": 0
      },
      "text/plain": [
       "  0%|          | 0/226834 [00:00<?, ?it/s]"
      ]
     },
     "metadata": {},
     "output_type": "display_data"
    }
   ],
   "source": [
    "data['ttext_'] = data['ttext_'].progress_apply(tokenize)"
   ]
  },
  {
   "cell_type": "code",
   "execution_count": 10,
   "metadata": {},
   "outputs": [
    {
     "data": {
      "text/html": [
       "<div>\n",
       "<style scoped>\n",
       "    .dataframe tbody tr th:only-of-type {\n",
       "        vertical-align: middle;\n",
       "    }\n",
       "\n",
       "    .dataframe tbody tr th {\n",
       "        vertical-align: top;\n",
       "    }\n",
       "\n",
       "    .dataframe thead th {\n",
       "        text-align: right;\n",
       "    }\n",
       "</style>\n",
       "<table border=\"1\" class=\"dataframe\">\n",
       "  <thead>\n",
       "    <tr style=\"text-align: right;\">\n",
       "      <th></th>\n",
       "      <th>id</th>\n",
       "      <th>ttext</th>\n",
       "      <th>ttype</th>\n",
       "      <th>ttext_</th>\n",
       "    </tr>\n",
       "  </thead>\n",
       "  <tbody>\n",
       "    <tr>\n",
       "      <th>31418</th>\n",
       "      <td>409655408786423808</td>\n",
       "      <td>RT @ivahykys: Мне урок на будущее: никогда не спорить с  долбоёбами. Никогда. Нервные клетки не восстанавливаются. :)</td>\n",
       "      <td>1</td>\n",
       "      <td>[мне, урок, на, будущее, никогда, не, спорить, долбоёбами, никогда, нервные, клетки, не, восстанавливаются, радость]</td>\n",
       "    </tr>\n",
       "    <tr>\n",
       "      <th>20447</th>\n",
       "      <td>409414976097771520</td>\n",
       "      <td>RT @BVB_Russe: Ну, граждане алкоголики, тунеядцы, хулиганы, кто желает поиграть за Боруссию? :)) В центре защиты - 2 человека. В центре пол…</td>\n",
       "      <td>1</td>\n",
       "      <td>[ну, граждане, алкоголики, тунеядцы, хулиганы, кто, желает, поиграть, за, боруссию, радость, центре, защиты, человека, центре, пол…]</td>\n",
       "    </tr>\n",
       "    <tr>\n",
       "      <th>18067</th>\n",
       "      <td>409377206964871168</td>\n",
       "      <td>RT @OlgaAstraukh1: я беременна, поздравте меня)))\\nуже на огурчики тянят=))) http://t.co/MJoJaIv9iu</td>\n",
       "      <td>1</td>\n",
       "      <td>[беременна, поздравте, меня, радость, уже, на, огурчики, тянят=, радость]</td>\n",
       "    </tr>\n",
       "    <tr>\n",
       "      <th>77951</th>\n",
       "      <td>410715520154210304</td>\n",
       "      <td>ехать домой на транспорте было бы адом, так что метро х))</td>\n",
       "      <td>1</td>\n",
       "      <td>[ехать, домой, на, транспорте, было, бы, адом, так, что, метро, радость]</td>\n",
       "    </tr>\n",
       "    <tr>\n",
       "      <th>14768</th>\n",
       "      <td>409341391714934785</td>\n",
       "      <td>RT @Creative_Link: Дождались! Официальный трейлер \"Иван Царевич и Серый Волк - 2\". Смотреть всем: http://t.co/gmelSGMIuW Толи еще будет)</td>\n",
       "      <td>1</td>\n",
       "      <td>[дождались, официальный, трейлер, иван, царевич, серый, волк, смотреть, всем, толи, еще, будет]</td>\n",
       "    </tr>\n",
       "    <tr>\n",
       "      <th>22443</th>\n",
       "      <td>409434017566818305</td>\n",
       "      <td>Орфография хромает на обе ноги... толи пальцы кривые, то ли медленные... не успевают за мозгом печатать... :D</td>\n",
       "      <td>1</td>\n",
       "      <td>[орфография, хромает, на, обе, ноги, толи, пальцы, кривые, то, ли, медленные, не, успевают, за, мозгом, печатать, радость]</td>\n",
       "    </tr>\n",
       "    <tr>\n",
       "      <th>29443</th>\n",
       "      <td>409626951628759040</td>\n",
       "      <td>Господи,если ты читаешь ТВИ...пошли мужика стоящего...желательно до конца этого года )</td>\n",
       "      <td>1</td>\n",
       "      <td>[господи, если, ты, читаешь, тви, пошли, мужика, стоящего, желательно, до, конца, этого, года]</td>\n",
       "    </tr>\n",
       "    <tr>\n",
       "      <th>63223</th>\n",
       "      <td>416889509469761536</td>\n",
       "      <td>@ooLo_oLo мне всегда камаро нравились, выглядит классно</td>\n",
       "      <td>-1</td>\n",
       "      <td>[мне, всегда, камаро, нравились, выглядит, классно]</td>\n",
       "    </tr>\n",
       "    <tr>\n",
       "      <th>98628</th>\n",
       "      <td>423017314049466368</td>\n",
       "      <td>@_wanna_die_ @ganzavextra соррьки, не смогу ((((((((((((((((9((99(99</td>\n",
       "      <td>-1</td>\n",
       "      <td>[соррьки, не, смогу, печаль, печаль]</td>\n",
       "    </tr>\n",
       "    <tr>\n",
       "      <th>17264</th>\n",
       "      <td>411209680535687168</td>\n",
       "      <td>Хочу широкий подоконник - неудобно быть ванилькой на узком(</td>\n",
       "      <td>-1</td>\n",
       "      <td>[хочу, широкий, подоконник, неудобно, быть, ванилькой, на, узком]</td>\n",
       "    </tr>\n",
       "  </tbody>\n",
       "</table>\n",
       "</div>"
      ],
      "text/plain": [
       "                       id  \\\n",
       "31418  409655408786423808   \n",
       "20447  409414976097771520   \n",
       "18067  409377206964871168   \n",
       "77951  410715520154210304   \n",
       "14768  409341391714934785   \n",
       "22443  409434017566818305   \n",
       "29443  409626951628759040   \n",
       "63223  416889509469761536   \n",
       "98628  423017314049466368   \n",
       "17264  411209680535687168   \n",
       "\n",
       "                                                                                                                                              ttext  \\\n",
       "31418                         RT @ivahykys: Мне урок на будущее: никогда не спорить с  долбоёбами. Никогда. Нервные клетки не восстанавливаются. :)   \n",
       "20447  RT @BVB_Russe: Ну, граждане алкоголики, тунеядцы, хулиганы, кто желает поиграть за Боруссию? :)) В центре защиты - 2 человека. В центре пол…   \n",
       "18067                                           RT @OlgaAstraukh1: я беременна, поздравте меня)))\\nуже на огурчики тянят=))) http://t.co/MJoJaIv9iu   \n",
       "77951                                                                                     ехать домой на транспорте было бы адом, так что метро х))   \n",
       "14768      RT @Creative_Link: Дождались! Официальный трейлер \"Иван Царевич и Серый Волк - 2\". Смотреть всем: http://t.co/gmelSGMIuW Толи еще будет)   \n",
       "22443                                 Орфография хромает на обе ноги... толи пальцы кривые, то ли медленные... не успевают за мозгом печатать... :D   \n",
       "29443                                                        Господи,если ты читаешь ТВИ...пошли мужика стоящего...желательно до конца этого года )   \n",
       "63223                                                                                       @ooLo_oLo мне всегда камаро нравились, выглядит классно   \n",
       "98628                                                                          @_wanna_die_ @ganzavextra соррьки, не смогу ((((((((((((((((9((99(99   \n",
       "17264                                                                                   Хочу широкий подоконник - неудобно быть ванилькой на узком(   \n",
       "\n",
       "       ttype  \\\n",
       "31418      1   \n",
       "20447      1   \n",
       "18067      1   \n",
       "77951      1   \n",
       "14768      1   \n",
       "22443      1   \n",
       "29443      1   \n",
       "63223     -1   \n",
       "98628     -1   \n",
       "17264     -1   \n",
       "\n",
       "                                                                                                                                     ttext_  \n",
       "31418                  [мне, урок, на, будущее, никогда, не, спорить, долбоёбами, никогда, нервные, клетки, не, восстанавливаются, радость]  \n",
       "20447  [ну, граждане, алкоголики, тунеядцы, хулиганы, кто, желает, поиграть, за, боруссию, радость, центре, защиты, человека, центре, пол…]  \n",
       "18067                                                             [беременна, поздравте, меня, радость, уже, на, огурчики, тянят=, радость]  \n",
       "77951                                                              [ехать, домой, на, транспорте, было, бы, адом, так, что, метро, радость]  \n",
       "14768                                       [дождались, официальный, трейлер, иван, царевич, серый, волк, смотреть, всем, толи, еще, будет]  \n",
       "22443            [орфография, хромает, на, обе, ноги, толи, пальцы, кривые, то, ли, медленные, не, успевают, за, мозгом, печатать, радость]  \n",
       "29443                                        [господи, если, ты, читаешь, тви, пошли, мужика, стоящего, желательно, до, конца, этого, года]  \n",
       "63223                                                                                   [мне, всегда, камаро, нравились, выглядит, классно]  \n",
       "98628                                                                                                  [соррьки, не, смогу, печаль, печаль]  \n",
       "17264                                                                     [хочу, широкий, подоконник, неудобно, быть, ванилькой, на, узком]  "
      ]
     },
     "execution_count": 10,
     "metadata": {},
     "output_type": "execute_result"
    }
   ],
   "source": [
    "data.sample(10)"
   ]
  },
  {
   "cell_type": "code",
   "execution_count": 11,
   "metadata": {},
   "outputs": [
    {
     "data": {
      "text/plain": [
       "35"
      ]
     },
     "execution_count": 11,
     "metadata": {},
     "output_type": "execute_result"
    }
   ],
   "source": [
    "max_len = data['ttext_'].str.len().max() # максимальная длинна последовательности\n",
    "max_len"
   ]
  },
  {
   "cell_type": "code",
   "execution_count": 12,
   "metadata": {},
   "outputs": [
    {
     "data": {
      "text/html": [
       "<div>\n",
       "<style scoped>\n",
       "    .dataframe tbody tr th:only-of-type {\n",
       "        vertical-align: middle;\n",
       "    }\n",
       "\n",
       "    .dataframe tbody tr th {\n",
       "        vertical-align: top;\n",
       "    }\n",
       "\n",
       "    .dataframe thead th {\n",
       "        text-align: right;\n",
       "    }\n",
       "</style>\n",
       "<table border=\"1\" class=\"dataframe\">\n",
       "  <thead>\n",
       "    <tr style=\"text-align: right;\">\n",
       "      <th></th>\n",
       "      <th>id</th>\n",
       "      <th>ttext</th>\n",
       "      <th>ttype</th>\n",
       "      <th>ttext_</th>\n",
       "    </tr>\n",
       "  </thead>\n",
       "  <tbody>\n",
       "    <tr>\n",
       "      <th>66829</th>\n",
       "      <td>410387338087632896</td>\n",
       "      <td>RT @olesyaglee: @ktyekmrf30 http://t.co/fBbOR9RPLn х)</td>\n",
       "      <td>1</td>\n",
       "      <td>[]</td>\n",
       "    </tr>\n",
       "    <tr>\n",
       "      <th>70030</th>\n",
       "      <td>410465659223810048</td>\n",
       "      <td>RT @MilanaRepina: @LenocPlotnikova ❤спасиииибо) http://t.co/aO0vwsolYd</td>\n",
       "      <td>1</td>\n",
       "      <td>[]</td>\n",
       "    </tr>\n",
       "    <tr>\n",
       "      <th>77139</th>\n",
       "      <td>410705991714738176</td>\n",
       "      <td>RT @Mariya_Mila: С @ErmachonokAnton ) http://t.co/LmCxpsSoQG</td>\n",
       "      <td>1</td>\n",
       "      <td>[]</td>\n",
       "    </tr>\n",
       "    <tr>\n",
       "      <th>101718</th>\n",
       "      <td>411095547144306688</td>\n",
       "      <td>RT @Dasha_Jenner: @poolyasha П О Л Я \\nТ Ы \\nХ О Р О Ш А Я : )</td>\n",
       "      <td>1</td>\n",
       "      <td>[]</td>\n",
       "    </tr>\n",
       "    <tr>\n",
       "      <th>114606</th>\n",
       "      <td>411364795800354816</td>\n",
       "      <td>RT @sergey0495: http://t.co/dsvJIQP5Tgпробки 10баллов)</td>\n",
       "      <td>1</td>\n",
       "      <td>[]</td>\n",
       "    </tr>\n",
       "    <tr>\n",
       "      <th>9374</th>\n",
       "      <td>410306860089364480</td>\n",
       "      <td>RT @_Batonchik_: @cekc_tyt @aabdullaeva1 @chemicalechelon @frank_james45 @herlocked @misty_marcie @mywhisper @to_over_kill @whoresdiefirst …</td>\n",
       "      <td>-1</td>\n",
       "      <td>[]</td>\n",
       "    </tr>\n",
       "    <tr>\n",
       "      <th>12183</th>\n",
       "      <td>410753661065625600</td>\n",
       "      <td>@Katyaaa_fly @Vituska1998 @daria_hey и я(</td>\n",
       "      <td>-1</td>\n",
       "      <td>[]</td>\n",
       "    </tr>\n",
       "    <tr>\n",
       "      <th>21396</th>\n",
       "      <td>411751245129744385</td>\n",
       "      <td>RT @SolarEclipse57: @girl_turner666 @SCOOB_JOE @Geronimo_woohoo @drinkthecyani @SolarEclipse57 @greennwood @BrianMolko_off @bananacookiee @…</td>\n",
       "      <td>-1</td>\n",
       "      <td>[]</td>\n",
       "    </tr>\n",
       "    <tr>\n",
       "      <th>28025</th>\n",
       "      <td>412591386681409536</td>\n",
       "      <td>@hasio_original и @whitebro_ http://t.co/dupuQSnm6D</td>\n",
       "      <td>-1</td>\n",
       "      <td>[]</td>\n",
       "    </tr>\n",
       "    <tr>\n",
       "      <th>29153</th>\n",
       "      <td>412648375071158272</td>\n",
       "      <td>@VasylevaMasha и я( http://t.co/GilYbA6TzZ</td>\n",
       "      <td>-1</td>\n",
       "      <td>[]</td>\n",
       "    </tr>\n",
       "    <tr>\n",
       "      <th>47515</th>\n",
       "      <td>414807981432508416</td>\n",
       "      <td>RT @unixOS_ctts: @Mo_OnMery @SimplyShot @_Shavka_ @arbyziik @_tentazione_ @robert_dakota @el_ectro_nick @ligi_chan_ @ser___gay @_humiliatio…</td>\n",
       "      <td>-1</td>\n",
       "      <td>[]</td>\n",
       "    </tr>\n",
       "    <tr>\n",
       "      <th>53567</th>\n",
       "      <td>415552314469253123</td>\n",
       "      <td>RT @prisonero_O: О Р У http://t.co/6AiQCDayuO</td>\n",
       "      <td>-1</td>\n",
       "      <td>[]</td>\n",
       "    </tr>\n",
       "    <tr>\n",
       "      <th>53605</th>\n",
       "      <td>415554116765904896</td>\n",
       "      <td>RT @prisonero_O: О Р У http://t.co/6AiQCDayuO</td>\n",
       "      <td>-1</td>\n",
       "      <td>[]</td>\n",
       "    </tr>\n",
       "    <tr>\n",
       "      <th>60236</th>\n",
       "      <td>416461338831880192</td>\n",
       "      <td>@Mikky_Acorn @DNO_OKEANA_A3A3 @korelina1999 @chashhixinNic м</td>\n",
       "      <td>-1</td>\n",
       "      <td>[]</td>\n",
       "    </tr>\n",
       "    <tr>\n",
       "      <th>64224</th>\n",
       "      <td>416956575543078912</td>\n",
       "      <td>@miroshka_n @AmericanPando @_EGOIST_FUCK_ @Do_Or_Die_xxx @18_marina_g @Nastia_GD :З</td>\n",
       "      <td>-1</td>\n",
       "      <td>[]</td>\n",
       "    </tr>\n",
       "    <tr>\n",
       "      <th>81037</th>\n",
       "      <td>419724193400631296</td>\n",
       "      <td>@Juletta163 @SlavaTogliatti @harakiri_killss :о(</td>\n",
       "      <td>-1</td>\n",
       "      <td>[]</td>\n",
       "    </tr>\n",
       "    <tr>\n",
       "      <th>86274</th>\n",
       "      <td>420933408051580929</td>\n",
       "      <td>д у е ш ь ? \\nн е т , с у к а . д о л б а н у т ы й а с к (</td>\n",
       "      <td>-1</td>\n",
       "      <td>[]</td>\n",
       "    </tr>\n",
       "    <tr>\n",
       "      <th>94601</th>\n",
       "      <td>422426335504769024</td>\n",
       "      <td>RT @o_OalinkO_o: .бывает . http://t.co/Ul93T0EMiZ</td>\n",
       "      <td>-1</td>\n",
       "      <td>[]</td>\n",
       "    </tr>\n",
       "    <tr>\n",
       "      <th>95037</th>\n",
       "      <td>422603839511220224</td>\n",
       "      <td>RT @Panda_s_Marsa: 6к \\n@AleksandraEbert \\n@Shanny_Iero_xo \\n@to_over_kill\\n@LP_Kesha \\n@musicinemalover \\n@amarant_win @miss_androgyny_ \\n@Bloody…</td>\n",
       "      <td>-1</td>\n",
       "      <td>[]</td>\n",
       "    </tr>\n",
       "  </tbody>\n",
       "</table>\n",
       "</div>"
      ],
      "text/plain": [
       "                        id  \\\n",
       "66829   410387338087632896   \n",
       "70030   410465659223810048   \n",
       "77139   410705991714738176   \n",
       "101718  411095547144306688   \n",
       "114606  411364795800354816   \n",
       "9374    410306860089364480   \n",
       "12183   410753661065625600   \n",
       "21396   411751245129744385   \n",
       "28025   412591386681409536   \n",
       "29153   412648375071158272   \n",
       "47515   414807981432508416   \n",
       "53567   415552314469253123   \n",
       "53605   415554116765904896   \n",
       "60236   416461338831880192   \n",
       "64224   416956575543078912   \n",
       "81037   419724193400631296   \n",
       "86274   420933408051580929   \n",
       "94601   422426335504769024   \n",
       "95037   422603839511220224   \n",
       "\n",
       "                                                                                                                                                      ttext  \\\n",
       "66829                                                                                                 RT @olesyaglee: @ktyekmrf30 http://t.co/fBbOR9RPLn х)   \n",
       "70030                                                                                RT @MilanaRepina: @LenocPlotnikova ❤спасиииибо) http://t.co/aO0vwsolYd   \n",
       "77139                                                                                          RT @Mariya_Mila: С @ErmachonokAnton ) http://t.co/LmCxpsSoQG   \n",
       "101718                                                                                       RT @Dasha_Jenner: @poolyasha П О Л Я \\nТ Ы \\nХ О Р О Ш А Я : )   \n",
       "114606                                                                                               RT @sergey0495: http://t.co/dsvJIQP5Tgпробки 10баллов)   \n",
       "9374           RT @_Batonchik_: @cekc_tyt @aabdullaeva1 @chemicalechelon @frank_james45 @herlocked @misty_marcie @mywhisper @to_over_kill @whoresdiefirst …   \n",
       "12183                                                                                                             @Katyaaa_fly @Vituska1998 @daria_hey и я(   \n",
       "21396          RT @SolarEclipse57: @girl_turner666 @SCOOB_JOE @Geronimo_woohoo @drinkthecyani @SolarEclipse57 @greennwood @BrianMolko_off @bananacookiee @…   \n",
       "28025                                                                                                   @hasio_original и @whitebro_ http://t.co/dupuQSnm6D   \n",
       "29153                                                                                                            @VasylevaMasha и я( http://t.co/GilYbA6TzZ   \n",
       "47515          RT @unixOS_ctts: @Mo_OnMery @SimplyShot @_Shavka_ @arbyziik @_tentazione_ @robert_dakota @el_ectro_nick @ligi_chan_ @ser___gay @_humiliatio…   \n",
       "53567                                                                                                         RT @prisonero_O: О Р У http://t.co/6AiQCDayuO   \n",
       "53605                                                                                                         RT @prisonero_O: О Р У http://t.co/6AiQCDayuO   \n",
       "60236                                                                                          @Mikky_Acorn @DNO_OKEANA_A3A3 @korelina1999 @chashhixinNic м   \n",
       "64224                                                                   @miroshka_n @AmericanPando @_EGOIST_FUCK_ @Do_Or_Die_xxx @18_marina_g @Nastia_GD :З   \n",
       "81037                                                                                                      @Juletta163 @SlavaTogliatti @harakiri_killss :о(   \n",
       "86274                                                                                           д у е ш ь ? \\nн е т , с у к а . д о л б а н у т ы й а с к (   \n",
       "94601                                                                                                     RT @o_OalinkO_o: .бывает . http://t.co/Ul93T0EMiZ   \n",
       "95037   RT @Panda_s_Marsa: 6к \\n@AleksandraEbert \\n@Shanny_Iero_xo \\n@to_over_kill\\n@LP_Kesha \\n@musicinemalover \\n@amarant_win @miss_androgyny_ \\n@Bloody…   \n",
       "\n",
       "        ttype ttext_  \n",
       "66829       1     []  \n",
       "70030       1     []  \n",
       "77139       1     []  \n",
       "101718      1     []  \n",
       "114606      1     []  \n",
       "9374       -1     []  \n",
       "12183      -1     []  \n",
       "21396      -1     []  \n",
       "28025      -1     []  \n",
       "29153      -1     []  \n",
       "47515      -1     []  \n",
       "53567      -1     []  \n",
       "53605      -1     []  \n",
       "60236      -1     []  \n",
       "64224      -1     []  \n",
       "81037      -1     []  \n",
       "86274      -1     []  \n",
       "94601      -1     []  \n",
       "95037      -1     []  "
      ]
     },
     "execution_count": 12,
     "metadata": {},
     "output_type": "execute_result"
    }
   ],
   "source": [
    "data[ data['ttext_'].str.len()<1 ] # пустые последовательности"
   ]
  },
  {
   "cell_type": "code",
   "execution_count": 13,
   "metadata": {},
   "outputs": [
    {
     "name": "stdout",
     "output_type": "stream",
     "text": [
      "negative: 111923 \n",
      "positive: 114911\n"
     ]
    }
   ],
   "source": [
    "print( 'negative:', len(data.query('ttype==-1')), '\\npositive:',len(data.query('ttype==1')) )"
   ]
  },
  {
   "cell_type": "code",
   "execution_count": 14,
   "metadata": {},
   "outputs": [
    {
     "name": "stdout",
     "output_type": "stream",
     "text": [
      "negative: 110564 \n",
      "positive: 113791\n"
     ]
    }
   ],
   "source": [
    "# выкидываем пустые и очень короткие последовательности\n",
    "data = data[ data['ttext_'].str.len()>2 ].reset_index(drop=True)\n",
    "print( 'negative:', len(data.query('ttype==-1')), '\\npositive:',len(data.query('ttype==1')) )"
   ]
  },
  {
   "cell_type": "markdown",
   "metadata": {},
   "source": [
    "### кодируем слова W2V"
   ]
  },
  {
   "cell_type": "markdown",
   "metadata": {},
   "source": [
    "https://ruscorpora.ru/new/\n",
    "\n",
    "https://nlpub.ru/Russian_Distributional_Thesaurus    "
   ]
  },
  {
   "cell_type": "code",
   "execution_count": 15,
   "metadata": {},
   "outputs": [],
   "source": [
    "import numpy as np\n",
    "from gensim.models.word2vec import KeyedVectors\n",
    "# загружаем матрицу word2vec\n",
    "w2v = KeyedVectors.load_word2vec_format('w2v/all.norm-sz100-w10-cb0-it1-min100.w2v',binary=True,limit=100000)"
   ]
  },
  {
   "cell_type": "code",
   "execution_count": 16,
   "metadata": {},
   "outputs": [],
   "source": [
    "# 'радость' in w2v # True\n",
    "# w2v.get_vector('радость').shape"
   ]
  },
  {
   "cell_type": "code",
   "execution_count": 17,
   "metadata": {},
   "outputs": [],
   "source": [
    "# слова нет в словаре\n",
    "# 'школота' in w2v # False\n",
    "# w2v.get_vector('школота') # Error!"
   ]
  },
  {
   "cell_type": "code",
   "execution_count": 18,
   "metadata": {},
   "outputs": [
    {
     "data": {
      "application/vnd.jupyter.widget-view+json": {
       "model_id": "ebc0118b684c478a82bab60ec5f9d3fe",
       "version_major": 2,
       "version_minor": 0
      },
      "text/plain": [
       "  0%|          | 0/224355 [00:00<?, ?it/s]"
      ]
     },
     "metadata": {},
     "output_type": "display_data"
    }
   ],
   "source": [
    "X = [ \n",
    " [ w2v.get_vector(w) for w in l if w in w2v ]\n",
    " for l in tqdm( data['ttext_'] ) \n",
    "]\n",
    "\n",
    "target = data['ttype']"
   ]
  },
  {
   "cell_type": "code",
   "execution_count": 19,
   "metadata": {},
   "outputs": [
    {
     "data": {
      "text/plain": [
       "100"
      ]
     },
     "execution_count": 19,
     "metadata": {},
     "output_type": "execute_result"
    }
   ],
   "source": [
    "w2v_len = len(X[0][0]) # размер представления W2V\n",
    "w2v_len"
   ]
  },
  {
   "cell_type": "code",
   "execution_count": 20,
   "metadata": {},
   "outputs": [
    {
     "data": {
      "text/plain": [
       "((224098, 35, 100), (224098,))"
      ]
     },
     "execution_count": 20,
     "metadata": {},
     "output_type": "execute_result"
    }
   ],
   "source": [
    "# дополняем последовательности нулями до единого формата,\n",
    "# выкидываем те, что не нашли соответствия в словаре W2V\n",
    "z = np.zeros(w2v_len) \n",
    "target = np.array([ target[i] for i,xi in enumerate(X) if len(xi)>0 ])\n",
    "X = np.array([ [z]*(max_len-len(xi)) + xi for xi in X if len(xi)>0  ],dtype=np.float32)\n",
    "X.shape, target.shape"
   ]
  },
  {
   "cell_type": "code",
   "execution_count": 21,
   "metadata": {},
   "outputs": [],
   "source": [
    "del w2v"
   ]
  },
  {
   "cell_type": "code",
   "execution_count": 22,
   "metadata": {},
   "outputs": [],
   "source": [
    "target = (target+1)//2\n",
    "y = np.eye(max(target)+1,dtype=np.float32)[target] # строим выход нейросети (из 2 нейронов)"
   ]
  },
  {
   "cell_type": "code",
   "execution_count": 23,
   "metadata": {},
   "outputs": [
    {
     "data": {
      "text/plain": [
       "((134458, 35, 100), (134458, 2), (89640, 35, 100), (89640, 2))"
      ]
     },
     "execution_count": 23,
     "metadata": {},
     "output_type": "execute_result"
    }
   ],
   "source": [
    "from sklearn.model_selection import train_test_split\n",
    "\n",
    "# делим данные для оценки\n",
    "x_train, x_test, y_train, y_test = train_test_split( X, y, test_size=.4 )\n",
    "x_train.shape, y_train.shape, x_test.shape, y_test.shape"
   ]
  },
  {
   "cell_type": "code",
   "execution_count": 24,
   "metadata": {},
   "outputs": [],
   "source": [
    "del X\n",
    "del target\n",
    "del y"
   ]
  },
  {
   "cell_type": "markdown",
   "metadata": {},
   "source": [
    "## модель"
   ]
  },
  {
   "cell_type": "code",
   "execution_count": 25,
   "metadata": {},
   "outputs": [],
   "source": [
    "import torch\n",
    "import torch.nn as nn\n",
    "import torch.nn.functional as F"
   ]
  },
  {
   "cell_type": "code",
   "execution_count": 26,
   "metadata": {},
   "outputs": [
    {
     "data": {
      "text/plain": [
       "'1.11.0+cu102'"
      ]
     },
     "execution_count": 26,
     "metadata": {},
     "output_type": "execute_result"
    }
   ],
   "source": [
    "torch.__version__"
   ]
  },
  {
   "cell_type": "code",
   "execution_count": 27,
   "metadata": {},
   "outputs": [],
   "source": [
    "input_dim = w2v_len\n",
    "hidden_dim = 128\n",
    "n_classes = 2\n",
    "\n",
    "class Model(nn.Module):\n",
    "    def __init__(self, \n",
    "                 input_dim=input_dim,  # размер входа\n",
    "                 hid_dim=hidden_dim,   # размер рекуррентного слоя\n",
    "                 output_dim=n_classes, # размер выхода\n",
    "                ):\n",
    "        super().__init__()\n",
    "        self._rnn = nn.LSTM( input_dim, hid_dim, batch_first=True) # рекуррентный слой\n",
    "        self._linear = nn.Linear(hid_dim, output_dim) # выходной (линейный) слой\n",
    "\n",
    "    def forward(self,x):\n",
    "        _, (hidden, _) = self._rnn(x) # обрабатываем входную последовательность\n",
    "        # print(hidden.shape,out.shape)\n",
    "        hidden = hidden.squeeze(0) # прекомпоновка тензора, сокращаем размерность\n",
    "        out = self._linear(hidden) # считаем выход сети\n",
    "        out = F.softmax(out,dim=1)\n",
    "        return out "
   ]
  },
  {
   "cell_type": "code",
   "execution_count": 28,
   "metadata": {},
   "outputs": [
    {
     "data": {
      "text/plain": [
       "Model(\n",
       "  (_rnn): LSTM(100, 128, batch_first=True)\n",
       "  (_linear): Linear(in_features=128, out_features=2, bias=True)\n",
       ")"
      ]
     },
     "execution_count": 28,
     "metadata": {},
     "output_type": "execute_result"
    }
   ],
   "source": [
    "model = Model()\n",
    "model"
   ]
  },
  {
   "cell_type": "code",
   "execution_count": 29,
   "metadata": {},
   "outputs": [],
   "source": [
    "# o =  model.forward( torch.Tensor(x_train[:256]) ) # .to(device) )\n",
    "# o.shape"
   ]
  },
  {
   "cell_type": "markdown",
   "metadata": {},
   "source": [
    "### обучаем модель"
   ]
  },
  {
   "cell_type": "code",
   "execution_count": 30,
   "metadata": {},
   "outputs": [
    {
     "data": {
      "text/plain": [
       "device(type='cuda', index=0)"
      ]
     },
     "execution_count": 30,
     "metadata": {},
     "output_type": "execute_result"
    }
   ],
   "source": [
    "# проверяем GPU\n",
    "device = torch.device('cuda:0' if torch.cuda.is_available() else 'cpu')\n",
    "device"
   ]
  },
  {
   "cell_type": "code",
   "execution_count": 31,
   "metadata": {},
   "outputs": [],
   "source": [
    "model = model.to(device)"
   ]
  },
  {
   "cell_type": "code",
   "execution_count": 32,
   "metadata": {},
   "outputs": [],
   "source": [
    "criterion =  nn.CrossEntropyLoss() # ф-ция потери\n",
    "optimizer = torch.optim.Adam(model.parameters(), lr=.005) # метод оптимизации"
   ]
  },
  {
   "cell_type": "code",
   "execution_count": 33,
   "metadata": {},
   "outputs": [],
   "source": [
    "from torch.utils.data import TensorDataset\n",
    "from torch.utils.data import DataLoader # генератор батчей\n",
    "\n",
    "# пакуем данные в формат Torch\n",
    "dataset_train = TensorDataset(torch.tensor(x_train), torch.tensor(y_train) )"
   ]
  },
  {
   "cell_type": "code",
   "execution_count": 34,
   "metadata": {},
   "outputs": [],
   "source": []
  },
  {
   "cell_type": "code",
   "execution_count": 35,
   "metadata": {},
   "outputs": [
    {
     "data": {
      "application/vnd.jupyter.widget-view+json": {
       "model_id": "3c4b203d3b744d01bd58711509489e3e",
       "version_major": 2,
       "version_minor": 0
      },
      "text/plain": [
       "  0%|          | 0/7 [00:00<?, ?it/s]"
      ]
     },
     "metadata": {},
     "output_type": "display_data"
    },
    {
     "name": "stdout",
     "output_type": "stream",
     "text": [
      "CPU times: user 27.4 s, sys: 69.6 ms, total: 27.5 s\n",
      "Wall time: 27 s\n"
     ]
    }
   ],
   "source": [
    "%%time\n",
    "\n",
    "from torch.utils.data import DataLoader # генератор батчей\n",
    "\n",
    "loss_history = [ ] # значения ф-ции потери\n",
    "n_epoch = 7 # количество эпох обучения\n",
    "\n",
    "for i in tqdm(range(n_epoch)): \n",
    "    \n",
    "    # получаем батч учебных примеров\n",
    "    for x,y in DataLoader(dataset_train, batch_size=len(y_train)//100, shuffle=True): \n",
    "        out = model.forward(x.to(device)) # считаем выход модели\n",
    "        loss = criterion( y.to(device),out ) # вычисляем значение ф-ции потери\n",
    "        loss_history.append(loss.item()) # дополняем историю изменения значений ф-ции потери\n",
    "        optimizer.zero_grad() # очищаем предыдущее значение градиента\n",
    "        loss.backward()  # вычисляем текущее значение градиента ф-ции потери\n",
    "        optimizer.step() # корректируем параметры модели\n",
    "        \n",
    "    acc_history.append( accuracy(dataset_train) ) #значение погрешности"
   ]
  },
  {
   "cell_type": "code",
   "execution_count": 36,
   "metadata": {},
   "outputs": [
    {
     "data": {
      "text/plain": [
       "<matplotlib.legend.Legend at 0x7fc710b99580>"
      ]
     },
     "execution_count": 36,
     "metadata": {},
     "output_type": "execute_result"
    },
    {
     "data": {
      "image/png": "[encoded data removed]",
      "text/plain": [
       "<Figure size 432x288 with 1 Axes>"
      ]
     },
     "metadata": {
      "needs_background": "light"
     },
     "output_type": "display_data"
    }
   ],
   "source": [
    "from matplotlib import pyplot as plt\n",
    "# история изменения значений ф-ции потери\n",
    "plt.plot(loss_history,label='min loss=%.3f'%(min(loss_history)))\n",
    "plt.grid()\n",
    "plt.legend()"
   ]
  },
  {
   "cell_type": "code",
   "execution_count": 37,
   "metadata": {},
   "outputs": [
    {
     "data": {
      "text/plain": [
       "<matplotlib.legend.Legend at 0x7fc710a9e430>"
      ]
     },
     "execution_count": 37,
     "metadata": {},
     "output_type": "execute_result"
    },
    {
     "data": {
      "image/png": "[encoded data removed]",
      "text/plain": [
       "<Figure size 432x288 with 1 Axes>"
      ]
     },
     "metadata": {
      "needs_background": "light"
     },
     "output_type": "display_data"
    }
   ],
   "source": [
    "# история изменения значений погрешности модели\n",
    "plt.plot(acc_history,label='max acc=%.3f'%(max(acc_history)),c='r')\n",
    "plt.grid()\n",
    "plt.legend()"
   ]
  },
  {
   "cell_type": "markdown",
   "metadata": {},
   "source": [
    "## проверяем результат"
   ]
  },
  {
   "cell_type": "code",
   "execution_count": 38,
   "metadata": {},
   "outputs": [
    {
     "name": "stdout",
     "output_type": "stream",
     "text": [
      "              precision    recall  f1-score   support\n",
      "\n",
      "           0       0.89      0.87      0.88     44366\n",
      "           1       0.87      0.90      0.88     45274\n",
      "\n",
      "    accuracy                           0.88     89640\n",
      "   macro avg       0.88      0.88      0.88     89640\n",
      "weighted avg       0.88      0.88      0.88     89640\n",
      "\n"
     ]
    }
   ],
   "source": [
    "dataset_test = TensorDataset(torch.tensor(x_test), torch.tensor(y_test) )\n",
    "\n",
    "with torch.set_grad_enabled(False):\n",
    "    o_test = np.hstack([\n",
    "            np.argmax( model(x.to(device)).cpu().numpy(),axis=1 )\n",
    "            for x,_ in DataLoader(dataset_test, batch_size=len(dataset_test)//100, shuffle=False)\n",
    "        ])\n",
    "    \n",
    "from sklearn.metrics import classification_report\n",
    "print(classification_report( np.argmax(y_test,axis=1),o_test))"
   ]
  }
 ],
 "metadata": {
  "kernelspec": {
   "display_name": "Python 3 (ipykernel)",
   "language": "python",
   "name": "python3"
  },
  "language_info": {
   "codemirror_mode": {
    "name": "ipython",
    "version": 3
   },
   "file_extension": ".py",
   "mimetype": "text/x-python",
   "name": "python",
   "nbconvert_exporter": "python",
   "pygments_lexer": "ipython3",
   "version": "3.11.3"
  },
  "toc": {
   "base_numbering": 1,
   "nav_menu": {},
   "number_sections": true,
   "sideBar": true,
   "skip_h1_title": false,
   "title_cell": "Table of Contents",
   "title_sidebar": "Contents",
   "toc_cell": false,
   "toc_position": {},
   "toc_section_display": "block",
   "toc_window_display": false
  }
 },
 "nbformat": 4,
 "nbformat_minor": 4
}
