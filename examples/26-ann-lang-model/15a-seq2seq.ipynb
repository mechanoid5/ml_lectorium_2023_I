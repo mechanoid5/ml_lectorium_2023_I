{
 "cells": [
  {
   "cell_type": "markdown",
   "id": "3d1b1e06",
   "metadata": {},
   "source": [
    "__система машинного перевода, модель SEQ2SEQ__ \n",
    "\n",
    "Евгений Борисов <esborisov@sevsu.ru>"
   ]
  },
  {
   "cell_type": "code",
   "execution_count": 1,
   "id": "7af62010",
   "metadata": {},
   "outputs": [],
   "source": [
    "import numpy as np\n",
    "from numpy import random as rng\n",
    "import matplotlib.pyplot as plt\n",
    "import pandas as pd\n",
    "from tqdm.auto import tqdm\n",
    "\n",
    "tqdm.pandas()\n",
    "np.set_printoptions(precision=2)"
   ]
  },
  {
   "cell_type": "markdown",
   "id": "609b48bd",
   "metadata": {},
   "source": [
    "# загружаем данные"
   ]
  },
  {
   "cell_type": "markdown",
   "id": "1e7ec675",
   "metadata": {},
   "source": [
    "https://drive.google.com/file/d/166Msc4oTDy2wFWd5_VnuZES3dduvpMD1/view?usp=share_link"
   ]
  },
  {
   "cell_type": "code",
   "execution_count": 2,
   "id": "a7b30e69",
   "metadata": {},
   "outputs": [],
   "source": [
    "# %%time \n",
    "\n",
    "# import zipfile\n",
    "# import requests\n",
    "# from io import StringIO,BytesIO\n",
    "\n",
    "# file_id = '166Msc4oTDy2wFWd5_VnuZES3dduvpMD1'\n",
    "# url = f'https://drive.google.com/uc?id={file_id}'\n",
    "\n",
    "# with requests.get(url,stream=True) as r:\n",
    "#     with zipfile.ZipFile(BytesIO(r.content)) as z:\n",
    "#         with z.open('Rus-Eng-small.tsv') as f:\n",
    "#             df = pd.read_csv( \n",
    "#                 StringIO( str(f.read(),encoding='utf-8' )[1:] ), \n",
    "#                 sep='\\t',\n",
    "#                 header=None,\n",
    "#                 names=['N_Rus','Rus','N_Eng','Eng'] \n",
    "#             )\n"
   ]
  },
  {
   "cell_type": "code",
   "execution_count": 3,
   "id": "cbd8a5b1",
   "metadata": {},
   "outputs": [],
   "source": [
    "df = pd.read_pickle('../data/mt-en-ru.pkl.gz')"
   ]
  },
  {
   "cell_type": "code",
   "execution_count": 4,
   "id": "1dbe0158",
   "metadata": {},
   "outputs": [
    {
     "data": {
      "text/plain": [
       "200000"
      ]
     },
     "metadata": {},
     "output_type": "display_data"
    },
    {
     "data": {
      "text/html": [
       "<div>\n",
       "<style scoped>\n",
       "    .dataframe tbody tr th:only-of-type {\n",
       "        vertical-align: middle;\n",
       "    }\n",
       "\n",
       "    .dataframe tbody tr th {\n",
       "        vertical-align: top;\n",
       "    }\n",
       "\n",
       "    .dataframe thead th {\n",
       "        text-align: right;\n",
       "    }\n",
       "</style>\n",
       "<table border=\"1\" class=\"dataframe\">\n",
       "  <thead>\n",
       "    <tr style=\"text-align: right;\">\n",
       "      <th></th>\n",
       "      <th>N_Rus</th>\n",
       "      <th>Rus</th>\n",
       "      <th>N_Eng</th>\n",
       "      <th>Eng</th>\n",
       "    </tr>\n",
       "  </thead>\n",
       "  <tbody>\n",
       "    <tr>\n",
       "      <th>71283</th>\n",
       "      <td>2608737</td>\n",
       "      <td>Я ассистент.</td>\n",
       "      <td>2247922</td>\n",
       "      <td>I'm an assistant.</td>\n",
       "    </tr>\n",
       "    <tr>\n",
       "      <th>153401</th>\n",
       "      <td>3788744</td>\n",
       "      <td>Не прогуливай занятия, хорошо?</td>\n",
       "      <td>3786134</td>\n",
       "      <td>Don't skip classes, okay?</td>\n",
       "    </tr>\n",
       "    <tr>\n",
       "      <th>21392</th>\n",
       "      <td>939612</td>\n",
       "      <td>Кино вот-вот начнётся.</td>\n",
       "      <td>939608</td>\n",
       "      <td>The movie's about to start.</td>\n",
       "    </tr>\n",
       "    <tr>\n",
       "      <th>6279</th>\n",
       "      <td>439035</td>\n",
       "      <td>Куда они идут прямо сейчас?</td>\n",
       "      <td>408261</td>\n",
       "      <td>Where are they going to right now?</td>\n",
       "    </tr>\n",
       "    <tr>\n",
       "      <th>103756</th>\n",
       "      <td>3059131</td>\n",
       "      <td>Это не порно - это искусство.</td>\n",
       "      <td>1641939</td>\n",
       "      <td>It's not porn, it's art.</td>\n",
       "    </tr>\n",
       "    <tr>\n",
       "      <th>155287</th>\n",
       "      <td>3839205</td>\n",
       "      <td>Не знаю, что с этим делать.</td>\n",
       "      <td>2318328</td>\n",
       "      <td>I don't know what to do about it.</td>\n",
       "    </tr>\n",
       "    <tr>\n",
       "      <th>33780</th>\n",
       "      <td>1655040</td>\n",
       "      <td>Сколько стоит этот диван?</td>\n",
       "      <td>1255286</td>\n",
       "      <td>How much does this sofa cost?</td>\n",
       "    </tr>\n",
       "    <tr>\n",
       "      <th>53113</th>\n",
       "      <td>2385862</td>\n",
       "      <td>Это предложение содержит в себе семь слов.</td>\n",
       "      <td>589768</td>\n",
       "      <td>This sentence has seven words in it.</td>\n",
       "    </tr>\n",
       "    <tr>\n",
       "      <th>107613</th>\n",
       "      <td>3109388</td>\n",
       "      <td>Эта популярная немецкая певица поёт только на ...</td>\n",
       "      <td>3109375</td>\n",
       "      <td>This popular German singer only sings in English.</td>\n",
       "    </tr>\n",
       "    <tr>\n",
       "      <th>162019</th>\n",
       "      <td>3940281</td>\n",
       "      <td>Том что-то смотрит по телевизору.</td>\n",
       "      <td>2642356</td>\n",
       "      <td>Tom is watching something on TV.</td>\n",
       "    </tr>\n",
       "  </tbody>\n",
       "</table>\n",
       "</div>"
      ],
      "text/plain": [
       "          N_Rus                                                Rus    N_Eng  \\\n",
       "71283   2608737                                       Я ассистент.  2247922   \n",
       "153401  3788744                     Не прогуливай занятия, хорошо?  3786134   \n",
       "21392    939612                             Кино вот-вот начнётся.   939608   \n",
       "6279     439035                        Куда они идут прямо сейчас?   408261   \n",
       "103756  3059131                      Это не порно - это искусство.  1641939   \n",
       "155287  3839205                        Не знаю, что с этим делать.  2318328   \n",
       "33780   1655040                          Сколько стоит этот диван?  1255286   \n",
       "53113   2385862         Это предложение содержит в себе семь слов.   589768   \n",
       "107613  3109388  Эта популярная немецкая певица поёт только на ...  3109375   \n",
       "162019  3940281                  Том что-то смотрит по телевизору.  2642356   \n",
       "\n",
       "                                                      Eng  \n",
       "71283                                   I'm an assistant.  \n",
       "153401                          Don't skip classes, okay?  \n",
       "21392                         The movie's about to start.  \n",
       "6279                   Where are they going to right now?  \n",
       "103756                           It's not porn, it's art.  \n",
       "155287                  I don't know what to do about it.  \n",
       "33780                       How much does this sofa cost?  \n",
       "53113                This sentence has seven words in it.  \n",
       "107613  This popular German singer only sings in English.  \n",
       "162019                   Tom is watching something on TV.  "
      ]
     },
     "metadata": {},
     "output_type": "display_data"
    }
   ],
   "source": [
    "display(len(df))\n",
    "display(df.sample(10))"
   ]
  },
  {
   "cell_type": "code",
   "execution_count": 5,
   "id": "b62ef6e7",
   "metadata": {},
   "outputs": [
    {
     "name": "stdout",
     "output_type": "stream",
     "text": [
      "<class 'pandas.core.frame.DataFrame'>\n",
      "RangeIndex: 200000 entries, 0 to 199999\n",
      "Data columns (total 4 columns):\n",
      " #   Column  Non-Null Count   Dtype \n",
      "---  ------  --------------   ----- \n",
      " 0   N_Rus   200000 non-null  int64 \n",
      " 1   Rus     200000 non-null  object\n",
      " 2   N_Eng   200000 non-null  int64 \n",
      " 3   Eng     200000 non-null  object\n",
      "dtypes: int64(2), object(2)\n",
      "memory usage: 6.1+ MB\n"
     ]
    },
    {
     "data": {
      "text/plain": [
       "None"
      ]
     },
     "metadata": {},
     "output_type": "display_data"
    }
   ],
   "source": [
    "display( df.info() )"
   ]
  },
  {
   "cell_type": "code",
   "execution_count": 6,
   "id": "5979ccc9",
   "metadata": {},
   "outputs": [],
   "source": [
    "# df.to_pickle('tmp/data.pkl')"
   ]
  },
  {
   "cell_type": "code",
   "execution_count": 7,
   "id": "09d8644b",
   "metadata": {},
   "outputs": [
    {
     "data": {
      "text/plain": [
       "200000"
      ]
     },
     "metadata": {},
     "output_type": "display_data"
    },
    {
     "data": {
      "text/plain": [
       "147087"
      ]
     },
     "metadata": {},
     "output_type": "display_data"
    }
   ],
   "source": [
    "display( len(df) )\n",
    "df = df.drop_duplicates('N_Rus').drop_duplicates('N_Eng').reset_index(drop=True)\n",
    "display( len(df) )"
   ]
  },
  {
   "cell_type": "markdown",
   "id": "105074f4",
   "metadata": {},
   "source": [
    "# выбираем пары для обучения модели"
   ]
  },
  {
   "cell_type": "markdown",
   "id": "909f4747",
   "metadata": {},
   "source": [
    "## анализ словаря"
   ]
  },
  {
   "cell_type": "code",
   "execution_count": 8,
   "id": "02973c20",
   "metadata": {},
   "outputs": [],
   "source": [
    "# !pip install razdel"
   ]
  },
  {
   "cell_type": "code",
   "execution_count": 9,
   "id": "f484c7c7",
   "metadata": {},
   "outputs": [],
   "source": [
    "from razdel import tokenize\n",
    "from nltk.tokenize import word_tokenize as nltk_tokenize_word"
   ]
  },
  {
   "cell_type": "code",
   "execution_count": 10,
   "id": "809819b4",
   "metadata": {},
   "outputs": [],
   "source": [
    "# CountVectorizer(\n",
    "#     *, \n",
    "#     input='content', \n",
    "#     encoding='utf-8', \n",
    "#     decode_error='strict', \n",
    "#     strip_accents=None, \n",
    "#     lowercase=True, \n",
    "#     preprocessor=None, \n",
    "#     tokenizer=None, \n",
    "#     stop_words=None, \n",
    "#     token_pattern='(?u)\\b\\w\\w+\\b', \n",
    "#     ngram_range=(1, 1), \n",
    "#     analyzer='word', \n",
    "#     max_df=1.0, \n",
    "#     min_df=1, \n",
    "#     max_features=None, \n",
    "#     vocabulary=None, \n",
    "#     binary=False, \n",
    "#     dtype=<class 'numpy.int64'>\n",
    "# )"
   ]
  },
  {
   "cell_type": "code",
   "execution_count": 11,
   "id": "909a6efc",
   "metadata": {},
   "outputs": [],
   "source": [
    "from sklearn.feature_extraction.text import CountVectorizer\n",
    "from razdel import tokenize"
   ]
  },
  {
   "cell_type": "code",
   "execution_count": 12,
   "id": "892d893c",
   "metadata": {},
   "outputs": [
    {
     "data": {
      "application/vnd.jupyter.widget-view+json": {
       "model_id": "b46b110c60bc4f758d15d648cc3b3e3b",
       "version_major": 2,
       "version_minor": 0
      },
      "text/plain": [
       "  0%|          | 0/147087 [00:00<?, ?it/s]"
      ]
     },
     "metadata": {},
     "output_type": "display_data"
    }
   ],
   "source": [
    "import re\n",
    "\n",
    "df['Rus'] = df['Rus'].progress_apply(lambda s: re.sub(r'[«»]','\"',s))"
   ]
  },
  {
   "cell_type": "code",
   "execution_count": 13,
   "id": "3c3e4544",
   "metadata": {},
   "outputs": [
    {
     "data": {
      "text/plain": [
       "29472"
      ]
     },
     "metadata": {},
     "output_type": "display_data"
    },
    {
     "data": {
      "text/html": [
       "<div>\n",
       "<style scoped>\n",
       "    .dataframe tbody tr th:only-of-type {\n",
       "        vertical-align: middle;\n",
       "    }\n",
       "\n",
       "    .dataframe tbody tr th {\n",
       "        vertical-align: top;\n",
       "    }\n",
       "\n",
       "    .dataframe thead th {\n",
       "        text-align: right;\n",
       "    }\n",
       "</style>\n",
       "<table border=\"1\" class=\"dataframe\">\n",
       "  <thead>\n",
       "    <tr style=\"text-align: right;\">\n",
       "      <th></th>\n",
       "      <th>word</th>\n",
       "      <th>tf</th>\n",
       "    </tr>\n",
       "    <tr>\n",
       "      <th>index</th>\n",
       "      <th></th>\n",
       "      <th></th>\n",
       "    </tr>\n",
       "  </thead>\n",
       "  <tbody>\n",
       "    <tr>\n",
       "      <th>0</th>\n",
       "      <td>!</td>\n",
       "      <td>3818</td>\n",
       "    </tr>\n",
       "    <tr>\n",
       "      <th>1</th>\n",
       "      <td>!!!</td>\n",
       "      <td>5</td>\n",
       "    </tr>\n",
       "    <tr>\n",
       "      <th>2</th>\n",
       "      <td>!..</td>\n",
       "      <td>3</td>\n",
       "    </tr>\n",
       "    <tr>\n",
       "      <th>3</th>\n",
       "      <td>\"</td>\n",
       "      <td>4745</td>\n",
       "    </tr>\n",
       "    <tr>\n",
       "      <th>4</th>\n",
       "      <td>$</td>\n",
       "      <td>3</td>\n",
       "    </tr>\n",
       "    <tr>\n",
       "      <th>...</th>\n",
       "      <td>...</td>\n",
       "      <td>...</td>\n",
       "    </tr>\n",
       "    <tr>\n",
       "      <th>29467</th>\n",
       "      <td>“</td>\n",
       "      <td>9</td>\n",
       "    </tr>\n",
       "    <tr>\n",
       "      <th>29468</th>\n",
       "      <td>”</td>\n",
       "      <td>5</td>\n",
       "    </tr>\n",
       "    <tr>\n",
       "      <th>29469</th>\n",
       "      <td>„</td>\n",
       "      <td>4</td>\n",
       "    </tr>\n",
       "    <tr>\n",
       "      <th>29470</th>\n",
       "      <td>…</td>\n",
       "      <td>10</td>\n",
       "    </tr>\n",
       "    <tr>\n",
       "      <th>29471</th>\n",
       "      <td>№</td>\n",
       "      <td>5</td>\n",
       "    </tr>\n",
       "  </tbody>\n",
       "</table>\n",
       "<p>29472 rows × 2 columns</p>\n",
       "</div>"
      ],
      "text/plain": [
       "      word    tf\n",
       "index           \n",
       "0        !  3818\n",
       "1      !!!     5\n",
       "2      !..     3\n",
       "3        \"  4745\n",
       "4        $     3\n",
       "...    ...   ...\n",
       "29467    “     9\n",
       "29468    ”     5\n",
       "29469    „     4\n",
       "29470    …    10\n",
       "29471    №     5\n",
       "\n",
       "[29472 rows x 2 columns]"
      ]
     },
     "metadata": {},
     "output_type": "display_data"
    },
    {
     "data": {
      "text/html": [
       "<div>\n",
       "<style scoped>\n",
       "    .dataframe tbody tr th:only-of-type {\n",
       "        vertical-align: middle;\n",
       "    }\n",
       "\n",
       "    .dataframe tbody tr th {\n",
       "        vertical-align: top;\n",
       "    }\n",
       "\n",
       "    .dataframe thead th {\n",
       "        text-align: right;\n",
       "    }\n",
       "</style>\n",
       "<table border=\"1\" class=\"dataframe\">\n",
       "  <thead>\n",
       "    <tr style=\"text-align: right;\">\n",
       "      <th></th>\n",
       "      <th>count</th>\n",
       "      <th>mean</th>\n",
       "      <th>std</th>\n",
       "      <th>min</th>\n",
       "      <th>1%</th>\n",
       "      <th>25%</th>\n",
       "      <th>50%</th>\n",
       "      <th>75%</th>\n",
       "      <th>95%</th>\n",
       "      <th>99%</th>\n",
       "      <th>max</th>\n",
       "    </tr>\n",
       "  </thead>\n",
       "  <tbody>\n",
       "    <tr>\n",
       "      <th>tf</th>\n",
       "      <td>29472.0</td>\n",
       "      <td>34.5985</td>\n",
       "      <td>864.259552</td>\n",
       "      <td>2.0</td>\n",
       "      <td>2.0</td>\n",
       "      <td>2.0</td>\n",
       "      <td>4.0</td>\n",
       "      <td>9.0</td>\n",
       "      <td>61.0</td>\n",
       "      <td>324.58</td>\n",
       "      <td>126855.0</td>\n",
       "    </tr>\n",
       "  </tbody>\n",
       "</table>\n",
       "</div>"
      ],
      "text/plain": [
       "      count     mean         std  min   1%  25%  50%  75%   95%     99%  \\\n",
       "tf  29472.0  34.5985  864.259552  2.0  2.0  2.0  4.0  9.0  61.0  324.58   \n",
       "\n",
       "         max  \n",
       "tf  126855.0  "
      ]
     },
     "metadata": {},
     "output_type": "display_data"
    }
   ],
   "source": [
    "def tokenizer_ru(s): return [ t.text for t in tokenize(s) ] \n",
    "\n",
    "cv_ru = CountVectorizer(\n",
    "        lowercase=False,\n",
    "        token_pattern=None,\n",
    "        tokenizer=tokenizer_ru, \n",
    "        min_df=2,\n",
    "    ).fit(df['Rus'])\n",
    "\n",
    "vocab_ru = cv_ru.vocabulary_\n",
    "display( len(vocab_ru) )\n",
    "\n",
    "vocab_ru_ = (\n",
    "    pd.DataFrame(\n",
    "        [ [v,k] for k,v in  vocab_ru.items() ],columns=['index','word']\n",
    "    )\n",
    "        .sort_values(by='index')\n",
    "        .set_index('index')\n",
    "    )\n",
    "vocab_ru_['tf'] = cv_ru.transform(df['Rus']).sum(axis=0).T\n",
    "\n",
    "display( vocab_ru_ )\n",
    "\n",
    "# vocab_ru_.sort_values(by='tf').to_csv('tmp/vocab_ru.csv',index=False,sep='\\t')\n",
    "\n",
    "display( vocab_ru_[['tf']].describe([.01, .25, .75, .95, .99 ]).T )"
   ]
  },
  {
   "cell_type": "code",
   "execution_count": 14,
   "id": "c13462cb",
   "metadata": {},
   "outputs": [],
   "source": [
    "# vocab_ru_.query('tf<2').sort_values(by='tf')"
   ]
  },
  {
   "cell_type": "code",
   "execution_count": 15,
   "id": "ac6f6a98",
   "metadata": {},
   "outputs": [],
   "source": [
    "# vocab_ru_.query('tf>188').sort_values(by='tf')"
   ]
  },
  {
   "cell_type": "code",
   "execution_count": 25,
   "id": "59b9c492",
   "metadata": {},
   "outputs": [],
   "source": [
    "del vocab_ru_"
   ]
  },
  {
   "cell_type": "markdown",
   "id": "ba328757",
   "metadata": {},
   "source": [
    "---"
   ]
  },
  {
   "cell_type": "code",
   "execution_count": 16,
   "id": "90d03b16",
   "metadata": {},
   "outputs": [
    {
     "data": {
      "text/plain": [
       "13494"
      ]
     },
     "metadata": {},
     "output_type": "display_data"
    },
    {
     "data": {
      "text/html": [
       "<div>\n",
       "<style scoped>\n",
       "    .dataframe tbody tr th:only-of-type {\n",
       "        vertical-align: middle;\n",
       "    }\n",
       "\n",
       "    .dataframe tbody tr th {\n",
       "        vertical-align: top;\n",
       "    }\n",
       "\n",
       "    .dataframe thead th {\n",
       "        text-align: right;\n",
       "    }\n",
       "</style>\n",
       "<table border=\"1\" class=\"dataframe\">\n",
       "  <thead>\n",
       "    <tr style=\"text-align: right;\">\n",
       "      <th></th>\n",
       "      <th>word</th>\n",
       "      <th>tf</th>\n",
       "    </tr>\n",
       "    <tr>\n",
       "      <th>index</th>\n",
       "      <th></th>\n",
       "      <th></th>\n",
       "    </tr>\n",
       "  </thead>\n",
       "  <tbody>\n",
       "    <tr>\n",
       "      <th>0</th>\n",
       "      <td>!</td>\n",
       "      <td>3397</td>\n",
       "    </tr>\n",
       "    <tr>\n",
       "      <th>1</th>\n",
       "      <td>$</td>\n",
       "      <td>37</td>\n",
       "    </tr>\n",
       "    <tr>\n",
       "      <th>2</th>\n",
       "      <td>%</td>\n",
       "      <td>56</td>\n",
       "    </tr>\n",
       "    <tr>\n",
       "      <th>3</th>\n",
       "      <td>&amp;</td>\n",
       "      <td>3</td>\n",
       "    </tr>\n",
       "    <tr>\n",
       "      <th>4</th>\n",
       "      <td>'</td>\n",
       "      <td>207</td>\n",
       "    </tr>\n",
       "    <tr>\n",
       "      <th>...</th>\n",
       "      <td>...</td>\n",
       "      <td>...</td>\n",
       "    </tr>\n",
       "    <tr>\n",
       "      <th>13489</th>\n",
       "      <td>—</td>\n",
       "      <td>45</td>\n",
       "    </tr>\n",
       "    <tr>\n",
       "      <th>13490</th>\n",
       "      <td>‘</td>\n",
       "      <td>23</td>\n",
       "    </tr>\n",
       "    <tr>\n",
       "      <th>13491</th>\n",
       "      <td>’</td>\n",
       "      <td>103</td>\n",
       "    </tr>\n",
       "    <tr>\n",
       "      <th>13492</th>\n",
       "      <td>“</td>\n",
       "      <td>27</td>\n",
       "    </tr>\n",
       "    <tr>\n",
       "      <th>13493</th>\n",
       "      <td>”</td>\n",
       "      <td>27</td>\n",
       "    </tr>\n",
       "  </tbody>\n",
       "</table>\n",
       "<p>13494 rows × 2 columns</p>\n",
       "</div>"
      ],
      "text/plain": [
       "      word    tf\n",
       "index           \n",
       "0        !  3397\n",
       "1        $    37\n",
       "2        %    56\n",
       "3        &     3\n",
       "4        '   207\n",
       "...    ...   ...\n",
       "13489    —    45\n",
       "13490    ‘    23\n",
       "13491    ’   103\n",
       "13492    “    27\n",
       "13493    ”    27\n",
       "\n",
       "[13494 rows x 2 columns]"
      ]
     },
     "metadata": {},
     "output_type": "display_data"
    },
    {
     "data": {
      "text/html": [
       "<div>\n",
       "<style scoped>\n",
       "    .dataframe tbody tr th:only-of-type {\n",
       "        vertical-align: middle;\n",
       "    }\n",
       "\n",
       "    .dataframe tbody tr th {\n",
       "        vertical-align: top;\n",
       "    }\n",
       "\n",
       "    .dataframe thead th {\n",
       "        text-align: right;\n",
       "    }\n",
       "</style>\n",
       "<table border=\"1\" class=\"dataframe\">\n",
       "  <thead>\n",
       "    <tr style=\"text-align: right;\">\n",
       "      <th></th>\n",
       "      <th>count</th>\n",
       "      <th>mean</th>\n",
       "      <th>std</th>\n",
       "      <th>min</th>\n",
       "      <th>1%</th>\n",
       "      <th>25%</th>\n",
       "      <th>50%</th>\n",
       "      <th>75%</th>\n",
       "      <th>95%</th>\n",
       "      <th>99%</th>\n",
       "      <th>max</th>\n",
       "    </tr>\n",
       "  </thead>\n",
       "  <tbody>\n",
       "    <tr>\n",
       "      <th>tf</th>\n",
       "      <td>13494.0</td>\n",
       "      <td>88.466726</td>\n",
       "      <td>1370.468131</td>\n",
       "      <td>2.0</td>\n",
       "      <td>2.0</td>\n",
       "      <td>3.0</td>\n",
       "      <td>5.0</td>\n",
       "      <td>17.0</td>\n",
       "      <td>168.0</td>\n",
       "      <td>1119.35</td>\n",
       "      <td>127460.0</td>\n",
       "    </tr>\n",
       "  </tbody>\n",
       "</table>\n",
       "</div>"
      ],
      "text/plain": [
       "      count       mean          std  min   1%  25%  50%   75%    95%      99%  \\\n",
       "tf  13494.0  88.466726  1370.468131  2.0  2.0  3.0  5.0  17.0  168.0  1119.35   \n",
       "\n",
       "         max  \n",
       "tf  127460.0  "
      ]
     },
     "metadata": {},
     "output_type": "display_data"
    }
   ],
   "source": [
    "# from sklearn.feature_extraction.text import CountVectorizer\n",
    "# from nltk.tokenize import word_tokenize as nltk_tokenize_word\n",
    "\n",
    "def tokenizer_en(s): return nltk_tokenize_word(s,language='english') \n",
    "\n",
    "cv_en = CountVectorizer(\n",
    "        lowercase=False,\n",
    "        token_pattern=None,\n",
    "        tokenizer=tokenizer_en, \n",
    "        min_df=2,\n",
    "    ).fit(df['Eng'])\n",
    "\n",
    "vocab_en = cv_en.vocabulary_\n",
    "display( len(vocab_en) )\n",
    "\n",
    "vocab_en_ = (\n",
    "    pd.DataFrame(\n",
    "        [ [v,k] for k,v in  vocab_en.items() ],columns=['index','word']\n",
    "    )\n",
    "        .sort_values(by='index')\n",
    "        .set_index('index')\n",
    "    )\n",
    "\n",
    "vocab_en_['tf'] = cv_en.transform(df['Eng']).sum(axis=0).T\n",
    "\n",
    "display( vocab_en_ )\n",
    "\n",
    "# vocab_en_.sort_values(by='tf').to_csv('tmp/vocab_en.csv',index=False,sep='\\t')\n",
    "\n",
    "display( vocab_en_[['tf']].describe([.01, .25, .75, .95, .99 ]).T )"
   ]
  },
  {
   "cell_type": "code",
   "execution_count": 25,
   "id": "07394714",
   "metadata": {},
   "outputs": [],
   "source": [
    "del vocab_en_"
   ]
  },
  {
   "cell_type": "markdown",
   "id": "8f3ee654",
   "metadata": {},
   "source": [
    "## выделяем тестовый набор"
   ]
  },
  {
   "cell_type": "code",
   "execution_count": 17,
   "id": "20d1739e",
   "metadata": {},
   "outputs": [
    {
     "data": {
      "application/vnd.jupyter.widget-view+json": {
       "model_id": "7053878e44b14ad8a99142b048c7d806",
       "version_major": 2,
       "version_minor": 0
      },
      "text/plain": [
       "  0%|          | 0/147087 [00:00<?, ?it/s]"
      ]
     },
     "metadata": {},
     "output_type": "display_data"
    },
    {
     "data": {
      "application/vnd.jupyter.widget-view+json": {
       "model_id": "780061192825447387170f99a483de2d",
       "version_major": 2,
       "version_minor": 0
      },
      "text/plain": [
       "  0%|          | 0/147087 [00:00<?, ?it/s]"
      ]
     },
     "metadata": {},
     "output_type": "display_data"
    },
    {
     "data": {
      "text/html": [
       "<div>\n",
       "<style scoped>\n",
       "    .dataframe tbody tr th:only-of-type {\n",
       "        vertical-align: middle;\n",
       "    }\n",
       "\n",
       "    .dataframe tbody tr th {\n",
       "        vertical-align: top;\n",
       "    }\n",
       "\n",
       "    .dataframe thead th {\n",
       "        text-align: right;\n",
       "    }\n",
       "</style>\n",
       "<table border=\"1\" class=\"dataframe\">\n",
       "  <thead>\n",
       "    <tr style=\"text-align: right;\">\n",
       "      <th></th>\n",
       "      <th>count</th>\n",
       "      <th>mean</th>\n",
       "      <th>std</th>\n",
       "      <th>min</th>\n",
       "      <th>25%</th>\n",
       "      <th>50%</th>\n",
       "      <th>75%</th>\n",
       "      <th>max</th>\n",
       "    </tr>\n",
       "  </thead>\n",
       "  <tbody>\n",
       "    <tr>\n",
       "      <th>Rus_len_seq</th>\n",
       "      <td>147087</td>\n",
       "      <td>7</td>\n",
       "      <td>4</td>\n",
       "      <td>2</td>\n",
       "      <td>5</td>\n",
       "      <td>6</td>\n",
       "      <td>8</td>\n",
       "      <td>173</td>\n",
       "    </tr>\n",
       "    <tr>\n",
       "      <th>Eng_len_seq</th>\n",
       "      <td>147087</td>\n",
       "      <td>8</td>\n",
       "      <td>4</td>\n",
       "      <td>2</td>\n",
       "      <td>6</td>\n",
       "      <td>7</td>\n",
       "      <td>9</td>\n",
       "      <td>232</td>\n",
       "    </tr>\n",
       "  </tbody>\n",
       "</table>\n",
       "</div>"
      ],
      "text/plain": [
       "              count  mean  std  min  25%  50%  75%  max\n",
       "Rus_len_seq  147087     7    4    2    5    6    8  173\n",
       "Eng_len_seq  147087     8    4    2    6    7    9  232"
      ]
     },
     "metadata": {},
     "output_type": "display_data"
    }
   ],
   "source": [
    "# считаем количество слов\n",
    "df['Rus_len_seq'] = df['Rus'].progress_apply(lambda s: len( tokenizer_ru(s) )  )\n",
    "df['Eng_len_seq'] = df['Eng'].progress_apply(lambda s: len( tokenizer_en(s) ) )\n",
    "display( df[['Rus_len_seq','Eng_len_seq']].describe().astype(int).T )"
   ]
  },
  {
   "cell_type": "code",
   "execution_count": 18,
   "id": "9e695fc9",
   "metadata": {},
   "outputs": [
    {
     "data": {
      "text/plain": [
       "103883"
      ]
     },
     "metadata": {},
     "output_type": "display_data"
    },
    {
     "data": {
      "text/html": [
       "<div>\n",
       "<style scoped>\n",
       "    .dataframe tbody tr th:only-of-type {\n",
       "        vertical-align: middle;\n",
       "    }\n",
       "\n",
       "    .dataframe tbody tr th {\n",
       "        vertical-align: top;\n",
       "    }\n",
       "\n",
       "    .dataframe thead th {\n",
       "        text-align: right;\n",
       "    }\n",
       "</style>\n",
       "<table border=\"1\" class=\"dataframe\">\n",
       "  <thead>\n",
       "    <tr style=\"text-align: right;\">\n",
       "      <th></th>\n",
       "      <th>N_Rus</th>\n",
       "      <th>Rus</th>\n",
       "      <th>N_Eng</th>\n",
       "      <th>Eng</th>\n",
       "      <th>Rus_len_seq</th>\n",
       "      <th>Eng_len_seq</th>\n",
       "    </tr>\n",
       "  </thead>\n",
       "  <tbody>\n",
       "    <tr>\n",
       "      <th>144581</th>\n",
       "      <td>3301129</td>\n",
       "      <td>Он закатал рукава рубашки.</td>\n",
       "      <td>4308777</td>\n",
       "      <td>He rolled up his shirt sleeves.</td>\n",
       "      <td>5</td>\n",
       "      <td>7</td>\n",
       "    </tr>\n",
       "    <tr>\n",
       "      <th>15787</th>\n",
       "      <td>750984</td>\n",
       "      <td>Она в ванной.</td>\n",
       "      <td>456721</td>\n",
       "      <td>She is in the bathroom.</td>\n",
       "      <td>4</td>\n",
       "      <td>6</td>\n",
       "    </tr>\n",
       "    <tr>\n",
       "      <th>127385</th>\n",
       "      <td>4020185</td>\n",
       "      <td>Я хочу, чтобы его избили.</td>\n",
       "      <td>3904814</td>\n",
       "      <td>I want him beaten up.</td>\n",
       "      <td>7</td>\n",
       "      <td>6</td>\n",
       "    </tr>\n",
       "    <tr>\n",
       "      <th>87958</th>\n",
       "      <td>1834863</td>\n",
       "      <td>Вот мой дом.</td>\n",
       "      <td>955157</td>\n",
       "      <td>This is my house.</td>\n",
       "      <td>4</td>\n",
       "      <td>5</td>\n",
       "    </tr>\n",
       "    <tr>\n",
       "      <th>76786</th>\n",
       "      <td>3012779</td>\n",
       "      <td>Том протянул Мэри книгу.</td>\n",
       "      <td>1028783</td>\n",
       "      <td>Tom handed Mary a book.</td>\n",
       "      <td>5</td>\n",
       "      <td>6</td>\n",
       "    </tr>\n",
       "    <tr>\n",
       "      <th>14387</th>\n",
       "      <td>653157</td>\n",
       "      <td>Я пошлю книгу по почте.</td>\n",
       "      <td>43849</td>\n",
       "      <td>I'll send the book by mail.</td>\n",
       "      <td>6</td>\n",
       "      <td>8</td>\n",
       "    </tr>\n",
       "    <tr>\n",
       "      <th>145120</th>\n",
       "      <td>4347525</td>\n",
       "      <td>Не забудь написать индекс.</td>\n",
       "      <td>4198352</td>\n",
       "      <td>Don't forget to write the zip code.</td>\n",
       "      <td>5</td>\n",
       "      <td>9</td>\n",
       "    </tr>\n",
       "  </tbody>\n",
       "</table>\n",
       "</div>"
      ],
      "text/plain": [
       "          N_Rus                         Rus    N_Eng  \\\n",
       "144581  3301129  Он закатал рукава рубашки.  4308777   \n",
       "15787    750984               Она в ванной.   456721   \n",
       "127385  4020185   Я хочу, чтобы его избили.  3904814   \n",
       "87958   1834863                Вот мой дом.   955157   \n",
       "76786   3012779    Том протянул Мэри книгу.  1028783   \n",
       "14387    653157     Я пошлю книгу по почте.    43849   \n",
       "145120  4347525  Не забудь написать индекс.  4198352   \n",
       "\n",
       "                                        Eng  Rus_len_seq  Eng_len_seq  \n",
       "144581      He rolled up his shirt sleeves.            5            7  \n",
       "15787               She is in the bathroom.            4            6  \n",
       "127385                I want him beaten up.            7            6  \n",
       "87958                     This is my house.            4            5  \n",
       "76786               Tom handed Mary a book.            5            6  \n",
       "14387           I'll send the book by mail.            6            8  \n",
       "145120  Don't forget to write the zip code.            5            9  "
      ]
     },
     "metadata": {},
     "output_type": "display_data"
    }
   ],
   "source": [
    "l_min,l_max = 3,10\n",
    "\n",
    "# выбираем последовательности приблизительно одинаковой длинны\n",
    "df_train = df.query(f'({l_min}<Rus_len_seq<{l_max})&({l_min}<Eng_len_seq<{l_max})')\n",
    "display( len(df_train) )\n",
    "display( df_train.sample(7) )"
   ]
  },
  {
   "cell_type": "code",
   "execution_count": 19,
   "id": "969375a9",
   "metadata": {},
   "outputs": [
    {
     "data": {
      "text/plain": [
       "84146"
      ]
     },
     "metadata": {},
     "output_type": "display_data"
    },
    {
     "data": {
      "text/plain": [
       "9349"
      ]
     },
     "metadata": {},
     "output_type": "display_data"
    },
    {
     "data": {
      "text/plain": [
       "10388"
      ]
     },
     "metadata": {},
     "output_type": "display_data"
    }
   ],
   "source": [
    "df_test = df_train.sample( len(df_train)//10 )\n",
    "df_train = df_train.drop(df_test.index)\n",
    "\n",
    "df_val = df_train.sample( len(df_train)//10 )\n",
    "df_train = df_train.drop(df_val.index)\n",
    "\n",
    "display( len(df_train), len(df_val), len(df_test) )"
   ]
  },
  {
   "cell_type": "markdown",
   "id": "0b7e4806",
   "metadata": {},
   "source": [
    "# собираем генератор датасета"
   ]
  },
  {
   "cell_type": "code",
   "execution_count": 20,
   "id": "50ea5515",
   "metadata": {},
   "outputs": [],
   "source": [
    "# vocab_en"
   ]
  },
  {
   "cell_type": "code",
   "execution_count": 22,
   "id": "62f29628",
   "metadata": {},
   "outputs": [],
   "source": [
    "import torch\n",
    "from torch.utils.data import Dataset\n",
    "from torch.utils.data import DataLoader"
   ]
  },
  {
   "cell_type": "code",
   "execution_count": 23,
   "id": "25c51ed5",
   "metadata": {},
   "outputs": [],
   "source": [
    "class TextPairDataset(Dataset):\n",
    "\n",
    "    def __init__(self, df,vocab,cols={'Rus':'russian','Eng':'english'}):\n",
    "        super().__init__()\n",
    "\n",
    "        assert len(cols)==2\n",
    "        assert len(df)>1\n",
    "        self._lang = cols\n",
    "        self._data = df[self._lang.keys()].reset_index(drop=True)\n",
    "        # self._vocab = vocab if vocab\n",
    "        #         else { k : self._make_vocab(df[k],language=self._lang[k]) for k in self._lang } \n",
    "        self._vocab = vocab \n",
    "        self._max_seq = { k : self._get_max_seq(df[k],language=self._lang[k]) for k in self._lang }\n",
    "    \n",
    "    @staticmethod\n",
    "    def  _tokenize(s,language):\n",
    "        return nltk_tokenize_word(s,language=language)\n",
    "\n",
    "#     @classmethod\n",
    "#     def _make_vocab(cls,d,language):\n",
    "#         words = sorted(set.union(*[ set(  cls._tokenize(s,language) ) for s in tqdm(d) ]))\n",
    "#         return { w:n+1 for n,w in enumerate(words) } | { '<PAD>':0, '<EOS>':len(words)+2, '<UNK>':len(words)+3 }\n",
    "    \n",
    "    @classmethod\n",
    "    def _get_max_seq(cls,d,language):\n",
    "        return max([ len(cls._tokenize(s,language)) for s in tqdm(d) ])\n",
    "    \n",
    "    @property\n",
    "    def vocab(self):\n",
    "        return self._vocab\n",
    "\n",
    "    @vocab.setter\n",
    "    def vocab(self,vocab):\n",
    "        self._vocab = vocab\n",
    "\n",
    "    @property\n",
    "    def data(self):\n",
    "        return self._data\n",
    "        \n",
    "    def __len__(self):\n",
    "        return len(self._data)\n",
    "    \n",
    "    @property\n",
    "    def max_seq(self):\n",
    "        return self._max_seq\n",
    "    \n",
    "    def _encode(self,s,language,vocab):\n",
    "        return [ vocab['<UNK>'] if not(w in vocab) else vocab[w] for w in self._tokenize(s,language) ] \n",
    "        \n",
    "    def _pad_seq(self,s,max_seq,eos_code):\n",
    "        return [0]*(max_seq-len(s)) + s + [eos_code]\n",
    "    \n",
    "    def __getitem__(self, idx):\n",
    "        return  [\n",
    "            torch.LongTensor(\n",
    "                    np.array(\n",
    "                        self._pad_seq(\n",
    "                            self._encode( self._data[c][idx], language=self._lang[c] , vocab=self._vocab[c] ) \n",
    "                            ,max_seq=self._max_seq[c]\n",
    "                            ,eos_code=self._vocab[c]['<EOS>']\n",
    "                        ) \n",
    "                        ,dtype=int\n",
    "                    )\n",
    "            )\n",
    "            for c in self._lang \n",
    "        ]"
   ]
  },
  {
   "cell_type": "markdown",
   "id": "756e3e39",
   "metadata": {},
   "source": [
    "----"
   ]
  },
  {
   "cell_type": "code",
   "execution_count": 24,
   "id": "5f3f0acd",
   "metadata": {},
   "outputs": [
    {
     "data": {
      "text/plain": [
       "29475"
      ]
     },
     "metadata": {},
     "output_type": "display_data"
    }
   ],
   "source": [
    "vocab_ru = { w:n+1 for n,w in enumerate(sorted(vocab_ru.keys())) }\n",
    "ru_max_idx = max(vocab_ru.values())\n",
    "vocab_ru =  vocab_ru | { '<PAD>':0, '<EOS>':ru_max_idx+1, '<UNK>':ru_max_idx+2, }\n",
    "display( len(vocab_ru) )\n",
    "\n",
    "del ru_max_idx"
   ]
  },
  {
   "cell_type": "code",
   "execution_count": 26,
   "id": "2df6c61a",
   "metadata": {},
   "outputs": [
    {
     "data": {
      "text/plain": [
       "13497"
      ]
     },
     "metadata": {},
     "output_type": "display_data"
    }
   ],
   "source": [
    "vocab_en = { w:n+1 for n,w in enumerate(sorted(vocab_en.keys())) }\n",
    "en_max_idx = max(vocab_en.values())\n",
    "vocab_en =  vocab_en | { '<PAD>':0, '<EOS>':en_max_idx+1, '<UNK>':en_max_idx+2, }\n",
    "display( len(vocab_en) )\n",
    "del en_max_idx"
   ]
  },
  {
   "cell_type": "code",
   "execution_count": 27,
   "id": "9b5e875f",
   "metadata": {},
   "outputs": [],
   "source": [
    "vocab = { 'Rus': vocab_ru, 'Eng': vocab_en, }"
   ]
  },
  {
   "cell_type": "code",
   "execution_count": 28,
   "id": "6251bb4a",
   "metadata": {},
   "outputs": [],
   "source": [
    "del vocab_ru\n",
    "del vocab_en"
   ]
  },
  {
   "cell_type": "markdown",
   "id": "f072eed7",
   "metadata": {},
   "source": [
    "---"
   ]
  },
  {
   "cell_type": "code",
   "execution_count": 29,
   "id": "254c803c",
   "metadata": {},
   "outputs": [
    {
     "data": {
      "application/vnd.jupyter.widget-view+json": {
       "model_id": "bd095a957bff4dcd9a50b3cf9e0697e4",
       "version_major": 2,
       "version_minor": 0
      },
      "text/plain": [
       "  0%|          | 0/84146 [00:00<?, ?it/s]"
      ]
     },
     "metadata": {},
     "output_type": "display_data"
    },
    {
     "data": {
      "application/vnd.jupyter.widget-view+json": {
       "model_id": "44ba67c29edc487a89dbeef16ce0b325",
       "version_major": 2,
       "version_minor": 0
      },
      "text/plain": [
       "  0%|          | 0/84146 [00:00<?, ?it/s]"
      ]
     },
     "metadata": {},
     "output_type": "display_data"
    }
   ],
   "source": [
    "ds_train = TextPairDataset( df_train, vocab=vocab )"
   ]
  },
  {
   "cell_type": "code",
   "execution_count": 30,
   "id": "0dc278e2",
   "metadata": {},
   "outputs": [
    {
     "data": {
      "application/vnd.jupyter.widget-view+json": {
       "model_id": "ec1e82ab221a429f869ad46477e7f64a",
       "version_major": 2,
       "version_minor": 0
      },
      "text/plain": [
       "  0%|          | 0/9349 [00:00<?, ?it/s]"
      ]
     },
     "metadata": {},
     "output_type": "display_data"
    },
    {
     "data": {
      "application/vnd.jupyter.widget-view+json": {
       "model_id": "165887d233bc4546b3d665629af46076",
       "version_major": 2,
       "version_minor": 0
      },
      "text/plain": [
       "  0%|          | 0/9349 [00:00<?, ?it/s]"
      ]
     },
     "metadata": {},
     "output_type": "display_data"
    }
   ],
   "source": [
    "ds_val = TextPairDataset(df_val, vocab=ds_train.vocab)"
   ]
  },
  {
   "cell_type": "code",
   "execution_count": 31,
   "id": "f581921f",
   "metadata": {},
   "outputs": [
    {
     "data": {
      "text/plain": [
       "{'Rus': 9, 'Eng': 9}"
      ]
     },
     "metadata": {},
     "output_type": "display_data"
    },
    {
     "data": {
      "text/plain": [
       "{'Rus': 9, 'Eng': 9}"
      ]
     },
     "metadata": {},
     "output_type": "display_data"
    }
   ],
   "source": [
    "display( ds_train.max_seq, ds_val.max_seq )"
   ]
  },
  {
   "cell_type": "code",
   "execution_count": 32,
   "id": "9e6896af",
   "metadata": {},
   "outputs": [],
   "source": [
    "# for input_tensor, target_tensor in DataLoader( ds_train, batch_size=3, shuffle=True): \n",
    "#     break\n",
    "\n",
    "# display( input_tensor, target_tensor )"
   ]
  },
  {
   "cell_type": "code",
   "execution_count": 33,
   "id": "15f5ce2d",
   "metadata": {},
   "outputs": [],
   "source": [
    "# with torch.set_grad_enabled(False):\n",
    "#     o,h = model_encoder(t0)\n",
    "#     r  = model_decoder(encoder_outputs=o,encoder_hidden=h)"
   ]
  },
  {
   "cell_type": "markdown",
   "id": "a224a915",
   "metadata": {},
   "source": [
    "# строим модель"
   ]
  },
  {
   "cell_type": "code",
   "execution_count": 34,
   "id": "72f527c7",
   "metadata": {},
   "outputs": [],
   "source": [
    "import torch.nn as nn\n",
    "import torch.nn.functional as F"
   ]
  },
  {
   "cell_type": "code",
   "execution_count": 35,
   "id": "94bf5876",
   "metadata": {},
   "outputs": [],
   "source": [
    "class Encoder(nn.Module):\n",
    "    def __init__(self, vocab_len, embedding_dim, encoder_hidden_dim,): \n",
    "        super(Encoder, self).__init__()\n",
    "        self._emb = nn.Embedding(vocab_len, embedding_dim)\n",
    "        self._rnn = nn.GRU(\n",
    "                input_size=embedding_dim, \n",
    "                hidden_size=encoder_hidden_dim, \n",
    "                num_layers=2, \n",
    "                batch_first=True,\n",
    "                dropout=0.4,\n",
    "            )\n",
    "\n",
    "    def forward(self, x):\n",
    "        o = self._emb(x)\n",
    "        o, h = self._rnn(o)\n",
    "        return o,h"
   ]
  },
  {
   "cell_type": "code",
   "execution_count": 36,
   "id": "a957123f",
   "metadata": {},
   "outputs": [],
   "source": [
    "# vocab_len = len(ds.vocab['Rus'])\n",
    "# embedding_dim = 256\n",
    "# encoder_hidden_dim = 128\n",
    "\n",
    "# model_encoder = Encoder(\n",
    "#         vocab_len=vocab_len+1,\n",
    "#         embedding_dim=embedding_dim,\n",
    "#         encoder_hidden_dim=encoder_hidden_dim,\n",
    "#     )\n",
    "\n",
    "# with torch.set_grad_enabled(False):\n",
    "#     o,h = model_encoder(t0)\n",
    "    \n",
    "# display( o.shape, h.shape )"
   ]
  },
  {
   "cell_type": "code",
   "execution_count": 37,
   "id": "d2da814e",
   "metadata": {},
   "outputs": [],
   "source": [
    "# torch.empty(3, 1, dtype=torch.long).fill_(0)"
   ]
  },
  {
   "cell_type": "code",
   "execution_count": 38,
   "id": "3b0f8e96",
   "metadata": {},
   "outputs": [],
   "source": [
    "class Decoder(nn.Module):\n",
    "    \n",
    "    def __init__(self, hidden_size, output_size, max_seq_len, device='cpu'):\n",
    "        super(Decoder, self).__init__()\n",
    "        self._emb = nn.Embedding(num_embeddings=output_size, embedding_dim=hidden_size)\n",
    "        self._rnn = nn.GRU( \n",
    "                input_size=hidden_size, \n",
    "                hidden_size=hidden_size, \n",
    "                num_layers=2, \n",
    "                batch_first=True,\n",
    "                dropout=0.4,\n",
    "            )\n",
    "        self._lin = nn.Linear(in_features=hidden_size, out_features=output_size, bias=True,)\n",
    "        #self._dp = nn.Dropout(0.1)\n",
    "        self._device = device\n",
    "        self._max_seq_len = max_seq_len\n",
    "\n",
    "    def forward(self, encoder_outputs, encoder_hidden, target_tensor=None):\n",
    "        batch_size = encoder_outputs.size(0)\n",
    "        decoder_input = torch.empty(batch_size, 1, dtype=torch.long, device=self._device).fill_(0)\n",
    "        decoder_hidden = encoder_hidden\n",
    "        decoder_outputs = []\n",
    "\n",
    "        for i in range(self._max_seq_len):\n",
    "            decoder_output, decoder_hidden  = self._forward_step(decoder_input, decoder_hidden)\n",
    "            decoder_outputs.append(decoder_output)\n",
    "\n",
    "            if target_tensor is not None:\n",
    "                # Teacher forcing: Feed the target as the next input\n",
    "                decoder_input = target_tensor[:, i].unsqueeze(1) # Teacher forcing\n",
    "            else:\n",
    "                # Without teacher forcing: use its own predictions as the next input\n",
    "                _, topi = decoder_output.topk(1)\n",
    "                decoder_input = topi.squeeze(-1).detach()  # detach from history as input\n",
    "\n",
    "        decoder_outputs = torch.cat(decoder_outputs, dim=1)\n",
    "        decoder_outputs = F.log_softmax(decoder_outputs, dim=-1)\n",
    "        return decoder_outputs, decoder_hidden, None # We return `None` for consistency in the training loop\n",
    "\n",
    "    def _forward_step(self,x,hidden):\n",
    "        o = F.relu( self._emb(x) )\n",
    "        o,h = self._rnn(o, hidden)\n",
    "        # o = self._dp( self._lin(o) )\n",
    "        o = self._lin(o)\n",
    "        return o,h"
   ]
  },
  {
   "cell_type": "markdown",
   "id": "4951f8c6",
   "metadata": {},
   "source": [
    "----"
   ]
  },
  {
   "cell_type": "code",
   "execution_count": 39,
   "id": "34d371d9",
   "metadata": {},
   "outputs": [
    {
     "data": {
      "text/plain": [
       "device(type='cuda', index=0)"
      ]
     },
     "metadata": {},
     "output_type": "display_data"
    }
   ],
   "source": [
    "# # проверяем GPU\n",
    "device = torch.device('cuda:0' if torch.cuda.is_available() else 'cpu')\n",
    "# device='cpu'\n",
    "display( device )"
   ]
  },
  {
   "cell_type": "code",
   "execution_count": 40,
   "id": "8282b91c",
   "metadata": {},
   "outputs": [],
   "source": [
    "vocab_input_len  = len(ds_train.vocab['Rus'])\n",
    "vocab_output_len = len(ds_train.vocab['Eng'])\n",
    "max_output_seq_len = ds_train.max_seq['Eng']+1"
   ]
  },
  {
   "cell_type": "code",
   "execution_count": 41,
   "id": "5b9af031",
   "metadata": {},
   "outputs": [],
   "source": [
    "embedding_dim = 1024\n",
    "encoder_hidden_dim = 256\n",
    "\n",
    "model_encoder = Encoder(\n",
    "        vocab_len=vocab_input_len+1,\n",
    "        embedding_dim=embedding_dim,\n",
    "        encoder_hidden_dim=encoder_hidden_dim,\n",
    "    ).to(device)\n",
    "\n",
    "model_decoder = Decoder( \n",
    "        hidden_size=encoder_hidden_dim, \n",
    "        output_size=vocab_output_len+1, \n",
    "        max_seq_len=max_output_seq_len,\n",
    "        device=device,\n",
    "    ).to(device)"
   ]
  },
  {
   "cell_type": "code",
   "execution_count": 42,
   "id": "824e9b6b",
   "metadata": {},
   "outputs": [
    {
     "data": {
      "text/plain": [
       "29475"
      ]
     },
     "metadata": {},
     "output_type": "display_data"
    },
    {
     "data": {
      "text/plain": [
       "13497"
      ]
     },
     "metadata": {},
     "output_type": "display_data"
    }
   ],
   "source": [
    "display( vocab_input_len, vocab_output_len )"
   ]
  },
  {
   "cell_type": "code",
   "execution_count": 43,
   "id": "1282f47d",
   "metadata": {},
   "outputs": [
    {
     "data": {
      "text/plain": [
       "29474"
      ]
     },
     "metadata": {},
     "output_type": "display_data"
    },
    {
     "data": {
      "text/plain": [
       "13496"
      ]
     },
     "metadata": {},
     "output_type": "display_data"
    }
   ],
   "source": [
    "display( max(ds_train.vocab['Rus'].values()),  max(ds_train.vocab['Eng'].values()) )"
   ]
  },
  {
   "cell_type": "code",
   "execution_count": null,
   "id": "eb459d05",
   "metadata": {},
   "outputs": [],
   "source": [
    "# with torch.set_grad_enabled(False):\n",
    "#     o,h = model_encoder(t0)\n",
    "#     r  = model_decoder(encoder_outputs=o,encoder_hidden=h)\n",
    "\n",
    "# r[0].shape, r[1].shape, # r[3].shape"
   ]
  },
  {
   "cell_type": "code",
   "execution_count": null,
   "id": "0a309197",
   "metadata": {},
   "outputs": [],
   "source": [
    "# r[0].view(-1, r[0].size(-1)).shape\n",
    "# r[0].shape ,  t1.shape"
   ]
  },
  {
   "cell_type": "code",
   "execution_count": null,
   "id": "9e814edf",
   "metadata": {},
   "outputs": [],
   "source": [
    "# display( r[0].view(-1, r[0].size(-1)).shape )\n",
    "# display( t1.view(-1).shape )"
   ]
  },
  {
   "cell_type": "code",
   "execution_count": null,
   "id": "1cc550c5",
   "metadata": {},
   "outputs": [],
   "source": [
    "# criterion = nn.NLLLoss()\n",
    "# with torch.set_grad_enabled(False):    \n",
    "#     loss = criterion(\n",
    "#             r[0].view(-1, r[0].size(-1)),\n",
    "#             t1.view(-1)\n",
    "#         )\n",
    "# loss.item()"
   ]
  },
  {
   "cell_type": "markdown",
   "id": "64ebb20c",
   "metadata": {},
   "source": [
    "# обучаем "
   ]
  },
  {
   "cell_type": "code",
   "execution_count": 44,
   "id": "5b7333e6",
   "metadata": {},
   "outputs": [],
   "source": [
    "from torch import optim\n",
    "\n",
    "learning_rate = 1e-3\n",
    "encoder_optimizer = optim.Adam( model_encoder.parameters(), lr=learning_rate )\n",
    "decoder_optimizer = optim.Adam( model_decoder.parameters(), lr=learning_rate )\n",
    "criterion = nn.NLLLoss()"
   ]
  },
  {
   "cell_type": "code",
   "execution_count": 45,
   "id": "8c281b7b",
   "metadata": {},
   "outputs": [
    {
     "data": {
      "text/plain": [
       "84146"
      ]
     },
     "metadata": {},
     "output_type": "display_data"
    }
   ],
   "source": [
    "display( len(ds_train) )"
   ]
  },
  {
   "cell_type": "code",
   "execution_count": 46,
   "id": "9c347696",
   "metadata": {},
   "outputs": [],
   "source": [
    "# with torch.set_grad_enabled(False):\n",
    "#     for input_tensor, target_tensor in DataLoader( ds, batch_size=3, shuffle=True): \n",
    "#         encoder_outputs, encoder_hidden = model_encoder(input_tensor.to(device))\n",
    "#         decoder_outputs, _, _ = model_decoder(encoder_outputs, encoder_hidden, target_tensor.to(device))\n",
    "#         break\n",
    "\n",
    "# decoder_outputs"
   ]
  },
  {
   "cell_type": "code",
   "execution_count": 47,
   "id": "d8b5aad0",
   "metadata": {},
   "outputs": [],
   "source": [
    "# encoder_outputs\n",
    "# encoder_hidden"
   ]
  },
  {
   "cell_type": "code",
   "execution_count": 48,
   "id": "85f43608",
   "metadata": {},
   "outputs": [],
   "source": [
    "loss_history_train = [] # значения ф-ции потери\n",
    "loss_history_val = [] # значения ф-ции потери"
   ]
  },
  {
   "cell_type": "code",
   "execution_count": 49,
   "id": "f89a1096",
   "metadata": {},
   "outputs": [
    {
     "data": {
      "application/vnd.jupyter.widget-view+json": {
       "model_id": "ba97eab4b59e473d8f5d4b917f6da37a",
       "version_major": 2,
       "version_minor": 0
      },
      "text/plain": [
       "  0%|          | 0/64 [00:00<?, ?it/s]"
      ]
     },
     "metadata": {},
     "output_type": "display_data"
    },
    {
     "name": "stdout",
     "output_type": "stream",
     "text": [
      "validation loss value up, stoped\n",
      "\n",
      "CPU times: user 10min 31s, sys: 1.18 s, total: 10min 32s\n",
      "Wall time: 10min 33s\n"
     ]
    }
   ],
   "source": [
    "%%time\n",
    "\n",
    "n_epoch = 64 # количество эпох обучения\n",
    "batch_size = 512*3\n",
    "\n",
    "lag_val_check = 4\n",
    "n_iter_no_check = n_epoch*0.33\n",
    "\n",
    "assert n_iter_no_check>lag_val_check\n",
    "\n",
    "for i in tqdm(range(n_epoch)): \n",
    "    loss_batch = []\n",
    "    \n",
    "    # получаем батч учебных примеров\n",
    "    for input_tensor, target_tensor in DataLoader( ds_train, batch_size=batch_size, shuffle=True): \n",
    "        encoder_optimizer.zero_grad()\n",
    "        decoder_optimizer.zero_grad()\n",
    "\n",
    "        encoder_outputs, encoder_hidden = model_encoder(input_tensor.to(device))\n",
    "        decoder_outputs, _, _ = model_decoder(encoder_outputs, encoder_hidden, target_tensor.to(device))\n",
    "        \n",
    "        loss = criterion(\n",
    "            decoder_outputs.view(-1, decoder_outputs.size(-1)),\n",
    "            target_tensor.to(device).view(-1)\n",
    "        )\n",
    "        loss_batch.append(loss.item()) # дополняем историю изменения значений ф-ции потери на батче\n",
    "        \n",
    "        loss.backward()\n",
    "\n",
    "        encoder_optimizer.step()\n",
    "        decoder_optimizer.step()\n",
    "   \n",
    "    loss_history_train.append( np.mean(loss_batch) ) # дополняем общую историю изменения значений ф-ции потери\n",
    "    \n",
    "    \n",
    "    loss_batch = []\n",
    "    with torch.set_grad_enabled(False):   \n",
    "        # получаем батч проверочных примеров\n",
    "        for input_tensor, target_tensor in DataLoader( ds_val, batch_size=batch_size, shuffle=False): \n",
    "            encoder_outputs, encoder_hidden = model_encoder(input_tensor.to(device))\n",
    "            decoder_outputs, _, _ = model_decoder(encoder_outputs, encoder_hidden, target_tensor.to(device))\n",
    "            loss = criterion(\n",
    "                decoder_outputs.view(-1, decoder_outputs.size(-1)),\n",
    "                target_tensor.to(device).view(-1)\n",
    "            )\n",
    "            loss_batch.append(loss.item()) # дополняем историю изменения значений ф-ции потери на батче\n",
    "\n",
    "    loss_history_val.append( np.mean(loss_batch) ) # дополняем общую историю изменения значений ф-ции потери\n",
    "\n",
    "    if i>n_iter_no_check:\n",
    "        if ( loss_history_val[-lag_val_check]<loss_history_val[-1] ):\n",
    "            print( 'validation loss value up, stoped\\n' )\n",
    "            break"
   ]
  },
  {
   "cell_type": "code",
   "execution_count": 50,
   "id": "c8ac6dbb",
   "metadata": {},
   "outputs": [
    {
     "data": {
      "text/plain": [
       "<matplotlib.legend.Legend at 0x7f9b1db00fd0>"
      ]
     },
     "execution_count": 50,
     "metadata": {},
     "output_type": "execute_result"
    },
    {
     "data": {
      "image/png": "[encoded data removed]",
      "text/plain": [
       "<Figure size 640x480 with 1 Axes>"
      ]
     },
     "metadata": {},
     "output_type": "display_data"
    }
   ],
   "source": [
    "# история изменения значений ф-ции потери\n",
    "plt.plot(loss_history_train,label='loss_train min=%.3f'%(min(loss_history_train)),c='r')\n",
    "plt.plot(loss_history_val,label='loss_val min=%.3f'%(min(loss_history_val)),c='c')\n",
    "plt.grid()\n",
    "plt.title('история изменения значений ф-ции потери')\n",
    "plt.legend()"
   ]
  },
  {
   "cell_type": "markdown",
   "id": "200e3a75",
   "metadata": {},
   "source": [
    "# Тестируем"
   ]
  },
  {
   "cell_type": "code",
   "execution_count": 51,
   "id": "7ecd38b4",
   "metadata": {},
   "outputs": [],
   "source": [
    "# from nltk.translate.bleu_score import sentence_bleu\n",
    "from torchtext.data.metrics import bleu_score"
   ]
  },
  {
   "cell_type": "code",
   "execution_count": 52,
   "id": "28914bfd",
   "metadata": {},
   "outputs": [],
   "source": [
    "def decode(code,voc): return ' '.join([ voc[c] for c in code if c!=0 ])"
   ]
  },
  {
   "cell_type": "code",
   "execution_count": 53,
   "id": "6f29fd59",
   "metadata": {},
   "outputs": [],
   "source": [
    "voc_ru = { v:k for k,v in ds_train.vocab['Rus'].items() }\n",
    "voc_en = { v:k for k,v in ds_train.vocab['Eng'].items() }"
   ]
  },
  {
   "cell_type": "markdown",
   "id": "4e46fe62",
   "metadata": {},
   "source": [
    "### на учебном наборе"
   ]
  },
  {
   "cell_type": "code",
   "execution_count": 54,
   "id": "cfd72b95",
   "metadata": {},
   "outputs": [
    {
     "data": {
      "text/plain": [
       "(84146, 10)"
      ]
     },
     "metadata": {},
     "output_type": "display_data"
    },
    {
     "data": {
      "text/plain": [
       "(84146, 10)"
      ]
     },
     "metadata": {},
     "output_type": "display_data"
    },
    {
     "data": {
      "text/plain": [
       "(84146, 1, 10)"
      ]
     },
     "metadata": {},
     "output_type": "display_data"
    },
    {
     "name": "stdout",
     "output_type": "stream",
     "text": [
      "CPU times: user 26.8 s, sys: 2.96 s, total: 29.8 s\n",
      "Wall time: 29.8 s\n"
     ]
    }
   ],
   "source": [
    "%%time \n",
    "\n",
    "init_seq = []\n",
    "hypothesis = []\n",
    "reference = []\n",
    "\n",
    "with torch.set_grad_enabled(False):\n",
    "    for input_tensor, target_tensor in DataLoader( ds_train, batch_size=batch_size, shuffle=False): \n",
    "        encoder_outputs, encoder_hidden = model_encoder(input_tensor.to(device))\n",
    "        decoder_outputs, _, _ = model_decoder(encoder_outputs, encoder_hidden, target_tensor.to(device))\n",
    "        \n",
    "        init_seq.append( input_tensor.cpu().numpy() )\n",
    "        \n",
    "        reference.append( target_tensor.cpu().numpy() )\n",
    "        \n",
    "        hypothesis.append( \n",
    "            np.swapaxes(np.argmax(\n",
    "                decoder_outputs.cpu().numpy()\n",
    "                ,axis=-1,keepdims=True),2,1)\n",
    "        )\n",
    "\n",
    "init_seq = np.vstack( init_seq )        \n",
    "reference = np.vstack( reference )\n",
    "hypothesis = np.vstack( hypothesis )\n",
    "\n",
    "display( init_seq.shape, reference.shape, hypothesis.shape, )"
   ]
  },
  {
   "cell_type": "code",
   "execution_count": 55,
   "id": "77991e85",
   "metadata": {},
   "outputs": [
    {
     "data": {
      "text/plain": [
       "0.32486021518707275"
      ]
     },
     "metadata": {},
     "output_type": "display_data"
    },
    {
     "name": "stdout",
     "output_type": "stream",
     "text": [
      "CPU times: user 19.5 s, sys: 13.3 ms, total: 19.5 s\n",
      "Wall time: 19.7 s\n"
     ]
    }
   ],
   "source": [
    "%%time \n",
    "\n",
    "display( bleu_score( reference.astype(str) , hypothesis.astype(str) ) )"
   ]
  },
  {
   "cell_type": "code",
   "execution_count": 56,
   "id": "f3319d1a",
   "metadata": {},
   "outputs": [
    {
     "data": {
      "application/vnd.jupyter.widget-view+json": {
       "model_id": "c41c0f693a8642e597ac5703522307ea",
       "version_major": 2,
       "version_minor": 0
      },
      "text/plain": [
       "  0%|          | 0/84146 [00:00<?, ?it/s]"
      ]
     },
     "metadata": {},
     "output_type": "display_data"
    },
    {
     "data": {
      "application/vnd.jupyter.widget-view+json": {
       "model_id": "e8afd2593abd4f7fb8c0f65c831e2e52",
       "version_major": 2,
       "version_minor": 0
      },
      "text/plain": [
       "  0%|          | 0/84146 [00:00<?, ?it/s]"
      ]
     },
     "metadata": {},
     "output_type": "display_data"
    },
    {
     "data": {
      "application/vnd.jupyter.widget-view+json": {
       "model_id": "7fc96afdf5fc4e6e9d465b9e1d1e5394",
       "version_major": 2,
       "version_minor": 0
      },
      "text/plain": [
       "  0%|          | 0/84146 [00:00<?, ?it/s]"
      ]
     },
     "metadata": {},
     "output_type": "display_data"
    },
    {
     "data": {
      "text/html": [
       "<div>\n",
       "<style scoped>\n",
       "    .dataframe tbody tr th:only-of-type {\n",
       "        vertical-align: middle;\n",
       "    }\n",
       "\n",
       "    .dataframe tbody tr th {\n",
       "        vertical-align: top;\n",
       "    }\n",
       "\n",
       "    .dataframe thead th {\n",
       "        text-align: right;\n",
       "    }\n",
       "</style>\n",
       "<table border=\"1\" class=\"dataframe\">\n",
       "  <thead>\n",
       "    <tr style=\"text-align: right;\">\n",
       "      <th></th>\n",
       "      <th>Rus</th>\n",
       "      <th>Eng_target</th>\n",
       "      <th>Eng_predicted</th>\n",
       "    </tr>\n",
       "  </thead>\n",
       "  <tbody>\n",
       "    <tr>\n",
       "      <th>43829</th>\n",
       "      <td>Вам нравится моя новая &lt;UNK&gt; шляпа ? &lt;EOS&gt;</td>\n",
       "      <td>Do you like my new straw hat ? &lt;EOS&gt;</td>\n",
       "      <td>Do you like a new new ? ? &lt;EOS&gt;</td>\n",
       "    </tr>\n",
       "    <tr>\n",
       "      <th>27399</th>\n",
       "      <td>Мы были &lt;UNK&gt; . &lt;EOS&gt;</td>\n",
       "      <td>We were passengers . &lt;EOS&gt;</td>\n",
       "      <td>We were . . &lt;EOS&gt;</td>\n",
       "    </tr>\n",
       "    <tr>\n",
       "      <th>58434</th>\n",
       "      <td>Как долго ты проработал в Бостоне ? &lt;EOS&gt;</td>\n",
       "      <td>How long did you work in Boston ? &lt;EOS&gt;</td>\n",
       "      <td>How long will you live in ? ? &lt;EOS&gt;</td>\n",
       "    </tr>\n",
       "    <tr>\n",
       "      <th>51831</th>\n",
       "      <td>Мистер Джонс в офисе ? &lt;EOS&gt;</td>\n",
       "      <td>Is Mr Jones in the office ? &lt;EOS&gt;</td>\n",
       "      <td>Is there this in this room ? &lt;EOS&gt;</td>\n",
       "    </tr>\n",
       "    <tr>\n",
       "      <th>50538</th>\n",
       "      <td>Какая минимальная зарплата в вашей стране ? &lt;EOS&gt;</td>\n",
       "      <td>What 's the minimum salary in your country ? &lt;...</td>\n",
       "      <td>What 's the minimum salary in this ? ? &lt;EOS&gt;</td>\n",
       "    </tr>\n",
       "    <tr>\n",
       "      <th>69434</th>\n",
       "      <td>Это было &lt;UNK&gt; покупкой . &lt;EOS&gt;</td>\n",
       "      <td>It was an impulse buy . &lt;EOS&gt;</td>\n",
       "      <td>It was a book . . &lt;EOS&gt;</td>\n",
       "    </tr>\n",
       "    <tr>\n",
       "      <th>21606</th>\n",
       "      <td>Моя собака была серьёзно больна . &lt;EOS&gt;</td>\n",
       "      <td>My pet dog was seriously ill . &lt;EOS&gt;</td>\n",
       "      <td>My mother was was n't . . &lt;EOS&gt;</td>\n",
       "    </tr>\n",
       "    <tr>\n",
       "      <th>1039</th>\n",
       "      <td>Я был глубоко потрясён этим известием . &lt;EOS&gt;</td>\n",
       "      <td>I was &lt;UNK&gt; disturbed by this news . &lt;EOS&gt;</td>\n",
       "      <td>I was very in by this . . &lt;EOS&gt;</td>\n",
       "    </tr>\n",
       "    <tr>\n",
       "      <th>59368</th>\n",
       "      <td>Из комнаты никому не выходить . &lt;EOS&gt;</td>\n",
       "      <td>Do n't anybody leave this room . &lt;EOS&gt;</td>\n",
       "      <td>You n't believe to Tom . . &lt;EOS&gt;</td>\n",
       "    </tr>\n",
       "    <tr>\n",
       "      <th>8670</th>\n",
       "      <td>Мне нужно много книг . &lt;EOS&gt;</td>\n",
       "      <td>I need many books . &lt;EOS&gt;</td>\n",
       "      <td>I I need more questions . &lt;EOS&gt;</td>\n",
       "    </tr>\n",
       "    <tr>\n",
       "      <th>54856</th>\n",
       "      <td>Это был не очень приятный опыт . &lt;EOS&gt;</td>\n",
       "      <td>It was not a pleasant experience . &lt;EOS&gt;</td>\n",
       "      <td>It was n't very &lt;UNK&gt; . . &lt;EOS&gt;</td>\n",
       "    </tr>\n",
       "    <tr>\n",
       "      <th>82183</th>\n",
       "      <td>Вы не могли бы передать спагетти ? &lt;EOS&gt;</td>\n",
       "      <td>Could you pass the spaghetti ? &lt;EOS&gt;</td>\n",
       "      <td>Can you believe me facts ? &lt;EOS&gt;</td>\n",
       "    </tr>\n",
       "    <tr>\n",
       "      <th>65378</th>\n",
       "      <td>Он тоже учит китайский . &lt;EOS&gt;</td>\n",
       "      <td>He is also studying Chinese . &lt;EOS&gt;</td>\n",
       "      <td>He is always angry . . &lt;EOS&gt;</td>\n",
       "    </tr>\n",
       "    <tr>\n",
       "      <th>26980</th>\n",
       "      <td>Не испытывай Божье терпение ! &lt;EOS&gt;</td>\n",
       "      <td>Do n't try the patience of God ! &lt;EOS&gt;</td>\n",
       "      <td>Do you forget to right me . &lt;EOS&gt; &lt;EOS&gt;</td>\n",
       "    </tr>\n",
       "    <tr>\n",
       "      <th>60986</th>\n",
       "      <td>Том не смог найти дорогу домой . &lt;EOS&gt;</td>\n",
       "      <td>Tom could n't find his way back home . &lt;EOS&gt;</td>\n",
       "      <td>did n't go the time home home . &lt;EOS&gt;</td>\n",
       "    </tr>\n",
       "    <tr>\n",
       "      <th>42577</th>\n",
       "      <td>Том купил машину на свои сбережения . &lt;EOS&gt;</td>\n",
       "      <td>Tom bought a car using his savings . &lt;EOS&gt;</td>\n",
       "      <td>Tom bought her letter for her . . &lt;EOS&gt;</td>\n",
       "    </tr>\n",
       "    <tr>\n",
       "      <th>42042</th>\n",
       "      <td>Ладно , бери . &lt;EOS&gt;</td>\n",
       "      <td>Well , take it . &lt;EOS&gt;</td>\n",
       "      <td>Yes , you you . &lt;EOS&gt;</td>\n",
       "    </tr>\n",
       "  </tbody>\n",
       "</table>\n",
       "</div>"
      ],
      "text/plain": [
       "                                                     Rus  \\\n",
       "43829         Вам нравится моя новая <UNK> шляпа ? <EOS>   \n",
       "27399                              Мы были <UNK> . <EOS>   \n",
       "58434          Как долго ты проработал в Бостоне ? <EOS>   \n",
       "51831                       Мистер Джонс в офисе ? <EOS>   \n",
       "50538  Какая минимальная зарплата в вашей стране ? <EOS>   \n",
       "69434                    Это было <UNK> покупкой . <EOS>   \n",
       "21606            Моя собака была серьёзно больна . <EOS>   \n",
       "1039       Я был глубоко потрясён этим известием . <EOS>   \n",
       "59368              Из комнаты никому не выходить . <EOS>   \n",
       "8670                        Мне нужно много книг . <EOS>   \n",
       "54856             Это был не очень приятный опыт . <EOS>   \n",
       "82183           Вы не могли бы передать спагетти ? <EOS>   \n",
       "65378                     Он тоже учит китайский . <EOS>   \n",
       "26980                Не испытывай Божье терпение ! <EOS>   \n",
       "60986             Том не смог найти дорогу домой . <EOS>   \n",
       "42577        Том купил машину на свои сбережения . <EOS>   \n",
       "42042                               Ладно , бери . <EOS>   \n",
       "\n",
       "                                              Eng_target  \\\n",
       "43829               Do you like my new straw hat ? <EOS>   \n",
       "27399                         We were passengers . <EOS>   \n",
       "58434            How long did you work in Boston ? <EOS>   \n",
       "51831                  Is Mr Jones in the office ? <EOS>   \n",
       "50538  What 's the minimum salary in your country ? <...   \n",
       "69434                      It was an impulse buy . <EOS>   \n",
       "21606               My pet dog was seriously ill . <EOS>   \n",
       "1039          I was <UNK> disturbed by this news . <EOS>   \n",
       "59368             Do n't anybody leave this room . <EOS>   \n",
       "8670                           I need many books . <EOS>   \n",
       "54856           It was not a pleasant experience . <EOS>   \n",
       "82183               Could you pass the spaghetti ? <EOS>   \n",
       "65378                He is also studying Chinese . <EOS>   \n",
       "26980             Do n't try the patience of God ! <EOS>   \n",
       "60986       Tom could n't find his way back home . <EOS>   \n",
       "42577         Tom bought a car using his savings . <EOS>   \n",
       "42042                             Well , take it . <EOS>   \n",
       "\n",
       "                                      Eng_predicted  \n",
       "43829               Do you like a new new ? ? <EOS>  \n",
       "27399                             We were . . <EOS>  \n",
       "58434           How long will you live in ? ? <EOS>  \n",
       "51831            Is there this in this room ? <EOS>  \n",
       "50538  What 's the minimum salary in this ? ? <EOS>  \n",
       "69434                       It was a book . . <EOS>  \n",
       "21606               My mother was was n't . . <EOS>  \n",
       "1039                I was very in by this . . <EOS>  \n",
       "59368              You n't believe to Tom . . <EOS>  \n",
       "8670                I I need more questions . <EOS>  \n",
       "54856               It was n't very <UNK> . . <EOS>  \n",
       "82183              Can you believe me facts ? <EOS>  \n",
       "65378                  He is always angry . . <EOS>  \n",
       "26980       Do you forget to right me . <EOS> <EOS>  \n",
       "60986         did n't go the time home home . <EOS>  \n",
       "42577       Tom bought her letter for her . . <EOS>  \n",
       "42042                         Yes , you you . <EOS>  "
      ]
     },
     "metadata": {},
     "output_type": "display_data"
    }
   ],
   "source": [
    "df_train_  = pd.DataFrame({\n",
    "        'Rus': [ decode( v , voc_ru ) for v in tqdm( init_seq) ],\n",
    "        'Eng_target': [ decode( v , voc_en ) for v in tqdm(reference) ],\n",
    "        'Eng_predicted': [ decode( v , voc_en ) for v in tqdm( np.squeeze(hypothesis)) ],\n",
    "    })\n",
    "\n",
    "display( df_train_.sample(17) )"
   ]
  },
  {
   "cell_type": "code",
   "execution_count": 57,
   "id": "f83ae83d",
   "metadata": {},
   "outputs": [],
   "source": [
    "del init_seq\n",
    "del hypothesis\n",
    "del reference"
   ]
  },
  {
   "cell_type": "markdown",
   "id": "0ba4f908",
   "metadata": {},
   "source": [
    "### на тестовом наборе"
   ]
  },
  {
   "cell_type": "code",
   "execution_count": 58,
   "id": "2afc6493",
   "metadata": {},
   "outputs": [
    {
     "data": {
      "application/vnd.jupyter.widget-view+json": {
       "model_id": "2a9d5e5b7353405987953b97ee43fcfa",
       "version_major": 2,
       "version_minor": 0
      },
      "text/plain": [
       "  0%|          | 0/10388 [00:00<?, ?it/s]"
      ]
     },
     "metadata": {},
     "output_type": "display_data"
    },
    {
     "data": {
      "application/vnd.jupyter.widget-view+json": {
       "model_id": "dcf2f69f516d4960b1a47ad2861f8be3",
       "version_major": 2,
       "version_minor": 0
      },
      "text/plain": [
       "  0%|          | 0/10388 [00:00<?, ?it/s]"
      ]
     },
     "metadata": {},
     "output_type": "display_data"
    }
   ],
   "source": [
    "ds_test = TextPairDataset(df_test, vocab=ds_train.vocab)"
   ]
  },
  {
   "cell_type": "code",
   "execution_count": 59,
   "id": "3dc5d9b0",
   "metadata": {},
   "outputs": [
    {
     "data": {
      "text/plain": [
       "(10388, 10)"
      ]
     },
     "metadata": {},
     "output_type": "display_data"
    },
    {
     "data": {
      "text/plain": [
       "(10388, 10)"
      ]
     },
     "metadata": {},
     "output_type": "display_data"
    },
    {
     "data": {
      "text/plain": [
       "(10388, 1, 10)"
      ]
     },
     "metadata": {},
     "output_type": "display_data"
    },
    {
     "name": "stdout",
     "output_type": "stream",
     "text": [
      "CPU times: user 3.35 s, sys: 436 ms, total: 3.79 s\n",
      "Wall time: 3.78 s\n"
     ]
    }
   ],
   "source": [
    "%%time \n",
    "\n",
    "init_seq = []\n",
    "hypothesis = []\n",
    "reference = []\n",
    "\n",
    "with torch.set_grad_enabled(False):\n",
    "    for input_tensor, target_tensor in DataLoader( ds_test, batch_size=batch_size, shuffle=False): \n",
    "        encoder_outputs, encoder_hidden = model_encoder(input_tensor.to(device))\n",
    "        decoder_outputs, _, _ = model_decoder(encoder_outputs, encoder_hidden, target_tensor.to(device))\n",
    "        \n",
    "        init_seq.append( input_tensor.cpu().numpy() )\n",
    "        \n",
    "        reference.append( target_tensor.cpu().numpy() )\n",
    "        \n",
    "        hypothesis.append( \n",
    "            np.swapaxes(np.argmax(\n",
    "                decoder_outputs.cpu().numpy()\n",
    "                ,axis=-1,keepdims=True),2,1)\n",
    "        )\n",
    "\n",
    "init_seq = np.vstack( init_seq )        \n",
    "reference = np.vstack( reference )\n",
    "hypothesis = np.vstack( hypothesis )\n",
    "\n",
    "display( init_seq.shape, reference.shape, hypothesis.shape, )"
   ]
  },
  {
   "cell_type": "code",
   "execution_count": 60,
   "id": "49af74c0",
   "metadata": {},
   "outputs": [
    {
     "data": {
      "text/plain": [
       "0.2609897553920746"
      ]
     },
     "metadata": {},
     "output_type": "display_data"
    },
    {
     "name": "stdout",
     "output_type": "stream",
     "text": [
      "CPU times: user 2.34 s, sys: 0 ns, total: 2.34 s\n",
      "Wall time: 2.34 s\n"
     ]
    }
   ],
   "source": [
    "%%time \n",
    "\n",
    "display( bleu_score( reference.astype(str) , hypothesis.astype(str) ) )"
   ]
  },
  {
   "cell_type": "code",
   "execution_count": 61,
   "id": "fdeddba9",
   "metadata": {},
   "outputs": [
    {
     "data": {
      "application/vnd.jupyter.widget-view+json": {
       "model_id": "ad1472a2ca2f4d7ab8916be21a3f36ba",
       "version_major": 2,
       "version_minor": 0
      },
      "text/plain": [
       "  0%|          | 0/10388 [00:00<?, ?it/s]"
      ]
     },
     "metadata": {},
     "output_type": "display_data"
    },
    {
     "data": {
      "application/vnd.jupyter.widget-view+json": {
       "model_id": "7c279a2a80cb4837856f463464dc64f8",
       "version_major": 2,
       "version_minor": 0
      },
      "text/plain": [
       "  0%|          | 0/10388 [00:00<?, ?it/s]"
      ]
     },
     "metadata": {},
     "output_type": "display_data"
    },
    {
     "data": {
      "application/vnd.jupyter.widget-view+json": {
       "model_id": "e18c67a2db524c6cb0fe2aee8008ecbf",
       "version_major": 2,
       "version_minor": 0
      },
      "text/plain": [
       "  0%|          | 0/10388 [00:00<?, ?it/s]"
      ]
     },
     "metadata": {},
     "output_type": "display_data"
    },
    {
     "data": {
      "text/html": [
       "<div>\n",
       "<style scoped>\n",
       "    .dataframe tbody tr th:only-of-type {\n",
       "        vertical-align: middle;\n",
       "    }\n",
       "\n",
       "    .dataframe tbody tr th {\n",
       "        vertical-align: top;\n",
       "    }\n",
       "\n",
       "    .dataframe thead th {\n",
       "        text-align: right;\n",
       "    }\n",
       "</style>\n",
       "<table border=\"1\" class=\"dataframe\">\n",
       "  <thead>\n",
       "    <tr style=\"text-align: right;\">\n",
       "      <th></th>\n",
       "      <th>Rus</th>\n",
       "      <th>Eng_target</th>\n",
       "      <th>Eng_predicted</th>\n",
       "    </tr>\n",
       "  </thead>\n",
       "  <tbody>\n",
       "    <tr>\n",
       "      <th>1298</th>\n",
       "      <td>Что ты с ними сделал ? &lt;EOS&gt;</td>\n",
       "      <td>What have you done with them ? &lt;EOS&gt;</td>\n",
       "      <td>What do you done to us ? &lt;EOS&gt;</td>\n",
       "    </tr>\n",
       "    <tr>\n",
       "      <th>484</th>\n",
       "      <td>У меня кончились деньги . &lt;EOS&gt;</td>\n",
       "      <td>I have run out of money . &lt;EOS&gt;</td>\n",
       "      <td>have to to of . . &lt;EOS&gt;</td>\n",
       "    </tr>\n",
       "    <tr>\n",
       "      <th>5155</th>\n",
       "      <td>Автобус был пустой . &lt;EOS&gt;</td>\n",
       "      <td>The bus was empty . &lt;EOS&gt;</td>\n",
       "      <td>The The plane was . . &lt;EOS&gt;</td>\n",
       "    </tr>\n",
       "    <tr>\n",
       "      <th>4800</th>\n",
       "      <td>Я стоял в ожидании автобуса . &lt;EOS&gt;</td>\n",
       "      <td>I stood waiting for a bus . &lt;EOS&gt;</td>\n",
       "      <td>I was to for the car . &lt;EOS&gt;</td>\n",
       "    </tr>\n",
       "    <tr>\n",
       "      <th>9192</th>\n",
       "      <td>Вы можете объяснить мне дорогу ? &lt;EOS&gt;</td>\n",
       "      <td>Can you explain the way to me ? &lt;EOS&gt;</td>\n",
       "      <td>you give me money me ? ? &lt;EOS&gt;</td>\n",
       "    </tr>\n",
       "    <tr>\n",
       "      <th>6874</th>\n",
       "      <td>Сегодня она принесла ему обед . &lt;EOS&gt;</td>\n",
       "      <td>She brought his lunch today . &lt;EOS&gt;</td>\n",
       "      <td>She She has her job . . &lt;EOS&gt;</td>\n",
       "    </tr>\n",
       "    <tr>\n",
       "      <th>4988</th>\n",
       "      <td>Я думаю , что ты слишком сильно пытаешься . &lt;EOS&gt;</td>\n",
       "      <td>I think you 're trying too hard . &lt;EOS&gt;</td>\n",
       "      <td>I think you can too too . . &lt;EOS&gt;</td>\n",
       "    </tr>\n",
       "    <tr>\n",
       "      <th>6486</th>\n",
       "      <td>Не думаю , что это честно . &lt;EOS&gt;</td>\n",
       "      <td>I do n't think it 's fair . &lt;EOS&gt;</td>\n",
       "      <td>I do n't think it 's . . &lt;EOS&gt;</td>\n",
       "    </tr>\n",
       "    <tr>\n",
       "      <th>1583</th>\n",
       "      <td>Почему они до сих пор здесь ? &lt;EOS&gt;</td>\n",
       "      <td>Why are they still here ? &lt;EOS&gt;</td>\n",
       "      <td>Why Why are we still ? ? &lt;EOS&gt;</td>\n",
       "    </tr>\n",
       "    <tr>\n",
       "      <th>2115</th>\n",
       "      <td>В последний раз я видел их в Албании . &lt;EOS&gt;</td>\n",
       "      <td>I last saw them in Albania . &lt;EOS&gt;</td>\n",
       "      <td>I I I should to the last Boston . &lt;EOS&gt;</td>\n",
       "    </tr>\n",
       "    <tr>\n",
       "      <th>1889</th>\n",
       "      <td>Я был весьма &lt;UNK&gt; его выступлением . &lt;EOS&gt;</td>\n",
       "      <td>I was deeply impressed by his speech . &lt;EOS&gt;</td>\n",
       "      <td>was watching in by him . . &lt;EOS&gt;</td>\n",
       "    </tr>\n",
       "    <tr>\n",
       "      <th>4582</th>\n",
       "      <td>Ты поэтому вернулся ? &lt;EOS&gt;</td>\n",
       "      <td>Is that why you came back ? &lt;EOS&gt;</td>\n",
       "      <td>you going Tom told ? ? &lt;EOS&gt;</td>\n",
       "    </tr>\n",
       "    <tr>\n",
       "      <th>6273</th>\n",
       "      <td>Он постоянно хвастается своими способностями ....</td>\n",
       "      <td>He always shows off his abilities . &lt;EOS&gt;</td>\n",
       "      <td>He has his his his . . &lt;EOS&gt;</td>\n",
       "    </tr>\n",
       "    <tr>\n",
       "      <th>6053</th>\n",
       "      <td>Я с Томом в больнице . &lt;EOS&gt;</td>\n",
       "      <td>I 'm at the hospital with Tom . &lt;EOS&gt;</td>\n",
       "      <td>I 'm talking the first to Tom . &lt;EOS&gt;</td>\n",
       "    </tr>\n",
       "    <tr>\n",
       "      <th>5986</th>\n",
       "      <td>Для спорта у меня нет свободного времени . &lt;EOS&gt;</td>\n",
       "      <td>I have no leisure for sport . &lt;EOS&gt;</td>\n",
       "      <td>I I do no for for us . &lt;EOS&gt;</td>\n",
       "    </tr>\n",
       "    <tr>\n",
       "      <th>4049</th>\n",
       "      <td>Дует лёгкий &lt;UNK&gt; . &lt;EOS&gt;</td>\n",
       "      <td>There is some wind . &lt;EOS&gt;</td>\n",
       "      <td>The &lt;UNK&gt; is &lt;UNK&gt; . . &lt;EOS&gt;</td>\n",
       "    </tr>\n",
       "    <tr>\n",
       "      <th>165</th>\n",
       "      <td>Я уверен , что в этом нет необходимости . &lt;EOS&gt;</td>\n",
       "      <td>I 'm sure that 's not necessary . &lt;EOS&gt;</td>\n",
       "      <td>I 'm sure that will wrong . . &lt;EOS&gt;</td>\n",
       "    </tr>\n",
       "  </tbody>\n",
       "</table>\n",
       "</div>"
      ],
      "text/plain": [
       "                                                    Rus  \\\n",
       "1298                       Что ты с ними сделал ? <EOS>   \n",
       "484                     У меня кончились деньги . <EOS>   \n",
       "5155                         Автобус был пустой . <EOS>   \n",
       "4800                Я стоял в ожидании автобуса . <EOS>   \n",
       "9192             Вы можете объяснить мне дорогу ? <EOS>   \n",
       "6874              Сегодня она принесла ему обед . <EOS>   \n",
       "4988  Я думаю , что ты слишком сильно пытаешься . <EOS>   \n",
       "6486                  Не думаю , что это честно . <EOS>   \n",
       "1583                Почему они до сих пор здесь ? <EOS>   \n",
       "2115       В последний раз я видел их в Албании . <EOS>   \n",
       "1889        Я был весьма <UNK> его выступлением . <EOS>   \n",
       "4582                        Ты поэтому вернулся ? <EOS>   \n",
       "6273  Он постоянно хвастается своими способностями ....   \n",
       "6053                       Я с Томом в больнице . <EOS>   \n",
       "5986   Для спорта у меня нет свободного времени . <EOS>   \n",
       "4049                          Дует лёгкий <UNK> . <EOS>   \n",
       "165     Я уверен , что в этом нет необходимости . <EOS>   \n",
       "\n",
       "                                        Eng_target  \\\n",
       "1298          What have you done with them ? <EOS>   \n",
       "484                I have run out of money . <EOS>   \n",
       "5155                     The bus was empty . <EOS>   \n",
       "4800             I stood waiting for a bus . <EOS>   \n",
       "9192         Can you explain the way to me ? <EOS>   \n",
       "6874           She brought his lunch today . <EOS>   \n",
       "4988       I think you 're trying too hard . <EOS>   \n",
       "6486             I do n't think it 's fair . <EOS>   \n",
       "1583               Why are they still here ? <EOS>   \n",
       "2115            I last saw them in Albania . <EOS>   \n",
       "1889  I was deeply impressed by his speech . <EOS>   \n",
       "4582             Is that why you came back ? <EOS>   \n",
       "6273     He always shows off his abilities . <EOS>   \n",
       "6053         I 'm at the hospital with Tom . <EOS>   \n",
       "5986           I have no leisure for sport . <EOS>   \n",
       "4049                    There is some wind . <EOS>   \n",
       "165        I 'm sure that 's not necessary . <EOS>   \n",
       "\n",
       "                                Eng_predicted  \n",
       "1298           What do you done to us ? <EOS>  \n",
       "484                   have to to of . . <EOS>  \n",
       "5155              The The plane was . . <EOS>  \n",
       "4800             I was to for the car . <EOS>  \n",
       "9192           you give me money me ? ? <EOS>  \n",
       "6874            She She has her job . . <EOS>  \n",
       "4988        I think you can too too . . <EOS>  \n",
       "6486           I do n't think it 's . . <EOS>  \n",
       "1583           Why Why are we still ? ? <EOS>  \n",
       "2115  I I I should to the last Boston . <EOS>  \n",
       "1889         was watching in by him . . <EOS>  \n",
       "4582             you going Tom told ? ? <EOS>  \n",
       "6273             He has his his his . . <EOS>  \n",
       "6053    I 'm talking the first to Tom . <EOS>  \n",
       "5986             I I do no for for us . <EOS>  \n",
       "4049             The <UNK> is <UNK> . . <EOS>  \n",
       "165       I 'm sure that will wrong . . <EOS>  "
      ]
     },
     "metadata": {},
     "output_type": "display_data"
    }
   ],
   "source": [
    "df_test_  = pd.DataFrame({\n",
    "        'Rus': [ decode( v , voc_ru ) for v in tqdm( init_seq) ],\n",
    "        'Eng_target': [ decode( v , voc_en ) for v in tqdm(reference) ],\n",
    "        'Eng_predicted': [ decode( v , voc_en ) for v in tqdm( np.squeeze(hypothesis)) ],\n",
    "    })\n",
    "\n",
    "display( df_test_.sample(17) )"
   ]
  },
  {
   "cell_type": "code",
   "execution_count": 62,
   "id": "311e057b",
   "metadata": {},
   "outputs": [],
   "source": [
    "del init_seq\n",
    "del hypothesis\n",
    "del reference"
   ]
  },
  {
   "cell_type": "markdown",
   "id": "40872313",
   "metadata": {},
   "source": [
    "---"
   ]
  },
  {
   "cell_type": "code",
   "execution_count": null,
   "id": "fd6b45e7",
   "metadata": {},
   "outputs": [],
   "source": [
    "# from torchtext.data.metrics import bleu_score\n",
    "\n",
    "# candidate_corpus = [\n",
    "#     ['My', 'full', 'pytorch', 'test'], \n",
    "#     ['Another', 'Sentence']\n",
    "# ]\n",
    "\n",
    "# references_corpus = [\n",
    "#     [\n",
    "#         ['My', 'full', 'pytorch', 'test'], \n",
    "#         ['Completely', 'Different']\n",
    "#     ], [\n",
    "#         ['No', 'Match']\n",
    "#     ]\n",
    "# ]\n",
    "\n",
    "# bleu_score(candidate_corpus, references_corpus)"
   ]
  },
  {
   "cell_type": "code",
   "execution_count": null,
   "id": "5b98096f",
   "metadata": {},
   "outputs": [],
   "source": [
    "# from nltk.translate.bleu_score import sentence_bleu\n",
    "\n",
    "# hypothesis = ['It', 'is', 'a', 'cat', 'at', 'room']\n",
    "# reference = ['It', 'is', 'a', 'cat', 'inside', 'the', 'room']\n",
    "\n",
    "# # hypothesis = [ '0', '1', '2', '3', '4', '6']\n",
    "# # reference = [ '0', '1', '2', '3',  '5', '7', '6' ]\n",
    "\n",
    "# bleu_score([hypothesis], [[reference,]])"
   ]
  },
  {
   "cell_type": "code",
   "execution_count": null,
   "id": "817b2b7d",
   "metadata": {},
   "outputs": [],
   "source": []
  }
 ],
 "metadata": {
  "kernelspec": {
   "display_name": "Python 3 (ipykernel)",
   "language": "python",
   "name": "python3"
  },
  "language_info": {
   "codemirror_mode": {
    "name": "ipython",
    "version": 3
   },
   "file_extension": ".py",
   "mimetype": "text/x-python",
   "name": "python",
   "nbconvert_exporter": "python",
   "pygments_lexer": "ipython3",
   "version": "3.11.3"
  },
  "toc": {
   "base_numbering": 1,
   "nav_menu": {},
   "number_sections": true,
   "sideBar": true,
   "skip_h1_title": false,
   "title_cell": "Table of Contents",
   "title_sidebar": "Contents",
   "toc_cell": false,
   "toc_position": {},
   "toc_section_display": true,
   "toc_window_display": false
  }
 },
 "nbformat": 4,
 "nbformat_minor": 5
}
