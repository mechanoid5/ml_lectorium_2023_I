{
 "cells": [
  {
   "cell_type": "markdown",
   "id": "fbed82f1",
   "metadata": {},
   "source": [
    "__система машинного перевода, модель SEQ2SEQ с механизмом Attention__ \n",
    "\n",
    "Евгений Борисов <esborisov@sevsu.ru>"
   ]
  },
  {
   "cell_type": "code",
   "execution_count": 1,
   "id": "7af62010",
   "metadata": {},
   "outputs": [],
   "source": [
    "import numpy as np\n",
    "from numpy import random as rng\n",
    "import matplotlib.pyplot as plt\n",
    "import pandas as pd\n",
    "from tqdm.auto import tqdm\n",
    "\n",
    "tqdm.pandas()\n",
    "np.set_printoptions(precision=2)"
   ]
  },
  {
   "cell_type": "markdown",
   "id": "609b48bd",
   "metadata": {},
   "source": [
    "# загружаем данные"
   ]
  },
  {
   "cell_type": "markdown",
   "id": "24fcdb07",
   "metadata": {},
   "source": [
    "https://drive.google.com/file/d/166Msc4oTDy2wFWd5_VnuZES3dduvpMD1/view?usp=share_link\n"
   ]
  },
  {
   "cell_type": "code",
   "execution_count": 2,
   "id": "a7b30e69",
   "metadata": {},
   "outputs": [],
   "source": [
    "# %%time \n",
    "\n",
    "# import zipfile\n",
    "# import requests\n",
    "# from io import StringIO,BytesIO\n",
    "\n",
    "# file_id = '166Msc4oTDy2wFWd5_VnuZES3dduvpMD1'\n",
    "# url = f'https://drive.google.com/uc?id={file_id}'\n",
    "\n",
    "# with requests.get(url,stream=True) as r:\n",
    "#     with zipfile.ZipFile(BytesIO(r.content)) as z:\n",
    "#         with z.open('Rus-Eng-small.tsv') as f:\n",
    "#             df = pd.read_csv( \n",
    "#                 StringIO( str(f.read(),encoding='utf-8' )[1:] ), \n",
    "#                 sep='\\t',\n",
    "#                 header=None,\n",
    "#                 names=['N_Rus','Rus','N_Eng','Eng'] \n",
    "#             )\n"
   ]
  },
  {
   "cell_type": "code",
   "execution_count": 3,
   "id": "cbd8a5b1",
   "metadata": {},
   "outputs": [],
   "source": [
    "df = pd.read_pickle('data/data.pkl.gz')"
   ]
  },
  {
   "cell_type": "code",
   "execution_count": 4,
   "id": "1dbe0158",
   "metadata": {},
   "outputs": [
    {
     "data": {
      "text/plain": [
       "200000"
      ]
     },
     "metadata": {},
     "output_type": "display_data"
    },
    {
     "data": {
      "text/html": [
       "<div>\n",
       "<style scoped>\n",
       "    .dataframe tbody tr th:only-of-type {\n",
       "        vertical-align: middle;\n",
       "    }\n",
       "\n",
       "    .dataframe tbody tr th {\n",
       "        vertical-align: top;\n",
       "    }\n",
       "\n",
       "    .dataframe thead th {\n",
       "        text-align: right;\n",
       "    }\n",
       "</style>\n",
       "<table border=\"1\" class=\"dataframe\">\n",
       "  <thead>\n",
       "    <tr style=\"text-align: right;\">\n",
       "      <th></th>\n",
       "      <th>N_Rus</th>\n",
       "      <th>Rus</th>\n",
       "      <th>N_Eng</th>\n",
       "      <th>Eng</th>\n",
       "    </tr>\n",
       "  </thead>\n",
       "  <tbody>\n",
       "    <tr>\n",
       "      <th>172727</th>\n",
       "      <td>4023742</td>\n",
       "      <td>Том редко пьёт кофе по вечерам.</td>\n",
       "      <td>2958108</td>\n",
       "      <td>Tom seldom drinks coffee in the evening.</td>\n",
       "    </tr>\n",
       "    <tr>\n",
       "      <th>113614</th>\n",
       "      <td>3257110</td>\n",
       "      <td>Если он вам нравится, можете оставить его себе!</td>\n",
       "      <td>1242881</td>\n",
       "      <td>If you like it, you can keep it!</td>\n",
       "    </tr>\n",
       "    <tr>\n",
       "      <th>136965</th>\n",
       "      <td>3592109</td>\n",
       "      <td>Все начинания трудны.</td>\n",
       "      <td>1010982</td>\n",
       "      <td>All beginnings are difficult.</td>\n",
       "    </tr>\n",
       "    <tr>\n",
       "      <th>92902</th>\n",
       "      <td>2900805</td>\n",
       "      <td>Сегодня я ни в чём не преуспел.</td>\n",
       "      <td>2900803</td>\n",
       "      <td>I wasn't successful at anything today.</td>\n",
       "    </tr>\n",
       "    <tr>\n",
       "      <th>85027</th>\n",
       "      <td>2778730</td>\n",
       "      <td>Я думаю поехать в следующем году за границу.</td>\n",
       "      <td>262160</td>\n",
       "      <td>I am thinking of going abroad next year.</td>\n",
       "    </tr>\n",
       "    <tr>\n",
       "      <th>33473</th>\n",
       "      <td>1643516</td>\n",
       "      <td>Это было бы здорово.</td>\n",
       "      <td>1897776</td>\n",
       "      <td>That would be great.</td>\n",
       "    </tr>\n",
       "    <tr>\n",
       "      <th>114693</th>\n",
       "      <td>661055</td>\n",
       "      <td>Я почти закончил.</td>\n",
       "      <td>2247908</td>\n",
       "      <td>I'm almost finished.</td>\n",
       "    </tr>\n",
       "    <tr>\n",
       "      <th>128773</th>\n",
       "      <td>2229726</td>\n",
       "      <td>Не думаю, что он придёт.</td>\n",
       "      <td>1490724</td>\n",
       "      <td>I don't think he will come.</td>\n",
       "    </tr>\n",
       "    <tr>\n",
       "      <th>183701</th>\n",
       "      <td>4143485</td>\n",
       "      <td>Иди работать.</td>\n",
       "      <td>2230781</td>\n",
       "      <td>Go to work.</td>\n",
       "    </tr>\n",
       "    <tr>\n",
       "      <th>100375</th>\n",
       "      <td>3015985</td>\n",
       "      <td>Нам придётся что-то с этим делать.</td>\n",
       "      <td>2892428</td>\n",
       "      <td>We're going to have to do something about that.</td>\n",
       "    </tr>\n",
       "  </tbody>\n",
       "</table>\n",
       "</div>"
      ],
      "text/plain": [
       "          N_Rus                                              Rus    N_Eng  \\\n",
       "172727  4023742                  Том редко пьёт кофе по вечерам.  2958108   \n",
       "113614  3257110  Если он вам нравится, можете оставить его себе!  1242881   \n",
       "136965  3592109                            Все начинания трудны.  1010982   \n",
       "92902   2900805                  Сегодня я ни в чём не преуспел.  2900803   \n",
       "85027   2778730     Я думаю поехать в следующем году за границу.   262160   \n",
       "33473   1643516                             Это было бы здорово.  1897776   \n",
       "114693   661055                                Я почти закончил.  2247908   \n",
       "128773  2229726                         Не думаю, что он придёт.  1490724   \n",
       "183701  4143485                                    Иди работать.  2230781   \n",
       "100375  3015985               Нам придётся что-то с этим делать.  2892428   \n",
       "\n",
       "                                                    Eng  \n",
       "172727         Tom seldom drinks coffee in the evening.  \n",
       "113614                 If you like it, you can keep it!  \n",
       "136965                    All beginnings are difficult.  \n",
       "92902            I wasn't successful at anything today.  \n",
       "85027          I am thinking of going abroad next year.  \n",
       "33473                              That would be great.  \n",
       "114693                             I'm almost finished.  \n",
       "128773                      I don't think he will come.  \n",
       "183701                                      Go to work.  \n",
       "100375  We're going to have to do something about that.  "
      ]
     },
     "metadata": {},
     "output_type": "display_data"
    }
   ],
   "source": [
    "display(len(df))\n",
    "display(df.sample(10))"
   ]
  },
  {
   "cell_type": "code",
   "execution_count": 5,
   "id": "b62ef6e7",
   "metadata": {},
   "outputs": [
    {
     "name": "stdout",
     "output_type": "stream",
     "text": [
      "<class 'pandas.core.frame.DataFrame'>\n",
      "RangeIndex: 200000 entries, 0 to 199999\n",
      "Data columns (total 4 columns):\n",
      " #   Column  Non-Null Count   Dtype \n",
      "---  ------  --------------   ----- \n",
      " 0   N_Rus   200000 non-null  int64 \n",
      " 1   Rus     200000 non-null  object\n",
      " 2   N_Eng   200000 non-null  int64 \n",
      " 3   Eng     200000 non-null  object\n",
      "dtypes: int64(2), object(2)\n",
      "memory usage: 6.1+ MB\n"
     ]
    },
    {
     "data": {
      "text/plain": [
       "None"
      ]
     },
     "metadata": {},
     "output_type": "display_data"
    }
   ],
   "source": [
    "display( df.info() )"
   ]
  },
  {
   "cell_type": "code",
   "execution_count": 6,
   "id": "5979ccc9",
   "metadata": {},
   "outputs": [],
   "source": [
    "# df.to_pickle('tmp/data.pkl')"
   ]
  },
  {
   "cell_type": "code",
   "execution_count": 7,
   "id": "20f17dc0",
   "metadata": {},
   "outputs": [
    {
     "data": {
      "text/plain": [
       "200000"
      ]
     },
     "metadata": {},
     "output_type": "display_data"
    },
    {
     "data": {
      "text/plain": [
       "147087"
      ]
     },
     "metadata": {},
     "output_type": "display_data"
    }
   ],
   "source": [
    "display( len(df) )\n",
    "df = df.drop_duplicates('N_Rus').drop_duplicates('N_Eng').reset_index(drop=True)\n",
    "display( len(df) )"
   ]
  },
  {
   "cell_type": "markdown",
   "id": "105074f4",
   "metadata": {},
   "source": [
    "# выбираем пары для обучения модели"
   ]
  },
  {
   "cell_type": "markdown",
   "id": "f301cb5e",
   "metadata": {},
   "source": [
    "## анализ словаря"
   ]
  },
  {
   "cell_type": "code",
   "execution_count": 8,
   "id": "8d419cc2",
   "metadata": {},
   "outputs": [],
   "source": [
    "# !pip install razdel"
   ]
  },
  {
   "cell_type": "code",
   "execution_count": 9,
   "id": "f6ed7589",
   "metadata": {},
   "outputs": [],
   "source": [
    "from razdel import tokenize\n",
    "from nltk.tokenize import word_tokenize as nltk_tokenize_word"
   ]
  },
  {
   "cell_type": "code",
   "execution_count": 10,
   "id": "f791cfc1",
   "metadata": {},
   "outputs": [],
   "source": [
    "# CountVectorizer(\n",
    "#     *, \n",
    "#     input='content', \n",
    "#     encoding='utf-8', \n",
    "#     decode_error='strict', \n",
    "#     strip_accents=None, \n",
    "#     lowercase=True, \n",
    "#     preprocessor=None, \n",
    "#     tokenizer=None, \n",
    "#     stop_words=None, \n",
    "#     token_pattern='(?u)\\b\\w\\w+\\b', \n",
    "#     ngram_range=(1, 1), \n",
    "#     analyzer='word', \n",
    "#     max_df=1.0, \n",
    "#     min_df=1, \n",
    "#     max_features=None, \n",
    "#     vocabulary=None, \n",
    "#     binary=False, \n",
    "#     dtype=<class 'numpy.int64'>\n",
    "# )"
   ]
  },
  {
   "cell_type": "code",
   "execution_count": 11,
   "id": "d9109423",
   "metadata": {},
   "outputs": [],
   "source": [
    "from sklearn.feature_extraction.text import CountVectorizer\n",
    "from razdel import tokenize"
   ]
  },
  {
   "cell_type": "code",
   "execution_count": 12,
   "id": "13896bb1",
   "metadata": {},
   "outputs": [
    {
     "data": {
      "application/vnd.jupyter.widget-view+json": {
       "model_id": "a8b1721591f14facae05b308360e4531",
       "version_major": 2,
       "version_minor": 0
      },
      "text/plain": [
       "  0%|          | 0/147087 [00:00<?, ?it/s]"
      ]
     },
     "metadata": {},
     "output_type": "display_data"
    }
   ],
   "source": [
    "import re\n",
    "\n",
    "df['Rus'] = df['Rus'].progress_apply(lambda s: re.sub(r'[«»]','\"',s))"
   ]
  },
  {
   "cell_type": "code",
   "execution_count": 13,
   "id": "c6a0e010",
   "metadata": {},
   "outputs": [
    {
     "data": {
      "text/plain": [
       "29472"
      ]
     },
     "metadata": {},
     "output_type": "display_data"
    },
    {
     "data": {
      "text/html": [
       "<div>\n",
       "<style scoped>\n",
       "    .dataframe tbody tr th:only-of-type {\n",
       "        vertical-align: middle;\n",
       "    }\n",
       "\n",
       "    .dataframe tbody tr th {\n",
       "        vertical-align: top;\n",
       "    }\n",
       "\n",
       "    .dataframe thead th {\n",
       "        text-align: right;\n",
       "    }\n",
       "</style>\n",
       "<table border=\"1\" class=\"dataframe\">\n",
       "  <thead>\n",
       "    <tr style=\"text-align: right;\">\n",
       "      <th></th>\n",
       "      <th>word</th>\n",
       "      <th>tf</th>\n",
       "    </tr>\n",
       "    <tr>\n",
       "      <th>index</th>\n",
       "      <th></th>\n",
       "      <th></th>\n",
       "    </tr>\n",
       "  </thead>\n",
       "  <tbody>\n",
       "    <tr>\n",
       "      <th>0</th>\n",
       "      <td>!</td>\n",
       "      <td>3818</td>\n",
       "    </tr>\n",
       "    <tr>\n",
       "      <th>1</th>\n",
       "      <td>!!!</td>\n",
       "      <td>5</td>\n",
       "    </tr>\n",
       "    <tr>\n",
       "      <th>2</th>\n",
       "      <td>!..</td>\n",
       "      <td>3</td>\n",
       "    </tr>\n",
       "    <tr>\n",
       "      <th>3</th>\n",
       "      <td>\"</td>\n",
       "      <td>4745</td>\n",
       "    </tr>\n",
       "    <tr>\n",
       "      <th>4</th>\n",
       "      <td>$</td>\n",
       "      <td>3</td>\n",
       "    </tr>\n",
       "    <tr>\n",
       "      <th>...</th>\n",
       "      <td>...</td>\n",
       "      <td>...</td>\n",
       "    </tr>\n",
       "    <tr>\n",
       "      <th>29467</th>\n",
       "      <td>“</td>\n",
       "      <td>9</td>\n",
       "    </tr>\n",
       "    <tr>\n",
       "      <th>29468</th>\n",
       "      <td>”</td>\n",
       "      <td>5</td>\n",
       "    </tr>\n",
       "    <tr>\n",
       "      <th>29469</th>\n",
       "      <td>„</td>\n",
       "      <td>4</td>\n",
       "    </tr>\n",
       "    <tr>\n",
       "      <th>29470</th>\n",
       "      <td>…</td>\n",
       "      <td>10</td>\n",
       "    </tr>\n",
       "    <tr>\n",
       "      <th>29471</th>\n",
       "      <td>№</td>\n",
       "      <td>5</td>\n",
       "    </tr>\n",
       "  </tbody>\n",
       "</table>\n",
       "<p>29472 rows × 2 columns</p>\n",
       "</div>"
      ],
      "text/plain": [
       "      word    tf\n",
       "index           \n",
       "0        !  3818\n",
       "1      !!!     5\n",
       "2      !..     3\n",
       "3        \"  4745\n",
       "4        $     3\n",
       "...    ...   ...\n",
       "29467    “     9\n",
       "29468    ”     5\n",
       "29469    „     4\n",
       "29470    …    10\n",
       "29471    №     5\n",
       "\n",
       "[29472 rows x 2 columns]"
      ]
     },
     "metadata": {},
     "output_type": "display_data"
    },
    {
     "data": {
      "text/html": [
       "<div>\n",
       "<style scoped>\n",
       "    .dataframe tbody tr th:only-of-type {\n",
       "        vertical-align: middle;\n",
       "    }\n",
       "\n",
       "    .dataframe tbody tr th {\n",
       "        vertical-align: top;\n",
       "    }\n",
       "\n",
       "    .dataframe thead th {\n",
       "        text-align: right;\n",
       "    }\n",
       "</style>\n",
       "<table border=\"1\" class=\"dataframe\">\n",
       "  <thead>\n",
       "    <tr style=\"text-align: right;\">\n",
       "      <th></th>\n",
       "      <th>count</th>\n",
       "      <th>mean</th>\n",
       "      <th>std</th>\n",
       "      <th>min</th>\n",
       "      <th>1%</th>\n",
       "      <th>25%</th>\n",
       "      <th>50%</th>\n",
       "      <th>75%</th>\n",
       "      <th>95%</th>\n",
       "      <th>99%</th>\n",
       "      <th>max</th>\n",
       "    </tr>\n",
       "  </thead>\n",
       "  <tbody>\n",
       "    <tr>\n",
       "      <th>tf</th>\n",
       "      <td>29472.0</td>\n",
       "      <td>34.5985</td>\n",
       "      <td>864.259552</td>\n",
       "      <td>2.0</td>\n",
       "      <td>2.0</td>\n",
       "      <td>2.0</td>\n",
       "      <td>4.0</td>\n",
       "      <td>9.0</td>\n",
       "      <td>61.0</td>\n",
       "      <td>324.58</td>\n",
       "      <td>126855.0</td>\n",
       "    </tr>\n",
       "  </tbody>\n",
       "</table>\n",
       "</div>"
      ],
      "text/plain": [
       "      count     mean         std  min   1%  25%  50%  75%   95%     99%  \\\n",
       "tf  29472.0  34.5985  864.259552  2.0  2.0  2.0  4.0  9.0  61.0  324.58   \n",
       "\n",
       "         max  \n",
       "tf  126855.0  "
      ]
     },
     "metadata": {},
     "output_type": "display_data"
    }
   ],
   "source": [
    "def tokenizer_ru(s): return [ t.text for t in tokenize(s) ] \n",
    "\n",
    "cv_ru = CountVectorizer(\n",
    "        lowercase=False,\n",
    "        token_pattern=None,\n",
    "        tokenizer=tokenizer_ru, \n",
    "        min_df=2,\n",
    "    ).fit(df['Rus'])\n",
    "\n",
    "vocab_ru = cv_ru.vocabulary_\n",
    "display( len(vocab_ru) )\n",
    "\n",
    "vocab_ru_ = (\n",
    "    pd.DataFrame(\n",
    "        [ [v,k] for k,v in  vocab_ru.items() ],columns=['index','word']\n",
    "    )\n",
    "        .sort_values(by='index')\n",
    "        .set_index('index')\n",
    "    )\n",
    "vocab_ru_['tf'] = cv_ru.transform(df['Rus']).sum(axis=0).T\n",
    "\n",
    "display( vocab_ru_ )\n",
    "\n",
    "# vocab_ru_.sort_values(by='tf').to_csv('tmp/vocab_ru.csv',index=False,sep='\\t')\n",
    "\n",
    "display( vocab_ru_[['tf']].describe([.01, .25, .75, .95, .99 ]).T )"
   ]
  },
  {
   "cell_type": "code",
   "execution_count": 14,
   "id": "981c5589",
   "metadata": {},
   "outputs": [],
   "source": [
    "# vocab_ru_.query('tf<2').sort_values(by='tf')"
   ]
  },
  {
   "cell_type": "code",
   "execution_count": 15,
   "id": "cec2d17e",
   "metadata": {},
   "outputs": [],
   "source": [
    "# vocab_ru_.query('tf>188').sort_values(by='tf')"
   ]
  },
  {
   "cell_type": "code",
   "execution_count": 16,
   "id": "6dacee2c",
   "metadata": {},
   "outputs": [],
   "source": [
    "del vocab_ru_"
   ]
  },
  {
   "cell_type": "markdown",
   "id": "f49b7e06",
   "metadata": {},
   "source": [
    "---"
   ]
  },
  {
   "cell_type": "code",
   "execution_count": 17,
   "id": "24f30954",
   "metadata": {},
   "outputs": [
    {
     "data": {
      "text/plain": [
       "13494"
      ]
     },
     "metadata": {},
     "output_type": "display_data"
    },
    {
     "data": {
      "text/html": [
       "<div>\n",
       "<style scoped>\n",
       "    .dataframe tbody tr th:only-of-type {\n",
       "        vertical-align: middle;\n",
       "    }\n",
       "\n",
       "    .dataframe tbody tr th {\n",
       "        vertical-align: top;\n",
       "    }\n",
       "\n",
       "    .dataframe thead th {\n",
       "        text-align: right;\n",
       "    }\n",
       "</style>\n",
       "<table border=\"1\" class=\"dataframe\">\n",
       "  <thead>\n",
       "    <tr style=\"text-align: right;\">\n",
       "      <th></th>\n",
       "      <th>word</th>\n",
       "      <th>tf</th>\n",
       "    </tr>\n",
       "    <tr>\n",
       "      <th>index</th>\n",
       "      <th></th>\n",
       "      <th></th>\n",
       "    </tr>\n",
       "  </thead>\n",
       "  <tbody>\n",
       "    <tr>\n",
       "      <th>0</th>\n",
       "      <td>!</td>\n",
       "      <td>3397</td>\n",
       "    </tr>\n",
       "    <tr>\n",
       "      <th>1</th>\n",
       "      <td>$</td>\n",
       "      <td>37</td>\n",
       "    </tr>\n",
       "    <tr>\n",
       "      <th>2</th>\n",
       "      <td>%</td>\n",
       "      <td>56</td>\n",
       "    </tr>\n",
       "    <tr>\n",
       "      <th>3</th>\n",
       "      <td>&amp;</td>\n",
       "      <td>3</td>\n",
       "    </tr>\n",
       "    <tr>\n",
       "      <th>4</th>\n",
       "      <td>'</td>\n",
       "      <td>207</td>\n",
       "    </tr>\n",
       "    <tr>\n",
       "      <th>...</th>\n",
       "      <td>...</td>\n",
       "      <td>...</td>\n",
       "    </tr>\n",
       "    <tr>\n",
       "      <th>13489</th>\n",
       "      <td>—</td>\n",
       "      <td>45</td>\n",
       "    </tr>\n",
       "    <tr>\n",
       "      <th>13490</th>\n",
       "      <td>‘</td>\n",
       "      <td>23</td>\n",
       "    </tr>\n",
       "    <tr>\n",
       "      <th>13491</th>\n",
       "      <td>’</td>\n",
       "      <td>103</td>\n",
       "    </tr>\n",
       "    <tr>\n",
       "      <th>13492</th>\n",
       "      <td>“</td>\n",
       "      <td>27</td>\n",
       "    </tr>\n",
       "    <tr>\n",
       "      <th>13493</th>\n",
       "      <td>”</td>\n",
       "      <td>27</td>\n",
       "    </tr>\n",
       "  </tbody>\n",
       "</table>\n",
       "<p>13494 rows × 2 columns</p>\n",
       "</div>"
      ],
      "text/plain": [
       "      word    tf\n",
       "index           \n",
       "0        !  3397\n",
       "1        $    37\n",
       "2        %    56\n",
       "3        &     3\n",
       "4        '   207\n",
       "...    ...   ...\n",
       "13489    —    45\n",
       "13490    ‘    23\n",
       "13491    ’   103\n",
       "13492    “    27\n",
       "13493    ”    27\n",
       "\n",
       "[13494 rows x 2 columns]"
      ]
     },
     "metadata": {},
     "output_type": "display_data"
    },
    {
     "data": {
      "text/html": [
       "<div>\n",
       "<style scoped>\n",
       "    .dataframe tbody tr th:only-of-type {\n",
       "        vertical-align: middle;\n",
       "    }\n",
       "\n",
       "    .dataframe tbody tr th {\n",
       "        vertical-align: top;\n",
       "    }\n",
       "\n",
       "    .dataframe thead th {\n",
       "        text-align: right;\n",
       "    }\n",
       "</style>\n",
       "<table border=\"1\" class=\"dataframe\">\n",
       "  <thead>\n",
       "    <tr style=\"text-align: right;\">\n",
       "      <th></th>\n",
       "      <th>count</th>\n",
       "      <th>mean</th>\n",
       "      <th>std</th>\n",
       "      <th>min</th>\n",
       "      <th>1%</th>\n",
       "      <th>25%</th>\n",
       "      <th>50%</th>\n",
       "      <th>75%</th>\n",
       "      <th>95%</th>\n",
       "      <th>99%</th>\n",
       "      <th>max</th>\n",
       "    </tr>\n",
       "  </thead>\n",
       "  <tbody>\n",
       "    <tr>\n",
       "      <th>tf</th>\n",
       "      <td>13494.0</td>\n",
       "      <td>88.466726</td>\n",
       "      <td>1370.468131</td>\n",
       "      <td>2.0</td>\n",
       "      <td>2.0</td>\n",
       "      <td>3.0</td>\n",
       "      <td>5.0</td>\n",
       "      <td>17.0</td>\n",
       "      <td>168.0</td>\n",
       "      <td>1119.35</td>\n",
       "      <td>127460.0</td>\n",
       "    </tr>\n",
       "  </tbody>\n",
       "</table>\n",
       "</div>"
      ],
      "text/plain": [
       "      count       mean          std  min   1%  25%  50%   75%    95%      99%  \\\n",
       "tf  13494.0  88.466726  1370.468131  2.0  2.0  3.0  5.0  17.0  168.0  1119.35   \n",
       "\n",
       "         max  \n",
       "tf  127460.0  "
      ]
     },
     "metadata": {},
     "output_type": "display_data"
    }
   ],
   "source": [
    "# from sklearn.feature_extraction.text import CountVectorizer\n",
    "# from nltk.tokenize import word_tokenize as nltk_tokenize_word\n",
    "\n",
    "def tokenizer_en(s): return nltk_tokenize_word(s,language='english') \n",
    "\n",
    "cv_en = CountVectorizer(\n",
    "        lowercase=False,\n",
    "        token_pattern=None,\n",
    "        tokenizer=tokenizer_en, \n",
    "        min_df=2,\n",
    "    ).fit(df['Eng'])\n",
    "\n",
    "vocab_en = cv_en.vocabulary_\n",
    "display( len(vocab_en) )\n",
    "\n",
    "vocab_en_ = (\n",
    "    pd.DataFrame(\n",
    "        [ [v,k] for k,v in  vocab_en.items() ],columns=['index','word']\n",
    "    )\n",
    "        .sort_values(by='index')\n",
    "        .set_index('index')\n",
    "    )\n",
    "\n",
    "vocab_en_['tf'] = cv_en.transform(df['Eng']).sum(axis=0).T\n",
    "\n",
    "display( vocab_en_ )\n",
    "\n",
    "# vocab_en_.sort_values(by='tf').to_csv('tmp/vocab_en.csv',index=False,sep='\\t')\n",
    "\n",
    "display( vocab_en_[['tf']].describe([.01, .25, .75, .95, .99 ]).T )"
   ]
  },
  {
   "cell_type": "code",
   "execution_count": 18,
   "id": "8077b534",
   "metadata": {},
   "outputs": [],
   "source": [
    "del vocab_en_"
   ]
  },
  {
   "cell_type": "markdown",
   "id": "9308617b",
   "metadata": {},
   "source": [
    "## выделяем тестовый набор"
   ]
  },
  {
   "cell_type": "code",
   "execution_count": 19,
   "id": "4aaf2f1e",
   "metadata": {},
   "outputs": [
    {
     "data": {
      "application/vnd.jupyter.widget-view+json": {
       "model_id": "de69432fd33645c1a700310ebee64fea",
       "version_major": 2,
       "version_minor": 0
      },
      "text/plain": [
       "  0%|          | 0/147087 [00:00<?, ?it/s]"
      ]
     },
     "metadata": {},
     "output_type": "display_data"
    },
    {
     "data": {
      "application/vnd.jupyter.widget-view+json": {
       "model_id": "0c835689fa854d7d8aae5cffa2f50973",
       "version_major": 2,
       "version_minor": 0
      },
      "text/plain": [
       "  0%|          | 0/147087 [00:00<?, ?it/s]"
      ]
     },
     "metadata": {},
     "output_type": "display_data"
    }
   ],
   "source": [
    "# считаем количество слов\n",
    "df['Rus_len_seq'] = df['Rus'].progress_apply(lambda s: len( tokenizer_ru(s) )  )\n",
    "df['Eng_len_seq'] = df['Eng'].progress_apply(lambda s: len( tokenizer_en(s) ) )"
   ]
  },
  {
   "cell_type": "code",
   "execution_count": 20,
   "id": "b83d5995",
   "metadata": {},
   "outputs": [
    {
     "data": {
      "text/html": [
       "<div>\n",
       "<style scoped>\n",
       "    .dataframe tbody tr th:only-of-type {\n",
       "        vertical-align: middle;\n",
       "    }\n",
       "\n",
       "    .dataframe tbody tr th {\n",
       "        vertical-align: top;\n",
       "    }\n",
       "\n",
       "    .dataframe thead th {\n",
       "        text-align: right;\n",
       "    }\n",
       "</style>\n",
       "<table border=\"1\" class=\"dataframe\">\n",
       "  <thead>\n",
       "    <tr style=\"text-align: right;\">\n",
       "      <th></th>\n",
       "      <th>count</th>\n",
       "      <th>mean</th>\n",
       "      <th>std</th>\n",
       "      <th>min</th>\n",
       "      <th>1%</th>\n",
       "      <th>25%</th>\n",
       "      <th>50%</th>\n",
       "      <th>75%</th>\n",
       "      <th>95%</th>\n",
       "      <th>99%</th>\n",
       "      <th>max</th>\n",
       "    </tr>\n",
       "  </thead>\n",
       "  <tbody>\n",
       "    <tr>\n",
       "      <th>Rus_len_seq</th>\n",
       "      <td>147087</td>\n",
       "      <td>7</td>\n",
       "      <td>4</td>\n",
       "      <td>2</td>\n",
       "      <td>3</td>\n",
       "      <td>5</td>\n",
       "      <td>6</td>\n",
       "      <td>8</td>\n",
       "      <td>13</td>\n",
       "      <td>20</td>\n",
       "      <td>173</td>\n",
       "    </tr>\n",
       "    <tr>\n",
       "      <th>Eng_len_seq</th>\n",
       "      <td>147087</td>\n",
       "      <td>8</td>\n",
       "      <td>4</td>\n",
       "      <td>2</td>\n",
       "      <td>4</td>\n",
       "      <td>6</td>\n",
       "      <td>7</td>\n",
       "      <td>9</td>\n",
       "      <td>14</td>\n",
       "      <td>22</td>\n",
       "      <td>232</td>\n",
       "    </tr>\n",
       "  </tbody>\n",
       "</table>\n",
       "</div>"
      ],
      "text/plain": [
       "              count  mean  std  min  1%  25%  50%  75%  95%  99%  max\n",
       "Rus_len_seq  147087     7    4    2   3    5    6    8   13   20  173\n",
       "Eng_len_seq  147087     8    4    2   4    6    7    9   14   22  232"
      ]
     },
     "metadata": {},
     "output_type": "display_data"
    }
   ],
   "source": [
    "display( df[['Rus_len_seq','Eng_len_seq']].describe([.01, .25, .75, .95, .99 ]).astype(int).T )"
   ]
  },
  {
   "cell_type": "code",
   "execution_count": 21,
   "id": "9e695fc9",
   "metadata": {},
   "outputs": [
    {
     "data": {
      "text/plain": [
       "137523"
      ]
     },
     "metadata": {},
     "output_type": "display_data"
    },
    {
     "data": {
      "text/html": [
       "<div>\n",
       "<style scoped>\n",
       "    .dataframe tbody tr th:only-of-type {\n",
       "        vertical-align: middle;\n",
       "    }\n",
       "\n",
       "    .dataframe tbody tr th {\n",
       "        vertical-align: top;\n",
       "    }\n",
       "\n",
       "    .dataframe thead th {\n",
       "        text-align: right;\n",
       "    }\n",
       "</style>\n",
       "<table border=\"1\" class=\"dataframe\">\n",
       "  <thead>\n",
       "    <tr style=\"text-align: right;\">\n",
       "      <th></th>\n",
       "      <th>N_Rus</th>\n",
       "      <th>Rus</th>\n",
       "      <th>N_Eng</th>\n",
       "      <th>Eng</th>\n",
       "      <th>Rus_len_seq</th>\n",
       "      <th>Eng_len_seq</th>\n",
       "    </tr>\n",
       "  </thead>\n",
       "  <tbody>\n",
       "    <tr>\n",
       "      <th>126222</th>\n",
       "      <td>4000804</td>\n",
       "      <td>Я написал четырёхмиллионное предложение на Тат...</td>\n",
       "      <td>4000002</td>\n",
       "      <td>I wrote the four millionth sentence in Tatoeba.</td>\n",
       "      <td>7</td>\n",
       "      <td>9</td>\n",
       "    </tr>\n",
       "    <tr>\n",
       "      <th>49282</th>\n",
       "      <td>2494776</td>\n",
       "      <td>Кто-нибудь здесь говорит по-французски?</td>\n",
       "      <td>2451538</td>\n",
       "      <td>Does anyone here know French?</td>\n",
       "      <td>5</td>\n",
       "      <td>6</td>\n",
       "    </tr>\n",
       "    <tr>\n",
       "      <th>46470</th>\n",
       "      <td>2419568</td>\n",
       "      <td>Он любит её, но она не любит его.</td>\n",
       "      <td>302878</td>\n",
       "      <td>He loves her, but she doesn't like him.</td>\n",
       "      <td>10</td>\n",
       "      <td>11</td>\n",
       "    </tr>\n",
       "    <tr>\n",
       "      <th>105959</th>\n",
       "      <td>3639944</td>\n",
       "      <td>Ты что, правда не знаешь?</td>\n",
       "      <td>3636508</td>\n",
       "      <td>Do you really not know?</td>\n",
       "      <td>7</td>\n",
       "      <td>6</td>\n",
       "    </tr>\n",
       "    <tr>\n",
       "      <th>70402</th>\n",
       "      <td>2890219</td>\n",
       "      <td>Один из игроков был травмирован во время игры.</td>\n",
       "      <td>2890218</td>\n",
       "      <td>One of the players was hurt during the game.</td>\n",
       "      <td>9</td>\n",
       "      <td>10</td>\n",
       "    </tr>\n",
       "    <tr>\n",
       "      <th>132479</th>\n",
       "      <td>4080659</td>\n",
       "      <td>Я хочу себе лёгкое весеннее пальто.</td>\n",
       "      <td>2267112</td>\n",
       "      <td>I want a light spring coat.</td>\n",
       "      <td>7</td>\n",
       "      <td>7</td>\n",
       "    </tr>\n",
       "    <tr>\n",
       "      <th>43349</th>\n",
       "      <td>2284057</td>\n",
       "      <td>Он работает в лаборатории.</td>\n",
       "      <td>290963</td>\n",
       "      <td>He works in the laboratory.</td>\n",
       "      <td>5</td>\n",
       "      <td>6</td>\n",
       "    </tr>\n",
       "  </tbody>\n",
       "</table>\n",
       "</div>"
      ],
      "text/plain": [
       "          N_Rus                                                Rus    N_Eng  \\\n",
       "126222  4000804  Я написал четырёхмиллионное предложение на Тат...  4000002   \n",
       "49282   2494776            Кто-нибудь здесь говорит по-французски?  2451538   \n",
       "46470   2419568                  Он любит её, но она не любит его.   302878   \n",
       "105959  3639944                          Ты что, правда не знаешь?  3636508   \n",
       "70402   2890219     Один из игроков был травмирован во время игры.  2890218   \n",
       "132479  4080659                Я хочу себе лёгкое весеннее пальто.  2267112   \n",
       "43349   2284057                         Он работает в лаборатории.   290963   \n",
       "\n",
       "                                                    Eng  Rus_len_seq  \\\n",
       "126222  I wrote the four millionth sentence in Tatoeba.            7   \n",
       "49282                     Does anyone here know French?            5   \n",
       "46470           He loves her, but she doesn't like him.           10   \n",
       "105959                          Do you really not know?            7   \n",
       "70402      One of the players was hurt during the game.            9   \n",
       "132479                      I want a light spring coat.            7   \n",
       "43349                       He works in the laboratory.            5   \n",
       "\n",
       "        Eng_len_seq  \n",
       "126222            9  \n",
       "49282             6  \n",
       "46470            11  \n",
       "105959            6  \n",
       "70402            10  \n",
       "132479            7  \n",
       "43349             6  "
      ]
     },
     "metadata": {},
     "output_type": "display_data"
    }
   ],
   "source": [
    "l_min,l_max = 2,14\n",
    "\n",
    "# выбираем последовательности приблизительно одинаковой длинны\n",
    "df_train = df.query(f'({l_min}<Rus_len_seq<{l_max})&({l_min}<Eng_len_seq<{l_max})')\n",
    "display( len(df_train) )\n",
    "display( df_train.sample(7) )"
   ]
  },
  {
   "cell_type": "code",
   "execution_count": 22,
   "id": "969375a9",
   "metadata": {},
   "outputs": [
    {
     "data": {
      "text/plain": [
       "111394"
      ]
     },
     "metadata": {},
     "output_type": "display_data"
    },
    {
     "data": {
      "text/plain": [
       "12377"
      ]
     },
     "metadata": {},
     "output_type": "display_data"
    },
    {
     "data": {
      "text/plain": [
       "13752"
      ]
     },
     "metadata": {},
     "output_type": "display_data"
    }
   ],
   "source": [
    "df_test = df_train.sample( len(df_train)//10 )\n",
    "df_train = df_train.drop(df_test.index)\n",
    "\n",
    "df_val = df_train.sample( len(df_train)//10 )\n",
    "df_train = df_train.drop(df_val.index)\n",
    "\n",
    "display( len(df_train), len(df_val), len(df_test) )"
   ]
  },
  {
   "cell_type": "markdown",
   "id": "0b7e4806",
   "metadata": {},
   "source": [
    "# собираем генератор датасета"
   ]
  },
  {
   "cell_type": "code",
   "execution_count": 23,
   "id": "bac13733",
   "metadata": {},
   "outputs": [],
   "source": [
    "# vocab_en"
   ]
  },
  {
   "cell_type": "code",
   "execution_count": 24,
   "id": "62f29628",
   "metadata": {},
   "outputs": [],
   "source": [
    "import torch\n",
    "from torch.utils.data import Dataset\n",
    "from torch.utils.data import DataLoader"
   ]
  },
  {
   "cell_type": "code",
   "execution_count": 25,
   "id": "25c51ed5",
   "metadata": {},
   "outputs": [],
   "source": [
    "class TextPairDataset(Dataset):\n",
    "\n",
    "    def __init__(self, df,vocab,cols={'Rus':'russian','Eng':'english'}):\n",
    "        super().__init__()\n",
    "\n",
    "        assert len(cols)==2\n",
    "        assert len(df)>1\n",
    "        self._lang = cols\n",
    "        self._data = df[self._lang.keys()].reset_index(drop=True)\n",
    "        # self._vocab = vocab if vocab\n",
    "        #         else { k : self._make_vocab(df[k],language=self._lang[k]) for k in self._lang } \n",
    "        self._vocab = vocab \n",
    "        self._max_seq = { k : self._get_max_seq(df[k],language=self._lang[k]) for k in self._lang }\n",
    "    \n",
    "    @staticmethod\n",
    "    def  _tokenize(s,language):\n",
    "        return nltk_tokenize_word(s,language=language)\n",
    "\n",
    "#     @classmethod\n",
    "#     def _make_vocab(cls,d,language):\n",
    "#         words = sorted(set.union(*[ set(  cls._tokenize(s,language) ) for s in tqdm(d) ]))\n",
    "#         return { w:n+1 for n,w in enumerate(words) } | { '<PAD>':0, '<EOS>':len(words)+2, '<UNK>':len(words)+3 }\n",
    "    \n",
    "    @classmethod\n",
    "    def _get_max_seq(cls,d,language):\n",
    "        return max([ len(cls._tokenize(s,language)) for s in tqdm(d) ])\n",
    "    \n",
    "    @property\n",
    "    def vocab(self):\n",
    "        return self._vocab\n",
    "\n",
    "    @vocab.setter\n",
    "    def vocab(self,vocab):\n",
    "        self._vocab = vocab\n",
    "\n",
    "    @property\n",
    "    def data(self):\n",
    "        return self._data\n",
    "        \n",
    "    def __len__(self):\n",
    "        return len(self._data)\n",
    "    \n",
    "    @property\n",
    "    def max_seq(self):\n",
    "        return self._max_seq\n",
    "    \n",
    "    def _encode(self,s,language,vocab):\n",
    "        return [ vocab['<UNK>'] if not(w in vocab) else vocab[w] for w in self._tokenize(s,language) ] \n",
    "        \n",
    "    def _pad_seq(self,s,max_seq,eos_code):\n",
    "        return [0]*(max_seq-len(s)) + s + [eos_code]\n",
    "    \n",
    "    def __getitem__(self, idx):\n",
    "        return  [\n",
    "            torch.LongTensor(\n",
    "                    np.array(\n",
    "                        self._pad_seq(\n",
    "                            self._encode( self._data[c][idx], language=self._lang[c] , vocab=self._vocab[c] ) \n",
    "                            ,max_seq=self._max_seq[c]\n",
    "                            ,eos_code=self._vocab[c]['<EOS>']\n",
    "                        ) \n",
    "                        ,dtype=int\n",
    "                    )\n",
    "            )\n",
    "            for c in self._lang \n",
    "        ]"
   ]
  },
  {
   "cell_type": "markdown",
   "id": "a23b3f41",
   "metadata": {},
   "source": [
    "----"
   ]
  },
  {
   "cell_type": "code",
   "execution_count": 26,
   "id": "954171f5",
   "metadata": {},
   "outputs": [
    {
     "data": {
      "text/plain": [
       "29475"
      ]
     },
     "metadata": {},
     "output_type": "display_data"
    }
   ],
   "source": [
    "vocab_ru = { w:n+1 for n,w in enumerate(sorted(vocab_ru.keys())) }\n",
    "ru_max_idx = max(vocab_ru.values())\n",
    "vocab_ru =  vocab_ru | { '<PAD>':0, '<EOS>':ru_max_idx+1, '<UNK>':ru_max_idx+2, }\n",
    "display( len(vocab_ru) )\n",
    "\n",
    "del ru_max_idx"
   ]
  },
  {
   "cell_type": "code",
   "execution_count": 27,
   "id": "e00673e8",
   "metadata": {},
   "outputs": [
    {
     "data": {
      "text/plain": [
       "13497"
      ]
     },
     "metadata": {},
     "output_type": "display_data"
    }
   ],
   "source": [
    "vocab_en = { w:n+1 for n,w in enumerate(sorted(vocab_en.keys())) }\n",
    "en_max_idx = max(vocab_en.values())\n",
    "vocab_en =  vocab_en | { '<PAD>':0, '<EOS>':en_max_idx+1, '<UNK>':en_max_idx+2, }\n",
    "display( len(vocab_en) )\n",
    "\n",
    "del en_max_idx"
   ]
  },
  {
   "cell_type": "code",
   "execution_count": 28,
   "id": "0353d1b9",
   "metadata": {},
   "outputs": [],
   "source": [
    "vocab = { 'Rus': vocab_ru, 'Eng': vocab_en, }"
   ]
  },
  {
   "cell_type": "code",
   "execution_count": 29,
   "id": "d3013be9",
   "metadata": {},
   "outputs": [],
   "source": [
    "del vocab_ru\n",
    "del vocab_en"
   ]
  },
  {
   "cell_type": "markdown",
   "id": "ec9e002d",
   "metadata": {},
   "source": [
    "---"
   ]
  },
  {
   "cell_type": "code",
   "execution_count": 30,
   "id": "254c803c",
   "metadata": {},
   "outputs": [
    {
     "data": {
      "application/vnd.jupyter.widget-view+json": {
       "model_id": "4813f72077b34a4e80af0337b3f29606",
       "version_major": 2,
       "version_minor": 0
      },
      "text/plain": [
       "  0%|          | 0/111394 [00:00<?, ?it/s]"
      ]
     },
     "metadata": {},
     "output_type": "display_data"
    },
    {
     "data": {
      "application/vnd.jupyter.widget-view+json": {
       "model_id": "86eb1cb4a1804d4aaf8ebb4ad0a9ba96",
       "version_major": 2,
       "version_minor": 0
      },
      "text/plain": [
       "  0%|          | 0/111394 [00:00<?, ?it/s]"
      ]
     },
     "metadata": {},
     "output_type": "display_data"
    }
   ],
   "source": [
    "ds_train = TextPairDataset( df_train, vocab=vocab )"
   ]
  },
  {
   "cell_type": "code",
   "execution_count": 31,
   "id": "0dc278e2",
   "metadata": {},
   "outputs": [
    {
     "data": {
      "application/vnd.jupyter.widget-view+json": {
       "model_id": "bab1f3ae5ac54dd1bb62d351f84d6ec7",
       "version_major": 2,
       "version_minor": 0
      },
      "text/plain": [
       "  0%|          | 0/12377 [00:00<?, ?it/s]"
      ]
     },
     "metadata": {},
     "output_type": "display_data"
    },
    {
     "data": {
      "application/vnd.jupyter.widget-view+json": {
       "model_id": "2bb5e332cf6c4f80aee07842e1bc04ac",
       "version_major": 2,
       "version_minor": 0
      },
      "text/plain": [
       "  0%|          | 0/12377 [00:00<?, ?it/s]"
      ]
     },
     "metadata": {},
     "output_type": "display_data"
    }
   ],
   "source": [
    "ds_val = TextPairDataset(df_val, vocab=ds_train.vocab)"
   ]
  },
  {
   "cell_type": "code",
   "execution_count": 32,
   "id": "f581921f",
   "metadata": {},
   "outputs": [
    {
     "data": {
      "text/plain": [
       "{'Rus': 13, 'Eng': 13}"
      ]
     },
     "metadata": {},
     "output_type": "display_data"
    },
    {
     "data": {
      "text/plain": [
       "{'Rus': 13, 'Eng': 13}"
      ]
     },
     "metadata": {},
     "output_type": "display_data"
    }
   ],
   "source": [
    "display( ds_train.max_seq, ds_val.max_seq )"
   ]
  },
  {
   "cell_type": "markdown",
   "id": "a224a915",
   "metadata": {},
   "source": [
    "# строим модель"
   ]
  },
  {
   "cell_type": "code",
   "execution_count": 33,
   "id": "72f527c7",
   "metadata": {},
   "outputs": [],
   "source": [
    "import torch.nn as nn\n",
    "import torch.nn.functional as F"
   ]
  },
  {
   "cell_type": "code",
   "execution_count": 34,
   "id": "94bf5876",
   "metadata": {},
   "outputs": [],
   "source": [
    "class Encoder(nn.Module):\n",
    "    def __init__(self, vocab_len, embedding_dim, encoder_hidden_dim,): \n",
    "        super(Encoder, self).__init__()\n",
    "        self._emb = nn.Embedding(vocab_len, embedding_dim)\n",
    "        self._dp = nn.Dropout(0.2)\n",
    "        self._rnn = nn.GRU(\n",
    "                input_size=embedding_dim, \n",
    "                hidden_size=encoder_hidden_dim, \n",
    "                num_layers=1, \n",
    "                batch_first=True,\n",
    "                # dropout=0.4,\n",
    "            )\n",
    "        \n",
    "    def forward(self, x):\n",
    "        o = F.relu( self._emb(x) )\n",
    "        o = self._dp(o)\n",
    "        o, h = self._rnn(o)\n",
    "        return o,h"
   ]
  },
  {
   "attachments": {
    "image.png": {
     "image/png": "[encoded data removed]"
    }
   },
   "cell_type": "markdown",
   "id": "0726d235",
   "metadata": {},
   "source": [
    "![image.png](attachment:image.png)"
   ]
  },
  {
   "cell_type": "code",
   "execution_count": 35,
   "id": "3b0f8e96",
   "metadata": {},
   "outputs": [],
   "source": [
    "class DecoderAttention(nn.Module):\n",
    "    \n",
    "    def __init__(self, hidden_size, output_size, max_seq_len, device='cpu'):\n",
    "        super(DecoderAttention, self).__init__()\n",
    "        self._emb = nn.Embedding(num_embeddings=output_size, embedding_dim=hidden_size)\n",
    "        self._dp = nn.Dropout(0.2)\n",
    "        self._rnn = nn.GRU( \n",
    "                input_size=hidden_size*2, \n",
    "                hidden_size=hidden_size, \n",
    "                num_layers=1, \n",
    "                batch_first=True,\n",
    "                # dropout=0.4,\n",
    "            )\n",
    "        self._lin = nn.Linear(in_features=hidden_size, out_features=output_size, bias=True,)\n",
    "        self._device = device\n",
    "        self._max_seq_len = max_seq_len\n",
    "\n",
    "        \n",
    "    def attention(self, enc_h, dec_h):\n",
    "        att_score = F.softmax( ( enc_h * dec_h.squeeze().unsqueeze(1) ).sum(dim=-1), dim=-1 ) \n",
    "        att = ( enc_h * att_score.unsqueeze(-1) ).sum(dim=1).unsqueeze(1)\n",
    "        return att\n",
    "        \n",
    "\n",
    "    def forward(self, encoder_outputs, encoder_hidden, target_tensor=None):\n",
    "        batch_size = encoder_outputs.size(0) # количество примеров\n",
    "        \n",
    "        # начальное значение входа декодера (0)\n",
    "        decoder_input = torch.empty(batch_size, 1, dtype=torch.long, device=self._device).fill_(0)\n",
    "         \n",
    "        # начальное состояние RNN декодера - конечное состояние енкодера\n",
    "        decoder_hidden = encoder_hidden\n",
    "        \n",
    "        decoder_outputs = [] # история выходов декодера\n",
    "        \n",
    "        for i in range(self._max_seq_len): # делаем _max_seq_len шагов\n",
    "                        \n",
    "            # считаем новое состояние декодера и его выход\n",
    "            decoder_output, decoder_hidden  = self.step( decoder_input, decoder_hidden, encoder_outputs )\n",
    "            decoder_outputs.append(decoder_output) # сохраняем выход\n",
    "     \n",
    "            if target_tensor is not None: # режим обучения модели\n",
    "                # на вход модели вместо её выхода\n",
    "                # подаём \"правильный\" выход (teacher forcing)\n",
    "                decoder_input = target_tensor[:, i].unsqueeze(1) \n",
    "            else: # рабочий режим, авторегрессионный метод - подаём выход на вход\n",
    "                # считаем argmax на выходе модели для всех примеров батча,\n",
    "                # т.е. выбираем номер слова с наибольшим скором\n",
    "                _, topi = decoder_output.topk(1) \n",
    "                # формируем вектор входа\n",
    "                decoder_input = topi.squeeze(-1).detach()\n",
    "        \n",
    "        # собираем выходы модели на всех итерациях последовательности в тензор\n",
    "        decoder_outputs = torch.cat(decoder_outputs, dim=1)\n",
    "        # применяем log(softmax(.)) к выходному тензору\n",
    "        decoder_outputs = F.log_softmax(decoder_outputs, dim=-1)\n",
    "        return decoder_outputs, decoder_hidden, None # We return `None` for consistency in the training loop\n",
    "        \n",
    "    \n",
    "    def step(self, decoder_input, decoder_hidden, encoder_hidden ):\n",
    "        o = F.relu( self._emb(decoder_input) ) # конвертируем вход в эмбединг\n",
    "        o = self._dp( o ) # применяем дропаут\n",
    "        # считаем атеншн, оценка близости всех состояний енкодера и текущего состояния декодера\n",
    "        att = self.attention( enc_h=encoder_hidden, dec_h=decoder_hidden )\n",
    "        o = torch.cat([ att, o ], dim=-1 ) # добавляем атеншн ко входу декодера \n",
    "        o,h = self._rnn(o, decoder_hidden) # считаем новое состяние декодера ...\n",
    "        o = self._lin(o) # ... и его выход\n",
    "        return o,h"
   ]
  },
  {
   "cell_type": "markdown",
   "id": "c1771f51",
   "metadata": {},
   "source": [
    "---"
   ]
  },
  {
   "cell_type": "code",
   "execution_count": 36,
   "id": "34d371d9",
   "metadata": {},
   "outputs": [
    {
     "data": {
      "text/plain": [
       "device(type='cuda', index=0)"
      ]
     },
     "metadata": {},
     "output_type": "display_data"
    }
   ],
   "source": [
    "# # проверяем GPU\n",
    "device = torch.device('cuda:0' if torch.cuda.is_available() else 'cpu')\n",
    "# device='cpu'\n",
    "display( device )"
   ]
  },
  {
   "cell_type": "code",
   "execution_count": 37,
   "id": "45b1a87d",
   "metadata": {},
   "outputs": [],
   "source": [
    "vocab_input_len  = len(ds_train.vocab['Rus'])\n",
    "vocab_output_len = len(ds_train.vocab['Eng'])\n",
    "max_output_seq_len = ds_train.max_seq['Eng']+1"
   ]
  },
  {
   "cell_type": "code",
   "execution_count": 38,
   "id": "5b9af031",
   "metadata": {},
   "outputs": [],
   "source": [
    "embedding_dim = 1024\n",
    "encoder_hidden_dim = 256\n",
    "\n",
    "model_encoder = Encoder(\n",
    "        vocab_len=vocab_input_len+1,\n",
    "        embedding_dim=embedding_dim,\n",
    "        encoder_hidden_dim=encoder_hidden_dim,\n",
    "    ).to(device)\n",
    "\n",
    "model_decoder = DecoderAttention( \n",
    "        hidden_size=encoder_hidden_dim, \n",
    "        output_size=vocab_output_len+1, \n",
    "        max_seq_len=max_output_seq_len,\n",
    "        device=device,\n",
    "    ).to(device)"
   ]
  },
  {
   "cell_type": "code",
   "execution_count": 39,
   "id": "308ca059",
   "metadata": {},
   "outputs": [
    {
     "data": {
      "text/plain": [
       "29475"
      ]
     },
     "metadata": {},
     "output_type": "display_data"
    },
    {
     "data": {
      "text/plain": [
       "13497"
      ]
     },
     "metadata": {},
     "output_type": "display_data"
    }
   ],
   "source": [
    "display( vocab_input_len, vocab_output_len )"
   ]
  },
  {
   "cell_type": "code",
   "execution_count": 40,
   "id": "f5393e95",
   "metadata": {},
   "outputs": [
    {
     "data": {
      "text/plain": [
       "29474"
      ]
     },
     "metadata": {},
     "output_type": "display_data"
    },
    {
     "data": {
      "text/plain": [
       "13496"
      ]
     },
     "metadata": {},
     "output_type": "display_data"
    }
   ],
   "source": [
    "display( max(ds_train.vocab['Rus'].values()),  max(ds_train.vocab['Eng'].values()) )"
   ]
  },
  {
   "cell_type": "markdown",
   "id": "64ebb20c",
   "metadata": {},
   "source": [
    "# обучаем "
   ]
  },
  {
   "cell_type": "code",
   "execution_count": 41,
   "id": "5b7333e6",
   "metadata": {},
   "outputs": [],
   "source": [
    "from torch import optim\n",
    "\n",
    "learning_rate = 5e-4\n",
    "\n",
    "encoder_optimizer = optim.Adam( model_encoder.parameters(), lr=learning_rate )\n",
    "decoder_optimizer = optim.Adam( model_decoder.parameters(), lr=learning_rate )\n",
    "criterion = nn.NLLLoss()"
   ]
  },
  {
   "cell_type": "code",
   "execution_count": 42,
   "id": "8c281b7b",
   "metadata": {},
   "outputs": [
    {
     "data": {
      "text/plain": [
       "111394"
      ]
     },
     "metadata": {},
     "output_type": "display_data"
    }
   ],
   "source": [
    "display( len(ds_train) )"
   ]
  },
  {
   "cell_type": "code",
   "execution_count": 43,
   "id": "85f43608",
   "metadata": {},
   "outputs": [],
   "source": [
    "loss_history_train = [] # значения ф-ции потери\n",
    "loss_history_val = [] # значения ф-ции потери"
   ]
  },
  {
   "cell_type": "code",
   "execution_count": 44,
   "id": "f89a1096",
   "metadata": {},
   "outputs": [
    {
     "data": {
      "application/vnd.jupyter.widget-view+json": {
       "model_id": "9518c23659ca4bc3a896537574b36e4c",
       "version_major": 2,
       "version_minor": 0
      },
      "text/plain": [
       "  0%|          | 0/64 [00:00<?, ?it/s]"
      ]
     },
     "metadata": {},
     "output_type": "display_data"
    },
    {
     "name": "stdout",
     "output_type": "stream",
     "text": [
      "validation loss value up, stoped\n",
      "\n",
      "CPU times: user 42min 35s, sys: 3.07 s, total: 42min 38s\n",
      "Wall time: 42min 44s\n"
     ]
    }
   ],
   "source": [
    "%%time\n",
    "\n",
    "n_epoch = 64 # количество эпох обучения\n",
    "batch_size = 512*2\n",
    "\n",
    "lag_val_check = 4\n",
    "n_iter_no_check = n_epoch*0.33\n",
    "\n",
    "assert n_iter_no_check>lag_val_check\n",
    "\n",
    "for i in tqdm(range(n_epoch)): \n",
    "    loss_batch = []\n",
    "    \n",
    "    # получаем батч учебных примеров\n",
    "    for input_tensor, target_tensor in DataLoader( ds_train, batch_size=batch_size, shuffle=True): \n",
    "        encoder_optimizer.zero_grad()\n",
    "        decoder_optimizer.zero_grad()\n",
    "\n",
    "        encoder_outputs, encoder_hidden = model_encoder(input_tensor.to(device))\n",
    "        decoder_outputs, _, _ = model_decoder(encoder_outputs, encoder_hidden, target_tensor.to(device))\n",
    "        \n",
    "        loss = criterion(\n",
    "            decoder_outputs.view(-1, decoder_outputs.size(-1)),\n",
    "            target_tensor.to(device).view(-1)\n",
    "        )\n",
    "        loss_batch.append(loss.item()) # дополняем историю изменения значений ф-ции потери на батче\n",
    "        \n",
    "        loss.backward()\n",
    "\n",
    "        encoder_optimizer.step()\n",
    "        decoder_optimizer.step()\n",
    "   \n",
    "    loss_history_train.append( np.mean(loss_batch) ) # дополняем общую историю изменения значений ф-ции потери\n",
    "    \n",
    "    \n",
    "    loss_batch = []\n",
    "    with torch.set_grad_enabled(False):   \n",
    "        # получаем батч проверочных примеров\n",
    "        for input_tensor, target_tensor in DataLoader( ds_val, batch_size=batch_size, shuffle=False): \n",
    "            encoder_outputs, encoder_hidden = model_encoder(input_tensor.to(device))\n",
    "            decoder_outputs, _, _ = model_decoder(encoder_outputs, encoder_hidden, target_tensor.to(device))\n",
    "            loss = criterion(\n",
    "                decoder_outputs.view(-1, decoder_outputs.size(-1)),\n",
    "                target_tensor.to(device).view(-1)\n",
    "            )\n",
    "            loss_batch.append(loss.item()) # дополняем историю изменения значений ф-ции потери на батче\n",
    "\n",
    "    loss_history_val.append( np.mean(loss_batch) ) # дополняем общую историю изменения значений ф-ции потери\n",
    "\n",
    "    if i>n_iter_no_check:\n",
    "        if ( loss_history_val[-lag_val_check]<loss_history_val[-1] ):\n",
    "            print( 'validation loss value up, stoped\\n' )\n",
    "            break"
   ]
  },
  {
   "cell_type": "code",
   "execution_count": 45,
   "id": "c8ac6dbb",
   "metadata": {},
   "outputs": [
    {
     "data": {
      "text/plain": [
       "<matplotlib.legend.Legend at 0x7f5bb0c62910>"
      ]
     },
     "execution_count": 45,
     "metadata": {},
     "output_type": "execute_result"
    },
    {
     "data": {
      "image/png": "[encoded data removed]",
      "text/plain": [
       "<Figure size 640x480 with 1 Axes>"
      ]
     },
     "metadata": {},
     "output_type": "display_data"
    }
   ],
   "source": [
    "# история изменения значений ф-ции потери\n",
    "plt.plot(loss_history_train,label='loss_train min=%.3f'%(min(loss_history_train)),c='r')\n",
    "plt.plot(loss_history_val,label='loss_val min=%.3f'%(min(loss_history_val)),c='c')\n",
    "plt.grid()\n",
    "plt.title('история изменения значений ф-ции потери')\n",
    "plt.legend()"
   ]
  },
  {
   "cell_type": "markdown",
   "id": "200e3a75",
   "metadata": {},
   "source": [
    "# Тестируем"
   ]
  },
  {
   "cell_type": "code",
   "execution_count": 46,
   "id": "543fead6",
   "metadata": {},
   "outputs": [],
   "source": [
    "# from nltk.translate.bleu_score import sentence_bleu\n",
    "from torchtext.data.metrics import bleu_score"
   ]
  },
  {
   "cell_type": "code",
   "execution_count": 47,
   "id": "28914bfd",
   "metadata": {},
   "outputs": [],
   "source": [
    "def decode(code,voc): return ' '.join([ voc[c] for c in code if c!=0 ])"
   ]
  },
  {
   "cell_type": "code",
   "execution_count": 48,
   "id": "6f29fd59",
   "metadata": {},
   "outputs": [],
   "source": [
    "voc_ru = { v:k for k,v in ds_train.vocab['Rus'].items() }\n",
    "voc_en = { v:k for k,v in ds_train.vocab['Eng'].items() }"
   ]
  },
  {
   "cell_type": "markdown",
   "id": "4e46fe62",
   "metadata": {},
   "source": [
    "### на учебном наборе"
   ]
  },
  {
   "cell_type": "code",
   "execution_count": 49,
   "id": "fce32e2d",
   "metadata": {},
   "outputs": [
    {
     "data": {
      "text/plain": [
       "(111394, 14)"
      ]
     },
     "metadata": {},
     "output_type": "display_data"
    },
    {
     "data": {
      "text/plain": [
       "(111394, 14)"
      ]
     },
     "metadata": {},
     "output_type": "display_data"
    },
    {
     "data": {
      "text/plain": [
       "(111394, 1, 14)"
      ]
     },
     "metadata": {},
     "output_type": "display_data"
    },
    {
     "name": "stdout",
     "output_type": "stream",
     "text": [
      "CPU times: user 41.4 s, sys: 5.32 s, total: 46.7 s\n",
      "Wall time: 46.7 s\n"
     ]
    }
   ],
   "source": [
    "%%time \n",
    "\n",
    "init_seq = []\n",
    "hypothesis = []\n",
    "reference = []\n",
    "\n",
    "with torch.set_grad_enabled(False):\n",
    "    for input_tensor, target_tensor in DataLoader( ds_train, batch_size=batch_size, shuffle=False): \n",
    "        encoder_outputs, encoder_hidden = model_encoder(input_tensor.to(device))\n",
    "        decoder_outputs, _, _ = model_decoder(encoder_outputs, encoder_hidden, target_tensor.to(device))\n",
    "        \n",
    "        init_seq.append( input_tensor.cpu().numpy() )\n",
    "        \n",
    "        reference.append( target_tensor.cpu().numpy() )\n",
    "        \n",
    "        hypothesis.append( \n",
    "            np.swapaxes(np.argmax(\n",
    "                decoder_outputs.cpu().numpy()\n",
    "                ,axis=-1,keepdims=True),2,1)\n",
    "        )\n",
    "\n",
    "init_seq = np.vstack( init_seq )        \n",
    "reference = np.vstack( reference )\n",
    "hypothesis = np.vstack( hypothesis )\n",
    "\n",
    "display( init_seq.shape, reference.shape, hypothesis.shape, )"
   ]
  },
  {
   "cell_type": "code",
   "execution_count": 50,
   "id": "718f20f6",
   "metadata": {},
   "outputs": [
    {
     "data": {
      "text/plain": [
       "0.49598318338394165"
      ]
     },
     "metadata": {},
     "output_type": "display_data"
    },
    {
     "name": "stdout",
     "output_type": "stream",
     "text": [
      "CPU times: user 30.9 s, sys: 26.6 ms, total: 30.9 s\n",
      "Wall time: 31.1 s\n"
     ]
    }
   ],
   "source": [
    "%%time \n",
    "\n",
    "display( bleu_score( reference.astype(str) , hypothesis.astype(str) ) )"
   ]
  },
  {
   "cell_type": "code",
   "execution_count": 51,
   "id": "84b61617",
   "metadata": {},
   "outputs": [
    {
     "data": {
      "application/vnd.jupyter.widget-view+json": {
       "model_id": "467fed45c3474dfd8fac407b912e59de",
       "version_major": 2,
       "version_minor": 0
      },
      "text/plain": [
       "  0%|          | 0/111394 [00:00<?, ?it/s]"
      ]
     },
     "metadata": {},
     "output_type": "display_data"
    },
    {
     "data": {
      "application/vnd.jupyter.widget-view+json": {
       "model_id": "a6572f59c588456fa497c6351a302809",
       "version_major": 2,
       "version_minor": 0
      },
      "text/plain": [
       "  0%|          | 0/111394 [00:00<?, ?it/s]"
      ]
     },
     "metadata": {},
     "output_type": "display_data"
    },
    {
     "data": {
      "application/vnd.jupyter.widget-view+json": {
       "model_id": "0f3e1271dd9041eab6d14270ba02ab77",
       "version_major": 2,
       "version_minor": 0
      },
      "text/plain": [
       "  0%|          | 0/111394 [00:00<?, ?it/s]"
      ]
     },
     "metadata": {},
     "output_type": "display_data"
    },
    {
     "data": {
      "text/html": [
       "<div>\n",
       "<style scoped>\n",
       "    .dataframe tbody tr th:only-of-type {\n",
       "        vertical-align: middle;\n",
       "    }\n",
       "\n",
       "    .dataframe tbody tr th {\n",
       "        vertical-align: top;\n",
       "    }\n",
       "\n",
       "    .dataframe thead th {\n",
       "        text-align: right;\n",
       "    }\n",
       "</style>\n",
       "<table border=\"1\" class=\"dataframe\">\n",
       "  <thead>\n",
       "    <tr style=\"text-align: right;\">\n",
       "      <th></th>\n",
       "      <th>Rus</th>\n",
       "      <th>Eng_target</th>\n",
       "      <th>Eng_predicted</th>\n",
       "    </tr>\n",
       "  </thead>\n",
       "  <tbody>\n",
       "    <tr>\n",
       "      <th>78048</th>\n",
       "      <td>Зима была здесь длинная , а лето короткое . &lt;EOS&gt;</td>\n",
       "      <td>Winter was long here and summer short . &lt;EOS&gt;</td>\n",
       "      <td>was more time every the the . &lt;EOS&gt;</td>\n",
       "    </tr>\n",
       "    <tr>\n",
       "      <th>72095</th>\n",
       "      <td>Ты говорил , что умеешь играть на пианино . &lt;EOS&gt;</td>\n",
       "      <td>You said you could play the piano . &lt;EOS&gt;</td>\n",
       "      <td>said that had play the piano . &lt;EOS&gt;</td>\n",
       "    </tr>\n",
       "    <tr>\n",
       "      <th>88249</th>\n",
       "      <td>У них сейчас трое детей . &lt;EOS&gt;</td>\n",
       "      <td>They now have three children . &lt;EOS&gt;</td>\n",
       "      <td>They They have the children children . &lt;EOS&gt;</td>\n",
       "    </tr>\n",
       "    <tr>\n",
       "      <th>102289</th>\n",
       "      <td>Я хочу кое о чём с тобой поговорить . &lt;EOS&gt;</td>\n",
       "      <td>There 's something I want to talk to you about...</td>\n",
       "      <td>'s something I talk to talk to you about . &lt;EOS&gt;</td>\n",
       "    </tr>\n",
       "    <tr>\n",
       "      <th>73181</th>\n",
       "      <td>Это старая фотография . &lt;EOS&gt;</td>\n",
       "      <td>It 's an old picture . &lt;EOS&gt;</td>\n",
       "      <td>This 's a interesting book . &lt;EOS&gt;</td>\n",
       "    </tr>\n",
       "    <tr>\n",
       "      <th>85971</th>\n",
       "      <td>Мальчик пошёл в школу . &lt;EOS&gt;</td>\n",
       "      <td>The boy went to school . &lt;EOS&gt;</td>\n",
       "      <td>boy went to school . &lt;EOS&gt;</td>\n",
       "    </tr>\n",
       "    <tr>\n",
       "      <th>57751</th>\n",
       "      <td>Какого размера эти туфли ? &lt;EOS&gt;</td>\n",
       "      <td>What size are these shoes ? &lt;EOS&gt;</td>\n",
       "      <td>What 's are these stamps ? &lt;EOS&gt;</td>\n",
       "    </tr>\n",
       "    <tr>\n",
       "      <th>73059</th>\n",
       "      <td>Полиция арестовала мужчину , &lt;UNK&gt; девушку . &lt;...</td>\n",
       "      <td>The police arrested the man who had murdered t...</td>\n",
       "      <td>police came the news to the got the news . &lt;EOS&gt;</td>\n",
       "    </tr>\n",
       "    <tr>\n",
       "      <th>10543</th>\n",
       "      <td>Я не знаю подробностей . &lt;EOS&gt;</td>\n",
       "      <td>I do n't know the details . &lt;EOS&gt;</td>\n",
       "      <td>do n't know the details . &lt;EOS&gt;</td>\n",
       "    </tr>\n",
       "    <tr>\n",
       "      <th>16283</th>\n",
       "      <td>У вас нет чего-нибудь поменьше ? &lt;EOS&gt;</td>\n",
       "      <td>Do n't you have anything smaller than this ? &lt;...</td>\n",
       "      <td>n't you have any to than ? ? &lt;EOS&gt;</td>\n",
       "    </tr>\n",
       "    <tr>\n",
       "      <th>6026</th>\n",
       "      <td>Ей удалось &lt;UNK&gt; из него правду . &lt;EOS&gt;</td>\n",
       "      <td>She succeeded in drawing the truth from him . ...</td>\n",
       "      <td>had in his the truth of the . &lt;EOS&gt;</td>\n",
       "    </tr>\n",
       "    <tr>\n",
       "      <th>106899</th>\n",
       "      <td>Вот тут я сижу . &lt;EOS&gt;</td>\n",
       "      <td>That 's where I sit . &lt;EOS&gt;</td>\n",
       "      <td>'s going I am . &lt;EOS&gt;</td>\n",
       "    </tr>\n",
       "    <tr>\n",
       "      <th>13150</th>\n",
       "      <td>У меня нет с собой адреса . &lt;EOS&gt;</td>\n",
       "      <td>I do n't have the address with me . &lt;EOS&gt;</td>\n",
       "      <td>do n't have to right . my . &lt;EOS&gt;</td>\n",
       "    </tr>\n",
       "    <tr>\n",
       "      <th>25374</th>\n",
       "      <td>Её велосипед лучше , чем мой . &lt;EOS&gt;</td>\n",
       "      <td>Her bike is better than mine . &lt;EOS&gt;</td>\n",
       "      <td>Her bicycle is better than mine . &lt;EOS&gt;</td>\n",
       "    </tr>\n",
       "    <tr>\n",
       "      <th>86943</th>\n",
       "      <td>Том сменил простыни на своей кровати . &lt;EOS&gt;</td>\n",
       "      <td>Tom changed the sheets on his bed . &lt;EOS&gt;</td>\n",
       "      <td>is the apple on the coat . &lt;EOS&gt;</td>\n",
       "    </tr>\n",
       "    <tr>\n",
       "      <th>102264</th>\n",
       "      <td>Я всё ещё считаю Тома виновным . &lt;EOS&gt;</td>\n",
       "      <td>I still think Tom is guilty . &lt;EOS&gt;</td>\n",
       "      <td>'m think Tom 's married . &lt;EOS&gt;</td>\n",
       "    </tr>\n",
       "    <tr>\n",
       "      <th>34818</th>\n",
       "      <td>Неужели я каждый раз должен всё это &lt;UNK&gt; ? &lt;EOS&gt;</td>\n",
       "      <td>Must I always go through this ? &lt;EOS&gt;</td>\n",
       "      <td>I have often this this . &lt;EOS&gt;</td>\n",
       "    </tr>\n",
       "  </tbody>\n",
       "</table>\n",
       "</div>"
      ],
      "text/plain": [
       "                                                      Rus  \\\n",
       "78048   Зима была здесь длинная , а лето короткое . <EOS>   \n",
       "72095   Ты говорил , что умеешь играть на пианино . <EOS>   \n",
       "88249                     У них сейчас трое детей . <EOS>   \n",
       "102289        Я хочу кое о чём с тобой поговорить . <EOS>   \n",
       "73181                       Это старая фотография . <EOS>   \n",
       "85971                       Мальчик пошёл в школу . <EOS>   \n",
       "57751                    Какого размера эти туфли ? <EOS>   \n",
       "73059   Полиция арестовала мужчину , <UNK> девушку . <...   \n",
       "10543                      Я не знаю подробностей . <EOS>   \n",
       "16283              У вас нет чего-нибудь поменьше ? <EOS>   \n",
       "6026              Ей удалось <UNK> из него правду . <EOS>   \n",
       "106899                             Вот тут я сижу . <EOS>   \n",
       "13150                   У меня нет с собой адреса . <EOS>   \n",
       "25374                Её велосипед лучше , чем мой . <EOS>   \n",
       "86943        Том сменил простыни на своей кровати . <EOS>   \n",
       "102264             Я всё ещё считаю Тома виновным . <EOS>   \n",
       "34818   Неужели я каждый раз должен всё это <UNK> ? <EOS>   \n",
       "\n",
       "                                               Eng_target  \\\n",
       "78048       Winter was long here and summer short . <EOS>   \n",
       "72095           You said you could play the piano . <EOS>   \n",
       "88249                They now have three children . <EOS>   \n",
       "102289  There 's something I want to talk to you about...   \n",
       "73181                        It 's an old picture . <EOS>   \n",
       "85971                      The boy went to school . <EOS>   \n",
       "57751                   What size are these shoes ? <EOS>   \n",
       "73059   The police arrested the man who had murdered t...   \n",
       "10543                   I do n't know the details . <EOS>   \n",
       "16283   Do n't you have anything smaller than this ? <...   \n",
       "6026    She succeeded in drawing the truth from him . ...   \n",
       "106899                        That 's where I sit . <EOS>   \n",
       "13150           I do n't have the address with me . <EOS>   \n",
       "25374                Her bike is better than mine . <EOS>   \n",
       "86943           Tom changed the sheets on his bed . <EOS>   \n",
       "102264                I still think Tom is guilty . <EOS>   \n",
       "34818               Must I always go through this ? <EOS>   \n",
       "\n",
       "                                           Eng_predicted  \n",
       "78048                was more time every the the . <EOS>  \n",
       "72095               said that had play the piano . <EOS>  \n",
       "88249       They They have the children children . <EOS>  \n",
       "102289  's something I talk to talk to you about . <EOS>  \n",
       "73181                 This 's a interesting book . <EOS>  \n",
       "85971                         boy went to school . <EOS>  \n",
       "57751                   What 's are these stamps ? <EOS>  \n",
       "73059   police came the news to the got the news . <EOS>  \n",
       "10543                    do n't know the details . <EOS>  \n",
       "16283                 n't you have any to than ? ? <EOS>  \n",
       "6026                 had in his the truth of the . <EOS>  \n",
       "106899                             's going I am . <EOS>  \n",
       "13150                  do n't have to right . my . <EOS>  \n",
       "25374            Her bicycle is better than mine . <EOS>  \n",
       "86943                   is the apple on the coat . <EOS>  \n",
       "102264                   'm think Tom 's married . <EOS>  \n",
       "34818                     I have often this this . <EOS>  "
      ]
     },
     "metadata": {},
     "output_type": "display_data"
    }
   ],
   "source": [
    "df_train_  = pd.DataFrame({\n",
    "        'Rus': [ decode( v , voc_ru ) for v in tqdm( init_seq) ],\n",
    "        'Eng_target': [ decode( v , voc_en ) for v in tqdm(reference) ],\n",
    "        'Eng_predicted': [ decode( v , voc_en ) for v in tqdm( np.squeeze(hypothesis)) ],\n",
    "    })\n",
    "\n",
    "display( df_train_.sample(17) )"
   ]
  },
  {
   "cell_type": "code",
   "execution_count": 52,
   "id": "66465b3c",
   "metadata": {},
   "outputs": [],
   "source": [
    "del init_seq\n",
    "del hypothesis\n",
    "del reference"
   ]
  },
  {
   "cell_type": "markdown",
   "id": "29ba2563",
   "metadata": {},
   "source": [
    "### на тестовом наборе"
   ]
  },
  {
   "cell_type": "code",
   "execution_count": 53,
   "id": "71b6f487",
   "metadata": {},
   "outputs": [
    {
     "data": {
      "application/vnd.jupyter.widget-view+json": {
       "model_id": "a079d2f60039481c8c9982f52ba28962",
       "version_major": 2,
       "version_minor": 0
      },
      "text/plain": [
       "  0%|          | 0/13752 [00:00<?, ?it/s]"
      ]
     },
     "metadata": {},
     "output_type": "display_data"
    },
    {
     "data": {
      "application/vnd.jupyter.widget-view+json": {
       "model_id": "51bce3495a9a460090b55ff6b90442aa",
       "version_major": 2,
       "version_minor": 0
      },
      "text/plain": [
       "  0%|          | 0/13752 [00:00<?, ?it/s]"
      ]
     },
     "metadata": {},
     "output_type": "display_data"
    }
   ],
   "source": [
    "ds_test = TextPairDataset(df_test, vocab=ds_train.vocab)"
   ]
  },
  {
   "cell_type": "code",
   "execution_count": 54,
   "id": "30bf5bb7",
   "metadata": {},
   "outputs": [
    {
     "data": {
      "text/plain": [
       "(13752, 14)"
      ]
     },
     "metadata": {},
     "output_type": "display_data"
    },
    {
     "data": {
      "text/plain": [
       "(13752, 14)"
      ]
     },
     "metadata": {},
     "output_type": "display_data"
    },
    {
     "data": {
      "text/plain": [
       "(13752, 1, 14)"
      ]
     },
     "metadata": {},
     "output_type": "display_data"
    },
    {
     "name": "stdout",
     "output_type": "stream",
     "text": [
      "CPU times: user 5.2 s, sys: 676 ms, total: 5.88 s\n",
      "Wall time: 5.88 s\n"
     ]
    }
   ],
   "source": [
    "%%time \n",
    "\n",
    "init_seq = []\n",
    "hypothesis = []\n",
    "reference = []\n",
    "\n",
    "with torch.set_grad_enabled(False):\n",
    "    for input_tensor, target_tensor in DataLoader( ds_test, batch_size=batch_size, shuffle=False): \n",
    "        encoder_outputs, encoder_hidden = model_encoder(input_tensor.to(device))\n",
    "        decoder_outputs, _, _ = model_decoder(encoder_outputs, encoder_hidden, target_tensor.to(device))\n",
    "        \n",
    "        init_seq.append( input_tensor.cpu().numpy() )\n",
    "        \n",
    "        reference.append( target_tensor.cpu().numpy() )\n",
    "        \n",
    "        hypothesis.append( \n",
    "            np.swapaxes(np.argmax(\n",
    "                decoder_outputs.cpu().numpy()\n",
    "                ,axis=-1,keepdims=True),2,1)\n",
    "        )\n",
    "\n",
    "init_seq = np.vstack( init_seq )        \n",
    "reference = np.vstack( reference )\n",
    "hypothesis = np.vstack( hypothesis )\n",
    "\n",
    "display( init_seq.shape, reference.shape, hypothesis.shape, )"
   ]
  },
  {
   "cell_type": "code",
   "execution_count": 55,
   "id": "bf0293f0",
   "metadata": {},
   "outputs": [
    {
     "data": {
      "text/plain": [
       "0.48168089985847473"
      ]
     },
     "metadata": {},
     "output_type": "display_data"
    },
    {
     "name": "stdout",
     "output_type": "stream",
     "text": [
      "CPU times: user 3.71 s, sys: 12.8 ms, total: 3.73 s\n",
      "Wall time: 3.75 s\n"
     ]
    }
   ],
   "source": [
    "%%time \n",
    "\n",
    "display( bleu_score( reference.astype(str) , hypothesis.astype(str) ) )"
   ]
  },
  {
   "cell_type": "code",
   "execution_count": null,
   "id": "29e75ec5",
   "metadata": {},
   "outputs": [],
   "source": [
    "df_test_  = pd.DataFrame({\n",
    "        'Rus': [ decode( v , voc_ru ) for v in tqdm( init_seq) ],\n",
    "        'Eng_target': [ decode( v , voc_en ) for v in tqdm(reference) ],\n",
    "        'Eng_predicted': [ decode( v , voc_en ) for v in tqdm( np.squeeze(hypothesis)) ],\n",
    "    })"
   ]
  },
  {
   "cell_type": "code",
   "execution_count": 60,
   "id": "a339163e",
   "metadata": {},
   "outputs": [
    {
     "data": {
      "text/html": [
       "<div>\n",
       "<style scoped>\n",
       "    .dataframe tbody tr th:only-of-type {\n",
       "        vertical-align: middle;\n",
       "    }\n",
       "\n",
       "    .dataframe tbody tr th {\n",
       "        vertical-align: top;\n",
       "    }\n",
       "\n",
       "    .dataframe thead th {\n",
       "        text-align: right;\n",
       "    }\n",
       "</style>\n",
       "<table border=\"1\" class=\"dataframe\">\n",
       "  <thead>\n",
       "    <tr style=\"text-align: right;\">\n",
       "      <th></th>\n",
       "      <th>Rus</th>\n",
       "      <th>Eng_target</th>\n",
       "      <th>Eng_predicted</th>\n",
       "    </tr>\n",
       "  </thead>\n",
       "  <tbody>\n",
       "    <tr>\n",
       "      <th>3982</th>\n",
       "      <td>Я не знал , что он там . &lt;EOS&gt;</td>\n",
       "      <td>I did n't know that he was there . &lt;EOS&gt;</td>\n",
       "      <td>did n't know that he was there . &lt;EOS&gt;</td>\n",
       "    </tr>\n",
       "    <tr>\n",
       "      <th>5019</th>\n",
       "      <td>Эта женщина читает . &lt;EOS&gt;</td>\n",
       "      <td>The woman is reading . &lt;EOS&gt;</td>\n",
       "      <td>This woman is reading . &lt;EOS&gt;</td>\n",
       "    </tr>\n",
       "    <tr>\n",
       "      <th>12050</th>\n",
       "      <td>&lt;UNK&gt; стрелка сломалась . &lt;EOS&gt;</td>\n",
       "      <td>The hour hand is broken . &lt;EOS&gt;</td>\n",
       "      <td>meeting was the &lt;UNK&gt; . &lt;EOS&gt;</td>\n",
       "    </tr>\n",
       "    <tr>\n",
       "      <th>3057</th>\n",
       "      <td>Дождь стучал по &lt;UNK&gt; стеклу . &lt;EOS&gt;</td>\n",
       "      <td>The rain tapped against the window . &lt;EOS&gt;</td>\n",
       "      <td>rain will the the river . &lt;EOS&gt;</td>\n",
       "    </tr>\n",
       "    <tr>\n",
       "      <th>4495</th>\n",
       "      <td>Они быстро стали лучшими друзьями . &lt;EOS&gt;</td>\n",
       "      <td>They quickly became best friends . &lt;EOS&gt;</td>\n",
       "      <td>They were have friends friends . &lt;EOS&gt;</td>\n",
       "    </tr>\n",
       "    <tr>\n",
       "      <th>3918</th>\n",
       "      <td>Я купил ручку , но потерял её . &lt;EOS&gt;</td>\n",
       "      <td>I bought a pen , but I lost it . &lt;EOS&gt;</td>\n",
       "      <td>bought a letter , but I lost her . &lt;EOS&gt;</td>\n",
       "    </tr>\n",
       "    <tr>\n",
       "      <th>12225</th>\n",
       "      <td>Увидимся вечером . &lt;EOS&gt;</td>\n",
       "      <td>See you tonight . &lt;EOS&gt;</td>\n",
       "      <td>I you last . &lt;EOS&gt;</td>\n",
       "    </tr>\n",
       "    <tr>\n",
       "      <th>1500</th>\n",
       "      <td>Он стремится стать учителем . &lt;EOS&gt;</td>\n",
       "      <td>He aspires to become a teacher . &lt;EOS&gt;</td>\n",
       "      <td>He made to become a teacher . &lt;EOS&gt;</td>\n",
       "    </tr>\n",
       "    <tr>\n",
       "      <th>7470</th>\n",
       "      <td>Мы катались на лодке . &lt;EOS&gt;</td>\n",
       "      <td>We rode on a boat . &lt;EOS&gt;</td>\n",
       "      <td>We 're on the tree . &lt;EOS&gt;</td>\n",
       "    </tr>\n",
       "    <tr>\n",
       "      <th>3744</th>\n",
       "      <td>В последние годы наука достигла значительного ...</td>\n",
       "      <td>In recent years , science has made remarkable ...</td>\n",
       "      <td>the &lt;UNK&gt; of the &lt;UNK&gt; become a progress . &lt;EOS&gt;</td>\n",
       "    </tr>\n",
       "    <tr>\n",
       "      <th>384</th>\n",
       "      <td>Он не хотел со мной танцевать . &lt;EOS&gt;</td>\n",
       "      <td>He did n't want to dance with me . &lt;EOS&gt;</td>\n",
       "      <td>He did n't want to talk with me . &lt;EOS&gt;</td>\n",
       "    </tr>\n",
       "    <tr>\n",
       "      <th>115</th>\n",
       "      <td>Что ещё ты можешь для нас сделать ? &lt;EOS&gt;</td>\n",
       "      <td>What else can you do for us ? &lt;EOS&gt;</td>\n",
       "      <td>What What can can you do for us ? &lt;EOS&gt;</td>\n",
       "    </tr>\n",
       "    <tr>\n",
       "      <th>4584</th>\n",
       "      <td>На следующей неделе мне будет семнадцать . &lt;EOS&gt;</td>\n",
       "      <td>I will be seventeen next week . &lt;EOS&gt;</td>\n",
       "      <td>'ll go home next week . &lt;EOS&gt;</td>\n",
       "    </tr>\n",
       "    <tr>\n",
       "      <th>12505</th>\n",
       "      <td>Несколько пассажиров поезда пострадало в авари...</td>\n",
       "      <td>Several passengers on the train were injured i...</td>\n",
       "      <td>of in the world can born in the accident . &lt;EOS&gt;</td>\n",
       "    </tr>\n",
       "    <tr>\n",
       "      <th>11593</th>\n",
       "      <td>Я тоже этого не понимаю . &lt;EOS&gt;</td>\n",
       "      <td>I do n't get it either . &lt;EOS&gt;</td>\n",
       "      <td>'m n't understand it . . &lt;EOS&gt;</td>\n",
       "    </tr>\n",
       "    <tr>\n",
       "      <th>2727</th>\n",
       "      <td>Том научился нырять , когда ему было тринадцат...</td>\n",
       "      <td>Tom learned to dive when he was thirteen . &lt;EOS&gt;</td>\n",
       "      <td>Tom learned to go when he was sick . &lt;EOS&gt;</td>\n",
       "    </tr>\n",
       "    <tr>\n",
       "      <th>13448</th>\n",
       "      <td>Она попыталась покончить с собой . &lt;EOS&gt;</td>\n",
       "      <td>She tried to kill herself . &lt;EOS&gt;</td>\n",
       "      <td>tried to talk her . &lt;EOS&gt;</td>\n",
       "    </tr>\n",
       "  </tbody>\n",
       "</table>\n",
       "</div>"
      ],
      "text/plain": [
       "                                                     Rus  \\\n",
       "3982                      Я не знал , что он там . <EOS>   \n",
       "5019                          Эта женщина читает . <EOS>   \n",
       "12050                    <UNK> стрелка сломалась . <EOS>   \n",
       "3057                Дождь стучал по <UNK> стеклу . <EOS>   \n",
       "4495           Они быстро стали лучшими друзьями . <EOS>   \n",
       "3918               Я купил ручку , но потерял её . <EOS>   \n",
       "12225                           Увидимся вечером . <EOS>   \n",
       "1500                 Он стремится стать учителем . <EOS>   \n",
       "7470                        Мы катались на лодке . <EOS>   \n",
       "3744   В последние годы наука достигла значительного ...   \n",
       "384                Он не хотел со мной танцевать . <EOS>   \n",
       "115            Что ещё ты можешь для нас сделать ? <EOS>   \n",
       "4584    На следующей неделе мне будет семнадцать . <EOS>   \n",
       "12505  Несколько пассажиров поезда пострадало в авари...   \n",
       "11593                    Я тоже этого не понимаю . <EOS>   \n",
       "2727   Том научился нырять , когда ему было тринадцат...   \n",
       "13448           Она попыталась покончить с собой . <EOS>   \n",
       "\n",
       "                                              Eng_target  \\\n",
       "3982            I did n't know that he was there . <EOS>   \n",
       "5019                        The woman is reading . <EOS>   \n",
       "12050                    The hour hand is broken . <EOS>   \n",
       "3057          The rain tapped against the window . <EOS>   \n",
       "4495            They quickly became best friends . <EOS>   \n",
       "3918              I bought a pen , but I lost it . <EOS>   \n",
       "12225                            See you tonight . <EOS>   \n",
       "1500              He aspires to become a teacher . <EOS>   \n",
       "7470                           We rode on a boat . <EOS>   \n",
       "3744   In recent years , science has made remarkable ...   \n",
       "384             He did n't want to dance with me . <EOS>   \n",
       "115                  What else can you do for us ? <EOS>   \n",
       "4584               I will be seventeen next week . <EOS>   \n",
       "12505  Several passengers on the train were injured i...   \n",
       "11593                     I do n't get it either . <EOS>   \n",
       "2727    Tom learned to dive when he was thirteen . <EOS>   \n",
       "13448                  She tried to kill herself . <EOS>   \n",
       "\n",
       "                                          Eng_predicted  \n",
       "3982             did n't know that he was there . <EOS>  \n",
       "5019                      This woman is reading . <EOS>  \n",
       "12050                     meeting was the <UNK> . <EOS>  \n",
       "3057                    rain will the the river . <EOS>  \n",
       "4495             They were have friends friends . <EOS>  \n",
       "3918           bought a letter , but I lost her . <EOS>  \n",
       "12225                                I you last . <EOS>  \n",
       "1500                He made to become a teacher . <EOS>  \n",
       "7470                         We 're on the tree . <EOS>  \n",
       "3744   the <UNK> of the <UNK> become a progress . <EOS>  \n",
       "384             He did n't want to talk with me . <EOS>  \n",
       "115             What What can can you do for us ? <EOS>  \n",
       "4584                      'll go home next week . <EOS>  \n",
       "12505  of in the world can born in the accident . <EOS>  \n",
       "11593                    'm n't understand it . . <EOS>  \n",
       "2727         Tom learned to go when he was sick . <EOS>  \n",
       "13448                         tried to talk her . <EOS>  "
      ]
     },
     "metadata": {},
     "output_type": "display_data"
    }
   ],
   "source": [
    "display( df_test_.sample(17) )"
   ]
  },
  {
   "cell_type": "code",
   "execution_count": 57,
   "id": "9666fbc4",
   "metadata": {},
   "outputs": [],
   "source": [
    "del init_seq\n",
    "del hypothesis\n",
    "del reference"
   ]
  },
  {
   "cell_type": "markdown",
   "id": "9bc16fb0",
   "metadata": {},
   "source": [
    "---"
   ]
  },
  {
   "cell_type": "code",
   "execution_count": 58,
   "id": "4abf8d6b",
   "metadata": {},
   "outputs": [],
   "source": [
    "# from torchtext.data.metrics import bleu_score\n",
    "\n",
    "# candidate_corpus = [\n",
    "#     ['My', 'full', 'pytorch', 'test'], \n",
    "#     ['Another', 'Sentence']\n",
    "# ]\n",
    "\n",
    "# references_corpus = [\n",
    "#     [\n",
    "#         ['My', 'full', 'pytorch', 'test'], \n",
    "#         ['Completely', 'Different']\n",
    "#     ], [\n",
    "#         ['No', 'Match']\n",
    "#     ]\n",
    "# ]\n",
    "\n",
    "# bleu_score(candidate_corpus, references_corpus)"
   ]
  },
  {
   "cell_type": "code",
   "execution_count": 59,
   "id": "7e4d4b11",
   "metadata": {},
   "outputs": [],
   "source": [
    "# from nltk.translate.bleu_score import sentence_bleu\n",
    "\n",
    "# hypothesis = ['It', 'is', 'a', 'cat', 'at', 'room']\n",
    "# reference = ['It', 'is', 'a', 'cat', 'inside', 'the', 'room']\n",
    "\n",
    "# # hypothesis = [ '0', '1', '2', '3', '4', '6']\n",
    "# # reference = [ '0', '1', '2', '3',  '5', '7', '6' ]\n",
    "\n",
    "# bleu_score([hypothesis], [[reference,]])"
   ]
  },
  {
   "cell_type": "markdown",
   "id": "11a0a04a",
   "metadata": {},
   "source": [
    "---"
   ]
  },
  {
   "cell_type": "code",
   "execution_count": null,
   "id": "4a61a373",
   "metadata": {},
   "outputs": [],
   "source": [
    "# batch_size=4\n",
    "# for input_tensor, target_tensor in DataLoader( ds_train, batch_size=batch_size, shuffle=True): break\n",
    "# display( input_tensor.shape, target_tensor.shape )"
   ]
  },
  {
   "cell_type": "code",
   "execution_count": null,
   "id": "3f24a17e",
   "metadata": {},
   "outputs": [],
   "source": [
    "# vocab_input_len  = len(ds_train.vocab['Rus'])\n",
    "# vocab_output_len = len(ds_train.vocab['Eng'])\n",
    "# max_output_seq_len = ds_train.max_seq['Eng']+1\n",
    "# embedding_dim = 1024\n",
    "# encoder_hidden_dim = 256\n",
    "\n",
    "# model_encoder = Encoder(\n",
    "#         vocab_len=vocab_input_len+1,\n",
    "#         embedding_dim=embedding_dim,\n",
    "#         encoder_hidden_dim=encoder_hidden_dim,\n",
    "#     )\n",
    "\n",
    "# model_decoder = DecoderAttention( \n",
    "#         hidden_size=encoder_hidden_dim, \n",
    "#         output_size=vocab_output_len+1, \n",
    "#         max_seq_len=max_output_seq_len,\n",
    "#         device='cpu',\n",
    "#     )\n",
    "\n",
    "# with torch.set_grad_enabled(False): \n",
    "#     enc_o, enc_h = model_encoder(input_tensor)\n",
    "#     # dec_h = enc_h \n",
    "#     # dec_i = target_tensor[:,0].unsqueeze(1)\n",
    "#     # dec_o, dec_h = model_decoder.step(dec_i, dec_h, enc_o)\n",
    "#     dec_o, dec_h, _ = model_decoder(enc_o,enc_h)\n",
    "\n",
    "# display( dec_o.shape, dec_h.shape )\n",
    "\n",
    "# #   display( att.shape, o.shape  )\n",
    "\n",
    "# # display( ( decoder_input.shape, decoder_hidden.shape, encoder_hidden.shape )  )\n"
   ]
  },
  {
   "cell_type": "code",
   "execution_count": null,
   "id": "ff607e88",
   "metadata": {},
   "outputs": [],
   "source": [
    "# dec_h = enc_h[:,-1,:].unsqueeze(0)\n",
    "# dec_h.shape"
   ]
  },
  {
   "cell_type": "code",
   "execution_count": null,
   "id": "afbd94c7",
   "metadata": {},
   "outputs": [],
   "source": []
  }
 ],
 "metadata": {
  "kernelspec": {
   "display_name": "Python 3 (ipykernel)",
   "language": "python",
   "name": "python3"
  },
  "language_info": {
   "codemirror_mode": {
    "name": "ipython",
    "version": 3
   },
   "file_extension": ".py",
   "mimetype": "text/x-python",
   "name": "python",
   "nbconvert_exporter": "python",
   "pygments_lexer": "ipython3",
   "version": "3.11.3"
  },
  "toc": {
   "base_numbering": 1,
   "nav_menu": {},
   "number_sections": true,
   "sideBar": true,
   "skip_h1_title": false,
   "title_cell": "Table of Contents",
   "title_sidebar": "Contents",
   "toc_cell": false,
   "toc_position": {},
   "toc_section_display": true,
   "toc_window_display": false
  }
 },
 "nbformat": 4,
 "nbformat_minor": 5
}
