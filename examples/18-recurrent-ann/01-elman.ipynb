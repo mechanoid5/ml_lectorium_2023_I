{
 "cells": [
  {
   "cell_type": "markdown",
   "metadata": {},
   "source": [
    "**рекуррентная нейронная сеть Элмана**\n",
    "\n",
    "Евгений Борисов <esborisov@sevsu.ru>\n",
    "\n",
    "\n",
    "построим простую языковая модель и\n",
    "обучим её предсказывать последнюю букву в слове\n"
   ]
  },
  {
   "cell_type": "markdown",
   "metadata": {},
   "source": [
    "---"
   ]
  },
  {
   "cell_type": "code",
   "execution_count": 1,
   "metadata": {},
   "outputs": [],
   "source": [
    "import numpy as np\n",
    "from numpy import random as rng\n",
    "import matplotlib.pyplot as plt"
   ]
  },
  {
   "cell_type": "markdown",
   "metadata": {},
   "source": [
    "## генерируем данные"
   ]
  },
  {
   "cell_type": "code",
   "execution_count": 2,
   "metadata": {},
   "outputs": [],
   "source": [
    "# # Федор Михайлович Достоевский \"Бесы\"\n",
    "# text='''\n",
    "# Приступая к описанию недавних и столь странных событий, происшедших в нашем, доселе ничем не отличавшемся городе, я принужден, по неумению моему, начать несколько издалека, а именно некоторыми биографическими подробностями о талантливом и многочтимом Степане Трофимовиче Верховенском. Пусть эти подробности послужат лишь введением к предлагаемой хронике, а самая история, которую я намерен описывать, еще впереди.\n",
    "# Скажу прямо: Степан Трофимович постоянно играл между нами некоторую особую и так-сказать гражданскую роль и любил эту роль до страсти, - так даже, что, мне кажется, без нее и прожить не мог. Не то чтоб уж я его приравнивал к актеру на театре: сохрани боже, тем более, что сам его уважаю. Тут всё могло быть делом привычки, или, лучше сказать, беспрерывной и благородной склонности, с детских лет, к приятной мечте о красивой гражданской своей постановке. Он, например, чрезвычайно любил свое положение \"гонимого\" и так-сказать \"ссыльного\". В этих обоих словечках есть своего рода классический блеск, соблазнивший его раз навсегда, и, возвышая его потом постепенно в собственном мнении, в продолжение столь многих лет, довел его наконец до некоторого весьма высокого и приятного для самолюбия пьедестала. В одном сатирическом английском романе прошлого столетия, некто Гуливер, возвратясь из страны лилипутов, где люди были всего в какие-нибудь два вершка росту, до того приучился считать себя между ними великаном, что и ходя по улицам Лондона, невольно кричал прохожим и экипажам, чтоб они пред ним сворачивали и остерегались, чтоб он как-нибудь их не раздавил, воображая, что он всё еще великан, а они маленькие. За это смеялись над ним и бранили его, а грубые кучера даже стегали великана кнутьями; но справедливо ли? Чего не может сделать привычка? Привычка привела почти к тому же и Степана Трофимовича, но еще в более невинном и безобидном виде, если можно так выразиться, потому что прекраснейший был человек.\n",
    "# Я даже так думаю, что под конец его все и везде позабыли; но уже никак ведь нельзя сказать, что и прежде совсем не знали. Бесспорно, что и он некоторое время принадлежал к знаменитой плеяде иных прославленных деятелей нашего прошедшего поколения, и, одно время, - впрочем, всего только одну самую маленькую минуточку, - его имя многими тогдашними торопившимися людьми произносилось чуть не на ряду с именами Чаадаева, Белинского, Грановского и только что начинавшего тогда за границей Герцена. Но деятельность Степана Трофимовича окончилась почти в ту же минуту, как и началась, - так-сказать, от \"вихря сошедшихся обстоятельств\". И что же? Не только \"вихря\", но даже и \"обстоятельств\" совсем потом не оказалось, по крайней мере в этом случае. Я только теперь, на днях, узнал, к величайшему моему удивлению, но зато уже в совершенной достоверности, что Степан Трофимович проживал между нами, в нашей губернии, не только не в ссылке, как принято было у нас думать, но даже и под присмотром никогда не находился. Какова же после этого сила собственного воображения! Он искренно сам верил всю свою жизнь, что в некоторых сферах его постоянно опасаются, что шаги его беспрерывно известны и сочтены, и что каждый из трех сменившихся у нас в последние двадцать лет губернаторов, въезжая править губернией, уже привозил с собою некоторую особую и хлопотливую о нем мысль, внушенную ему свыше и прежде всего, при сдаче губернии. Уверь кто-нибудь тогда честнейшего Степана Трофимовича неопровержимыми доказательствами, что ему вовсе нечего опасаться, и он бы непременно обиделся. А между тем это был ведь человек умнейший и даровитейший, человек так-сказать даже науки, хотя впрочем в науке... ну, одним словом, в науке он сделал не так много и, кажется, совсем ничего. Но ведь с людьми науки у нас на Руси это сплошь да рядом случается.\n",
    "# '''\n",
    "# display(len(text))"
   ]
  },
  {
   "cell_type": "code",
   "execution_count": 3,
   "metadata": {},
   "outputs": [
    {
     "data": {
      "text/plain": [
       "420"
      ]
     },
     "metadata": {},
     "output_type": "display_data"
    }
   ],
   "source": [
    "# Федор Михайлович Достоевский \"Бесы\"\n",
    "text='''\n",
    "Приступая к описанию недавних и столь странных событий, происшедших в нашем, \n",
    "доселе ничем не отличавшемся городе, я принужден, по неумению моему, \n",
    "начать несколько издалека, а именно некоторыми биографическими подробностями \n",
    "о талантливом и многочтимом Степане Трофимовиче Верховенском. \n",
    "Пусть эти подробности послужат лишь введением к предлагаемой хронике, \n",
    "а самая история, которую я намерен описывать, еще впереди.\n",
    "'''\n",
    "display(len(text))"
   ]
  },
  {
   "cell_type": "code",
   "execution_count": 4,
   "metadata": {},
   "outputs": [],
   "source": [
    "# abc[:7]"
   ]
  },
  {
   "cell_type": "code",
   "execution_count": 5,
   "metadata": {},
   "outputs": [
    {
     "data": {
      "text/plain": [
       "['Верховенском',\n",
       " 'Приступая',\n",
       " 'Пусть',\n",
       " 'Степане',\n",
       " 'Трофимовиче',\n",
       " 'биографическими',\n",
       " 'введением',\n",
       " 'впереди',\n",
       " 'городе',\n",
       " 'доселе',\n",
       " 'издалека',\n",
       " 'именно',\n",
       " 'история',\n",
       " 'которую',\n",
       " 'лишь',\n",
       " 'многочтимом',\n",
       " 'моему',\n",
       " 'намерен',\n",
       " 'начать',\n",
       " 'нашем',\n",
       " 'недавних',\n",
       " 'некоторыми',\n",
       " 'несколько',\n",
       " 'неумению',\n",
       " 'ничем',\n",
       " 'описанию',\n",
       " 'описывать',\n",
       " 'отличавшемся',\n",
       " 'подробности',\n",
       " 'подробностями',\n",
       " 'послужат',\n",
       " 'предлагаемой',\n",
       " 'принужден',\n",
       " 'происшедших',\n",
       " 'самая',\n",
       " 'событий',\n",
       " 'столь',\n",
       " 'странных',\n",
       " 'талантливом',\n",
       " 'хронике']"
      ]
     },
     "metadata": {},
     "output_type": "display_data"
    }
   ],
   "source": [
    "import re\n",
    "\n",
    "# выполняем токенизацию - режем текст на слова\n",
    "words = sorted(set([ \n",
    "        w for w in re.sub(r'[\\W]',' ',text).split() # выкидываем лишние символы\n",
    "        if len(w)>3 # выкинем короткие слова\n",
    "    ]))\n",
    "\n",
    "display(words)"
   ]
  },
  {
   "cell_type": "code",
   "execution_count": 6,
   "metadata": {},
   "outputs": [
    {
     "data": {
      "text/plain": [
       "{'В': 1,\n",
       " 'П': 2,\n",
       " 'С': 3,\n",
       " 'Т': 4,\n",
       " 'а': 5,\n",
       " 'б': 6,\n",
       " 'в': 7,\n",
       " 'г': 8,\n",
       " 'д': 9,\n",
       " 'е': 10,\n",
       " 'ж': 11,\n",
       " 'з': 12,\n",
       " 'и': 13,\n",
       " 'й': 14,\n",
       " 'к': 15,\n",
       " 'л': 16,\n",
       " 'м': 17,\n",
       " 'н': 18,\n",
       " 'о': 19,\n",
       " 'п': 20,\n",
       " 'р': 21,\n",
       " 'с': 22,\n",
       " 'т': 23,\n",
       " 'у': 24,\n",
       " 'ф': 25,\n",
       " 'х': 26,\n",
       " 'ч': 27,\n",
       " 'ш': 28,\n",
       " 'ы': 29,\n",
       " 'ь': 30,\n",
       " 'ю': 31,\n",
       " 'я': 32}"
      ]
     },
     "metadata": {},
     "output_type": "display_data"
    }
   ],
   "source": [
    "# алфавит\n",
    "abc = sorted(set(''.join(words)))\n",
    "# abc = sorted(set(text))\n",
    "\n",
    "# нумеруем символы алфавита для замены символов их номерами\n",
    "abc_enc = { c:i+1 for i,c in enumerate(abc) }\n",
    "\n",
    "# обратное преобразование - по номеру определяем символ\n",
    "abc_dec = { v:k for k,v in abc_enc.items() }\n",
    "\n",
    "display(abc_enc)"
   ]
  },
  {
   "cell_type": "code",
   "execution_count": 7,
   "metadata": {},
   "outputs": [
    {
     "data": {
      "text/plain": [
       "[[1, 10, 21, 26, 19, 7, 10, 18, 22, 15, 19, 17],\n",
       " [2, 21, 13, 22, 23, 24, 20, 5, 32],\n",
       " [2, 24, 22, 23, 30],\n",
       " [3, 23, 10, 20, 5, 18, 10],\n",
       " [4, 21, 19, 25, 13, 17, 19, 7, 13, 27, 10],\n",
       " [6, 13, 19, 8, 21, 5, 25, 13, 27, 10, 22, 15, 13, 17, 13],\n",
       " [7, 7, 10, 9, 10, 18, 13, 10, 17],\n",
       " [7, 20, 10, 21, 10, 9, 13],\n",
       " [8, 19, 21, 19, 9, 10],\n",
       " [9, 19, 22, 10, 16, 10],\n",
       " [13, 12, 9, 5, 16, 10, 15, 5],\n",
       " [13, 17, 10, 18, 18, 19],\n",
       " [13, 22, 23, 19, 21, 13, 32],\n",
       " [15, 19, 23, 19, 21, 24, 31],\n",
       " [16, 13, 28, 30],\n",
       " [17, 18, 19, 8, 19, 27, 23, 13, 17, 19, 17],\n",
       " [17, 19, 10, 17, 24],\n",
       " [18, 5, 17, 10, 21, 10, 18],\n",
       " [18, 5, 27, 5, 23, 30],\n",
       " [18, 5, 28, 10, 17],\n",
       " [18, 10, 9, 5, 7, 18, 13, 26],\n",
       " [18, 10, 15, 19, 23, 19, 21, 29, 17, 13],\n",
       " [18, 10, 22, 15, 19, 16, 30, 15, 19],\n",
       " [18, 10, 24, 17, 10, 18, 13, 31],\n",
       " [18, 13, 27, 10, 17],\n",
       " [19, 20, 13, 22, 5, 18, 13, 31],\n",
       " [19, 20, 13, 22, 29, 7, 5, 23, 30],\n",
       " [19, 23, 16, 13, 27, 5, 7, 28, 10, 17, 22, 32],\n",
       " [20, 19, 9, 21, 19, 6, 18, 19, 22, 23, 13],\n",
       " [20, 19, 9, 21, 19, 6, 18, 19, 22, 23, 32, 17, 13],\n",
       " [20, 19, 22, 16, 24, 11, 5, 23],\n",
       " [20, 21, 10, 9, 16, 5, 8, 5, 10, 17, 19, 14],\n",
       " [20, 21, 13, 18, 24, 11, 9, 10, 18],\n",
       " [20, 21, 19, 13, 22, 28, 10, 9, 28, 13, 26],\n",
       " [22, 5, 17, 5, 32],\n",
       " [22, 19, 6, 29, 23, 13, 14],\n",
       " [22, 23, 19, 16, 30],\n",
       " [22, 23, 21, 5, 18, 18, 29, 26],\n",
       " [23, 5, 16, 5, 18, 23, 16, 13, 7, 19, 17],\n",
       " [26, 21, 19, 18, 13, 15, 10]]"
      ]
     },
     "metadata": {},
     "output_type": "display_data"
    }
   ],
   "source": [
    "# кодируем слова\n",
    "code = [ list(map(abc_enc.get,w)) for w in words ]\n",
    "display(code)"
   ]
  },
  {
   "cell_type": "code",
   "execution_count": 8,
   "metadata": {},
   "outputs": [
    {
     "data": {
      "text/plain": [
       "15"
      ]
     },
     "metadata": {},
     "output_type": "display_data"
    },
    {
     "data": {
      "text/plain": [
       "(40, 15)"
      ]
     },
     "metadata": {},
     "output_type": "display_data"
    },
    {
     "data": {
      "text/plain": [
       "array([[ 0,  0,  0,  1, 10, 21, 26, 19,  7, 10, 18, 22, 15, 19, 17],\n",
       "       [ 0,  0,  0,  0,  0,  0,  2, 21, 13, 22, 23, 24, 20,  5, 32],\n",
       "       [ 0,  0,  0,  0,  0,  0,  0,  0,  0,  0,  2, 24, 22, 23, 30],\n",
       "       [ 0,  0,  0,  0,  0,  0,  0,  0,  3, 23, 10, 20,  5, 18, 10],\n",
       "       [ 0,  0,  0,  0,  4, 21, 19, 25, 13, 17, 19,  7, 13, 27, 10],\n",
       "       [ 6, 13, 19,  8, 21,  5, 25, 13, 27, 10, 22, 15, 13, 17, 13],\n",
       "       [ 0,  0,  0,  0,  0,  0,  7,  7, 10,  9, 10, 18, 13, 10, 17],\n",
       "       [ 0,  0,  0,  0,  0,  0,  0,  0,  7, 20, 10, 21, 10,  9, 13],\n",
       "       [ 0,  0,  0,  0,  0,  0,  0,  0,  0,  8, 19, 21, 19,  9, 10],\n",
       "       [ 0,  0,  0,  0,  0,  0,  0,  0,  0,  9, 19, 22, 10, 16, 10],\n",
       "       [ 0,  0,  0,  0,  0,  0,  0, 13, 12,  9,  5, 16, 10, 15,  5],\n",
       "       [ 0,  0,  0,  0,  0,  0,  0,  0,  0, 13, 17, 10, 18, 18, 19],\n",
       "       [ 0,  0,  0,  0,  0,  0,  0,  0, 13, 22, 23, 19, 21, 13, 32],\n",
       "       [ 0,  0,  0,  0,  0,  0,  0,  0, 15, 19, 23, 19, 21, 24, 31],\n",
       "       [ 0,  0,  0,  0,  0,  0,  0,  0,  0,  0,  0, 16, 13, 28, 30],\n",
       "       [ 0,  0,  0,  0, 17, 18, 19,  8, 19, 27, 23, 13, 17, 19, 17],\n",
       "       [ 0,  0,  0,  0,  0,  0,  0,  0,  0,  0, 17, 19, 10, 17, 24],\n",
       "       [ 0,  0,  0,  0,  0,  0,  0,  0, 18,  5, 17, 10, 21, 10, 18],\n",
       "       [ 0,  0,  0,  0,  0,  0,  0,  0,  0, 18,  5, 27,  5, 23, 30],\n",
       "       [ 0,  0,  0,  0,  0,  0,  0,  0,  0,  0, 18,  5, 28, 10, 17],\n",
       "       [ 0,  0,  0,  0,  0,  0,  0, 18, 10,  9,  5,  7, 18, 13, 26],\n",
       "       [ 0,  0,  0,  0,  0, 18, 10, 15, 19, 23, 19, 21, 29, 17, 13],\n",
       "       [ 0,  0,  0,  0,  0,  0, 18, 10, 22, 15, 19, 16, 30, 15, 19],\n",
       "       [ 0,  0,  0,  0,  0,  0,  0, 18, 10, 24, 17, 10, 18, 13, 31],\n",
       "       [ 0,  0,  0,  0,  0,  0,  0,  0,  0,  0, 18, 13, 27, 10, 17],\n",
       "       [ 0,  0,  0,  0,  0,  0,  0, 19, 20, 13, 22,  5, 18, 13, 31],\n",
       "       [ 0,  0,  0,  0,  0,  0, 19, 20, 13, 22, 29,  7,  5, 23, 30],\n",
       "       [ 0,  0,  0, 19, 23, 16, 13, 27,  5,  7, 28, 10, 17, 22, 32],\n",
       "       [ 0,  0,  0,  0, 20, 19,  9, 21, 19,  6, 18, 19, 22, 23, 13],\n",
       "       [ 0,  0, 20, 19,  9, 21, 19,  6, 18, 19, 22, 23, 32, 17, 13],\n",
       "       [ 0,  0,  0,  0,  0,  0,  0, 20, 19, 22, 16, 24, 11,  5, 23],\n",
       "       [ 0,  0,  0, 20, 21, 10,  9, 16,  5,  8,  5, 10, 17, 19, 14],\n",
       "       [ 0,  0,  0,  0,  0,  0, 20, 21, 13, 18, 24, 11,  9, 10, 18],\n",
       "       [ 0,  0,  0,  0, 20, 21, 19, 13, 22, 28, 10,  9, 28, 13, 26],\n",
       "       [ 0,  0,  0,  0,  0,  0,  0,  0,  0,  0, 22,  5, 17,  5, 32],\n",
       "       [ 0,  0,  0,  0,  0,  0,  0,  0, 22, 19,  6, 29, 23, 13, 14],\n",
       "       [ 0,  0,  0,  0,  0,  0,  0,  0,  0,  0, 22, 23, 19, 16, 30],\n",
       "       [ 0,  0,  0,  0,  0,  0,  0, 22, 23, 21,  5, 18, 18, 29, 26],\n",
       "       [ 0,  0,  0,  0, 23,  5, 16,  5, 18, 23, 16, 13,  7, 19, 17],\n",
       "       [ 0,  0,  0,  0,  0,  0,  0,  0, 26, 21, 19, 18, 13, 15, 10]])"
      ]
     },
     "metadata": {},
     "output_type": "display_data"
    }
   ],
   "source": [
    "# максимальная длина слова\n",
    "max_len = max(map(len,code))\n",
    "display(max_len)\n",
    "\n",
    "abc_dec[0] = '' # добавляем в алфавит \"пустой\" символ\n",
    "\n",
    "# дополняем короткие коды слов нулями до единого размера\n",
    "code = np.array([ [0]*(max_len-len(c))+c for c in code ])\n",
    "display(code.shape)\n",
    "display(code)"
   ]
  },
  {
   "cell_type": "code",
   "execution_count": 9,
   "metadata": {},
   "outputs": [
    {
     "data": {
      "text/plain": [
       "(40, 14)"
      ]
     },
     "metadata": {},
     "output_type": "display_data"
    },
    {
     "data": {
      "text/plain": [
       "(40, 1)"
      ]
     },
     "metadata": {},
     "output_type": "display_data"
    }
   ],
   "source": [
    "# формируем датасет\n",
    "X = code[:,:-1] # начало слова\n",
    "y = code[:,[-1]] # последний символ слова\n",
    "\n",
    "display(X.shape,y.shape)"
   ]
  },
  {
   "cell_type": "code",
   "execution_count": 10,
   "metadata": {},
   "outputs": [
    {
     "data": {
      "text/plain": [
       "32"
      ]
     },
     "metadata": {},
     "output_type": "display_data"
    },
    {
     "data": {
      "text/plain": [
       "(40, 14, 33)"
      ]
     },
     "metadata": {},
     "output_type": "display_data"
    },
    {
     "data": {
      "text/plain": [
       "(40, 33)"
      ]
     },
     "metadata": {},
     "output_type": "display_data"
    }
   ],
   "source": [
    "# формируем входы и выходы для нейросети\n",
    "\n",
    "# максимальный номер слова\n",
    "max_code = code.max()\n",
    "display(max_code)\n",
    "\n",
    "# выполняем унитарное кодирование (OHE, one hot encoding) номеров символов \n",
    "# т.е. заменяем номер символа в последовательности на вектор [0,1] длинны max_code\n",
    "X = np.eye(max_code+1)[X]\n",
    "display(X.shape)\n",
    "\n",
    "y = np.eye(max_code+1)[y.flatten()]\n",
    "display(y.shape)"
   ]
  },
  {
   "cell_type": "code",
   "execution_count": 11,
   "metadata": {},
   "outputs": [],
   "source": [
    "X_train, y_train = X, y\n",
    "X_test,  y_test  = X, y"
   ]
  },
  {
   "cell_type": "markdown",
   "metadata": {},
   "source": [
    "## строим модель"
   ]
  },
  {
   "attachments": {
    "image.png": {
     "image/png": "[encoded data removed]"
    }
   },
   "cell_type": "markdown",
   "metadata": {},
   "source": [
    "рекуррентная сеть Элмана \n",
    "\n",
    "![image.png](attachment:image.png)"
   ]
  },
  {
   "cell_type": "code",
   "execution_count": 12,
   "metadata": {},
   "outputs": [],
   "source": [
    "def state(x,w,b=0.): # состояние нейронов\n",
    "    return x.dot(w) + b"
   ]
  },
  {
   "cell_type": "code",
   "execution_count": 13,
   "metadata": {},
   "outputs": [],
   "source": [
    "def bp_sigmoid(u): # функция активации\n",
    "    return np.tanh(u)\n",
    "\n",
    "def d_bp_sigmoid(u): # производная активации\n",
    "    return 1./(np.cosh(u)**2)"
   ]
  },
  {
   "cell_type": "code",
   "execution_count": 14,
   "metadata": {},
   "outputs": [
    {
     "data": {
      "text/plain": [
       "<matplotlib.legend.Legend at 0x7f43d87c5db0>"
      ]
     },
     "execution_count": 14,
     "metadata": {},
     "output_type": "execute_result"
    },
    {
     "data": {
      "image/png": "[encoded data removed]",
      "text/plain": [
       "<Figure size 640x480 with 1 Axes>"
      ]
     },
     "metadata": {},
     "output_type": "display_data"
    }
   ],
   "source": [
    "u=np.linspace(-10,10,500)\n",
    "plt.plot( u,bp_sigmoid(u),'-r', label='bp sigmoid' )\n",
    "plt.plot( u,d_bp_sigmoid(u),'-g', label='d bp sigmoid' )\n",
    "plt.grid()\n",
    "plt.legend()"
   ]
  },
  {
   "cell_type": "code",
   "execution_count": 15,
   "metadata": {},
   "outputs": [],
   "source": [
    "def layer_rc(x,w,w1,b): # выход рекурентного слоя\n",
    "    seq_len = x.shape[1] # длина последовательности \n",
    "    n_samples = x.shape[0] # количество примеров\n",
    "    o = np.zeros( shape=(n_samples,w1.shape[0]) ) # начальные значения памяти сети\n",
    "    for i in range(seq_len): # прогоняем через сеть последовательность примеров\n",
    "        o = bp_sigmoid( state(x[:,i,:],w) + state(o,w1) + b )\n",
    "    return o\n",
    "\n",
    "def layer_ff(x,w,b): # выход слоя прямого распространения\n",
    "    return bp_sigmoid( state( x,w,b) )"
   ]
  },
  {
   "cell_type": "code",
   "execution_count": 16,
   "metadata": {},
   "outputs": [],
   "source": [
    "def score(x,weight): # выход сети по схеме many-to-one\n",
    "    w,w1,b = weight[0] # веса первого обрабатывающего слоя и веса обратной связи\n",
    "    o = layer_rc(x,w,w1,b)\n",
    "    \n",
    "    w,b = weight[1]\n",
    "    o = layer_ff(o,w,b)\n",
    "        \n",
    "    return o"
   ]
  },
  {
   "cell_type": "code",
   "execution_count": 17,
   "metadata": {},
   "outputs": [],
   "source": [
    "# инициализация параметров сети\n",
    "def weight_init(input_size,hidden_size,output_size):\n",
    "    return [ \n",
    "        [ \n",
    "            rng.normal( size=(input_size,hidden_size),scale=.1), \n",
    "            rng.normal( size=(hidden_size,hidden_size),scale=.1), \n",
    "            rng.normal( size=(1,hidden_size),scale=.1), \n",
    "        ],\n",
    "        [ \n",
    "            rng.normal( size=(hidden_size,output_size),scale=.1), \n",
    "            rng.normal( size=(1,output_size),scale=.1), \n",
    "        ],\n",
    "    ]"
   ]
  },
  {
   "cell_type": "markdown",
   "metadata": {},
   "source": [
    "## обучаем модель"
   ]
  },
  {
   "cell_type": "markdown",
   "metadata": {},
   "source": [
    "функция потери средняя квадратичная ошибка\n",
    "$$L=MSQE(y,o)=\\frac{1}{m}\\sum\\limits_{i=0}^m(o_i-y_i)^2$$"
   ]
  },
  {
   "cell_type": "code",
   "execution_count": 18,
   "metadata": {},
   "outputs": [],
   "source": [
    "def msqe(y,o): # функция потери - средняя квадратичная ошибка\n",
    "    return np.square(o-y).sum()/(len(y)*y.shape[1])\n",
    "\n",
    "loss = msqe"
   ]
  },
  {
   "cell_type": "markdown",
   "metadata": {},
   "source": [
    "модификация back propagation для рекуррентных сетей - BPTT"
   ]
  },
  {
   "cell_type": "code",
   "execution_count": 19,
   "metadata": {},
   "outputs": [],
   "source": [
    "def forward(x,weight): # прямой проход\n",
    "    layers_state = []\n",
    "    layers_output = []\n",
    "    \n",
    "    seq_len = x.shape[1] # длина последовательности \n",
    "    n_samples = x.shape[0] # количество примеров\n",
    "\n",
    "    w,w1,b = weight[0]\n",
    "    o = np.zeros( shape=(n_samples,w1.shape[0]) ) # начальные значения памяти сети\n",
    "     \n",
    "    for i in range(seq_len): # прогоняем через сеть последовательность примеров\n",
    "        s = state(x[:,i,:],w) + state(o,w1) + b # состояние скрытого слоя\n",
    "        layers_state.append(s)\n",
    "        o = bp_sigmoid(s) # выход скрытого слоя\n",
    "        layers_output.append(o)\n",
    "        \n",
    "    w,b = weight[1]\n",
    "    s = state(o,w,b) \n",
    "    layers_state.append(s)\n",
    "    o = bp_sigmoid(s)\n",
    "    layers_output.append(o)    \n",
    "    \n",
    "    return (\n",
    "        layers_state, # состояние слоёв сети для каждого элемента последовательности\n",
    "        layers_output # выходы слоёв сети для каждого элемента последовательности\n",
    "    )"
   ]
  },
  {
   "cell_type": "code",
   "execution_count": 20,
   "metadata": {},
   "outputs": [],
   "source": [
    "def backward(d_output,layers_state,weight): # обратный проход\n",
    "    delta = [ d_output ]\n",
    "    \n",
    "    # ошибка скрытого слоя на последнем элементе входной последовательности\n",
    "    w,_ = weight[1]\n",
    "    s = layers_state[-2]\n",
    "    d = d_output.dot(w.T) * d_bp_sigmoid(s)\n",
    "    delta.append(d)\n",
    "    \n",
    "    w,w1,_ = weight[0]\n",
    "    for s in layers_state[:-2][::-1]: # выкинуть последние два, список в обратном порядке\n",
    "        d = d_bp_sigmoid(s)*d.dot(w1.T)\n",
    "        delta.append(d)\n",
    "\n",
    "    return delta[::-1] # значение ошибки для всех нейронов скрытых слоёв"
   ]
  },
  {
   "cell_type": "code",
   "execution_count": 21,
   "metadata": {},
   "outputs": [],
   "source": [
    "def weight_norm(weight): # нормируем значения градиента\n",
    "    w_max = max([ np.abs(w).max() for l in weight for w in l ])\n",
    "    if w_max>0.: return [ [ w/w_max for w in l ] for l in weight ]\n",
    "    return weight"
   ]
  },
  {
   "cell_type": "code",
   "execution_count": 22,
   "metadata": {},
   "outputs": [],
   "source": [
    "def msqe_partial(x,weight,y): # градиент функции потери\n",
    "    seq_len = x.shape[1] # длинна последовательностей\n",
    "\n",
    "    layers_state, layers_output = forward(x,weight) # состояния и выходы всех нейронов сети\n",
    "    d_output = (layers_output[-1]-y)* d_bp_sigmoid(layers_state[-1]) # ошибка выходного слоя\n",
    "    delta = backward(d_output,layers_state,weight) # значение ошибки для всех нейронов скрытых слоёв\n",
    "\n",
    "    dw0,dw0r,db0 = 0.,0.,0.\n",
    "    for i in range(0,seq_len-1):\n",
    "        dw0 += x[:,i,:].T.dot( delta[i] )\n",
    "        dw0r += layers_output[i].T.dot( delta[i] )\n",
    "        db0 += delta[i].sum(axis=0,keepdims=True) \n",
    "    \n",
    "    dw1 = layers_state[-2].T.dot(delta[-1])\n",
    "    db1 = delta[-1].sum(axis=0,keepdims=True)\n",
    "    \n",
    "    return weight_norm([[dw0,dw0r,db0],[dw1,db1]]) # нормируем значения градиента\n",
    "\n",
    "gradient = msqe_partial"
   ]
  },
  {
   "cell_type": "code",
   "execution_count": 23,
   "metadata": {},
   "outputs": [],
   "source": [
    "# корректируем параметры\n",
    "def weight_adjust(weight,d_weight,lr):\n",
    "    return [ \n",
    "        [ w-lr*dw for w,dw in zip(*l) ]  \n",
    "        for l in zip(weight,d_weight) \n",
    "    ]"
   ]
  },
  {
   "cell_type": "code",
   "execution_count": 24,
   "metadata": {},
   "outputs": [],
   "source": [
    "def fit_epoch(x,weight,y,lr): # шаг обучения модели\n",
    "    d_weight = gradient(x,weight,y) # градиент функции потери, изменение весов\n",
    "    return weight_adjust(weight,d_weight,lr) # корректируем параметры"
   ]
  },
  {
   "cell_type": "code",
   "execution_count": 25,
   "metadata": {},
   "outputs": [],
   "source": [
    "from sklearn.metrics import accuracy_score"
   ]
  },
  {
   "cell_type": "code",
   "execution_count": 26,
   "metadata": {},
   "outputs": [],
   "source": [
    "weight = weight_init(input_size=X_train.shape[-1],hidden_size=25,output_size=y_train.shape[-1])"
   ]
  },
  {
   "cell_type": "code",
   "execution_count": 27,
   "metadata": {},
   "outputs": [
    {
     "data": {
      "application/vnd.jupyter.widget-view+json": {
       "model_id": "2237b209d920400291e74f3ba57ec66b",
       "version_major": 2,
       "version_minor": 0
      },
      "text/plain": [
       "  0%|          | 0/200 [00:00<?, ?it/s]"
      ]
     },
     "metadata": {},
     "output_type": "display_data"
    },
    {
     "name": "stdout",
     "output_type": "stream",
     "text": [
      "step 109/200: loss 0.012, acc threshold 0.950 reached\n",
      "\n",
      "CPU times: user 240 ms, sys: 523 µs, total: 241 ms\n",
      "Wall time: 240 ms\n"
     ]
    }
   ],
   "source": [
    "%%time\n",
    "\n",
    "from tqdm.auto import tqdm\n",
    "# метод градиентного спуска\n",
    "\n",
    "lr = 2e-2 # скорость обучени\n",
    "n_samples = len(y_train) # количество примеров\n",
    "n_epoch = 200 # максимальное число циклов обучения\n",
    "acc_min = .95 # порог минимально допустимой погрешности модели\n",
    "\n",
    "target = np.argmax(y_train, axis=1 )\n",
    "\n",
    "# начальное значение ф-ции потери\n",
    "loss_history = [ loss(y_train,score(X_train,weight)) ]\n",
    "acc_history = [ accuracy_score( target, np.argmax(score(X_train,weight),axis=1) ) ]\n",
    "                               \n",
    "\n",
    "for i in tqdm(range(n_epoch)): # цикл обучения\n",
    "    weight = fit_epoch(X_train,weight,y_train,lr) # корректируем веса модели\n",
    "    loss_history.append( loss(y_train,score(X_train,weight)) ) # считаем значение ф-ции потери\n",
    "    acc_history.append( accuracy_score( target, np.argmax(score(X_train,weight),axis=1) ) )\n",
    "    \n",
    "    if acc_history[-1] > acc_min: # проверяем достижение минимального порога погрешности модели\n",
    "        print('step %i/%i: loss %.03f, acc threshold %.03f reached\\n'%(i+1,n_epoch,loss_history[-1],acc_min))\n",
    "        break"
   ]
  },
  {
   "cell_type": "code",
   "execution_count": 28,
   "metadata": {},
   "outputs": [
    {
     "data": {
      "text/plain": [
       "<matplotlib.legend.Legend at 0x7f43c97b7eb0>"
      ]
     },
     "execution_count": 28,
     "metadata": {},
     "output_type": "execute_result"
    },
    {
     "data": {
      "image/png": "[encoded data removed]",
      "text/plain": [
       "<Figure size 640x480 with 1 Axes>"
      ]
     },
     "metadata": {},
     "output_type": "display_data"
    }
   ],
   "source": [
    "# история изменения значений погрешности модели\n",
    "plt.plot(acc_history,label='max acc=%.3f'%(max(acc_history)),color='r')\n",
    "plt.grid()\n",
    "plt.legend()"
   ]
  },
  {
   "cell_type": "code",
   "execution_count": 29,
   "metadata": {},
   "outputs": [
    {
     "data": {
      "text/plain": [
       "<matplotlib.legend.Legend at 0x7f43c9783fa0>"
      ]
     },
     "execution_count": 29,
     "metadata": {},
     "output_type": "execute_result"
    },
    {
     "data": {
      "image/png": "[encoded data removed]",
      "text/plain": [
       "<Figure size 640x480 with 1 Axes>"
      ]
     },
     "metadata": {},
     "output_type": "display_data"
    }
   ],
   "source": [
    "# история изменения значений ф-ции потери\n",
    "plt.plot(loss_history,label='min loss=%.3f'%(min(loss_history)))\n",
    "plt.grid()\n",
    "plt.legend()"
   ]
  },
  {
   "cell_type": "markdown",
   "metadata": {},
   "source": [
    "## тестируем модель"
   ]
  },
  {
   "cell_type": "code",
   "execution_count": 30,
   "metadata": {},
   "outputs": [],
   "source": [
    "p = np.argmax(score(X_test,weight), axis=1 )\n",
    "target = np.argmax(y_test, axis=1 )"
   ]
  },
  {
   "cell_type": "code",
   "execution_count": 31,
   "metadata": {},
   "outputs": [
    {
     "name": "stdout",
     "output_type": "stream",
     "text": [
      "              precision    recall  f1-score   support\n",
      "\n",
      "           а       1.00      1.00      1.00         1\n",
      "           е       1.00      1.00      1.00         5\n",
      "           и       1.00      1.00      1.00         5\n",
      "           й       1.00      1.00      1.00         2\n",
      "           м       1.00      1.00      1.00         6\n",
      "           н       1.00      1.00      1.00         2\n",
      "           о       1.00      1.00      1.00         2\n",
      "           т       1.00      1.00      1.00         1\n",
      "           у       1.00      1.00      1.00         1\n",
      "           х       1.00      1.00      1.00         3\n",
      "           ь       1.00      1.00      1.00         5\n",
      "           ю       1.00      1.00      1.00         3\n",
      "           я       1.00      1.00      1.00         4\n",
      "\n",
      "    accuracy                           1.00        40\n",
      "   macro avg       1.00      1.00      1.00        40\n",
      "weighted avg       1.00      1.00      1.00        40\n",
      "\n"
     ]
    }
   ],
   "source": [
    "from sklearn.metrics import classification_report\n",
    "labels = list(map(abc_dec.get, sorted(set(target)) ))\n",
    "print(classification_report(target,p,target_names=labels))"
   ]
  },
  {
   "cell_type": "code",
   "execution_count": 32,
   "metadata": {},
   "outputs": [
    {
     "data": {
      "text/html": [
       "<style type=\"text/css\">\n",
       "#T_fa9f6_row0_col3, #T_fa9f6_row1_col3, #T_fa9f6_row2_col3, #T_fa9f6_row3_col3, #T_fa9f6_row4_col3, #T_fa9f6_row5_col3, #T_fa9f6_row6_col3, #T_fa9f6_row7_col3, #T_fa9f6_row8_col3, #T_fa9f6_row9_col3, #T_fa9f6_row10_col3, #T_fa9f6_row11_col3, #T_fa9f6_row12_col3, #T_fa9f6_row13_col3, #T_fa9f6_row14_col3, #T_fa9f6_row15_col3, #T_fa9f6_row16_col3, #T_fa9f6_row17_col3, #T_fa9f6_row18_col3, #T_fa9f6_row19_col3, #T_fa9f6_row20_col3, #T_fa9f6_row21_col3, #T_fa9f6_row22_col3, #T_fa9f6_row23_col3, #T_fa9f6_row24_col3, #T_fa9f6_row25_col3, #T_fa9f6_row26_col3, #T_fa9f6_row27_col3, #T_fa9f6_row28_col3, #T_fa9f6_row29_col3, #T_fa9f6_row30_col3, #T_fa9f6_row31_col3, #T_fa9f6_row32_col3, #T_fa9f6_row33_col3, #T_fa9f6_row34_col3, #T_fa9f6_row35_col3, #T_fa9f6_row36_col3, #T_fa9f6_row37_col3, #T_fa9f6_row38_col3, #T_fa9f6_row39_col3 {\n",
       "  color: green;\n",
       "}\n",
       "</style>\n",
       "<table id=\"T_fa9f6\">\n",
       "  <thead>\n",
       "    <tr>\n",
       "      <th class=\"blank level0\" >&nbsp;</th>\n",
       "      <th id=\"T_fa9f6_level0_col0\" class=\"col_heading level0 col0\" >sequence</th>\n",
       "      <th id=\"T_fa9f6_level0_col1\" class=\"col_heading level0 col1\" >target</th>\n",
       "      <th id=\"T_fa9f6_level0_col2\" class=\"col_heading level0 col2\" >predicted</th>\n",
       "      <th id=\"T_fa9f6_level0_col3\" class=\"col_heading level0 col3\" >is_error</th>\n",
       "    </tr>\n",
       "  </thead>\n",
       "  <tbody>\n",
       "    <tr>\n",
       "      <th id=\"T_fa9f6_level0_row0\" class=\"row_heading level0 row0\" >0</th>\n",
       "      <td id=\"T_fa9f6_row0_col0\" class=\"data row0 col0\" >Верховенско</td>\n",
       "      <td id=\"T_fa9f6_row0_col1\" class=\"data row0 col1\" >м</td>\n",
       "      <td id=\"T_fa9f6_row0_col2\" class=\"data row0 col2\" >м</td>\n",
       "      <td id=\"T_fa9f6_row0_col3\" class=\"data row0 col3\" >False</td>\n",
       "    </tr>\n",
       "    <tr>\n",
       "      <th id=\"T_fa9f6_level0_row1\" class=\"row_heading level0 row1\" >1</th>\n",
       "      <td id=\"T_fa9f6_row1_col0\" class=\"data row1 col0\" >Приступа</td>\n",
       "      <td id=\"T_fa9f6_row1_col1\" class=\"data row1 col1\" >я</td>\n",
       "      <td id=\"T_fa9f6_row1_col2\" class=\"data row1 col2\" >я</td>\n",
       "      <td id=\"T_fa9f6_row1_col3\" class=\"data row1 col3\" >False</td>\n",
       "    </tr>\n",
       "    <tr>\n",
       "      <th id=\"T_fa9f6_level0_row2\" class=\"row_heading level0 row2\" >2</th>\n",
       "      <td id=\"T_fa9f6_row2_col0\" class=\"data row2 col0\" >Пуст</td>\n",
       "      <td id=\"T_fa9f6_row2_col1\" class=\"data row2 col1\" >ь</td>\n",
       "      <td id=\"T_fa9f6_row2_col2\" class=\"data row2 col2\" >ь</td>\n",
       "      <td id=\"T_fa9f6_row2_col3\" class=\"data row2 col3\" >False</td>\n",
       "    </tr>\n",
       "    <tr>\n",
       "      <th id=\"T_fa9f6_level0_row3\" class=\"row_heading level0 row3\" >3</th>\n",
       "      <td id=\"T_fa9f6_row3_col0\" class=\"data row3 col0\" >Степан</td>\n",
       "      <td id=\"T_fa9f6_row3_col1\" class=\"data row3 col1\" >е</td>\n",
       "      <td id=\"T_fa9f6_row3_col2\" class=\"data row3 col2\" >е</td>\n",
       "      <td id=\"T_fa9f6_row3_col3\" class=\"data row3 col3\" >False</td>\n",
       "    </tr>\n",
       "    <tr>\n",
       "      <th id=\"T_fa9f6_level0_row4\" class=\"row_heading level0 row4\" >4</th>\n",
       "      <td id=\"T_fa9f6_row4_col0\" class=\"data row4 col0\" >Трофимович</td>\n",
       "      <td id=\"T_fa9f6_row4_col1\" class=\"data row4 col1\" >е</td>\n",
       "      <td id=\"T_fa9f6_row4_col2\" class=\"data row4 col2\" >е</td>\n",
       "      <td id=\"T_fa9f6_row4_col3\" class=\"data row4 col3\" >False</td>\n",
       "    </tr>\n",
       "    <tr>\n",
       "      <th id=\"T_fa9f6_level0_row5\" class=\"row_heading level0 row5\" >5</th>\n",
       "      <td id=\"T_fa9f6_row5_col0\" class=\"data row5 col0\" >биографическим</td>\n",
       "      <td id=\"T_fa9f6_row5_col1\" class=\"data row5 col1\" >и</td>\n",
       "      <td id=\"T_fa9f6_row5_col2\" class=\"data row5 col2\" >и</td>\n",
       "      <td id=\"T_fa9f6_row5_col3\" class=\"data row5 col3\" >False</td>\n",
       "    </tr>\n",
       "    <tr>\n",
       "      <th id=\"T_fa9f6_level0_row6\" class=\"row_heading level0 row6\" >6</th>\n",
       "      <td id=\"T_fa9f6_row6_col0\" class=\"data row6 col0\" >введение</td>\n",
       "      <td id=\"T_fa9f6_row6_col1\" class=\"data row6 col1\" >м</td>\n",
       "      <td id=\"T_fa9f6_row6_col2\" class=\"data row6 col2\" >м</td>\n",
       "      <td id=\"T_fa9f6_row6_col3\" class=\"data row6 col3\" >False</td>\n",
       "    </tr>\n",
       "    <tr>\n",
       "      <th id=\"T_fa9f6_level0_row7\" class=\"row_heading level0 row7\" >7</th>\n",
       "      <td id=\"T_fa9f6_row7_col0\" class=\"data row7 col0\" >вперед</td>\n",
       "      <td id=\"T_fa9f6_row7_col1\" class=\"data row7 col1\" >и</td>\n",
       "      <td id=\"T_fa9f6_row7_col2\" class=\"data row7 col2\" >и</td>\n",
       "      <td id=\"T_fa9f6_row7_col3\" class=\"data row7 col3\" >False</td>\n",
       "    </tr>\n",
       "    <tr>\n",
       "      <th id=\"T_fa9f6_level0_row8\" class=\"row_heading level0 row8\" >8</th>\n",
       "      <td id=\"T_fa9f6_row8_col0\" class=\"data row8 col0\" >город</td>\n",
       "      <td id=\"T_fa9f6_row8_col1\" class=\"data row8 col1\" >е</td>\n",
       "      <td id=\"T_fa9f6_row8_col2\" class=\"data row8 col2\" >е</td>\n",
       "      <td id=\"T_fa9f6_row8_col3\" class=\"data row8 col3\" >False</td>\n",
       "    </tr>\n",
       "    <tr>\n",
       "      <th id=\"T_fa9f6_level0_row9\" class=\"row_heading level0 row9\" >9</th>\n",
       "      <td id=\"T_fa9f6_row9_col0\" class=\"data row9 col0\" >досел</td>\n",
       "      <td id=\"T_fa9f6_row9_col1\" class=\"data row9 col1\" >е</td>\n",
       "      <td id=\"T_fa9f6_row9_col2\" class=\"data row9 col2\" >е</td>\n",
       "      <td id=\"T_fa9f6_row9_col3\" class=\"data row9 col3\" >False</td>\n",
       "    </tr>\n",
       "    <tr>\n",
       "      <th id=\"T_fa9f6_level0_row10\" class=\"row_heading level0 row10\" >10</th>\n",
       "      <td id=\"T_fa9f6_row10_col0\" class=\"data row10 col0\" >издалек</td>\n",
       "      <td id=\"T_fa9f6_row10_col1\" class=\"data row10 col1\" >а</td>\n",
       "      <td id=\"T_fa9f6_row10_col2\" class=\"data row10 col2\" >а</td>\n",
       "      <td id=\"T_fa9f6_row10_col3\" class=\"data row10 col3\" >False</td>\n",
       "    </tr>\n",
       "    <tr>\n",
       "      <th id=\"T_fa9f6_level0_row11\" class=\"row_heading level0 row11\" >11</th>\n",
       "      <td id=\"T_fa9f6_row11_col0\" class=\"data row11 col0\" >именн</td>\n",
       "      <td id=\"T_fa9f6_row11_col1\" class=\"data row11 col1\" >о</td>\n",
       "      <td id=\"T_fa9f6_row11_col2\" class=\"data row11 col2\" >о</td>\n",
       "      <td id=\"T_fa9f6_row11_col3\" class=\"data row11 col3\" >False</td>\n",
       "    </tr>\n",
       "    <tr>\n",
       "      <th id=\"T_fa9f6_level0_row12\" class=\"row_heading level0 row12\" >12</th>\n",
       "      <td id=\"T_fa9f6_row12_col0\" class=\"data row12 col0\" >истори</td>\n",
       "      <td id=\"T_fa9f6_row12_col1\" class=\"data row12 col1\" >я</td>\n",
       "      <td id=\"T_fa9f6_row12_col2\" class=\"data row12 col2\" >я</td>\n",
       "      <td id=\"T_fa9f6_row12_col3\" class=\"data row12 col3\" >False</td>\n",
       "    </tr>\n",
       "    <tr>\n",
       "      <th id=\"T_fa9f6_level0_row13\" class=\"row_heading level0 row13\" >13</th>\n",
       "      <td id=\"T_fa9f6_row13_col0\" class=\"data row13 col0\" >котору</td>\n",
       "      <td id=\"T_fa9f6_row13_col1\" class=\"data row13 col1\" >ю</td>\n",
       "      <td id=\"T_fa9f6_row13_col2\" class=\"data row13 col2\" >ю</td>\n",
       "      <td id=\"T_fa9f6_row13_col3\" class=\"data row13 col3\" >False</td>\n",
       "    </tr>\n",
       "    <tr>\n",
       "      <th id=\"T_fa9f6_level0_row14\" class=\"row_heading level0 row14\" >14</th>\n",
       "      <td id=\"T_fa9f6_row14_col0\" class=\"data row14 col0\" >лиш</td>\n",
       "      <td id=\"T_fa9f6_row14_col1\" class=\"data row14 col1\" >ь</td>\n",
       "      <td id=\"T_fa9f6_row14_col2\" class=\"data row14 col2\" >ь</td>\n",
       "      <td id=\"T_fa9f6_row14_col3\" class=\"data row14 col3\" >False</td>\n",
       "    </tr>\n",
       "    <tr>\n",
       "      <th id=\"T_fa9f6_level0_row15\" class=\"row_heading level0 row15\" >15</th>\n",
       "      <td id=\"T_fa9f6_row15_col0\" class=\"data row15 col0\" >многочтимо</td>\n",
       "      <td id=\"T_fa9f6_row15_col1\" class=\"data row15 col1\" >м</td>\n",
       "      <td id=\"T_fa9f6_row15_col2\" class=\"data row15 col2\" >м</td>\n",
       "      <td id=\"T_fa9f6_row15_col3\" class=\"data row15 col3\" >False</td>\n",
       "    </tr>\n",
       "    <tr>\n",
       "      <th id=\"T_fa9f6_level0_row16\" class=\"row_heading level0 row16\" >16</th>\n",
       "      <td id=\"T_fa9f6_row16_col0\" class=\"data row16 col0\" >моем</td>\n",
       "      <td id=\"T_fa9f6_row16_col1\" class=\"data row16 col1\" >у</td>\n",
       "      <td id=\"T_fa9f6_row16_col2\" class=\"data row16 col2\" >у</td>\n",
       "      <td id=\"T_fa9f6_row16_col3\" class=\"data row16 col3\" >False</td>\n",
       "    </tr>\n",
       "    <tr>\n",
       "      <th id=\"T_fa9f6_level0_row17\" class=\"row_heading level0 row17\" >17</th>\n",
       "      <td id=\"T_fa9f6_row17_col0\" class=\"data row17 col0\" >намере</td>\n",
       "      <td id=\"T_fa9f6_row17_col1\" class=\"data row17 col1\" >н</td>\n",
       "      <td id=\"T_fa9f6_row17_col2\" class=\"data row17 col2\" >н</td>\n",
       "      <td id=\"T_fa9f6_row17_col3\" class=\"data row17 col3\" >False</td>\n",
       "    </tr>\n",
       "    <tr>\n",
       "      <th id=\"T_fa9f6_level0_row18\" class=\"row_heading level0 row18\" >18</th>\n",
       "      <td id=\"T_fa9f6_row18_col0\" class=\"data row18 col0\" >начат</td>\n",
       "      <td id=\"T_fa9f6_row18_col1\" class=\"data row18 col1\" >ь</td>\n",
       "      <td id=\"T_fa9f6_row18_col2\" class=\"data row18 col2\" >ь</td>\n",
       "      <td id=\"T_fa9f6_row18_col3\" class=\"data row18 col3\" >False</td>\n",
       "    </tr>\n",
       "    <tr>\n",
       "      <th id=\"T_fa9f6_level0_row19\" class=\"row_heading level0 row19\" >19</th>\n",
       "      <td id=\"T_fa9f6_row19_col0\" class=\"data row19 col0\" >наше</td>\n",
       "      <td id=\"T_fa9f6_row19_col1\" class=\"data row19 col1\" >м</td>\n",
       "      <td id=\"T_fa9f6_row19_col2\" class=\"data row19 col2\" >м</td>\n",
       "      <td id=\"T_fa9f6_row19_col3\" class=\"data row19 col3\" >False</td>\n",
       "    </tr>\n",
       "    <tr>\n",
       "      <th id=\"T_fa9f6_level0_row20\" class=\"row_heading level0 row20\" >20</th>\n",
       "      <td id=\"T_fa9f6_row20_col0\" class=\"data row20 col0\" >недавни</td>\n",
       "      <td id=\"T_fa9f6_row20_col1\" class=\"data row20 col1\" >х</td>\n",
       "      <td id=\"T_fa9f6_row20_col2\" class=\"data row20 col2\" >х</td>\n",
       "      <td id=\"T_fa9f6_row20_col3\" class=\"data row20 col3\" >False</td>\n",
       "    </tr>\n",
       "    <tr>\n",
       "      <th id=\"T_fa9f6_level0_row21\" class=\"row_heading level0 row21\" >21</th>\n",
       "      <td id=\"T_fa9f6_row21_col0\" class=\"data row21 col0\" >некоторым</td>\n",
       "      <td id=\"T_fa9f6_row21_col1\" class=\"data row21 col1\" >и</td>\n",
       "      <td id=\"T_fa9f6_row21_col2\" class=\"data row21 col2\" >и</td>\n",
       "      <td id=\"T_fa9f6_row21_col3\" class=\"data row21 col3\" >False</td>\n",
       "    </tr>\n",
       "    <tr>\n",
       "      <th id=\"T_fa9f6_level0_row22\" class=\"row_heading level0 row22\" >22</th>\n",
       "      <td id=\"T_fa9f6_row22_col0\" class=\"data row22 col0\" >нескольк</td>\n",
       "      <td id=\"T_fa9f6_row22_col1\" class=\"data row22 col1\" >о</td>\n",
       "      <td id=\"T_fa9f6_row22_col2\" class=\"data row22 col2\" >о</td>\n",
       "      <td id=\"T_fa9f6_row22_col3\" class=\"data row22 col3\" >False</td>\n",
       "    </tr>\n",
       "    <tr>\n",
       "      <th id=\"T_fa9f6_level0_row23\" class=\"row_heading level0 row23\" >23</th>\n",
       "      <td id=\"T_fa9f6_row23_col0\" class=\"data row23 col0\" >неумени</td>\n",
       "      <td id=\"T_fa9f6_row23_col1\" class=\"data row23 col1\" >ю</td>\n",
       "      <td id=\"T_fa9f6_row23_col2\" class=\"data row23 col2\" >ю</td>\n",
       "      <td id=\"T_fa9f6_row23_col3\" class=\"data row23 col3\" >False</td>\n",
       "    </tr>\n",
       "    <tr>\n",
       "      <th id=\"T_fa9f6_level0_row24\" class=\"row_heading level0 row24\" >24</th>\n",
       "      <td id=\"T_fa9f6_row24_col0\" class=\"data row24 col0\" >ниче</td>\n",
       "      <td id=\"T_fa9f6_row24_col1\" class=\"data row24 col1\" >м</td>\n",
       "      <td id=\"T_fa9f6_row24_col2\" class=\"data row24 col2\" >м</td>\n",
       "      <td id=\"T_fa9f6_row24_col3\" class=\"data row24 col3\" >False</td>\n",
       "    </tr>\n",
       "    <tr>\n",
       "      <th id=\"T_fa9f6_level0_row25\" class=\"row_heading level0 row25\" >25</th>\n",
       "      <td id=\"T_fa9f6_row25_col0\" class=\"data row25 col0\" >описани</td>\n",
       "      <td id=\"T_fa9f6_row25_col1\" class=\"data row25 col1\" >ю</td>\n",
       "      <td id=\"T_fa9f6_row25_col2\" class=\"data row25 col2\" >ю</td>\n",
       "      <td id=\"T_fa9f6_row25_col3\" class=\"data row25 col3\" >False</td>\n",
       "    </tr>\n",
       "    <tr>\n",
       "      <th id=\"T_fa9f6_level0_row26\" class=\"row_heading level0 row26\" >26</th>\n",
       "      <td id=\"T_fa9f6_row26_col0\" class=\"data row26 col0\" >описыват</td>\n",
       "      <td id=\"T_fa9f6_row26_col1\" class=\"data row26 col1\" >ь</td>\n",
       "      <td id=\"T_fa9f6_row26_col2\" class=\"data row26 col2\" >ь</td>\n",
       "      <td id=\"T_fa9f6_row26_col3\" class=\"data row26 col3\" >False</td>\n",
       "    </tr>\n",
       "    <tr>\n",
       "      <th id=\"T_fa9f6_level0_row27\" class=\"row_heading level0 row27\" >27</th>\n",
       "      <td id=\"T_fa9f6_row27_col0\" class=\"data row27 col0\" >отличавшемс</td>\n",
       "      <td id=\"T_fa9f6_row27_col1\" class=\"data row27 col1\" >я</td>\n",
       "      <td id=\"T_fa9f6_row27_col2\" class=\"data row27 col2\" >я</td>\n",
       "      <td id=\"T_fa9f6_row27_col3\" class=\"data row27 col3\" >False</td>\n",
       "    </tr>\n",
       "    <tr>\n",
       "      <th id=\"T_fa9f6_level0_row28\" class=\"row_heading level0 row28\" >28</th>\n",
       "      <td id=\"T_fa9f6_row28_col0\" class=\"data row28 col0\" >подробност</td>\n",
       "      <td id=\"T_fa9f6_row28_col1\" class=\"data row28 col1\" >и</td>\n",
       "      <td id=\"T_fa9f6_row28_col2\" class=\"data row28 col2\" >и</td>\n",
       "      <td id=\"T_fa9f6_row28_col3\" class=\"data row28 col3\" >False</td>\n",
       "    </tr>\n",
       "    <tr>\n",
       "      <th id=\"T_fa9f6_level0_row29\" class=\"row_heading level0 row29\" >29</th>\n",
       "      <td id=\"T_fa9f6_row29_col0\" class=\"data row29 col0\" >подробностям</td>\n",
       "      <td id=\"T_fa9f6_row29_col1\" class=\"data row29 col1\" >и</td>\n",
       "      <td id=\"T_fa9f6_row29_col2\" class=\"data row29 col2\" >и</td>\n",
       "      <td id=\"T_fa9f6_row29_col3\" class=\"data row29 col3\" >False</td>\n",
       "    </tr>\n",
       "    <tr>\n",
       "      <th id=\"T_fa9f6_level0_row30\" class=\"row_heading level0 row30\" >30</th>\n",
       "      <td id=\"T_fa9f6_row30_col0\" class=\"data row30 col0\" >послужа</td>\n",
       "      <td id=\"T_fa9f6_row30_col1\" class=\"data row30 col1\" >т</td>\n",
       "      <td id=\"T_fa9f6_row30_col2\" class=\"data row30 col2\" >т</td>\n",
       "      <td id=\"T_fa9f6_row30_col3\" class=\"data row30 col3\" >False</td>\n",
       "    </tr>\n",
       "    <tr>\n",
       "      <th id=\"T_fa9f6_level0_row31\" class=\"row_heading level0 row31\" >31</th>\n",
       "      <td id=\"T_fa9f6_row31_col0\" class=\"data row31 col0\" >предлагаемо</td>\n",
       "      <td id=\"T_fa9f6_row31_col1\" class=\"data row31 col1\" >й</td>\n",
       "      <td id=\"T_fa9f6_row31_col2\" class=\"data row31 col2\" >й</td>\n",
       "      <td id=\"T_fa9f6_row31_col3\" class=\"data row31 col3\" >False</td>\n",
       "    </tr>\n",
       "    <tr>\n",
       "      <th id=\"T_fa9f6_level0_row32\" class=\"row_heading level0 row32\" >32</th>\n",
       "      <td id=\"T_fa9f6_row32_col0\" class=\"data row32 col0\" >принужде</td>\n",
       "      <td id=\"T_fa9f6_row32_col1\" class=\"data row32 col1\" >н</td>\n",
       "      <td id=\"T_fa9f6_row32_col2\" class=\"data row32 col2\" >н</td>\n",
       "      <td id=\"T_fa9f6_row32_col3\" class=\"data row32 col3\" >False</td>\n",
       "    </tr>\n",
       "    <tr>\n",
       "      <th id=\"T_fa9f6_level0_row33\" class=\"row_heading level0 row33\" >33</th>\n",
       "      <td id=\"T_fa9f6_row33_col0\" class=\"data row33 col0\" >происшедши</td>\n",
       "      <td id=\"T_fa9f6_row33_col1\" class=\"data row33 col1\" >х</td>\n",
       "      <td id=\"T_fa9f6_row33_col2\" class=\"data row33 col2\" >х</td>\n",
       "      <td id=\"T_fa9f6_row33_col3\" class=\"data row33 col3\" >False</td>\n",
       "    </tr>\n",
       "    <tr>\n",
       "      <th id=\"T_fa9f6_level0_row34\" class=\"row_heading level0 row34\" >34</th>\n",
       "      <td id=\"T_fa9f6_row34_col0\" class=\"data row34 col0\" >сама</td>\n",
       "      <td id=\"T_fa9f6_row34_col1\" class=\"data row34 col1\" >я</td>\n",
       "      <td id=\"T_fa9f6_row34_col2\" class=\"data row34 col2\" >я</td>\n",
       "      <td id=\"T_fa9f6_row34_col3\" class=\"data row34 col3\" >False</td>\n",
       "    </tr>\n",
       "    <tr>\n",
       "      <th id=\"T_fa9f6_level0_row35\" class=\"row_heading level0 row35\" >35</th>\n",
       "      <td id=\"T_fa9f6_row35_col0\" class=\"data row35 col0\" >событи</td>\n",
       "      <td id=\"T_fa9f6_row35_col1\" class=\"data row35 col1\" >й</td>\n",
       "      <td id=\"T_fa9f6_row35_col2\" class=\"data row35 col2\" >й</td>\n",
       "      <td id=\"T_fa9f6_row35_col3\" class=\"data row35 col3\" >False</td>\n",
       "    </tr>\n",
       "    <tr>\n",
       "      <th id=\"T_fa9f6_level0_row36\" class=\"row_heading level0 row36\" >36</th>\n",
       "      <td id=\"T_fa9f6_row36_col0\" class=\"data row36 col0\" >стол</td>\n",
       "      <td id=\"T_fa9f6_row36_col1\" class=\"data row36 col1\" >ь</td>\n",
       "      <td id=\"T_fa9f6_row36_col2\" class=\"data row36 col2\" >ь</td>\n",
       "      <td id=\"T_fa9f6_row36_col3\" class=\"data row36 col3\" >False</td>\n",
       "    </tr>\n",
       "    <tr>\n",
       "      <th id=\"T_fa9f6_level0_row37\" class=\"row_heading level0 row37\" >37</th>\n",
       "      <td id=\"T_fa9f6_row37_col0\" class=\"data row37 col0\" >странны</td>\n",
       "      <td id=\"T_fa9f6_row37_col1\" class=\"data row37 col1\" >х</td>\n",
       "      <td id=\"T_fa9f6_row37_col2\" class=\"data row37 col2\" >х</td>\n",
       "      <td id=\"T_fa9f6_row37_col3\" class=\"data row37 col3\" >False</td>\n",
       "    </tr>\n",
       "    <tr>\n",
       "      <th id=\"T_fa9f6_level0_row38\" class=\"row_heading level0 row38\" >38</th>\n",
       "      <td id=\"T_fa9f6_row38_col0\" class=\"data row38 col0\" >талантливо</td>\n",
       "      <td id=\"T_fa9f6_row38_col1\" class=\"data row38 col1\" >м</td>\n",
       "      <td id=\"T_fa9f6_row38_col2\" class=\"data row38 col2\" >м</td>\n",
       "      <td id=\"T_fa9f6_row38_col3\" class=\"data row38 col3\" >False</td>\n",
       "    </tr>\n",
       "    <tr>\n",
       "      <th id=\"T_fa9f6_level0_row39\" class=\"row_heading level0 row39\" >39</th>\n",
       "      <td id=\"T_fa9f6_row39_col0\" class=\"data row39 col0\" >хроник</td>\n",
       "      <td id=\"T_fa9f6_row39_col1\" class=\"data row39 col1\" >е</td>\n",
       "      <td id=\"T_fa9f6_row39_col2\" class=\"data row39 col2\" >е</td>\n",
       "      <td id=\"T_fa9f6_row39_col3\" class=\"data row39 col3\" >False</td>\n",
       "    </tr>\n",
       "  </tbody>\n",
       "</table>\n"
      ],
      "text/plain": [
       "<pandas.io.formats.style.Styler at 0x7f43c8e19de0>"
      ]
     },
     "execution_count": 32,
     "metadata": {},
     "output_type": "execute_result"
    }
   ],
   "source": [
    "import pandas as pd\n",
    "\n",
    "\n",
    "code = np.argmax(X_test,axis=-1)\n",
    "    \n",
    "# декодируем слова\n",
    "df = pd.DataFrame({\n",
    "    'sequence': [ ''.join(list(map(abc_dec.get,c))) for c in code ],\n",
    "    'target':list(map(abc_dec.get,target)),\n",
    "    'predicted':list(map(abc_dec.get,p)),\n",
    "})\n",
    "\n",
    "\n",
    "def mark_error(d): return 'color:red' if d else 'color:green'\n",
    "df['is_error'] = df['target']!=df['predicted']\n",
    "\n",
    "df.style.applymap(mark_error,subset=['is_error'])\n"
   ]
  },
  {
   "cell_type": "code",
   "execution_count": null,
   "metadata": {},
   "outputs": [],
   "source": []
  }
 ],
 "metadata": {
  "kernelspec": {
   "display_name": "Python 3 (ipykernel)",
   "language": "python",
   "name": "python3"
  },
  "language_info": {
   "codemirror_mode": {
    "name": "ipython",
    "version": 3
   },
   "file_extension": ".py",
   "mimetype": "text/x-python",
   "name": "python",
   "nbconvert_exporter": "python",
   "pygments_lexer": "ipython3",
   "version": "3.10.10"
  },
  "toc": {
   "base_numbering": 1,
   "nav_menu": {},
   "number_sections": true,
   "sideBar": true,
   "skip_h1_title": false,
   "title_cell": "Table of Contents",
   "title_sidebar": "Contents",
   "toc_cell": false,
   "toc_position": {},
   "toc_section_display": true,
   "toc_window_display": false
  }
 },
 "nbformat": 4,
 "nbformat_minor": 4
}
