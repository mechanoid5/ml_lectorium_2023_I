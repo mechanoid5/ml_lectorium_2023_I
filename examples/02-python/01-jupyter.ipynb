{
 "cells": [
  {
   "cell_type": "markdown",
   "metadata": {},
   "source": [
    "**jupyter demo**\n",
    "\n",
    "_Евгений Борисов <esborisov@sevsu.ru>_"
   ]
  },
  {
   "cell_type": "markdown",
   "metadata": {},
   "source": [
    "---"
   ]
  },
  {
   "cell_type": "code",
   "execution_count": 1,
   "metadata": {},
   "outputs": [
    {
     "name": "stdout",
     "output_type": "stream",
     "text": [
      "code cell\n"
     ]
    }
   ],
   "source": [
    "print('code cell')"
   ]
  },
  {
   "cell_type": "raw",
   "metadata": {},
   "source": [
    "raw text cell"
   ]
  },
  {
   "cell_type": "markdown",
   "metadata": {},
   "source": [
    "_markdown_ __cell__\n",
    "\n",
    "https://www.mathjax.org\n",
    "\n",
    "\n",
    "$$\n",
    "P(A|B) = \\frac{P(B|A)P(A)}{P(B)}\n",
    "$$\n",
    "\n",
    "$$\n",
    "y = \\sum_i^n x_i^2\n",
    "$$\n",
    "\n",
    "\n"
   ]
  },
  {
   "cell_type": "markdown",
   "metadata": {},
   "source": [
    "----"
   ]
  },
  {
   "cell_type": "code",
   "execution_count": 2,
   "metadata": {},
   "outputs": [],
   "source": [
    "from numpy.random import randint\n",
    "\n",
    "randint?"
   ]
  },
  {
   "cell_type": "code",
   "execution_count": 3,
   "metadata": {},
   "outputs": [
    {
     "data": {
      "application/json": {
       "cell": {
        "!": "OSMagics",
        "HTML": "Other",
        "SVG": "Other",
        "bash": "Other",
        "capture": "ExecutionMagics",
        "debug": "ExecutionMagics",
        "file": "Other",
        "html": "DisplayMagics",
        "javascript": "DisplayMagics",
        "js": "DisplayMagics",
        "latex": "DisplayMagics",
        "markdown": "DisplayMagics",
        "perl": "Other",
        "prun": "ExecutionMagics",
        "pypy": "Other",
        "python": "Other",
        "python2": "Other",
        "python3": "Other",
        "ruby": "Other",
        "script": "ScriptMagics",
        "sh": "Other",
        "svg": "DisplayMagics",
        "sx": "OSMagics",
        "system": "OSMagics",
        "time": "ExecutionMagics",
        "timeit": "ExecutionMagics",
        "writefile": "OSMagics"
       },
       "line": {
        "alias": "OSMagics",
        "alias_magic": "BasicMagics",
        "autoawait": "AsyncMagics",
        "autocall": "AutoMagics",
        "automagic": "AutoMagics",
        "autosave": "KernelMagics",
        "bookmark": "OSMagics",
        "cat": "Other",
        "cd": "OSMagics",
        "clear": "KernelMagics",
        "colors": "BasicMagics",
        "conda": "PackagingMagics",
        "config": "ConfigMagics",
        "connect_info": "KernelMagics",
        "cp": "Other",
        "debug": "ExecutionMagics",
        "dhist": "OSMagics",
        "dirs": "OSMagics",
        "doctest_mode": "BasicMagics",
        "ed": "Other",
        "edit": "KernelMagics",
        "env": "OSMagics",
        "gui": "BasicMagics",
        "hist": "Other",
        "history": "HistoryMagics",
        "killbgscripts": "ScriptMagics",
        "ldir": "Other",
        "less": "KernelMagics",
        "lf": "Other",
        "lk": "Other",
        "ll": "Other",
        "load": "CodeMagics",
        "load_ext": "ExtensionMagics",
        "loadpy": "CodeMagics",
        "logoff": "LoggingMagics",
        "logon": "LoggingMagics",
        "logstart": "LoggingMagics",
        "logstate": "LoggingMagics",
        "logstop": "LoggingMagics",
        "ls": "Other",
        "lsmagic": "BasicMagics",
        "lx": "Other",
        "macro": "ExecutionMagics",
        "magic": "BasicMagics",
        "man": "KernelMagics",
        "matplotlib": "PylabMagics",
        "mkdir": "Other",
        "more": "KernelMagics",
        "mv": "Other",
        "notebook": "BasicMagics",
        "page": "BasicMagics",
        "pastebin": "CodeMagics",
        "pdb": "ExecutionMagics",
        "pdef": "NamespaceMagics",
        "pdoc": "NamespaceMagics",
        "pfile": "NamespaceMagics",
        "pinfo": "NamespaceMagics",
        "pinfo2": "NamespaceMagics",
        "pip": "PackagingMagics",
        "popd": "OSMagics",
        "pprint": "BasicMagics",
        "precision": "BasicMagics",
        "prun": "ExecutionMagics",
        "psearch": "NamespaceMagics",
        "psource": "NamespaceMagics",
        "pushd": "OSMagics",
        "pwd": "OSMagics",
        "pycat": "OSMagics",
        "pylab": "PylabMagics",
        "qtconsole": "KernelMagics",
        "quickref": "BasicMagics",
        "recall": "HistoryMagics",
        "rehashx": "OSMagics",
        "reload_ext": "ExtensionMagics",
        "rep": "Other",
        "rerun": "HistoryMagics",
        "reset": "NamespaceMagics",
        "reset_selective": "NamespaceMagics",
        "rm": "Other",
        "rmdir": "Other",
        "run": "ExecutionMagics",
        "save": "CodeMagics",
        "sc": "OSMagics",
        "set_env": "OSMagics",
        "store": "StoreMagics",
        "sx": "OSMagics",
        "system": "OSMagics",
        "tb": "ExecutionMagics",
        "time": "ExecutionMagics",
        "timeit": "ExecutionMagics",
        "unalias": "OSMagics",
        "unload_ext": "ExtensionMagics",
        "who": "NamespaceMagics",
        "who_ls": "NamespaceMagics",
        "whos": "NamespaceMagics",
        "xdel": "NamespaceMagics",
        "xmode": "BasicMagics"
       }
      },
      "text/plain": [
       "Available line magics:\n",
       "%alias  %alias_magic  %autoawait  %autocall  %automagic  %autosave  %bookmark  %cat  %cd  %clear  %colors  %conda  %config  %connect_info  %cp  %debug  %dhist  %dirs  %doctest_mode  %ed  %edit  %env  %gui  %hist  %history  %killbgscripts  %ldir  %less  %lf  %lk  %ll  %load  %load_ext  %loadpy  %logoff  %logon  %logstart  %logstate  %logstop  %ls  %lsmagic  %lx  %macro  %magic  %man  %matplotlib  %mkdir  %more  %mv  %notebook  %page  %pastebin  %pdb  %pdef  %pdoc  %pfile  %pinfo  %pinfo2  %pip  %popd  %pprint  %precision  %prun  %psearch  %psource  %pushd  %pwd  %pycat  %pylab  %qtconsole  %quickref  %recall  %rehashx  %reload_ext  %rep  %rerun  %reset  %reset_selective  %rm  %rmdir  %run  %save  %sc  %set_env  %store  %sx  %system  %tb  %time  %timeit  %unalias  %unload_ext  %who  %who_ls  %whos  %xdel  %xmode\n",
       "\n",
       "Available cell magics:\n",
       "%%!  %%HTML  %%SVG  %%bash  %%capture  %%debug  %%file  %%html  %%javascript  %%js  %%latex  %%markdown  %%perl  %%prun  %%pypy  %%python  %%python2  %%python3  %%ruby  %%script  %%sh  %%svg  %%sx  %%system  %%time  %%timeit  %%writefile\n",
       "\n",
       "Automagic is ON, % prefix IS NOT needed for line magics."
      ]
     },
     "execution_count": 3,
     "metadata": {},
     "output_type": "execute_result"
    }
   ],
   "source": [
    "%lsmagic"
   ]
  },
  {
   "cell_type": "code",
   "execution_count": 4,
   "metadata": {},
   "outputs": [],
   "source": [
    "%time?"
   ]
  },
  {
   "cell_type": "code",
   "execution_count": 5,
   "metadata": {},
   "outputs": [
    {
     "name": "stdout",
     "output_type": "stream",
     "text": [
      "CPU times: user 20 µs, sys: 9 µs, total: 29 µs\n",
      "Wall time: 35.3 µs\n"
     ]
    }
   ],
   "source": [
    "%time x = [ (i*2)/3 for i in range(100) ]"
   ]
  },
  {
   "cell_type": "code",
   "execution_count": 6,
   "metadata": {},
   "outputs": [
    {
     "name": "stdout",
     "output_type": "stream",
     "text": [
      "CPU times: user 1.54 ms, sys: 662 µs, total: 2.2 ms\n",
      "Wall time: 2.22 ms\n"
     ]
    }
   ],
   "source": [
    "%%time\n",
    "\n",
    "x = [ (i*2)/3 for i in range(10000) ]\n",
    "x = sum(x)/23"
   ]
  },
  {
   "cell_type": "markdown",
   "metadata": {},
   "source": [
    "---"
   ]
  },
  {
   "cell_type": "code",
   "execution_count": 7,
   "metadata": {},
   "outputs": [],
   "source": [
    "# https://habr.com/ru/post/457302/"
   ]
  },
  {
   "cell_type": "code",
   "execution_count": 8,
   "metadata": {},
   "outputs": [
    {
     "data": {
      "text/plain": [
       "19"
      ]
     },
     "execution_count": 8,
     "metadata": {},
     "output_type": "execute_result"
    }
   ],
   "source": [
    "10+5          \n",
    "11+6\n",
    "12+7"
   ]
  },
  {
   "cell_type": "code",
   "execution_count": 9,
   "metadata": {},
   "outputs": [],
   "source": [
    "from IPython.core.interactiveshell import InteractiveShell\n",
    "InteractiveShell.ast_node_interactivity = \"all\""
   ]
  },
  {
   "cell_type": "code",
   "execution_count": 10,
   "metadata": {},
   "outputs": [
    {
     "data": {
      "text/plain": [
       "15"
      ]
     },
     "execution_count": 10,
     "metadata": {},
     "output_type": "execute_result"
    },
    {
     "data": {
      "text/plain": [
       "17"
      ]
     },
     "execution_count": 10,
     "metadata": {},
     "output_type": "execute_result"
    },
    {
     "data": {
      "text/plain": [
       "19"
      ]
     },
     "execution_count": 10,
     "metadata": {},
     "output_type": "execute_result"
    }
   ],
   "source": [
    "10+5          \n",
    "11+6\n",
    "12+7"
   ]
  },
  {
   "cell_type": "code",
   "execution_count": 11,
   "metadata": {},
   "outputs": [],
   "source": [
    "InteractiveShell.ast_node_interactivity = \"last_expr\""
   ]
  },
  {
   "cell_type": "code",
   "execution_count": 12,
   "metadata": {},
   "outputs": [
    {
     "data": {
      "text/plain": [
       "19"
      ]
     },
     "execution_count": 12,
     "metadata": {},
     "output_type": "execute_result"
    }
   ],
   "source": [
    "10+5          \n",
    "11+6\n",
    "12+7"
   ]
  },
  {
   "cell_type": "markdown",
   "metadata": {},
   "source": [
    "----"
   ]
  },
  {
   "cell_type": "markdown",
   "metadata": {},
   "source": [
    "<div class=\"alert alert-block alert-info\">\n",
    "<b>Tip:</b> Use blue boxes (alert-info) for tips and notes. \n",
    "If it’s a note, you don’t have to include the word “Note”.\n",
    "</div>"
   ]
  },
  {
   "cell_type": "markdown",
   "metadata": {},
   "source": [
    "<div class=\"alert alert-block alert-warning\">\n",
    "<b>Example:</b> Yellow Boxes are generally used to include additional examples or mathematical formulas.\n",
    "</div>"
   ]
  },
  {
   "cell_type": "markdown",
   "metadata": {},
   "source": [
    "<div class=\"alert alert-block alert-success\">\n",
    "Use green box only when necessary like to display links to related content.\n",
    "</div>"
   ]
  },
  {
   "cell_type": "markdown",
   "metadata": {},
   "source": [
    "<div class=\"alert alert-block alert-danger\">\n",
    "It is good to avoid red boxes but can be used to alert users to not delete some important part of code etc. \n",
    "</div>"
   ]
  },
  {
   "cell_type": "markdown",
   "metadata": {},
   "source": [
    "----"
   ]
  },
  {
   "cell_type": "code",
   "execution_count": 13,
   "metadata": {},
   "outputs": [
    {
     "name": "stdout",
     "output_type": "stream",
     "text": [
      "01a-jupyter-decor.ipynb  03-numpy.ipynb      06-geopandas-rune.ipynb\r\n",
      "01-jupyter.ipynb\t 04-pandas.ipynb\r\n",
      "02-python.ipynb\t\t 05-geopandas.ipynb\r\n"
     ]
    }
   ],
   "source": [
    "!ls"
   ]
  },
  {
   "cell_type": "code",
   "execution_count": 14,
   "metadata": {},
   "outputs": [],
   "source": [
    "# pip install autopep8 "
   ]
  },
  {
   "cell_type": "code",
   "execution_count": 15,
   "metadata": {},
   "outputs": [],
   "source": [
    "# pip uninstall autopep8"
   ]
  },
  {
   "cell_type": "code",
   "execution_count": 16,
   "metadata": {},
   "outputs": [
    {
     "name": "stdout",
     "output_type": "stream",
     "text": [
      "Package                           Version\n",
      "--------------------------------- ------------\n",
      "absl-py                           1.2.0\n",
      "ansi2html                         1.8.0\n",
      "appdirs                           1.4.4\n",
      "argon2-cffi                       21.3.0\n",
      "argon2-cffi-bindings              21.2.0\n",
      "asttokens                         2.0.8\n",
      "astunparse                        1.6.3\n",
      "attrs                             22.1.0\n",
      "backcall                          0.2.0\n",
      "beautifulsoup4                    4.11.1\n",
      "bleach                            5.0.1\n",
      "branca                            0.5.0\n",
      "Brotli                            1.0.9\n",
      "cachetools                        5.2.0\n",
      "certifi                           2022.6.15\n",
      "cffi                              1.15.1\n",
      "charset-normalizer                2.1.1\n",
      "click                             8.1.3\n",
      "click-plugins                     1.1.1\n",
      "cligj                             0.7.2\n",
      "cycler                            0.11.0\n",
      "dash                              2.6.1\n",
      "dash-core-components              2.0.0\n",
      "dash-html-components              2.0.0\n",
      "dash-leaflet                      0.1.23\n",
      "dash-table                        5.0.0\n",
      "debugpy                           1.6.3\n",
      "decorator                         5.1.1\n",
      "defusedxml                        0.7.1\n",
      "entrypoints                       0.4\n",
      "et-xmlfile                        1.1.0\n",
      "executing                         1.0.0\n",
      "fastjsonschema                    2.16.1\n",
      "Fiona                             1.8.21\n",
      "Flask                             2.2.2\n",
      "Flask-Compress                    1.12\n",
      "flatbuffers                       1.12\n",
      "folium                            0.12.1.post1\n",
      "fonttools                         4.37.1\n",
      "gast                              0.4.0\n",
      "geobuf                            1.1.1\n",
      "geographiclib                     1.52\n",
      "geojson                           2.5.0\n",
      "geopandas                         0.11.1\n",
      "geopy                             2.2.0\n",
      "google-auth                       2.11.0\n",
      "google-auth-oauthlib              0.4.6\n",
      "google-pasta                      0.2.0\n",
      "graphviz                          0.20.1\n",
      "grpcio                            1.47.0\n",
      "h5py                              3.7.0\n",
      "html5lib                          1.1\n",
      "idna                              3.3\n",
      "idx2numpy                         1.2.3\n",
      "ipykernel                         6.15.1\n",
      "ipython                           8.4.0\n",
      "ipython-genutils                  0.2.0\n",
      "ipywidgets                        8.0.1\n",
      "itsdangerous                      2.1.2\n",
      "jedi                              0.18.1\n",
      "Jinja2                            3.1.2\n",
      "joblib                            1.1.0\n",
      "jsonschema                        4.14.0\n",
      "jupyter                           1.0.0\n",
      "jupyter_client                    7.3.5\n",
      "jupyter-console                   6.4.4\n",
      "jupyter-contrib-core              0.4.0\n",
      "jupyter-contrib-nbextensions      0.5.1\n",
      "jupyter-core                      4.11.1\n",
      "jupyter-dash                      0.4.2\n",
      "jupyter-highlight-selected-word   0.2.0\n",
      "jupyter-latex-envs                1.4.6\n",
      "jupyter-nbextensions-configurator 0.5.0\n",
      "jupyterlab-pygments               0.2.2\n",
      "jupyterlab-widgets                3.0.2\n",
      "keras                             2.9.0\n",
      "Keras-Preprocessing               1.1.2\n",
      "kiwisolver                        1.4.4\n",
      "libclang                          14.0.6\n",
      "lxml                              4.9.1\n",
      "Mako                              1.2.1\n",
      "mapclassify                       2.4.3\n",
      "Markdown                          3.4.1\n",
      "MarkupSafe                        2.1.1\n",
      "matplotlib                        3.5.3\n",
      "matplotlib-inline                 0.1.6\n",
      "mistune                           2.0.4\n",
      "munch                             2.5.0\n",
      "nbclient                          0.6.7\n",
      "nbconvert                         7.0.0\n",
      "nbformat                          5.4.0\n",
      "nest-asyncio                      1.5.5\n",
      "networkx                          2.8.6\n",
      "notebook                          6.4.12\n",
      "numpy                             1.23.2\n",
      "oauthlib                          3.2.0\n",
      "odfpy                             1.4.1\n",
      "openpyxl                          3.0.10\n",
      "opt-einsum                        3.3.0\n",
      "packaging                         21.3\n",
      "pandas                            1.4.3\n",
      "pandocfilters                     1.5.0\n",
      "parso                             0.8.3\n",
      "petsc4py                          3.18.0\n",
      "pexpect                           4.8.0\n",
      "pickleshare                       0.7.5\n",
      "Pillow                            9.2.0\n",
      "pip                               22.3.1\n",
      "platformdirs                      2.5.2\n",
      "plotly                            5.10.0\n",
      "prometheus-client                 0.14.1\n",
      "prompt-toolkit                    3.0.30\n",
      "protobuf                          3.19.4\n",
      "psutil                            5.9.1\n",
      "ptyprocess                        0.7.0\n",
      "pure-eval                         0.2.2\n",
      "pyasn1                            0.4.8\n",
      "pyasn1-modules                    0.2.8\n",
      "pycparser                         2.21\n",
      "pycuda                            2022.1\n",
      "pydot                             1.4.2\n",
      "pygeos                            0.13\n",
      "Pygments                          2.13.0\n",
      "pyparsing                         3.0.9\n",
      "pyproj                            3.3.1\n",
      "pyrsistent                        0.18.1\n",
      "python-dateutil                   2.8.2\n",
      "pytools                           2022.1.12\n",
      "pytz                              2022.2.1\n",
      "PyYAML                            6.0\n",
      "pyzmq                             23.2.1\n",
      "qtconsole                         5.3.2\n",
      "QtPy                              2.2.0\n",
      "requests                          2.28.1\n",
      "requests-oauthlib                 1.3.1\n",
      "retrying                          1.3.3\n",
      "rsa                               4.9\n",
      "Rtree                             1.0.0\n",
      "scikit-learn                      1.1.2\n",
      "scipy                             1.9.1\n",
      "Send2Trash                        1.8.0\n",
      "setuptools                        63.2.0\n",
      "Shapely                           1.8.4\n",
      "six                               1.16.0\n",
      "soupsieve                         2.3.2.post1\n",
      "stack-data                        0.5.0\n",
      "tabulate                          0.8.10\n",
      "tenacity                          8.0.1\n",
      "tensorboard                       2.9.1\n",
      "tensorboard-data-server           0.6.1\n",
      "tensorboard-plugin-wit            1.8.1\n",
      "tensorflow-estimator              2.9.0\n",
      "tensorflow-gpu                    2.9.1\n",
      "tensorflow-io-gcs-filesystem      0.26.0\n",
      "termcolor                         1.1.0\n",
      "terminado                         0.15.0\n",
      "threadpoolctl                     3.1.0\n",
      "tinycss2                          1.1.1\n",
      "torch                             1.12.1\n",
      "torchtext                         0.13.1\n",
      "torchvision                       0.13.1\n",
      "tornado                           6.2\n",
      "tqdm                              4.64.0\n",
      "traitlets                         5.3.0\n",
      "typing_extensions                 4.3.0\n",
      "urllib3                           1.26.12\n",
      "wcwidth                           0.2.5\n",
      "webencodings                      0.5.1\n",
      "Werkzeug                          2.2.2\n",
      "wheel                             0.37.1\n",
      "widgetsnbextension                4.0.2\n",
      "wrapt                             1.14.1\n",
      "xlwt                              1.3.0\n",
      "\n",
      "\u001b[1m[\u001b[0m\u001b[34;49mnotice\u001b[0m\u001b[1;39;49m]\u001b[0m\u001b[39;49m A new release of pip available: \u001b[0m\u001b[31;49m22.3.1\u001b[0m\u001b[39;49m -> \u001b[0m\u001b[32;49m23.0\u001b[0m\n",
      "\u001b[1m[\u001b[0m\u001b[34;49mnotice\u001b[0m\u001b[1;39;49m]\u001b[0m\u001b[39;49m To update, run: \u001b[0m\u001b[32;49mpip install --upgrade pip\u001b[0m\n"
     ]
    }
   ],
   "source": [
    "!pip list"
   ]
  },
  {
   "cell_type": "markdown",
   "metadata": {},
   "source": [
    "----"
   ]
  },
  {
   "cell_type": "code",
   "execution_count": 17,
   "metadata": {},
   "outputs": [],
   "source": [
    "# # показывает места нарушения стиля\n",
    "# pep8 --first main.py\n",
    " \n",
    "# # определяет и исправляет нарушения стиля\n",
    "# autopep8 ./ --recursive --in-place -a\n",
    "\n",
    "# # форматирует комментарии \n",
    "# docformatter --in-place example.py\n",
    "\n",
    "# # универсальная утилита приведения кода к PEP\n",
    "# pyformat"
   ]
  },
  {
   "cell_type": "code",
   "execution_count": null,
   "metadata": {},
   "outputs": [],
   "source": []
  },
  {
   "cell_type": "code",
   "execution_count": null,
   "metadata": {},
   "outputs": [],
   "source": []
  }
 ],
 "metadata": {
  "kernelspec": {
   "display_name": "Python 3 (ipykernel)",
   "language": "python",
   "name": "python3"
  },
  "language_info": {
   "codemirror_mode": {
    "name": "ipython",
    "version": 3
   },
   "file_extension": ".py",
   "mimetype": "text/x-python",
   "name": "python",
   "nbconvert_exporter": "python",
   "pygments_lexer": "ipython3",
   "version": "3.10.7"
  },
  "toc": {
   "base_numbering": 1,
   "nav_menu": {},
   "number_sections": true,
   "sideBar": true,
   "skip_h1_title": false,
   "title_cell": "Table of Contents",
   "title_sidebar": "Contents",
   "toc_cell": false,
   "toc_position": {},
   "toc_section_display": "block",
   "toc_window_display": false
  }
 },
 "nbformat": 4,
 "nbformat_minor": 2
}
