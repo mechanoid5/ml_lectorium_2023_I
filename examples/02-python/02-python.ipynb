{
 "cells": [
  {
   "cell_type": "markdown",
   "metadata": {},
   "source": [
    "__о языке Python__\n",
    "\n",
    "_Евгений Борисов <esborisov@sevsu.ru>_"
   ]
  },
  {
   "cell_type": "markdown",
   "metadata": {},
   "source": [
    "---"
   ]
  },
  {
   "cell_type": "code",
   "execution_count": 1,
   "metadata": {},
   "outputs": [],
   "source": [
    "# печатать выдачу всех строк ячейки\n",
    "from IPython.core.interactiveshell import InteractiveShell\n",
    "InteractiveShell.ast_node_interactivity = 'all'\n",
    "# InteractiveShell.ast_node_interactivity = 'last_expr'"
   ]
  },
  {
   "cell_type": "markdown",
   "metadata": {},
   "source": [
    "## Логический тип"
   ]
  },
  {
   "cell_type": "code",
   "execution_count": 2,
   "metadata": {},
   "outputs": [],
   "source": [
    "a=True\n",
    "\n",
    "b=False"
   ]
  },
  {
   "cell_type": "code",
   "execution_count": 3,
   "metadata": {},
   "outputs": [
    {
     "data": {
      "text/plain": [
       "False"
      ]
     },
     "execution_count": 3,
     "metadata": {},
     "output_type": "execute_result"
    }
   ],
   "source": [
    "a==b"
   ]
  },
  {
   "cell_type": "code",
   "execution_count": 4,
   "metadata": {},
   "outputs": [
    {
     "data": {
      "text/plain": [
       "True"
      ]
     },
     "execution_count": 4,
     "metadata": {},
     "output_type": "execute_result"
    }
   ],
   "source": [
    "a!=b"
   ]
  },
  {
   "cell_type": "code",
   "execution_count": 5,
   "metadata": {},
   "outputs": [
    {
     "data": {
      "text/plain": [
       "False"
      ]
     },
     "execution_count": 5,
     "metadata": {},
     "output_type": "execute_result"
    }
   ],
   "source": [
    "a and b "
   ]
  },
  {
   "cell_type": "code",
   "execution_count": 6,
   "metadata": {},
   "outputs": [
    {
     "data": {
      "text/plain": [
       "True"
      ]
     },
     "execution_count": 6,
     "metadata": {},
     "output_type": "execute_result"
    }
   ],
   "source": [
    "a or b "
   ]
  },
  {
   "cell_type": "code",
   "execution_count": 7,
   "metadata": {},
   "outputs": [
    {
     "data": {
      "text/plain": [
       "False"
      ]
     },
     "execution_count": 7,
     "metadata": {},
     "output_type": "execute_result"
    }
   ],
   "source": [
    "not a or b "
   ]
  },
  {
   "cell_type": "markdown",
   "metadata": {},
   "source": [
    "## Числовые типы"
   ]
  },
  {
   "cell_type": "code",
   "execution_count": 8,
   "metadata": {},
   "outputs": [],
   "source": [
    "a = 34\n",
    "\n",
    "b = -7.3\n",
    "\n",
    "c = -.3\n",
    "\n",
    "d = 3e-4"
   ]
  },
  {
   "cell_type": "code",
   "execution_count": 9,
   "metadata": {},
   "outputs": [
    {
     "data": {
      "text/plain": [
       "True"
      ]
     },
     "execution_count": 9,
     "metadata": {},
     "output_type": "execute_result"
    }
   ],
   "source": [
    "a>b"
   ]
  },
  {
   "cell_type": "code",
   "execution_count": 10,
   "metadata": {},
   "outputs": [
    {
     "data": {
      "text/plain": [
       "False"
      ]
     },
     "execution_count": 10,
     "metadata": {},
     "output_type": "execute_result"
    }
   ],
   "source": [
    "a<=c"
   ]
  },
  {
   "cell_type": "code",
   "execution_count": 11,
   "metadata": {},
   "outputs": [
    {
     "data": {
      "text/plain": [
       "26.7"
      ]
     },
     "execution_count": 11,
     "metadata": {},
     "output_type": "execute_result"
    }
   ],
   "source": [
    "a+b"
   ]
  },
  {
   "cell_type": "code",
   "execution_count": 12,
   "metadata": {},
   "outputs": [
    {
     "data": {
      "text/plain": [
       "-248.2"
      ]
     },
     "execution_count": 12,
     "metadata": {},
     "output_type": "execute_result"
    }
   ],
   "source": [
    "a*b"
   ]
  },
  {
   "cell_type": "code",
   "execution_count": 13,
   "metadata": {},
   "outputs": [
    {
     "data": {
      "text/plain": [
       "39304"
      ]
     },
     "execution_count": 13,
     "metadata": {},
     "output_type": "execute_result"
    }
   ],
   "source": [
    "a**3"
   ]
  },
  {
   "cell_type": "code",
   "execution_count": 14,
   "metadata": {},
   "outputs": [
    {
     "data": {
      "text/plain": [
       "34.3"
      ]
     },
     "execution_count": 14,
     "metadata": {},
     "output_type": "execute_result"
    }
   ],
   "source": [
    "a-c"
   ]
  },
  {
   "cell_type": "code",
   "execution_count": 15,
   "metadata": {},
   "outputs": [
    {
     "data": {
      "text/plain": [
       "-4.657534246575342"
      ]
     },
     "execution_count": 15,
     "metadata": {},
     "output_type": "execute_result"
    }
   ],
   "source": [
    "a/b"
   ]
  },
  {
   "cell_type": "code",
   "execution_count": 16,
   "metadata": {},
   "outputs": [
    {
     "data": {
      "text/plain": [
       "1"
      ]
     },
     "execution_count": 16,
     "metadata": {},
     "output_type": "execute_result"
    }
   ],
   "source": [
    "a%3 # остаток от деления"
   ]
  },
  {
   "cell_type": "code",
   "execution_count": 17,
   "metadata": {},
   "outputs": [
    {
     "data": {
      "text/plain": [
       "11"
      ]
     },
     "execution_count": 17,
     "metadata": {},
     "output_type": "execute_result"
    }
   ],
   "source": [
    "a//3 # целая часть от деления"
   ]
  },
  {
   "cell_type": "code",
   "execution_count": 18,
   "metadata": {},
   "outputs": [
    {
     "data": {
      "text/plain": [
       "255"
      ]
     },
     "execution_count": 18,
     "metadata": {},
     "output_type": "execute_result"
    }
   ],
   "source": [
    "255 | 128  # битовое или"
   ]
  },
  {
   "cell_type": "code",
   "execution_count": 19,
   "metadata": {},
   "outputs": [
    {
     "data": {
      "text/plain": [
       "64"
      ]
     },
     "execution_count": 19,
     "metadata": {},
     "output_type": "execute_result"
    }
   ],
   "source": [
    "255 & 64 # битовое и"
   ]
  },
  {
   "cell_type": "code",
   "execution_count": 20,
   "metadata": {},
   "outputs": [
    {
     "data": {
      "text/plain": [
       "127"
      ]
     },
     "execution_count": 20,
     "metadata": {},
     "output_type": "execute_result"
    }
   ],
   "source": [
    "255 ^ 128 # битовое xor"
   ]
  },
  {
   "cell_type": "code",
   "execution_count": 21,
   "metadata": {},
   "outputs": [
    {
     "data": {
      "text/plain": [
       "63"
      ]
     },
     "execution_count": 21,
     "metadata": {},
     "output_type": "execute_result"
    }
   ],
   "source": [
    "255>>2 # сдвиг"
   ]
  },
  {
   "cell_type": "code",
   "execution_count": 22,
   "metadata": {},
   "outputs": [
    {
     "data": {
      "text/plain": [
       "'0b10111'"
      ]
     },
     "execution_count": 22,
     "metadata": {},
     "output_type": "execute_result"
    },
    {
     "data": {
      "text/plain": [
       "'0o27'"
      ]
     },
     "execution_count": 22,
     "metadata": {},
     "output_type": "execute_result"
    },
    {
     "data": {
      "text/plain": [
       "'0x17'"
      ]
     },
     "execution_count": 22,
     "metadata": {},
     "output_type": "execute_result"
    },
    {
     "data": {
      "text/plain": [
       "5"
      ]
     },
     "execution_count": 22,
     "metadata": {},
     "output_type": "execute_result"
    }
   ],
   "source": [
    "# системы счисления\n",
    "n = 23 # десятичное представление\n",
    "\n",
    "bin(n) # бинарное\n",
    "oct(n) # восьмеричное \n",
    "hex(n) # шестнадцатеричное\n",
    "\n",
    "n.bit_length() # количество бит в двоичном представлении"
   ]
  },
  {
   "cell_type": "markdown",
   "metadata": {},
   "source": [
    "## None"
   ]
  },
  {
   "cell_type": "code",
   "execution_count": 23,
   "metadata": {},
   "outputs": [],
   "source": [
    "a=None"
   ]
  },
  {
   "cell_type": "markdown",
   "metadata": {},
   "source": [
    "## присваивание"
   ]
  },
  {
   "cell_type": "code",
   "execution_count": 24,
   "metadata": {},
   "outputs": [],
   "source": [
    "a,b = 1,2\n",
    "a,b = b,a\n",
    "a = 10\n",
    "a += 7"
   ]
  },
  {
   "cell_type": "markdown",
   "metadata": {},
   "source": [
    "## Строки"
   ]
  },
  {
   "cell_type": "code",
   "execution_count": 25,
   "metadata": {},
   "outputs": [],
   "source": [
    "b=\"медвед\"\n",
    "\n",
    "a='превед'\n",
    "\n",
    "c='''это две\n",
    "     строки'''"
   ]
  },
  {
   "cell_type": "code",
   "execution_count": 26,
   "metadata": {},
   "outputs": [
    {
     "data": {
      "text/plain": [
       "'преведмедвед'"
      ]
     },
     "execution_count": 26,
     "metadata": {},
     "output_type": "execute_result"
    }
   ],
   "source": [
    "a+b"
   ]
  },
  {
   "cell_type": "code",
   "execution_count": 27,
   "metadata": {},
   "outputs": [
    {
     "data": {
      "text/plain": [
       "'превед превед превед превед '"
      ]
     },
     "execution_count": 27,
     "metadata": {},
     "output_type": "execute_result"
    }
   ],
   "source": [
    "(a+' ')*4"
   ]
  },
  {
   "cell_type": "code",
   "execution_count": 28,
   "metadata": {},
   "outputs": [
    {
     "data": {
      "text/plain": [
       "'1_a'"
      ]
     },
     "execution_count": 28,
     "metadata": {},
     "output_type": "execute_result"
    }
   ],
   "source": [
    "'%i_%s'%(1,'a')"
   ]
  },
  {
   "cell_type": "code",
   "execution_count": 29,
   "metadata": {},
   "outputs": [
    {
     "data": {
      "text/plain": [
       "'a_1'"
      ]
     },
     "execution_count": 29,
     "metadata": {},
     "output_type": "execute_result"
    }
   ],
   "source": [
    "\"{1}_{0}\".format(1,'a')\n"
   ]
  },
  {
   "cell_type": "markdown",
   "metadata": {},
   "source": [
    "## Списки"
   ]
  },
  {
   "cell_type": "code",
   "execution_count": 30,
   "metadata": {},
   "outputs": [],
   "source": [
    "# способы определения списков\n",
    "\n",
    "a = [1,3,2,4]\n",
    "\n",
    "b = list(['a','bbb','cc'])\n",
    "\n",
    "c = ['a',['bbb',45], False ]"
   ]
  },
  {
   "cell_type": "code",
   "execution_count": 31,
   "metadata": {},
   "outputs": [
    {
     "data": {
      "text/plain": [
       "[-15, -13, -11, -9, -7, -5, -3, -1, 1, 3, 5, 7, 9, 11, 13]"
      ]
     },
     "execution_count": 31,
     "metadata": {},
     "output_type": "execute_result"
    }
   ],
   "source": [
    "# начало, конец, шаг\n",
    "list( range(-15, 15, 2) ) "
   ]
  },
  {
   "cell_type": "code",
   "execution_count": 32,
   "metadata": {},
   "outputs": [
    {
     "data": {
      "text/plain": [
       "[0.5, 1.5, 1.0, 2.0]"
      ]
     },
     "execution_count": 32,
     "metadata": {},
     "output_type": "execute_result"
    }
   ],
   "source": [
    "[ i/2 for i in  a ]"
   ]
  },
  {
   "cell_type": "code",
   "execution_count": 33,
   "metadata": {},
   "outputs": [
    {
     "data": {
      "text/plain": [
       "[2, 4, 5]"
      ]
     },
     "execution_count": 33,
     "metadata": {},
     "output_type": "execute_result"
    }
   ],
   "source": [
    "[ i+1 for i in  a if i!=2 ]"
   ]
  },
  {
   "cell_type": "code",
   "execution_count": 34,
   "metadata": {},
   "outputs": [
    {
     "data": {
      "text/plain": [
       "[0.0, 0.5, 1.0, 2.0, 2.5, 3.0, 3.5, 4.0, 4.5]"
      ]
     },
     "execution_count": 34,
     "metadata": {},
     "output_type": "execute_result"
    }
   ],
   "source": [
    "[ i/2 for i in range(10) if i!=3  ]"
   ]
  },
  {
   "cell_type": "code",
   "execution_count": 35,
   "metadata": {},
   "outputs": [
    {
     "data": {
      "text/plain": [
       "['0_a', '1_bbb', '2_cc']"
      ]
     },
     "execution_count": 35,
     "metadata": {},
     "output_type": "execute_result"
    }
   ],
   "source": [
    "[ '%i_%s'%(i,s) for i,s in enumerate(b) ]"
   ]
  },
  {
   "cell_type": "code",
   "execution_count": 36,
   "metadata": {},
   "outputs": [
    {
     "data": {
      "text/plain": [
       "4"
      ]
     },
     "execution_count": 36,
     "metadata": {},
     "output_type": "execute_result"
    }
   ],
   "source": [
    "len(a)    "
   ]
  },
  {
   "cell_type": "code",
   "execution_count": 37,
   "metadata": {},
   "outputs": [
    {
     "data": {
      "text/plain": [
       "[1, 2, 3, 4]"
      ]
     },
     "execution_count": 37,
     "metadata": {},
     "output_type": "execute_result"
    }
   ],
   "source": [
    "sorted(a)"
   ]
  },
  {
   "cell_type": "code",
   "execution_count": 38,
   "metadata": {},
   "outputs": [
    {
     "data": {
      "text/plain": [
       "True"
      ]
     },
     "execution_count": 38,
     "metadata": {},
     "output_type": "execute_result"
    }
   ],
   "source": [
    "2 in a"
   ]
  },
  {
   "cell_type": "code",
   "execution_count": 39,
   "metadata": {},
   "outputs": [
    {
     "data": {
      "text/plain": [
       "[1, 3, 2, 4, 9]"
      ]
     },
     "execution_count": 39,
     "metadata": {},
     "output_type": "execute_result"
    }
   ],
   "source": [
    "a.append(9)\n",
    "a"
   ]
  },
  {
   "cell_type": "code",
   "execution_count": 40,
   "metadata": {},
   "outputs": [
    {
     "data": {
      "text/plain": [
       "[1, 3, 2, 4, 9, 78]"
      ]
     },
     "execution_count": 40,
     "metadata": {},
     "output_type": "execute_result"
    }
   ],
   "source": [
    "a.insert(5,78)\n",
    "a"
   ]
  },
  {
   "cell_type": "code",
   "execution_count": 41,
   "metadata": {},
   "outputs": [
    {
     "data": {
      "text/plain": [
       "2"
      ]
     },
     "execution_count": 41,
     "metadata": {},
     "output_type": "execute_result"
    }
   ],
   "source": [
    "a.index(2)"
   ]
  },
  {
   "cell_type": "code",
   "execution_count": 42,
   "metadata": {},
   "outputs": [
    {
     "data": {
      "text/plain": [
       "1"
      ]
     },
     "execution_count": 42,
     "metadata": {},
     "output_type": "execute_result"
    }
   ],
   "source": [
    "a[0]"
   ]
  },
  {
   "cell_type": "code",
   "execution_count": 43,
   "metadata": {},
   "outputs": [],
   "source": [
    "a[0] = 33"
   ]
  },
  {
   "cell_type": "code",
   "execution_count": 44,
   "metadata": {},
   "outputs": [
    {
     "data": {
      "text/plain": [
       "[9, 7, 5, 3]"
      ]
     },
     "execution_count": 44,
     "metadata": {},
     "output_type": "execute_result"
    }
   ],
   "source": [
    "# начало:конец:шаг\n",
    "a = list(range(20))\n",
    "a[9:1:-2]"
   ]
  },
  {
   "cell_type": "code",
   "execution_count": 45,
   "metadata": {},
   "outputs": [
    {
     "data": {
      "text/plain": [
       "19"
      ]
     },
     "execution_count": 45,
     "metadata": {},
     "output_type": "execute_result"
    }
   ],
   "source": [
    "a[-1] # последний элемент"
   ]
  },
  {
   "cell_type": "code",
   "execution_count": 46,
   "metadata": {},
   "outputs": [
    {
     "data": {
      "text/plain": [
       "[19, 18, 17, 16, 15, 14, 13, 12, 11, 10, 9, 8, 7, 6, 5, 4, 3, 2, 1, 0]"
      ]
     },
     "execution_count": 46,
     "metadata": {},
     "output_type": "execute_result"
    }
   ],
   "source": [
    "a[::-1] # в обратном порядке"
   ]
  },
  {
   "cell_type": "code",
   "execution_count": 47,
   "metadata": {},
   "outputs": [
    {
     "data": {
      "text/plain": [
       "[2, 4, 24, 5, 0, 9, 8]"
      ]
     },
     "execution_count": 47,
     "metadata": {},
     "output_type": "execute_result"
    }
   ],
   "source": [
    "[2,4,24,5]+[0,9,8,] # конкатенация списков"
   ]
  },
  {
   "cell_type": "markdown",
   "metadata": {},
   "source": [
    "## кортежи"
   ]
  },
  {
   "cell_type": "code",
   "execution_count": 48,
   "metadata": {},
   "outputs": [],
   "source": [
    "a = (1,2,3,4)\n",
    "b = tuple(['a','bbb','cc'])"
   ]
  },
  {
   "cell_type": "code",
   "execution_count": 49,
   "metadata": {},
   "outputs": [
    {
     "data": {
      "text/plain": [
       "3"
      ]
     },
     "execution_count": 49,
     "metadata": {},
     "output_type": "execute_result"
    }
   ],
   "source": [
    "a[2]"
   ]
  },
  {
   "cell_type": "code",
   "execution_count": 50,
   "metadata": {},
   "outputs": [
    {
     "ename": "TypeError",
     "evalue": "'tuple' object does not support item assignment",
     "output_type": "error",
     "traceback": [
      "\u001b[0;31m---------------------------------------------------------------------------\u001b[0m",
      "\u001b[0;31mTypeError\u001b[0m                                 Traceback (most recent call last)",
      "Cell \u001b[0;32mIn[50], line 1\u001b[0m\n\u001b[0;32m----> 1\u001b[0m \u001b[43ma\u001b[49m\u001b[43m[\u001b[49m\u001b[38;5;241;43m2\u001b[39;49m\u001b[43m]\u001b[49m \u001b[38;5;241m=\u001b[39m \u001b[38;5;241m3\u001b[39m \u001b[38;5;66;03m# Error!\u001b[39;00m\n",
      "\u001b[0;31mTypeError\u001b[0m: 'tuple' object does not support item assignment"
     ]
    }
   ],
   "source": [
    "a[2] = 3 # Error!"
   ]
  },
  {
   "cell_type": "markdown",
   "metadata": {},
   "source": [
    "## Множества"
   ]
  },
  {
   "cell_type": "code",
   "execution_count": 51,
   "metadata": {},
   "outputs": [],
   "source": [
    "a = set([1,2,3,2,4,1])\n",
    "\n",
    "b = set([3,2,4])\n",
    "\n",
    "c = frozenset([1,2,3,2,4,1])"
   ]
  },
  {
   "cell_type": "code",
   "execution_count": 52,
   "metadata": {},
   "outputs": [
    {
     "data": {
      "text/plain": [
       "{1, 2, 3, 4}"
      ]
     },
     "execution_count": 52,
     "metadata": {},
     "output_type": "execute_result"
    }
   ],
   "source": [
    "a"
   ]
  },
  {
   "cell_type": "code",
   "execution_count": 53,
   "metadata": {},
   "outputs": [
    {
     "ename": "TypeError",
     "evalue": "'set' object is not subscriptable",
     "output_type": "error",
     "traceback": [
      "\u001b[0;31m---------------------------------------------------------------------------\u001b[0m",
      "\u001b[0;31mTypeError\u001b[0m                                 Traceback (most recent call last)",
      "Cell \u001b[0;32mIn[53], line 1\u001b[0m\n\u001b[0;32m----> 1\u001b[0m \u001b[43ma\u001b[49m\u001b[43m[\u001b[49m\u001b[38;5;241;43m0\u001b[39;49m\u001b[43m]\u001b[49m \u001b[38;5;66;03m# Error!\u001b[39;00m\n",
      "\u001b[0;31mTypeError\u001b[0m: 'set' object is not subscriptable"
     ]
    }
   ],
   "source": [
    "a[0] # Error!"
   ]
  },
  {
   "cell_type": "code",
   "execution_count": 54,
   "metadata": {},
   "outputs": [],
   "source": [
    "a.add(7)"
   ]
  },
  {
   "cell_type": "code",
   "execution_count": 55,
   "metadata": {},
   "outputs": [
    {
     "data": {
      "text/plain": [
       "{1, 7}"
      ]
     },
     "execution_count": 55,
     "metadata": {},
     "output_type": "execute_result"
    }
   ],
   "source": [
    "a - b"
   ]
  },
  {
   "cell_type": "code",
   "execution_count": 56,
   "metadata": {},
   "outputs": [
    {
     "data": {
      "text/plain": [
       "{2, 3, 4}"
      ]
     },
     "execution_count": 56,
     "metadata": {},
     "output_type": "execute_result"
    }
   ],
   "source": [
    "a & b"
   ]
  },
  {
   "cell_type": "code",
   "execution_count": 57,
   "metadata": {},
   "outputs": [
    {
     "data": {
      "text/plain": [
       "{1, 2, 3, 4, 7}"
      ]
     },
     "execution_count": 57,
     "metadata": {},
     "output_type": "execute_result"
    }
   ],
   "source": [
    "a | b "
   ]
  },
  {
   "cell_type": "code",
   "execution_count": 58,
   "metadata": {},
   "outputs": [
    {
     "data": {
      "text/plain": [
       "{1, 7}"
      ]
     },
     "execution_count": 58,
     "metadata": {},
     "output_type": "execute_result"
    }
   ],
   "source": [
    "a ^ b "
   ]
  },
  {
   "cell_type": "markdown",
   "metadata": {},
   "source": [
    "## Словари"
   ]
  },
  {
   "cell_type": "code",
   "execution_count": 59,
   "metadata": {},
   "outputs": [],
   "source": [
    "a = { 'a':1, 'b':2, 'c':3 }"
   ]
  },
  {
   "cell_type": "code",
   "execution_count": 60,
   "metadata": {},
   "outputs": [
    {
     "data": {
      "text/plain": [
       "dict_keys(['a', 'b', 'c'])"
      ]
     },
     "execution_count": 60,
     "metadata": {},
     "output_type": "execute_result"
    }
   ],
   "source": [
    "a.keys()"
   ]
  },
  {
   "cell_type": "code",
   "execution_count": 61,
   "metadata": {},
   "outputs": [
    {
     "data": {
      "text/plain": [
       "dict_values([1, 2, 3])"
      ]
     },
     "execution_count": 61,
     "metadata": {},
     "output_type": "execute_result"
    }
   ],
   "source": [
    "a.values()"
   ]
  },
  {
   "cell_type": "code",
   "execution_count": 62,
   "metadata": {},
   "outputs": [
    {
     "data": {
      "text/plain": [
       "1"
      ]
     },
     "execution_count": 62,
     "metadata": {},
     "output_type": "execute_result"
    }
   ],
   "source": [
    "a['a']"
   ]
  },
  {
   "cell_type": "markdown",
   "metadata": {},
   "source": [
    "## управление"
   ]
  },
  {
   "cell_type": "code",
   "execution_count": 63,
   "metadata": {},
   "outputs": [
    {
     "name": "stdout",
     "output_type": "stream",
     "text": [
      "z\n"
     ]
    }
   ],
   "source": [
    "x=True\n",
    "y=False\n",
    "\n",
    "if not x:\n",
    "    print('x')\n",
    "elif y:\n",
    "    print('y')\n",
    "else:\n",
    "    print('z')"
   ]
  },
  {
   "cell_type": "code",
   "execution_count": 64,
   "metadata": {},
   "outputs": [
    {
     "data": {
      "text/plain": [
       "2"
      ]
     },
     "execution_count": 64,
     "metadata": {},
     "output_type": "execute_result"
    }
   ],
   "source": [
    "a = 1 if y else 2\n",
    "a"
   ]
  },
  {
   "cell_type": "markdown",
   "metadata": {},
   "source": [
    "## циклы"
   ]
  },
  {
   "cell_type": "code",
   "execution_count": 65,
   "metadata": {},
   "outputs": [
    {
     "name": "stdout",
     "output_type": "stream",
     "text": [
      "0\n",
      "1\n",
      "2\n",
      "3\n",
      "4\n",
      "5\n"
     ]
    }
   ],
   "source": [
    "i=0   \n",
    "while True:\n",
    "    print(i)\n",
    "    i+=1\n",
    "    if i>5: break"
   ]
  },
  {
   "cell_type": "code",
   "execution_count": 66,
   "metadata": {},
   "outputs": [
    {
     "name": "stdout",
     "output_type": "stream",
     "text": [
      "0\n",
      "1\n",
      "2\n",
      "3\n",
      "4\n"
     ]
    }
   ],
   "source": [
    "i=0 \n",
    "while i<5:\n",
    "    print(i)\n",
    "    i+=1"
   ]
  },
  {
   "cell_type": "code",
   "execution_count": 67,
   "metadata": {},
   "outputs": [
    {
     "name": "stdout",
     "output_type": "stream",
     "text": [
      "1\n",
      "2\n",
      "3\n",
      "4\n"
     ]
    }
   ],
   "source": [
    "for x in [1,2,3,4]: \n",
    "    print(x)"
   ]
  },
  {
   "cell_type": "markdown",
   "metadata": {},
   "source": [
    "## элементы функционального программирования"
   ]
  },
  {
   "cell_type": "code",
   "execution_count": 68,
   "metadata": {},
   "outputs": [
    {
     "data": {
      "text/plain": [
       "['a_d', 'b_d', 'c_d']"
      ]
     },
     "execution_count": 68,
     "metadata": {},
     "output_type": "execute_result"
    }
   ],
   "source": [
    "# применение операции на списке\n",
    "list( map( lambda с: с+'_d' , [ 'a','b','c'] ) ) "
   ]
  },
  {
   "cell_type": "code",
   "execution_count": 69,
   "metadata": {},
   "outputs": [
    {
     "data": {
      "text/plain": [
       "24"
      ]
     },
     "execution_count": 69,
     "metadata": {},
     "output_type": "execute_result"
    }
   ],
   "source": [
    "# сворачивание списка\n",
    "from functools import reduce\n",
    "product = reduce((lambda x,y: x*y), [1, 2, 3, 4])\n",
    "product"
   ]
  },
  {
   "cell_type": "code",
   "execution_count": 70,
   "metadata": {},
   "outputs": [
    {
     "data": {
      "text/plain": [
       "[-5, -4, -3, -2, -1]"
      ]
     },
     "execution_count": 70,
     "metadata": {},
     "output_type": "execute_result"
    }
   ],
   "source": [
    "# фильтрация по условию\n",
    "number_list = range(-5, 5)\n",
    "less_than_zero = list(filter(lambda x: x < 0, number_list))\n",
    "less_than_zero"
   ]
  },
  {
   "cell_type": "markdown",
   "metadata": {},
   "source": [
    "## исключения"
   ]
  },
  {
   "cell_type": "code",
   "execution_count": 71,
   "metadata": {},
   "outputs": [
    {
     "name": "stdout",
     "output_type": "stream",
     "text": [
      "исключение: division by zero\n",
      "завершение\n"
     ]
    }
   ],
   "source": [
    "x = 10\n",
    "try:\n",
    "    x = x/0\n",
    "except Exception as e:\n",
    "    print(f'исключение: {e}')\n",
    "finally:    \n",
    "    print('завершение')\n"
   ]
  },
  {
   "cell_type": "markdown",
   "metadata": {},
   "source": [
    "## ввод / вывод "
   ]
  },
  {
   "cell_type": "code",
   "execution_count": 72,
   "metadata": {},
   "outputs": [],
   "source": [
    "x='''У лукоморья дуб зелёный;\n",
    "Златая цепь на дубе том:\n",
    "И днём и ночью кот учёный\n",
    "Всё ходит по цепи кругом;\n",
    "Идёт направо - песнь заводит,\n",
    "Налево - сказку говорит.\n",
    "Там чудеса: там леший бродит,\n",
    "Русалка на ветвях сидит;\n",
    "Там на неведомых дорожках\n",
    "Следы невиданных зверей;\n",
    "Избушка там на курьих ножках\n",
    "Стоит без окон, без дверей;\n",
    "'''"
   ]
  },
  {
   "cell_type": "code",
   "execution_count": 73,
   "metadata": {},
   "outputs": [
    {
     "data": {
      "text/plain": [
       "320"
      ]
     },
     "execution_count": 73,
     "metadata": {},
     "output_type": "execute_result"
    }
   ],
   "source": [
    "with open('temp.txt','wt') as f: f.write(x)"
   ]
  },
  {
   "cell_type": "code",
   "execution_count": 74,
   "metadata": {},
   "outputs": [
    {
     "name": "stdout",
     "output_type": "stream",
     "text": [
      "У лукоморья дуб зелёный;\n",
      "Златая цепь на дубе том:\n",
      "И днём и ночью кот учёный\n",
      "Всё ходит по цепи кругом;\n",
      "Идёт направо - песнь заводит,\n",
      "Налево - сказку говорит.\n",
      "Там чудеса: там леший бродит,\n",
      "Русалка на ветвях сидит;\n",
      "Там на неведомых дорожках\n",
      "Следы невиданных зверей;\n",
      "Избушка там на курьих ножках\n",
      "Стоит без окон, без дверей;\n",
      "\n"
     ]
    }
   ],
   "source": [
    "with open('temp.txt','rt') as f: x = f.read()\n",
    "print(x)    "
   ]
  },
  {
   "cell_type": "code",
   "execution_count": 75,
   "metadata": {},
   "outputs": [
    {
     "data": {
      "text/plain": [
       "['У лукоморья дуб зелёный;',\n",
       " 'Златая цепь на дубе том:',\n",
       " 'И днём и ночью кот учёный',\n",
       " 'Всё ходит по цепи кругом;',\n",
       " 'Идёт направо - песнь заводит,',\n",
       " 'Налево - сказку говорит.',\n",
       " 'Там чудеса: там леший бродит,',\n",
       " 'Русалка на ветвях сидит;',\n",
       " 'Там на неведомых дорожках',\n",
       " 'Следы невиданных зверей;',\n",
       " 'Избушка там на курьих ножках',\n",
       " 'Стоит без окон, без дверей;']"
      ]
     },
     "execution_count": 75,
     "metadata": {},
     "output_type": "execute_result"
    }
   ],
   "source": [
    "with open('temp.txt','rt') as f:   \n",
    "    x = [ s.strip() for s in f.read().split('\\n') if s.strip() ]\n",
    "    \n",
    "x    "
   ]
  },
  {
   "cell_type": "markdown",
   "metadata": {},
   "source": [
    "## функции"
   ]
  },
  {
   "cell_type": "code",
   "execution_count": 73,
   "metadata": {},
   "outputs": [
    {
     "name": "stdout",
     "output_type": "stream",
     "text": [
      "-1\n"
     ]
    },
    {
     "data": {
      "text/plain": [
       "0"
      ]
     },
     "execution_count": 73,
     "metadata": {},
     "output_type": "execute_result"
    },
    {
     "data": {
      "text/plain": [
       "2.5"
      ]
     },
     "execution_count": 73,
     "metadata": {},
     "output_type": "execute_result"
    }
   ],
   "source": [
    "def myfunc(x,y=1):\n",
    "    print(x)\n",
    "    return x+1,y/2\n",
    "\n",
    "\n",
    "a,b = myfunc(y=5,x=-1)\n",
    "a\n",
    "b"
   ]
  },
  {
   "cell_type": "markdown",
   "metadata": {},
   "source": [
    "## итераторы"
   ]
  },
  {
   "cell_type": "markdown",
   "metadata": {},
   "source": [
    "объект перечислитель\n",
    "\n",
    "реализует навигацию по элементам другого объекта\n",
    "\n",
    "выдаёт следующий элемент __next__()\n",
    "\n",
    "если элементов больше нет \n",
    "то бросает исключение"
   ]
  },
  {
   "cell_type": "code",
   "execution_count": 74,
   "metadata": {},
   "outputs": [
    {
     "data": {
      "text/plain": [
       "'a'"
      ]
     },
     "execution_count": 74,
     "metadata": {},
     "output_type": "execute_result"
    },
    {
     "name": "stdout",
     "output_type": "stream",
     "text": [
      "b\n",
      "c\n",
      "d\n",
      "e\n",
      "f\n"
     ]
    }
   ],
   "source": [
    "s='abcdef'\n",
    "it_s = iter(s)\n",
    "it_s.__next__()\n",
    "for c in it_s: print(c)"
   ]
  },
  {
   "cell_type": "code",
   "execution_count": 75,
   "metadata": {},
   "outputs": [
    {
     "name": "stdout",
     "output_type": "stream",
     "text": [
      "a\n",
      "b\n",
      "c\n",
      "d\n",
      "e\n",
      "f\n"
     ]
    }
   ],
   "source": [
    "s='abcdef'\n",
    "for c in s: print(c)"
   ]
  },
  {
   "cell_type": "markdown",
   "metadata": {},
   "source": [
    "## генераторы"
   ]
  },
  {
   "cell_type": "markdown",
   "metadata": {},
   "source": [
    "генерирует последовательность"
   ]
  },
  {
   "cell_type": "code",
   "execution_count": 76,
   "metadata": {},
   "outputs": [
    {
     "name": "stdout",
     "output_type": "stream",
     "text": [
      "1\n",
      "1\n",
      "1\n",
      "1\n"
     ]
    }
   ],
   "source": [
    "def ones(n):\n",
    "    while n > 0:\n",
    "        n -= 1\n",
    "        yield 1\n",
    "\n",
    "for o in ones(4): \n",
    "    print(o)"
   ]
  },
  {
   "cell_type": "markdown",
   "metadata": {},
   "source": [
    "## ООП"
   ]
  },
  {
   "cell_type": "markdown",
   "metadata": {},
   "source": [
    "__всё есть объекты__"
   ]
  },
  {
   "cell_type": "markdown",
   "metadata": {},
   "source": [
    "\n",
    "неизменяемые типы ( присваивание создаёт новый объект )\n",
    "\n",
    "_immutable types_: \n",
    "  int float bool string tuple frozenset "
   ]
  },
  {
   "cell_type": "code",
   "execution_count": 77,
   "metadata": {},
   "outputs": [
    {
     "data": {
      "text/plain": [
       "140023152673296"
      ]
     },
     "execution_count": 77,
     "metadata": {},
     "output_type": "execute_result"
    },
    {
     "data": {
      "text/plain": [
       "140023152673328"
      ]
     },
     "execution_count": 77,
     "metadata": {},
     "output_type": "execute_result"
    }
   ],
   "source": [
    "test = 10\n",
    "id(test)\n",
    "\n",
    "test += 1\n",
    "id(test)"
   ]
  },
  {
   "cell_type": "markdown",
   "metadata": {},
   "source": [
    "изменяемые типы\n",
    "\n",
    "_mutable types_: \n",
    "  list dict set "
   ]
  },
  {
   "cell_type": "code",
   "execution_count": 78,
   "metadata": {},
   "outputs": [
    {
     "data": {
      "text/plain": [
       "140022802310912"
      ]
     },
     "execution_count": 78,
     "metadata": {},
     "output_type": "execute_result"
    },
    {
     "data": {
      "text/plain": [
       "140022802310912"
      ]
     },
     "execution_count": 78,
     "metadata": {},
     "output_type": "execute_result"
    }
   ],
   "source": [
    "test = [ 10 ]\n",
    "id(test)\n",
    "\n",
    "test += [ 1 ]\n",
    "id(test)"
   ]
  },
  {
   "cell_type": "code",
   "execution_count": 79,
   "metadata": {},
   "outputs": [
    {
     "name": "stdout",
     "output_type": "stream",
     "text": [
      "Help on built-in function id in module builtins:\n",
      "\n",
      "id(obj, /)\n",
      "    Return the identity of an object.\n",
      "    \n",
      "    This is guaranteed to be unique among simultaneously existing objects.\n",
      "    (CPython uses the object's memory address.)\n",
      "\n"
     ]
    }
   ],
   "source": [
    "help(id)"
   ]
  },
  {
   "cell_type": "markdown",
   "metadata": {},
   "source": [
    "---"
   ]
  },
  {
   "cell_type": "code",
   "execution_count": 80,
   "metadata": {},
   "outputs": [
    {
     "data": {
      "text/plain": [
       "33"
      ]
     },
     "execution_count": 80,
     "metadata": {},
     "output_type": "execute_result"
    },
    {
     "data": {
      "text/plain": [
       "1"
      ]
     },
     "execution_count": 80,
     "metadata": {},
     "output_type": "execute_result"
    },
    {
     "data": {
      "text/plain": [
       "3"
      ]
     },
     "execution_count": 80,
     "metadata": {},
     "output_type": "execute_result"
    },
    {
     "data": {
      "text/plain": [
       "3"
      ]
     },
     "execution_count": 80,
     "metadata": {},
     "output_type": "execute_result"
    },
    {
     "data": {
      "text/plain": [
       "31"
      ]
     },
     "execution_count": 80,
     "metadata": {},
     "output_type": "execute_result"
    }
   ],
   "source": [
    "class A:\n",
    "    field0 = 0 # public\n",
    "    _field1 = 1 # protected\n",
    "    __field2 = 3 # private \n",
    "    \n",
    "    def __init__(self, field0=12):\n",
    "        self.field0 = field0\n",
    "    \n",
    "    @property\n",
    "    def field2(self):\n",
    "        return self.__field2\n",
    "    \n",
    "    def method0(self):\n",
    "        return self.field0+self._field1-self.__field2\n",
    "    \n",
    "a = A(33)\n",
    "a.field0\n",
    "a._field1\n",
    "\n",
    "a.field2\n",
    "# a.__field2 # Error!\n",
    "a._A__field2\n",
    "\n",
    "a.method0()"
   ]
  },
  {
   "cell_type": "code",
   "execution_count": 81,
   "metadata": {},
   "outputs": [
    {
     "name": "stdout",
     "output_type": "stream",
     "text": [
      "Grr...!\n",
      "Grr...!\n",
      "Woof!\n"
     ]
    }
   ],
   "source": [
    "class Animal:\n",
    "    \n",
    "    # конструктор \n",
    "    def __init__(self, name, color):\n",
    "        self.name = name\n",
    "        self.color = color\n",
    "\n",
    "class Wolf(Animal):\n",
    "    def bark(self):\n",
    "        print(\"Grr...!\")\n",
    "\n",
    "\n",
    "class Dog(Wolf):\n",
    "    def bark(self):\n",
    "        super().bark()\n",
    "        print(\"Woof!\")\n",
    "    def __repr__(self):\n",
    "        return \"Dog({})\".format(self.name)    \n",
    "    \n",
    "Wolf('J','gray').bark()\n",
    "Dog('B','black').bark()    "
   ]
  },
  {
   "cell_type": "markdown",
   "metadata": {},
   "source": [
    "### ООП декораторы"
   ]
  },
  {
   "cell_type": "code",
   "execution_count": 82,
   "metadata": {},
   "outputs": [],
   "source": [
    "class Rectangle:\n",
    "    def __init__(self, width, height):\n",
    "        self.width = width\n",
    "        self.height = height\n",
    "        self._allowed = False\n",
    "\n",
    "    def calculate_area(self):\n",
    "        return self.width * self.height\n",
    "\n",
    "    @classmethod\n",
    "    def new_square(cls, side_length):\n",
    "        return cls(side_length, side_length)\n",
    "\n",
    "    @staticmethod\n",
    "    def square(a):\n",
    "        return a**2\n",
    "\n",
    "    @property\n",
    "    def allowed(self):\n",
    "        return self._allowed\n",
    "\n",
    "    @allowed.setter\n",
    "    def allowed(self, value):\n",
    "        self._allowed = not(value)"
   ]
  },
  {
   "cell_type": "code",
   "execution_count": 83,
   "metadata": {},
   "outputs": [
    {
     "name": "stdout",
     "output_type": "stream",
     "text": [
      "25\n",
      "True\n",
      "16\n"
     ]
    }
   ],
   "source": [
    "sq = Rectangle.new_square(5)\n",
    "\n",
    "print(sq.calculate_area())\n",
    "# 25\n",
    "sq.allowed=0 \n",
    "print(sq.allowed)\n",
    "# True\n",
    "print(Rectangle.square(4))\n",
    "# 16"
   ]
  },
  {
   "cell_type": "markdown",
   "metadata": {},
   "source": [
    "## модули"
   ]
  },
  {
   "cell_type": "code",
   "execution_count": 84,
   "metadata": {},
   "outputs": [],
   "source": [
    "import math"
   ]
  },
  {
   "cell_type": "code",
   "execution_count": 85,
   "metadata": {},
   "outputs": [
    {
     "data": {
      "text/plain": [
       "1.0"
      ]
     },
     "execution_count": 85,
     "metadata": {},
     "output_type": "execute_result"
    }
   ],
   "source": [
    "from math import log\n",
    "\n",
    "log( math.e )"
   ]
  },
  {
   "cell_type": "markdown",
   "metadata": {},
   "source": [
    "## справка"
   ]
  },
  {
   "cell_type": "code",
   "execution_count": 86,
   "metadata": {},
   "outputs": [
    {
     "name": "stdout",
     "output_type": "stream",
     "text": [
      "{'A': <class '__main__.A'>,\n",
      " 'Animal': <class '__main__.Animal'>,\n",
      " 'Dog': <class '__main__.Dog'>,\n",
      " 'In': ['',\n",
      "        '# печатать выдачу всех строк ячейки\\n'\n",
      "        'from IPython.core.interactiveshell import InteractiveShell\\n'\n",
      "        \"InteractiveShell.ast_node_interactivity = 'all'\\n\"\n",
      "        \"# InteractiveShell.ast_node_interactivity = 'last_expr'\",\n",
      "        'a=True\\n\\nb=False',\n",
      "        'a==b',\n",
      "        'a!=b',\n",
      "        'a and b ',\n",
      "        'a or b ',\n",
      "        'not a or b ',\n",
      "        'a = 34\\n\\nb = -7.3\\n\\nc = -.3\\n\\nd = 3e-4',\n",
      "        'a>b',\n",
      "        'a<=c',\n",
      "        'a+b',\n",
      "        'a*b',\n",
      "        'a**3',\n",
      "        'a-c',\n",
      "        'a/b',\n",
      "        'a%3 # остаток от деления',\n",
      "        'a//3 # целая часть от деления',\n",
      "        '255 | 128  # битовое или',\n",
      "        '255 & 64 # битовое и',\n",
      "        '255 ^ 128 # битовое xor',\n",
      "        '255>>2 # сдвиг',\n",
      "        '# системы счисления\\n'\n",
      "        'n = 23 # десятичное представление\\n'\n",
      "        '\\n'\n",
      "        'bin(n) # бинарное\\n'\n",
      "        'oct(n) # восьмеричное \\n'\n",
      "        'hex(n) # шестнадцатеричное\\n'\n",
      "        '\\n'\n",
      "        'n.bit_length() # количество бит в двоичном представлении',\n",
      "        'a=None',\n",
      "        'a,b = 1,2\\na,b = b,a\\na = 10\\na += 7',\n",
      "        'b=\"медвед\"\\n\\na=\\'превед\\'\\n\\nc=\\'\\'\\'это две\\n     строки\\'\\'\\'',\n",
      "        'a+b',\n",
      "        \"(a+' ')*4\",\n",
      "        \"'%i_%s'%(1,'a')\",\n",
      "        '\"{1}_{0}\".format(1,\\'a\\')',\n",
      "        '# способы определения списков\\n'\n",
      "        '\\n'\n",
      "        'a = [1,3,2,4]\\n'\n",
      "        '\\n'\n",
      "        \"b = list(['a','bbb','cc'])\\n\"\n",
      "        '\\n'\n",
      "        \"c = ['a',['bbb',45], False ]\",\n",
      "        '# начало, конец, шаг\\nlist( range(-15, 15, 2) ) ',\n",
      "        '[ i/2 for i in  a ]',\n",
      "        '[ i+1 for i in  a if i!=2 ]',\n",
      "        '[ i/2 for i in range(10) if i!=3  ]',\n",
      "        \"[ '%i_%s'%(i,s) for i,s in enumerate(b) ]\",\n",
      "        'len(a)    ',\n",
      "        'sorted(a)',\n",
      "        '2 in a',\n",
      "        'a.append(9)\\na',\n",
      "        'a.insert(5,78)\\na',\n",
      "        'a.index(2)',\n",
      "        'a[0]',\n",
      "        'a[0] = 33',\n",
      "        '# начало:конец:шаг\\na = list(range(20))\\na[9:1:-2]',\n",
      "        'a[-1] # последний элемент',\n",
      "        'a[::-1] # в обратном порядке',\n",
      "        '[2,4,24,5]+[0,9,8,] # конкатенация списков',\n",
      "        \"a = (1,2,3,4)\\nb = tuple(['a','bbb','cc'])\",\n",
      "        'a[2]',\n",
      "        'a[2] = 3 # Error!',\n",
      "        'a = set([1,2,3,2,4,1])\\n'\n",
      "        '\\n'\n",
      "        'b = set([3,2,4])\\n'\n",
      "        '\\n'\n",
      "        'c = frozenset([1,2,3,2,4,1])',\n",
      "        'a',\n",
      "        'a[0] # Error!',\n",
      "        'a.add(7)',\n",
      "        'a - b',\n",
      "        'a & b',\n",
      "        'a | b ',\n",
      "        'a ^ b ',\n",
      "        \"a = { 'a':1, 'b':2, 'c':3 }\",\n",
      "        'a.keys()',\n",
      "        'a.values()',\n",
      "        \"a['a']\",\n",
      "        'x=True\\n'\n",
      "        'y=False\\n'\n",
      "        '\\n'\n",
      "        'if not x:\\n'\n",
      "        \"    print('x')\\n\"\n",
      "        'elif y:\\n'\n",
      "        \"    print('y')\\n\"\n",
      "        'else:\\n'\n",
      "        \"    print('z')\",\n",
      "        'a = 1 if y else 2\\na',\n",
      "        'i=0   \\nwhile True:\\n    print(i)\\n    i+=1\\n    if i>5: break',\n",
      "        'i=0 \\nwhile i<5:\\n    print(i)\\n    i+=1',\n",
      "        'for x in [1,2,3,4]: \\n    print(x)',\n",
      "        '# применение операции на списке\\n'\n",
      "        \"list( map( lambda с: с+'_d' , [ 'a','b','c'] ) ) \",\n",
      "        '# сворачивание списка\\n'\n",
      "        'from functools import reduce\\n'\n",
      "        'product = reduce((lambda x,y: x*y), [1, 2, 3, 4])\\n'\n",
      "        'product',\n",
      "        '# фильтрация по условию\\n'\n",
      "        'number_list = range(-5, 5)\\n'\n",
      "        'less_than_zero = list(filter(lambda x: x < 0, number_list))\\n'\n",
      "        'less_than_zero',\n",
      "        'x = 10\\n'\n",
      "        'try:\\n'\n",
      "        '    x = x/0\\n'\n",
      "        'except Exception as e:\\n'\n",
      "        \"    print(f'исключение: {e}')\\n\"\n",
      "        'finally:    \\n'\n",
      "        \"    print('завершение')\",\n",
      "        \"x='''У лукоморья дуб зелёный;\\n\"\n",
      "        'Златая цепь на дубе том:\\n'\n",
      "        'И днём и ночью кот учёный\\n'\n",
      "        'Всё ходит по цепи кругом;\\n'\n",
      "        'Идёт направо - песнь заводит,\\n'\n",
      "        'Налево - сказку говорит.\\n'\n",
      "        'Там чудеса: там леший бродит,\\n'\n",
      "        'Русалка на ветвях сидит;\\n'\n",
      "        'Там на неведомых дорожках\\n'\n",
      "        'Следы невиданных зверей;\\n'\n",
      "        'Избушка там на курьих ножках\\n'\n",
      "        'Стоит без окон, без дверей;\\n'\n",
      "        \"'''\",\n",
      "        'def myfunc(x,y=1):\\n'\n",
      "        '    print(x)\\n'\n",
      "        '    return x+1,y/2\\n'\n",
      "        '\\n'\n",
      "        '\\n'\n",
      "        'a,b = myfunc(y=5,x=-1)\\n'\n",
      "        'a\\n'\n",
      "        'b',\n",
      "        \"s='abcdef'\\nit_s = iter(s)\\nit_s.__next__()\\nfor c in it_s: print(c)\",\n",
      "        \"s='abcdef'\\nfor c in s: print(c)\",\n",
      "        'def ones(n):\\n'\n",
      "        '    while n > 0:\\n'\n",
      "        '        n -= 1\\n'\n",
      "        '        yield 1\\n'\n",
      "        '\\n'\n",
      "        'for o in ones(4): \\n'\n",
      "        '    print(o)',\n",
      "        'test = 10\\nid(test)\\n\\ntest += 1\\nid(test)',\n",
      "        'test = [ 10 ]\\nid(test)\\n\\ntest += [ 1 ]\\nid(test)',\n",
      "        'help(id)',\n",
      "        'class A:\\n'\n",
      "        '    field0 = 0 # public\\n'\n",
      "        '    _field1 = 1 # protected\\n'\n",
      "        '    __field2 = 3 # private \\n'\n",
      "        '    \\n'\n",
      "        '    def __init__(self, field0=12):\\n'\n",
      "        '        self.field0 = field0\\n'\n",
      "        '    \\n'\n",
      "        '    @property\\n'\n",
      "        '    def field2(self):\\n'\n",
      "        '        return self.__field2\\n'\n",
      "        '    \\n'\n",
      "        '    def method0(self):\\n'\n",
      "        '        return self.field0+self._field1-self.__field2\\n'\n",
      "        '    \\n'\n",
      "        'a = A(33)\\n'\n",
      "        'a.field0\\n'\n",
      "        'a._field1\\n'\n",
      "        '\\n'\n",
      "        'a.field2\\n'\n",
      "        '# a.__field2 # Error!\\n'\n",
      "        'a._A__field2\\n'\n",
      "        '\\n'\n",
      "        'a.method0()',\n",
      "        'class Animal:\\n'\n",
      "        '    \\n'\n",
      "        '    # конструктор \\n'\n",
      "        '    def __init__(self, name, color):\\n'\n",
      "        '        self.name = name\\n'\n",
      "        '        self.color = color\\n'\n",
      "        '\\n'\n",
      "        'class Wolf(Animal):\\n'\n",
      "        '    def bark(self):\\n'\n",
      "        '        print(\"Grr...!\")\\n'\n",
      "        '\\n'\n",
      "        '\\n'\n",
      "        'class Dog(Wolf):\\n'\n",
      "        '    def bark(self):\\n'\n",
      "        '        super().bark()\\n'\n",
      "        '        print(\"Woof!\")\\n'\n",
      "        '    def __repr__(self):\\n'\n",
      "        '        return \"Dog({})\".format(self.name)    \\n'\n",
      "        '    \\n'\n",
      "        \"Wolf('J','gray').bark()\\n\"\n",
      "        \"Dog('B','black').bark()    \",\n",
      "        'class Rectangle:\\n'\n",
      "        '    def __init__(self, width, height):\\n'\n",
      "        '        self.width = width\\n'\n",
      "        '        self.height = height\\n'\n",
      "        '        self._allowed = False\\n'\n",
      "        '\\n'\n",
      "        '    def calculate_area(self):\\n'\n",
      "        '        return self.width * self.height\\n'\n",
      "        '\\n'\n",
      "        '    @classmethod\\n'\n",
      "        '    def new_square(cls, side_length):\\n'\n",
      "        '        return cls(side_length, side_length)\\n'\n",
      "        '\\n'\n",
      "        '    @staticmethod\\n'\n",
      "        '    def square(a):\\n'\n",
      "        '        return a**2\\n'\n",
      "        '\\n'\n",
      "        '    @property\\n'\n",
      "        '    def allowed(self):\\n'\n",
      "        '        return self._allowed\\n'\n",
      "        '\\n'\n",
      "        '    @allowed.setter\\n'\n",
      "        '    def allowed(self, value):\\n'\n",
      "        '        self._allowed = not(value)',\n",
      "        'sq = Rectangle.new_square(5)\\n'\n",
      "        '\\n'\n",
      "        'print(sq.calculate_area())\\n'\n",
      "        '# 25\\n'\n",
      "        'sq.allowed=0 \\n'\n",
      "        'print(sq.allowed)\\n'\n",
      "        '# True\\n'\n",
      "        'print(Rectangle.square(4))\\n'\n",
      "        '# 16',\n",
      "        'import math',\n",
      "        'from math import log\\n\\nlog( math.e )',\n",
      "        'from pprint import pprint\\n'\n",
      "        '# список задействованных имён \\n'\n",
      "        'pprint( globals() )'],\n",
      " 'InteractiveShell': <class 'IPython.core.interactiveshell.InteractiveShell'>,\n",
      " 'Out': {3: False,\n",
      "         4: True,\n",
      "         5: False,\n",
      "         6: True,\n",
      "         7: False,\n",
      "         9: True,\n",
      "         10: False,\n",
      "         11: 26.7,\n",
      "         12: -248.2,\n",
      "         13: 39304,\n",
      "         14: 34.3,\n",
      "         15: -4.657534246575342,\n",
      "         16: 1,\n",
      "         17: 11,\n",
      "         18: 255,\n",
      "         19: 64,\n",
      "         20: 127,\n",
      "         21: 63,\n",
      "         22: 5,\n",
      "         26: 'преведмедвед',\n",
      "         27: 'превед превед превед превед ',\n",
      "         28: '1_a',\n",
      "         29: 'a_1',\n",
      "         31: [-15, -13, -11, -9, -7, -5, -3, -1, 1, 3, 5, 7, 9, 11, 13],\n",
      "         32: [0.5, 1.5, 1.0, 2.0],\n",
      "         33: [2, 4, 5],\n",
      "         34: [0.0, 0.5, 1.0, 2.0, 2.5, 3.0, 3.5, 4.0, 4.5],\n",
      "         35: ['0_a', '1_bbb', '2_cc'],\n",
      "         36: 4,\n",
      "         37: [1, 2, 3, 4],\n",
      "         38: True,\n",
      "         39: [33, 3, 2, 4, 9, 78],\n",
      "         40: [33, 3, 2, 4, 9, 78],\n",
      "         41: 2,\n",
      "         42: 1,\n",
      "         44: [9, 7, 5, 3],\n",
      "         45: 19,\n",
      "         46: [19,\n",
      "              18,\n",
      "              17,\n",
      "              16,\n",
      "              15,\n",
      "              14,\n",
      "              13,\n",
      "              12,\n",
      "              11,\n",
      "              10,\n",
      "              9,\n",
      "              8,\n",
      "              7,\n",
      "              6,\n",
      "              5,\n",
      "              4,\n",
      "              3,\n",
      "              2,\n",
      "              1,\n",
      "              0],\n",
      "         47: [2, 4, 24, 5, 0, 9, 8],\n",
      "         49: 3,\n",
      "         52: {1, 2, 3, 4, 7},\n",
      "         55: {1, 7},\n",
      "         56: {2, 3, 4},\n",
      "         57: {1, 2, 3, 4, 7},\n",
      "         58: {1, 7},\n",
      "         60: dict_keys(['a', 'b', 'c']),\n",
      "         61: dict_values([1, 2, 3]),\n",
      "         62: 1,\n",
      "         64: 2,\n",
      "         68: ['a_d', 'b_d', 'c_d'],\n",
      "         69: 24,\n",
      "         70: [-5, -4, -3, -2, -1],\n",
      "         73: 2.5,\n",
      "         74: 'a',\n",
      "         77: 140023152673328,\n",
      "         78: 140022802310912,\n",
      "         80: 31,\n",
      "         85: 1.0},\n",
      " 'Rectangle': <class '__main__.Rectangle'>,\n",
      " 'Wolf': <class '__main__.Wolf'>,\n",
      " '_': 1.0,\n",
      " '_10': False,\n",
      " '_11': 26.7,\n",
      " '_12': -248.2,\n",
      " '_13': 39304,\n",
      " '_14': 34.3,\n",
      " '_15': -4.657534246575342,\n",
      " '_16': 1,\n",
      " '_17': 11,\n",
      " '_18': 255,\n",
      " '_19': 64,\n",
      " '_20': 127,\n",
      " '_21': 63,\n",
      " '_22': 5,\n",
      " '_26': 'преведмедвед',\n",
      " '_27': 'превед превед превед превед ',\n",
      " '_28': '1_a',\n",
      " '_29': 'a_1',\n",
      " '_3': False,\n",
      " '_31': [-15, -13, -11, -9, -7, -5, -3, -1, 1, 3, 5, 7, 9, 11, 13],\n",
      " '_32': [0.5, 1.5, 1.0, 2.0],\n",
      " '_33': [2, 4, 5],\n",
      " '_34': [0.0, 0.5, 1.0, 2.0, 2.5, 3.0, 3.5, 4.0, 4.5],\n",
      " '_35': ['0_a', '1_bbb', '2_cc'],\n",
      " '_36': 4,\n",
      " '_37': [1, 2, 3, 4],\n",
      " '_38': True,\n",
      " '_39': [33, 3, 2, 4, 9, 78],\n",
      " '_4': True,\n",
      " '_40': [33, 3, 2, 4, 9, 78],\n",
      " '_41': 2,\n",
      " '_42': 1,\n",
      " '_44': [9, 7, 5, 3],\n",
      " '_45': 19,\n",
      " '_46': [19, 18, 17, 16, 15, 14, 13, 12, 11, 10, 9, 8, 7, 6, 5, 4, 3, 2, 1, 0],\n",
      " '_47': [2, 4, 24, 5, 0, 9, 8],\n",
      " '_49': 3,\n",
      " '_5': False,\n",
      " '_52': {1, 2, 3, 4, 7},\n",
      " '_55': {1, 7},\n",
      " '_56': {2, 3, 4},\n",
      " '_57': {1, 2, 3, 4, 7},\n",
      " '_58': {1, 7},\n",
      " '_6': True,\n",
      " '_60': dict_keys(['a', 'b', 'c']),\n",
      " '_61': dict_values([1, 2, 3]),\n",
      " '_62': 1,\n",
      " '_64': 2,\n",
      " '_68': ['a_d', 'b_d', 'c_d'],\n",
      " '_69': 24,\n",
      " '_7': False,\n",
      " '_70': [-5, -4, -3, -2, -1],\n",
      " '_73': 2.5,\n",
      " '_74': 'a',\n",
      " '_77': 140023152673328,\n",
      " '_78': 140022802310912,\n",
      " '_80': 31,\n",
      " '_85': 1.0,\n",
      " '_9': True,\n",
      " '__': 31,\n",
      " '___': 3,\n",
      " '__builtin__': <module 'builtins' (built-in)>,\n",
      " '__builtins__': <module 'builtins' (built-in)>,\n",
      " '__doc__': 'Automatically created module for IPython interactive environment',\n",
      " '__loader__': None,\n",
      " '__name__': '__main__',\n",
      " '__package__': None,\n",
      " '__spec__': None,\n",
      " '_dh': [PosixPath('/home/mechanoid/Documents/sevgu/2023-I-ml_lectorium/examples/02-python')],\n",
      " '_i': 'from math import log\\n\\nlog( math.e )',\n",
      " '_i1': '# печатать выдачу всех строк ячейки\\n'\n",
      "        'from IPython.core.interactiveshell import InteractiveShell\\n'\n",
      "        \"InteractiveShell.ast_node_interactivity = 'all'\\n\"\n",
      "        \"# InteractiveShell.ast_node_interactivity = 'last_expr'\",\n",
      " '_i10': 'a<=c',\n",
      " '_i11': 'a+b',\n",
      " '_i12': 'a*b',\n",
      " '_i13': 'a**3',\n",
      " '_i14': 'a-c',\n",
      " '_i15': 'a/b',\n",
      " '_i16': 'a%3 # остаток от деления',\n",
      " '_i17': 'a//3 # целая часть от деления',\n",
      " '_i18': '255 | 128  # битовое или',\n",
      " '_i19': '255 & 64 # битовое и',\n",
      " '_i2': 'a=True\\n\\nb=False',\n",
      " '_i20': '255 ^ 128 # битовое xor',\n",
      " '_i21': '255>>2 # сдвиг',\n",
      " '_i22': '# системы счисления\\n'\n",
      "         'n = 23 # десятичное представление\\n'\n",
      "         '\\n'\n",
      "         'bin(n) # бинарное\\n'\n",
      "         'oct(n) # восьмеричное \\n'\n",
      "         'hex(n) # шестнадцатеричное\\n'\n",
      "         '\\n'\n",
      "         'n.bit_length() # количество бит в двоичном представлении',\n",
      " '_i23': 'a=None',\n",
      " '_i24': 'a,b = 1,2\\na,b = b,a\\na = 10\\na += 7',\n",
      " '_i25': 'b=\"медвед\"\\n\\na=\\'превед\\'\\n\\nc=\\'\\'\\'это две\\n     строки\\'\\'\\'',\n",
      " '_i26': 'a+b',\n",
      " '_i27': \"(a+' ')*4\",\n",
      " '_i28': \"'%i_%s'%(1,'a')\",\n",
      " '_i29': '\"{1}_{0}\".format(1,\\'a\\')',\n",
      " '_i3': 'a==b',\n",
      " '_i30': '# способы определения списков\\n'\n",
      "         '\\n'\n",
      "         'a = [1,3,2,4]\\n'\n",
      "         '\\n'\n",
      "         \"b = list(['a','bbb','cc'])\\n\"\n",
      "         '\\n'\n",
      "         \"c = ['a',['bbb',45], False ]\",\n",
      " '_i31': '# начало, конец, шаг\\nlist( range(-15, 15, 2) ) ',\n",
      " '_i32': '[ i/2 for i in  a ]',\n",
      " '_i33': '[ i+1 for i in  a if i!=2 ]',\n",
      " '_i34': '[ i/2 for i in range(10) if i!=3  ]',\n",
      " '_i35': \"[ '%i_%s'%(i,s) for i,s in enumerate(b) ]\",\n",
      " '_i36': 'len(a)    ',\n",
      " '_i37': 'sorted(a)',\n",
      " '_i38': '2 in a',\n",
      " '_i39': 'a.append(9)\\na',\n",
      " '_i4': 'a!=b',\n",
      " '_i40': 'a.insert(5,78)\\na',\n",
      " '_i41': 'a.index(2)',\n",
      " '_i42': 'a[0]',\n",
      " '_i43': 'a[0] = 33',\n",
      " '_i44': '# начало:конец:шаг\\na = list(range(20))\\na[9:1:-2]',\n",
      " '_i45': 'a[-1] # последний элемент',\n",
      " '_i46': 'a[::-1] # в обратном порядке',\n",
      " '_i47': '[2,4,24,5]+[0,9,8,] # конкатенация списков',\n",
      " '_i48': \"a = (1,2,3,4)\\nb = tuple(['a','bbb','cc'])\",\n",
      " '_i49': 'a[2]',\n",
      " '_i5': 'a and b ',\n",
      " '_i50': 'a[2] = 3 # Error!',\n",
      " '_i51': 'a = set([1,2,3,2,4,1])\\n'\n",
      "         '\\n'\n",
      "         'b = set([3,2,4])\\n'\n",
      "         '\\n'\n",
      "         'c = frozenset([1,2,3,2,4,1])',\n",
      " '_i52': 'a',\n",
      " '_i53': 'a[0] # Error!',\n",
      " '_i54': 'a.add(7)',\n",
      " '_i55': 'a - b',\n",
      " '_i56': 'a & b',\n",
      " '_i57': 'a | b ',\n",
      " '_i58': 'a ^ b ',\n",
      " '_i59': \"a = { 'a':1, 'b':2, 'c':3 }\",\n",
      " '_i6': 'a or b ',\n",
      " '_i60': 'a.keys()',\n",
      " '_i61': 'a.values()',\n",
      " '_i62': \"a['a']\",\n",
      " '_i63': 'x=True\\n'\n",
      "         'y=False\\n'\n",
      "         '\\n'\n",
      "         'if not x:\\n'\n",
      "         \"    print('x')\\n\"\n",
      "         'elif y:\\n'\n",
      "         \"    print('y')\\n\"\n",
      "         'else:\\n'\n",
      "         \"    print('z')\",\n",
      " '_i64': 'a = 1 if y else 2\\na',\n",
      " '_i65': 'i=0   \\nwhile True:\\n    print(i)\\n    i+=1\\n    if i>5: break',\n",
      " '_i66': 'i=0 \\nwhile i<5:\\n    print(i)\\n    i+=1',\n",
      " '_i67': 'for x in [1,2,3,4]: \\n    print(x)',\n",
      " '_i68': '# применение операции на списке\\n'\n",
      "         \"list( map( lambda с: с+'_d' , [ 'a','b','c'] ) ) \",\n",
      " '_i69': '# сворачивание списка\\n'\n",
      "         'from functools import reduce\\n'\n",
      "         'product = reduce((lambda x,y: x*y), [1, 2, 3, 4])\\n'\n",
      "         'product',\n",
      " '_i7': 'not a or b ',\n",
      " '_i70': '# фильтрация по условию\\n'\n",
      "         'number_list = range(-5, 5)\\n'\n",
      "         'less_than_zero = list(filter(lambda x: x < 0, number_list))\\n'\n",
      "         'less_than_zero',\n",
      " '_i71': 'x = 10\\n'\n",
      "         'try:\\n'\n",
      "         '    x = x/0\\n'\n",
      "         'except Exception as e:\\n'\n",
      "         \"    print(f'исключение: {e}')\\n\"\n",
      "         'finally:    \\n'\n",
      "         \"    print('завершение')\",\n",
      " '_i72': \"x='''У лукоморья дуб зелёный;\\n\"\n",
      "         'Златая цепь на дубе том:\\n'\n",
      "         'И днём и ночью кот учёный\\n'\n",
      "         'Всё ходит по цепи кругом;\\n'\n",
      "         'Идёт направо - песнь заводит,\\n'\n",
      "         'Налево - сказку говорит.\\n'\n",
      "         'Там чудеса: там леший бродит,\\n'\n",
      "         'Русалка на ветвях сидит;\\n'\n",
      "         'Там на неведомых дорожках\\n'\n",
      "         'Следы невиданных зверей;\\n'\n",
      "         'Избушка там на курьих ножках\\n'\n",
      "         'Стоит без окон, без дверей;\\n'\n",
      "         \"'''\",\n",
      " '_i73': 'def myfunc(x,y=1):\\n'\n",
      "         '    print(x)\\n'\n",
      "         '    return x+1,y/2\\n'\n",
      "         '\\n'\n",
      "         '\\n'\n",
      "         'a,b = myfunc(y=5,x=-1)\\n'\n",
      "         'a\\n'\n",
      "         'b',\n",
      " '_i74': \"s='abcdef'\\nit_s = iter(s)\\nit_s.__next__()\\nfor c in it_s: print(c)\",\n",
      " '_i75': \"s='abcdef'\\nfor c in s: print(c)\",\n",
      " '_i76': 'def ones(n):\\n'\n",
      "         '    while n > 0:\\n'\n",
      "         '        n -= 1\\n'\n",
      "         '        yield 1\\n'\n",
      "         '\\n'\n",
      "         'for o in ones(4): \\n'\n",
      "         '    print(o)',\n",
      " '_i77': 'test = 10\\nid(test)\\n\\ntest += 1\\nid(test)',\n",
      " '_i78': 'test = [ 10 ]\\nid(test)\\n\\ntest += [ 1 ]\\nid(test)',\n",
      " '_i79': 'help(id)',\n",
      " '_i8': 'a = 34\\n\\nb = -7.3\\n\\nc = -.3\\n\\nd = 3e-4',\n",
      " '_i80': 'class A:\\n'\n",
      "         '    field0 = 0 # public\\n'\n",
      "         '    _field1 = 1 # protected\\n'\n",
      "         '    __field2 = 3 # private \\n'\n",
      "         '    \\n'\n",
      "         '    def __init__(self, field0=12):\\n'\n",
      "         '        self.field0 = field0\\n'\n",
      "         '    \\n'\n",
      "         '    @property\\n'\n",
      "         '    def field2(self):\\n'\n",
      "         '        return self.__field2\\n'\n",
      "         '    \\n'\n",
      "         '    def method0(self):\\n'\n",
      "         '        return self.field0+self._field1-self.__field2\\n'\n",
      "         '    \\n'\n",
      "         'a = A(33)\\n'\n",
      "         'a.field0\\n'\n",
      "         'a._field1\\n'\n",
      "         '\\n'\n",
      "         'a.field2\\n'\n",
      "         '# a.__field2 # Error!\\n'\n",
      "         'a._A__field2\\n'\n",
      "         '\\n'\n",
      "         'a.method0()',\n",
      " '_i81': 'class Animal:\\n'\n",
      "         '    \\n'\n",
      "         '    # конструктор \\n'\n",
      "         '    def __init__(self, name, color):\\n'\n",
      "         '        self.name = name\\n'\n",
      "         '        self.color = color\\n'\n",
      "         '\\n'\n",
      "         'class Wolf(Animal):\\n'\n",
      "         '    def bark(self):\\n'\n",
      "         '        print(\"Grr...!\")\\n'\n",
      "         '\\n'\n",
      "         '\\n'\n",
      "         'class Dog(Wolf):\\n'\n",
      "         '    def bark(self):\\n'\n",
      "         '        super().bark()\\n'\n",
      "         '        print(\"Woof!\")\\n'\n",
      "         '    def __repr__(self):\\n'\n",
      "         '        return \"Dog({})\".format(self.name)    \\n'\n",
      "         '    \\n'\n",
      "         \"Wolf('J','gray').bark()\\n\"\n",
      "         \"Dog('B','black').bark()    \",\n",
      " '_i82': 'class Rectangle:\\n'\n",
      "         '    def __init__(self, width, height):\\n'\n",
      "         '        self.width = width\\n'\n",
      "         '        self.height = height\\n'\n",
      "         '        self._allowed = False\\n'\n",
      "         '\\n'\n",
      "         '    def calculate_area(self):\\n'\n",
      "         '        return self.width * self.height\\n'\n",
      "         '\\n'\n",
      "         '    @classmethod\\n'\n",
      "         '    def new_square(cls, side_length):\\n'\n",
      "         '        return cls(side_length, side_length)\\n'\n",
      "         '\\n'\n",
      "         '    @staticmethod\\n'\n",
      "         '    def square(a):\\n'\n",
      "         '        return a**2\\n'\n",
      "         '\\n'\n",
      "         '    @property\\n'\n",
      "         '    def allowed(self):\\n'\n",
      "         '        return self._allowed\\n'\n",
      "         '\\n'\n",
      "         '    @allowed.setter\\n'\n",
      "         '    def allowed(self, value):\\n'\n",
      "         '        self._allowed = not(value)',\n",
      " '_i83': 'sq = Rectangle.new_square(5)\\n'\n",
      "         '\\n'\n",
      "         'print(sq.calculate_area())\\n'\n",
      "         '# 25\\n'\n",
      "         'sq.allowed=0 \\n'\n",
      "         'print(sq.allowed)\\n'\n",
      "         '# True\\n'\n",
      "         'print(Rectangle.square(4))\\n'\n",
      "         '# 16',\n",
      " '_i84': 'import math',\n",
      " '_i85': 'from math import log\\n\\nlog( math.e )',\n",
      " '_i86': 'from pprint import pprint\\n'\n",
      "         '# список задействованных имён \\n'\n",
      "         'pprint( globals() )',\n",
      " '_i9': 'a>b',\n",
      " '_ih': ['',\n",
      "         '# печатать выдачу всех строк ячейки\\n'\n",
      "         'from IPython.core.interactiveshell import InteractiveShell\\n'\n",
      "         \"InteractiveShell.ast_node_interactivity = 'all'\\n\"\n",
      "         \"# InteractiveShell.ast_node_interactivity = 'last_expr'\",\n",
      "         'a=True\\n\\nb=False',\n",
      "         'a==b',\n",
      "         'a!=b',\n",
      "         'a and b ',\n",
      "         'a or b ',\n",
      "         'not a or b ',\n",
      "         'a = 34\\n\\nb = -7.3\\n\\nc = -.3\\n\\nd = 3e-4',\n",
      "         'a>b',\n",
      "         'a<=c',\n",
      "         'a+b',\n",
      "         'a*b',\n",
      "         'a**3',\n",
      "         'a-c',\n",
      "         'a/b',\n",
      "         'a%3 # остаток от деления',\n",
      "         'a//3 # целая часть от деления',\n",
      "         '255 | 128  # битовое или',\n",
      "         '255 & 64 # битовое и',\n",
      "         '255 ^ 128 # битовое xor',\n",
      "         '255>>2 # сдвиг',\n",
      "         '# системы счисления\\n'\n",
      "         'n = 23 # десятичное представление\\n'\n",
      "         '\\n'\n",
      "         'bin(n) # бинарное\\n'\n",
      "         'oct(n) # восьмеричное \\n'\n",
      "         'hex(n) # шестнадцатеричное\\n'\n",
      "         '\\n'\n",
      "         'n.bit_length() # количество бит в двоичном представлении',\n",
      "         'a=None',\n",
      "         'a,b = 1,2\\na,b = b,a\\na = 10\\na += 7',\n",
      "         'b=\"медвед\"\\n\\na=\\'превед\\'\\n\\nc=\\'\\'\\'это две\\n     строки\\'\\'\\'',\n",
      "         'a+b',\n",
      "         \"(a+' ')*4\",\n",
      "         \"'%i_%s'%(1,'a')\",\n",
      "         '\"{1}_{0}\".format(1,\\'a\\')',\n",
      "         '# способы определения списков\\n'\n",
      "         '\\n'\n",
      "         'a = [1,3,2,4]\\n'\n",
      "         '\\n'\n",
      "         \"b = list(['a','bbb','cc'])\\n\"\n",
      "         '\\n'\n",
      "         \"c = ['a',['bbb',45], False ]\",\n",
      "         '# начало, конец, шаг\\nlist( range(-15, 15, 2) ) ',\n",
      "         '[ i/2 for i in  a ]',\n",
      "         '[ i+1 for i in  a if i!=2 ]',\n",
      "         '[ i/2 for i in range(10) if i!=3  ]',\n",
      "         \"[ '%i_%s'%(i,s) for i,s in enumerate(b) ]\",\n",
      "         'len(a)    ',\n",
      "         'sorted(a)',\n",
      "         '2 in a',\n",
      "         'a.append(9)\\na',\n",
      "         'a.insert(5,78)\\na',\n",
      "         'a.index(2)',\n",
      "         'a[0]',\n",
      "         'a[0] = 33',\n",
      "         '# начало:конец:шаг\\na = list(range(20))\\na[9:1:-2]',\n",
      "         'a[-1] # последний элемент',\n",
      "         'a[::-1] # в обратном порядке',\n",
      "         '[2,4,24,5]+[0,9,8,] # конкатенация списков',\n",
      "         \"a = (1,2,3,4)\\nb = tuple(['a','bbb','cc'])\",\n",
      "         'a[2]',\n",
      "         'a[2] = 3 # Error!',\n",
      "         'a = set([1,2,3,2,4,1])\\n'\n",
      "         '\\n'\n",
      "         'b = set([3,2,4])\\n'\n",
      "         '\\n'\n",
      "         'c = frozenset([1,2,3,2,4,1])',\n",
      "         'a',\n",
      "         'a[0] # Error!',\n",
      "         'a.add(7)',\n",
      "         'a - b',\n",
      "         'a & b',\n",
      "         'a | b ',\n",
      "         'a ^ b ',\n",
      "         \"a = { 'a':1, 'b':2, 'c':3 }\",\n",
      "         'a.keys()',\n",
      "         'a.values()',\n",
      "         \"a['a']\",\n",
      "         'x=True\\n'\n",
      "         'y=False\\n'\n",
      "         '\\n'\n",
      "         'if not x:\\n'\n",
      "         \"    print('x')\\n\"\n",
      "         'elif y:\\n'\n",
      "         \"    print('y')\\n\"\n",
      "         'else:\\n'\n",
      "         \"    print('z')\",\n",
      "         'a = 1 if y else 2\\na',\n",
      "         'i=0   \\nwhile True:\\n    print(i)\\n    i+=1\\n    if i>5: break',\n",
      "         'i=0 \\nwhile i<5:\\n    print(i)\\n    i+=1',\n",
      "         'for x in [1,2,3,4]: \\n    print(x)',\n",
      "         '# применение операции на списке\\n'\n",
      "         \"list( map( lambda с: с+'_d' , [ 'a','b','c'] ) ) \",\n",
      "         '# сворачивание списка\\n'\n",
      "         'from functools import reduce\\n'\n",
      "         'product = reduce((lambda x,y: x*y), [1, 2, 3, 4])\\n'\n",
      "         'product',\n",
      "         '# фильтрация по условию\\n'\n",
      "         'number_list = range(-5, 5)\\n'\n",
      "         'less_than_zero = list(filter(lambda x: x < 0, number_list))\\n'\n",
      "         'less_than_zero',\n",
      "         'x = 10\\n'\n",
      "         'try:\\n'\n",
      "         '    x = x/0\\n'\n",
      "         'except Exception as e:\\n'\n",
      "         \"    print(f'исключение: {e}')\\n\"\n",
      "         'finally:    \\n'\n",
      "         \"    print('завершение')\",\n",
      "         \"x='''У лукоморья дуб зелёный;\\n\"\n",
      "         'Златая цепь на дубе том:\\n'\n",
      "         'И днём и ночью кот учёный\\n'\n",
      "         'Всё ходит по цепи кругом;\\n'\n",
      "         'Идёт направо - песнь заводит,\\n'\n",
      "         'Налево - сказку говорит.\\n'\n",
      "         'Там чудеса: там леший бродит,\\n'\n",
      "         'Русалка на ветвях сидит;\\n'\n",
      "         'Там на неведомых дорожках\\n'\n",
      "         'Следы невиданных зверей;\\n'\n",
      "         'Избушка там на курьих ножках\\n'\n",
      "         'Стоит без окон, без дверей;\\n'\n",
      "         \"'''\",\n",
      "         'def myfunc(x,y=1):\\n'\n",
      "         '    print(x)\\n'\n",
      "         '    return x+1,y/2\\n'\n",
      "         '\\n'\n",
      "         '\\n'\n",
      "         'a,b = myfunc(y=5,x=-1)\\n'\n",
      "         'a\\n'\n",
      "         'b',\n",
      "         \"s='abcdef'\\nit_s = iter(s)\\nit_s.__next__()\\nfor c in it_s: print(c)\",\n",
      "         \"s='abcdef'\\nfor c in s: print(c)\",\n",
      "         'def ones(n):\\n'\n",
      "         '    while n > 0:\\n'\n",
      "         '        n -= 1\\n'\n",
      "         '        yield 1\\n'\n",
      "         '\\n'\n",
      "         'for o in ones(4): \\n'\n",
      "         '    print(o)',\n",
      "         'test = 10\\nid(test)\\n\\ntest += 1\\nid(test)',\n",
      "         'test = [ 10 ]\\nid(test)\\n\\ntest += [ 1 ]\\nid(test)',\n",
      "         'help(id)',\n",
      "         'class A:\\n'\n",
      "         '    field0 = 0 # public\\n'\n",
      "         '    _field1 = 1 # protected\\n'\n",
      "         '    __field2 = 3 # private \\n'\n",
      "         '    \\n'\n",
      "         '    def __init__(self, field0=12):\\n'\n",
      "         '        self.field0 = field0\\n'\n",
      "         '    \\n'\n",
      "         '    @property\\n'\n",
      "         '    def field2(self):\\n'\n",
      "         '        return self.__field2\\n'\n",
      "         '    \\n'\n",
      "         '    def method0(self):\\n'\n",
      "         '        return self.field0+self._field1-self.__field2\\n'\n",
      "         '    \\n'\n",
      "         'a = A(33)\\n'\n",
      "         'a.field0\\n'\n",
      "         'a._field1\\n'\n",
      "         '\\n'\n",
      "         'a.field2\\n'\n",
      "         '# a.__field2 # Error!\\n'\n",
      "         'a._A__field2\\n'\n",
      "         '\\n'\n",
      "         'a.method0()',\n",
      "         'class Animal:\\n'\n",
      "         '    \\n'\n",
      "         '    # конструктор \\n'\n",
      "         '    def __init__(self, name, color):\\n'\n",
      "         '        self.name = name\\n'\n",
      "         '        self.color = color\\n'\n",
      "         '\\n'\n",
      "         'class Wolf(Animal):\\n'\n",
      "         '    def bark(self):\\n'\n",
      "         '        print(\"Grr...!\")\\n'\n",
      "         '\\n'\n",
      "         '\\n'\n",
      "         'class Dog(Wolf):\\n'\n",
      "         '    def bark(self):\\n'\n",
      "         '        super().bark()\\n'\n",
      "         '        print(\"Woof!\")\\n'\n",
      "         '    def __repr__(self):\\n'\n",
      "         '        return \"Dog({})\".format(self.name)    \\n'\n",
      "         '    \\n'\n",
      "         \"Wolf('J','gray').bark()\\n\"\n",
      "         \"Dog('B','black').bark()    \",\n",
      "         'class Rectangle:\\n'\n",
      "         '    def __init__(self, width, height):\\n'\n",
      "         '        self.width = width\\n'\n",
      "         '        self.height = height\\n'\n",
      "         '        self._allowed = False\\n'\n",
      "         '\\n'\n",
      "         '    def calculate_area(self):\\n'\n",
      "         '        return self.width * self.height\\n'\n",
      "         '\\n'\n",
      "         '    @classmethod\\n'\n",
      "         '    def new_square(cls, side_length):\\n'\n",
      "         '        return cls(side_length, side_length)\\n'\n",
      "         '\\n'\n",
      "         '    @staticmethod\\n'\n",
      "         '    def square(a):\\n'\n",
      "         '        return a**2\\n'\n",
      "         '\\n'\n",
      "         '    @property\\n'\n",
      "         '    def allowed(self):\\n'\n",
      "         '        return self._allowed\\n'\n",
      "         '\\n'\n",
      "         '    @allowed.setter\\n'\n",
      "         '    def allowed(self, value):\\n'\n",
      "         '        self._allowed = not(value)',\n",
      "         'sq = Rectangle.new_square(5)\\n'\n",
      "         '\\n'\n",
      "         'print(sq.calculate_area())\\n'\n",
      "         '# 25\\n'\n",
      "         'sq.allowed=0 \\n'\n",
      "         'print(sq.allowed)\\n'\n",
      "         '# True\\n'\n",
      "         'print(Rectangle.square(4))\\n'\n",
      "         '# 16',\n",
      "         'import math',\n",
      "         'from math import log\\n\\nlog( math.e )',\n",
      "         'from pprint import pprint\\n'\n",
      "         '# список задействованных имён \\n'\n",
      "         'pprint( globals() )'],\n",
      " '_ii': 'import math',\n",
      " '_iii': 'sq = Rectangle.new_square(5)\\n'\n",
      "         '\\n'\n",
      "         'print(sq.calculate_area())\\n'\n",
      "         '# 25\\n'\n",
      "         'sq.allowed=0 \\n'\n",
      "         'print(sq.allowed)\\n'\n",
      "         '# True\\n'\n",
      "         'print(Rectangle.square(4))\\n'\n",
      "         '# 16',\n",
      " '_oh': {3: False,\n",
      "         4: True,\n",
      "         5: False,\n",
      "         6: True,\n",
      "         7: False,\n",
      "         9: True,\n",
      "         10: False,\n",
      "         11: 26.7,\n",
      "         12: -248.2,\n",
      "         13: 39304,\n",
      "         14: 34.3,\n",
      "         15: -4.657534246575342,\n",
      "         16: 1,\n",
      "         17: 11,\n",
      "         18: 255,\n",
      "         19: 64,\n",
      "         20: 127,\n",
      "         21: 63,\n",
      "         22: 5,\n",
      "         26: 'преведмедвед',\n",
      "         27: 'превед превед превед превед ',\n",
      "         28: '1_a',\n",
      "         29: 'a_1',\n",
      "         31: [-15, -13, -11, -9, -7, -5, -3, -1, 1, 3, 5, 7, 9, 11, 13],\n",
      "         32: [0.5, 1.5, 1.0, 2.0],\n",
      "         33: [2, 4, 5],\n",
      "         34: [0.0, 0.5, 1.0, 2.0, 2.5, 3.0, 3.5, 4.0, 4.5],\n",
      "         35: ['0_a', '1_bbb', '2_cc'],\n",
      "         36: 4,\n",
      "         37: [1, 2, 3, 4],\n",
      "         38: True,\n",
      "         39: [33, 3, 2, 4, 9, 78],\n",
      "         40: [33, 3, 2, 4, 9, 78],\n",
      "         41: 2,\n",
      "         42: 1,\n",
      "         44: [9, 7, 5, 3],\n",
      "         45: 19,\n",
      "         46: [19,\n",
      "              18,\n",
      "              17,\n",
      "              16,\n",
      "              15,\n",
      "              14,\n",
      "              13,\n",
      "              12,\n",
      "              11,\n",
      "              10,\n",
      "              9,\n",
      "              8,\n",
      "              7,\n",
      "              6,\n",
      "              5,\n",
      "              4,\n",
      "              3,\n",
      "              2,\n",
      "              1,\n",
      "              0],\n",
      "         47: [2, 4, 24, 5, 0, 9, 8],\n",
      "         49: 3,\n",
      "         52: {1, 2, 3, 4, 7},\n",
      "         55: {1, 7},\n",
      "         56: {2, 3, 4},\n",
      "         57: {1, 2, 3, 4, 7},\n",
      "         58: {1, 7},\n",
      "         60: dict_keys(['a', 'b', 'c']),\n",
      "         61: dict_values([1, 2, 3]),\n",
      "         62: 1,\n",
      "         64: 2,\n",
      "         68: ['a_d', 'b_d', 'c_d'],\n",
      "         69: 24,\n",
      "         70: [-5, -4, -3, -2, -1],\n",
      "         73: 2.5,\n",
      "         74: 'a',\n",
      "         77: 140023152673328,\n",
      "         78: 140022802310912,\n",
      "         80: 31,\n",
      "         85: 1.0},\n",
      " 'a': <__main__.A object at 0x7f59a80745e0>,\n",
      " 'b': 2.5,\n",
      " 'c': 'f',\n",
      " 'd': 0.0003,\n",
      " 'exit': <IPython.core.autocall.ZMQExitAutocall object at 0x7f59ab3c7640>,\n",
      " 'get_ipython': <bound method InteractiveShell.get_ipython of <ipykernel.zmqshell.ZMQInteractiveShell object at 0x7f59ab3c6b60>>,\n",
      " 'i': 5,\n",
      " 'it_s': <str_iterator object at 0x7f59a8145e70>,\n",
      " 'less_than_zero': [-5, -4, -3, -2, -1],\n",
      " 'log': <built-in function log>,\n",
      " 'math': <module 'math' from '/usr/lib/python3.10/lib-dynload/math.cpython-310-x86_64-linux-gnu.so'>,\n",
      " 'myfunc': <function myfunc at 0x7f59a83570a0>,\n",
      " 'n': 23,\n",
      " 'number_list': range(-5, 5),\n",
      " 'o': 1,\n",
      " 'ones': <function ones at 0x7f59a83560e0>,\n",
      " 'open': <function open at 0x7f59ac7f1bd0>,\n",
      " 'pprint': <function pprint at 0x7f59ad8c2b90>,\n",
      " 'product': 24,\n",
      " 'quit': <IPython.core.autocall.ZMQExitAutocall object at 0x7f59ab3c7640>,\n",
      " 'reduce': <built-in function reduce>,\n",
      " 's': 'abcdef',\n",
      " 'sq': <__main__.Rectangle object at 0x7f59a835e140>,\n",
      " 'test': [10, 1],\n",
      " 'x': 'У лукоморья дуб зелёный;\\n'\n",
      "      'Златая цепь на дубе том:\\n'\n",
      "      'И днём и ночью кот учёный\\n'\n",
      "      'Всё ходит по цепи кругом;\\n'\n",
      "      'Идёт направо - песнь заводит,\\n'\n",
      "      'Налево - сказку говорит.\\n'\n",
      "      'Там чудеса: там леший бродит,\\n'\n",
      "      'Русалка на ветвях сидит;\\n'\n",
      "      'Там на неведомых дорожках\\n'\n",
      "      'Следы невиданных зверей;\\n'\n",
      "      'Избушка там на курьих ножках\\n'\n",
      "      'Стоит без окон, без дверей;\\n',\n",
      " 'y': False}\n"
     ]
    }
   ],
   "source": [
    "from pprint import pprint\n",
    "# список задействованных имён \n",
    "pprint( globals() )"
   ]
  },
  {
   "cell_type": "code",
   "execution_count": 90,
   "metadata": {},
   "outputs": [
    {
     "data": {
      "text/plain": [
       "dict_keys(['__name__', '__doc__', '__package__', '__loader__', '__spec__', '__builtin__', '__builtins__', '_ih', '_oh', '_dh', 'In', 'Out', 'get_ipython', 'exit', 'quit', '_', '__', '___', '_i', '_ii', '_iii', '_i1', 'InteractiveShell', '_i2', 'a', 'b', '_i3', '_3', '_i4', '_4', '_i5', '_5', '_i6', '_6', '_i7', '_7', '_i8', 'c', 'd', '_i9', '_9', '_i10', '_10', '_i11', '_11', '_i12', '_12', '_i13', '_13', '_i14', '_14', '_i15', '_15', '_i16', '_16', '_i17', '_17', '_i18', '_18', '_i19', '_19', '_i20', '_20', '_i21', '_21', '_i22', 'n', '_22', '_i23', '_i24', '_i25', '_i26', '_26', '_i27', '_27', '_i28', '_28', '_i29', '_29', '_i30', '_i31', '_31', '_i32', '_32', '_i33', '_33', '_i34', '_34', '_i35', '_35', '_i36', '_36', '_i37', '_37', '_i38', '_38', '_i39', '_39', '_i40', '_40', '_i41', '_41', '_i42', '_42', '_i43', '_i44', '_44', '_i45', '_45', '_i46', '_46', '_i47', '_47', '_i48', '_i49', '_49', '_i50', '_i51', '_i52', '_52', '_i53', '_i54', '_i55', '_55', '_i56', '_56', '_i57', '_57', '_i58', '_58', '_i59', '_i60', '_60', '_i61', '_61', '_i62', '_62', '_i63', 'x', 'y', '_i64', '_64', '_i65', 'i', '_i66', '_i67', '_i68', '_68', '_i69', 'reduce', 'product', '_69', '_i70', 'number_list', 'less_than_zero', '_70', '_i71', '_i72', '_i73', 'f', '_73', '_i74', '_i75', '_75', '_i76', 'myfunc', '_76', '_i77', 's', 'it_s', '_77', '_i78', '_i79', 'ones', 'o', '_i80', 'test', '_80', '_i81', '_81', '_i82', '_i83', 'A', '_83', '_i84', 'Animal', 'Wolf', 'Dog', '_i85', 'Rectangle', '_i86', 'sq', '_i87', 'math', '_i88', 'log', '_88', '_i89', 'pprint', '_i90'])"
      ]
     },
     "execution_count": 90,
     "metadata": {},
     "output_type": "execute_result"
    }
   ],
   "source": [
    "globals().keys()"
   ]
  },
  {
   "cell_type": "code",
   "execution_count": 87,
   "metadata": {},
   "outputs": [
    {
     "name": "stdout",
     "output_type": "stream",
     "text": [
      "Help on module math:\n",
      "\n",
      "NAME\n",
      "    math\n",
      "\n",
      "MODULE REFERENCE\n",
      "    https://docs.python.org/3.10/library/math.html\n",
      "    \n",
      "    The following documentation is automatically generated from the Python\n",
      "    source files.  It may be incomplete, incorrect or include features that\n",
      "    are considered implementation detail and may vary between Python\n",
      "    implementations.  When in doubt, consult the module reference at the\n",
      "    location listed above.\n",
      "\n",
      "DESCRIPTION\n",
      "    This module provides access to the mathematical functions\n",
      "    defined by the C standard.\n",
      "\n",
      "FUNCTIONS\n",
      "    acos(x, /)\n",
      "        Return the arc cosine (measured in radians) of x.\n",
      "        \n",
      "        The result is between 0 and pi.\n",
      "    \n",
      "    acosh(x, /)\n",
      "        Return the inverse hyperbolic cosine of x.\n",
      "    \n",
      "    asin(x, /)\n",
      "        Return the arc sine (measured in radians) of x.\n",
      "        \n",
      "        The result is between -pi/2 and pi/2.\n",
      "    \n",
      "    asinh(x, /)\n",
      "        Return the inverse hyperbolic sine of x.\n",
      "    \n",
      "    atan(x, /)\n",
      "        Return the arc tangent (measured in radians) of x.\n",
      "        \n",
      "        The result is between -pi/2 and pi/2.\n",
      "    \n",
      "    atan2(y, x, /)\n",
      "        Return the arc tangent (measured in radians) of y/x.\n",
      "        \n",
      "        Unlike atan(y/x), the signs of both x and y are considered.\n",
      "    \n",
      "    atanh(x, /)\n",
      "        Return the inverse hyperbolic tangent of x.\n",
      "    \n",
      "    ceil(x, /)\n",
      "        Return the ceiling of x as an Integral.\n",
      "        \n",
      "        This is the smallest integer >= x.\n",
      "    \n",
      "    comb(n, k, /)\n",
      "        Number of ways to choose k items from n items without repetition and without order.\n",
      "        \n",
      "        Evaluates to n! / (k! * (n - k)!) when k <= n and evaluates\n",
      "        to zero when k > n.\n",
      "        \n",
      "        Also called the binomial coefficient because it is equivalent\n",
      "        to the coefficient of k-th term in polynomial expansion of the\n",
      "        expression (1 + x)**n.\n",
      "        \n",
      "        Raises TypeError if either of the arguments are not integers.\n",
      "        Raises ValueError if either of the arguments are negative.\n",
      "    \n",
      "    copysign(x, y, /)\n",
      "        Return a float with the magnitude (absolute value) of x but the sign of y.\n",
      "        \n",
      "        On platforms that support signed zeros, copysign(1.0, -0.0)\n",
      "        returns -1.0.\n",
      "    \n",
      "    cos(x, /)\n",
      "        Return the cosine of x (measured in radians).\n",
      "    \n",
      "    cosh(x, /)\n",
      "        Return the hyperbolic cosine of x.\n",
      "    \n",
      "    degrees(x, /)\n",
      "        Convert angle x from radians to degrees.\n",
      "    \n",
      "    dist(p, q, /)\n",
      "        Return the Euclidean distance between two points p and q.\n",
      "        \n",
      "        The points should be specified as sequences (or iterables) of\n",
      "        coordinates.  Both inputs must have the same dimension.\n",
      "        \n",
      "        Roughly equivalent to:\n",
      "            sqrt(sum((px - qx) ** 2.0 for px, qx in zip(p, q)))\n",
      "    \n",
      "    erf(x, /)\n",
      "        Error function at x.\n",
      "    \n",
      "    erfc(x, /)\n",
      "        Complementary error function at x.\n",
      "    \n",
      "    exp(x, /)\n",
      "        Return e raised to the power of x.\n",
      "    \n",
      "    expm1(x, /)\n",
      "        Return exp(x)-1.\n",
      "        \n",
      "        This function avoids the loss of precision involved in the direct evaluation of exp(x)-1 for small x.\n",
      "    \n",
      "    fabs(x, /)\n",
      "        Return the absolute value of the float x.\n",
      "    \n",
      "    factorial(x, /)\n",
      "        Find x!.\n",
      "        \n",
      "        Raise a ValueError if x is negative or non-integral.\n",
      "    \n",
      "    floor(x, /)\n",
      "        Return the floor of x as an Integral.\n",
      "        \n",
      "        This is the largest integer <= x.\n",
      "    \n",
      "    fmod(x, y, /)\n",
      "        Return fmod(x, y), according to platform C.\n",
      "        \n",
      "        x % y may differ.\n",
      "    \n",
      "    frexp(x, /)\n",
      "        Return the mantissa and exponent of x, as pair (m, e).\n",
      "        \n",
      "        m is a float and e is an int, such that x = m * 2.**e.\n",
      "        If x is 0, m and e are both 0.  Else 0.5 <= abs(m) < 1.0.\n",
      "    \n",
      "    fsum(seq, /)\n",
      "        Return an accurate floating point sum of values in the iterable seq.\n",
      "        \n",
      "        Assumes IEEE-754 floating point arithmetic.\n",
      "    \n",
      "    gamma(x, /)\n",
      "        Gamma function at x.\n",
      "    \n",
      "    gcd(*integers)\n",
      "        Greatest Common Divisor.\n",
      "    \n",
      "    hypot(...)\n",
      "        hypot(*coordinates) -> value\n",
      "        \n",
      "        Multidimensional Euclidean distance from the origin to a point.\n",
      "        \n",
      "        Roughly equivalent to:\n",
      "            sqrt(sum(x**2 for x in coordinates))\n",
      "        \n",
      "        For a two dimensional point (x, y), gives the hypotenuse\n",
      "        using the Pythagorean theorem:  sqrt(x*x + y*y).\n",
      "        \n",
      "        For example, the hypotenuse of a 3/4/5 right triangle is:\n",
      "        \n",
      "            >>> hypot(3.0, 4.0)\n",
      "            5.0\n",
      "    \n",
      "    isclose(a, b, *, rel_tol=1e-09, abs_tol=0.0)\n",
      "        Determine whether two floating point numbers are close in value.\n",
      "        \n",
      "          rel_tol\n",
      "            maximum difference for being considered \"close\", relative to the\n",
      "            magnitude of the input values\n",
      "          abs_tol\n",
      "            maximum difference for being considered \"close\", regardless of the\n",
      "            magnitude of the input values\n",
      "        \n",
      "        Return True if a is close in value to b, and False otherwise.\n",
      "        \n",
      "        For the values to be considered close, the difference between them\n",
      "        must be smaller than at least one of the tolerances.\n",
      "        \n",
      "        -inf, inf and NaN behave similarly to the IEEE 754 Standard.  That\n",
      "        is, NaN is not close to anything, even itself.  inf and -inf are\n",
      "        only close to themselves.\n",
      "    \n",
      "    isfinite(x, /)\n",
      "        Return True if x is neither an infinity nor a NaN, and False otherwise.\n",
      "    \n",
      "    isinf(x, /)\n",
      "        Return True if x is a positive or negative infinity, and False otherwise.\n",
      "    \n",
      "    isnan(x, /)\n",
      "        Return True if x is a NaN (not a number), and False otherwise.\n",
      "    \n",
      "    isqrt(n, /)\n",
      "        Return the integer part of the square root of the input.\n",
      "    \n",
      "    lcm(*integers)\n",
      "        Least Common Multiple.\n",
      "    \n",
      "    ldexp(x, i, /)\n",
      "        Return x * (2**i).\n",
      "        \n",
      "        This is essentially the inverse of frexp().\n",
      "    \n",
      "    lgamma(x, /)\n",
      "        Natural logarithm of absolute value of Gamma function at x.\n",
      "    \n",
      "    log(...)\n",
      "        log(x, [base=math.e])\n",
      "        Return the logarithm of x to the given base.\n",
      "        \n",
      "        If the base not specified, returns the natural logarithm (base e) of x.\n",
      "    \n",
      "    log10(x, /)\n",
      "        Return the base 10 logarithm of x.\n",
      "    \n",
      "    log1p(x, /)\n",
      "        Return the natural logarithm of 1+x (base e).\n",
      "        \n",
      "        The result is computed in a way which is accurate for x near zero.\n",
      "    \n",
      "    log2(x, /)\n",
      "        Return the base 2 logarithm of x.\n",
      "    \n",
      "    modf(x, /)\n",
      "        Return the fractional and integer parts of x.\n",
      "        \n",
      "        Both results carry the sign of x and are floats.\n",
      "    \n",
      "    nextafter(x, y, /)\n",
      "        Return the next floating-point value after x towards y.\n",
      "    \n",
      "    perm(n, k=None, /)\n",
      "        Number of ways to choose k items from n items without repetition and with order.\n",
      "        \n",
      "        Evaluates to n! / (n - k)! when k <= n and evaluates\n",
      "        to zero when k > n.\n",
      "        \n",
      "        If k is not specified or is None, then k defaults to n\n",
      "        and the function returns n!.\n",
      "        \n",
      "        Raises TypeError if either of the arguments are not integers.\n",
      "        Raises ValueError if either of the arguments are negative.\n",
      "    \n",
      "    pow(x, y, /)\n",
      "        Return x**y (x to the power of y).\n",
      "    \n",
      "    prod(iterable, /, *, start=1)\n",
      "        Calculate the product of all the elements in the input iterable.\n",
      "        \n",
      "        The default start value for the product is 1.\n",
      "        \n",
      "        When the iterable is empty, return the start value.  This function is\n",
      "        intended specifically for use with numeric values and may reject\n",
      "        non-numeric types.\n",
      "    \n",
      "    radians(x, /)\n",
      "        Convert angle x from degrees to radians.\n",
      "    \n",
      "    remainder(x, y, /)\n",
      "        Difference between x and the closest integer multiple of y.\n",
      "        \n",
      "        Return x - n*y where n*y is the closest integer multiple of y.\n",
      "        In the case where x is exactly halfway between two multiples of\n",
      "        y, the nearest even value of n is used. The result is always exact.\n",
      "    \n",
      "    sin(x, /)\n",
      "        Return the sine of x (measured in radians).\n",
      "    \n",
      "    sinh(x, /)\n",
      "        Return the hyperbolic sine of x.\n",
      "    \n",
      "    sqrt(x, /)\n",
      "        Return the square root of x.\n",
      "    \n",
      "    tan(x, /)\n",
      "        Return the tangent of x (measured in radians).\n",
      "    \n",
      "    tanh(x, /)\n",
      "        Return the hyperbolic tangent of x.\n",
      "    \n",
      "    trunc(x, /)\n",
      "        Truncates the Real x to the nearest Integral toward 0.\n",
      "        \n",
      "        Uses the __trunc__ magic method.\n",
      "    \n",
      "    ulp(x, /)\n",
      "        Return the value of the least significant bit of the float x.\n",
      "\n",
      "DATA\n",
      "    e = 2.718281828459045\n",
      "    inf = inf\n",
      "    nan = nan\n",
      "    pi = 3.141592653589793\n",
      "    tau = 6.283185307179586\n",
      "\n",
      "FILE\n",
      "    /usr/lib/python3.10/lib-dynload/math.cpython-310-x86_64-linux-gnu.so\n",
      "\n",
      "\n"
     ]
    }
   ],
   "source": [
    "help(math) # информация о модуле"
   ]
  },
  {
   "cell_type": "code",
   "execution_count": 88,
   "metadata": {},
   "outputs": [
    {
     "data": {
      "text/plain": [
       "'asdkiyui'"
      ]
     },
     "execution_count": 88,
     "metadata": {},
     "output_type": "execute_result"
    },
    {
     "name": "stdout",
     "output_type": "stream",
     "text": [
      "Help on built-in function lower:\n",
      "\n",
      "lower() method of builtins.str instance\n",
      "    Return a copy of the string converted to lowercase.\n",
      "\n"
     ]
    },
    {
     "data": {
      "text/plain": [
       "'Return a copy of the string converted to lowercase.'"
      ]
     },
     "execution_count": 88,
     "metadata": {},
     "output_type": "execute_result"
    }
   ],
   "source": [
    "s = 'AsDkiYUI'\n",
    "s.lower()\n",
    "help(s.lower)\n",
    "s.lower.__doc__"
   ]
  },
  {
   "cell_type": "code",
   "execution_count": 89,
   "metadata": {},
   "outputs": [
    {
     "name": "stdout",
     "output_type": "stream",
     "text": [
      "capitalize     Return a capitalized version of the string.\n",
      "casefold       Return a version of the string suitable for caseless comparisons.\n",
      "center         Return a centered string of length width.\n",
      "count          S.count(sub[, start[, end]]) -> int\n",
      "encode         Encode the string using the codec registered for encoding.\n",
      "endswith       S.endswith(suffix[, start[, end]]) -> bool\n",
      "expandtabs     Return a copy where all tab characters are expanded using spaces.\n",
      "find           S.find(sub[, start[, end]]) -> int\n",
      "format         S.format(*args, **kwargs) -> str\n",
      "index          S.index(sub[, start[, end]]) -> int\n",
      "isalnum        Return True if the string is an alpha-numeric string, False otherwise.\n",
      "isalpha        Return True if the string is an alphabetic string, False otherwise.\n",
      "isascii        Return True if all characters in the string are ASCII, False otherwise.\n",
      "isdecimal      Return True if the string is a decimal string, False otherwise.\n",
      "isdigit        Return True if the string is a digit string, False otherwise.\n",
      "isidentifier   Return True if the string is a valid Python identifier, False otherwise.\n",
      "islower        Return True if the string is a lowercase string, False otherwise.\n",
      "isnumeric      Return True if the string is a numeric string, False otherwise.\n",
      "isprintable    Return True if the string is printable, False otherwise.\n",
      "isspace        Return True if the string is a whitespace string, False otherwise.\n",
      "istitle        Return True if the string is a title-cased string, False otherwise.\n",
      "isupper        Return True if the string is an uppercase string, False otherwise.\n",
      "join           Concatenate any number of strings.\n",
      "ljust          Return a left-justified string of length width.\n",
      "lower          Return a copy of the string converted to lowercase.\n",
      "lstrip         Return a copy of the string with leading whitespace removed.\n",
      "maketrans      Return a translation table usable for str.translate().\n",
      "partition      Partition the string into three parts using the given separator.\n",
      "removeprefix   Return a str with the given prefix string removed if present.\n",
      "removesuffix   Return a str with the given suffix string removed if present.\n",
      "replace        Return a copy with all occurrences of substring old replaced by new.\n",
      "rfind          S.rfind(sub[, start[, end]]) -> int\n",
      "rindex         S.rindex(sub[, start[, end]]) -> int\n",
      "rjust          Return a right-justified string of length width.\n",
      "rpartition     Partition the string into three parts using the given separator.\n",
      "rsplit         Return a list of the substrings in the string, using sep as the separator string.\n",
      "rstrip         Return a copy of the string with trailing whitespace removed.\n",
      "split          Return a list of the substrings in the string, using sep as the separator string.\n",
      "splitlines     Return a list of the lines in the string, breaking at line boundaries.\n",
      "startswith     S.startswith(prefix[, start[, end]]) -> bool\n",
      "strip          Return a copy of the string with leading and trailing whitespace removed.\n",
      "swapcase       Convert uppercase characters to lowercase and lowercase characters to uppercase.\n",
      "title          Return a version of the string where each word is titlecased.\n",
      "translate      Replace each character in the string using the given translation table.\n",
      "upper          Return a copy of the string converted to uppercase.\n",
      "zfill          Pad a numeric string with zeros on the left, to fill a field of the given width.\n"
     ]
    }
   ],
   "source": [
    "def obj_help(obj):\n",
    "    for name in dir(obj):\n",
    "        attr = getattr(obj,name)\n",
    "        if callable(attr) and '_' not in name:\n",
    "            doc = attr.__doc__\n",
    "            small_help = doc.split('\\n')[0]\n",
    "            print(f'{name:<15}{small_help}')\n",
    "            \n",
    "obj_help(s)            "
   ]
  },
  {
   "cell_type": "markdown",
   "metadata": {},
   "source": [
    "## имена и кодировка"
   ]
  },
  {
   "cell_type": "code",
   "execution_count": 90,
   "metadata": {},
   "outputs": [
    {
     "data": {
      "text/plain": [
       "0.05714285714285722"
      ]
     },
     "execution_count": 90,
     "metadata": {},
     "output_type": "execute_result"
    }
   ],
   "source": [
    "сумма = 10\n",
    "процент = сумма *.13\n",
    "Δ = .23\n",
    "𝜆 = .7\n",
    "𝜉 = .37\n",
    "процент * Δ / 𝜆 - 𝜉"
   ]
  },
  {
   "cell_type": "markdown",
   "metadata": {},
   "source": [
    "## упражнения"
   ]
  },
  {
   "cell_type": "markdown",
   "metadata": {},
   "source": [
    "Пять задачек из тех, которые хорошо бы уметь решать  \n",
    "\n",
    "http://www.michurin.net/computer-science/five-problems.html"
   ]
  },
  {
   "cell_type": "code",
   "execution_count": 95,
   "metadata": {},
   "outputs": [],
   "source": [
    "# \"Перевернуть\" число\n",
    "# Вводится целое число. Вывести число, обратное по порядку составляющих его цифр введенному. \n",
    "# Например, введено 3425, надо вывести 5243."
   ]
  },
  {
   "cell_type": "code",
   "execution_count": 96,
   "metadata": {},
   "outputs": [],
   "source": [
    "# Определить процент строчных и прописных букв в строке\n",
    "# Вводится строка. Необходимо определить в ней проценты прописных (больших) и строчных (малых) букв."
   ]
  },
  {
   "cell_type": "code",
   "execution_count": 97,
   "metadata": {},
   "outputs": [],
   "source": [
    "# Определить длину самого короткого слова в строке\n",
    "# В заданной строке найти самое короткое слово. \n",
    "# Слова могут быть разделены пробелами, несколькими пробелами, знаками препинания."
   ]
  },
  {
   "cell_type": "code",
   "execution_count": 98,
   "metadata": {},
   "outputs": [],
   "source": [
    "# Посчитать четные и нечетные цифры числа"
   ]
  },
  {
   "cell_type": "code",
   "execution_count": 99,
   "metadata": {},
   "outputs": [],
   "source": [
    "# при заданных параметрах a,b,c,d\n",
    "# найти все целые положительные корни уравнения вида \n",
    "# ax + by + cz = d"
   ]
  },
  {
   "cell_type": "code",
   "execution_count": 100,
   "metadata": {},
   "outputs": [],
   "source": [
    "# используя рекурсию, напишите функцию phib(n), \n",
    "# которая по данному целому неотрицательному n возвращает n-e число Фибоначчи"
   ]
  },
  {
   "cell_type": "code",
   "execution_count": 101,
   "metadata": {},
   "outputs": [],
   "source": [
    "# ДАНО: последовательность блоков переменной длинны \n",
    "# блоки состоят из слов {0,1} длинны 8\n",
    "\n",
    "# 0 1 0 0 1 0 1 0   1 1 1 1 0 0 1 0   0 0 1 1 1 0 1 1   0 1 0 1 0 1 0 0 ...\n",
    "\n",
    "# если первый символ блока 0 \n",
    "# то размер блока - 2 слова\n",
    "# иначе размер блока - 1 слово\n",
    "\n",
    "\n",
    "# ЗАДАЧА: определить размер последнего блока последовательности"
   ]
  },
  {
   "cell_type": "markdown",
   "metadata": {},
   "source": [
    "## Литература\n",
    "\n",
    "\n",
    "- Лутц М. Изучаем Python. пер. с англ. — СПб.: ООО “Диалектика”, 2019.\n",
    "\n",
    "\n",
    "- Дауни А.    Основы Python. Научитесь думать как программист. пер. с англ. — Москва : \"Манн, Иванов и Фербер\", 2021.\n",
    "\n",
    "\n",
    "- Дейтел П., Дейтел Х.  Python: Искусственный интеллект, большие данные и облачные вычисления. — СПб.: Питер, 2020.\n",
    "\n",
    "\n",
    "- Python Help : Tutorial     https://docs.python.org/3/tutorial/index.html\n"
   ]
  },
  {
   "cell_type": "code",
   "execution_count": null,
   "metadata": {},
   "outputs": [],
   "source": []
  }
 ],
 "metadata": {
  "kernelspec": {
   "display_name": "Python 3 (ipykernel)",
   "language": "python",
   "name": "python3"
  },
  "language_info": {
   "codemirror_mode": {
    "name": "ipython",
    "version": 3
   },
   "file_extension": ".py",
   "mimetype": "text/x-python",
   "name": "python",
   "nbconvert_exporter": "python",
   "pygments_lexer": "ipython3",
   "version": "3.10.8"
  },
  "toc": {
   "base_numbering": 1,
   "nav_menu": {},
   "number_sections": true,
   "sideBar": true,
   "skip_h1_title": false,
   "title_cell": "Table of Contents",
   "title_sidebar": "Contents",
   "toc_cell": false,
   "toc_position": {
    "height": "calc(100% - 180px)",
    "left": "10px",
    "top": "150px",
    "width": "375.594px"
   },
   "toc_section_display": true,
   "toc_window_display": true
  }
 },
 "nbformat": 4,
 "nbformat_minor": 2
}
